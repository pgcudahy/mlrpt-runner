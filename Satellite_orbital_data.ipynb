{
 "cells": [
  {
   "cell_type": "markdown",
   "metadata": {},
   "source": [
    "# Download Meteor M2 satellite info and calculate times for recording"
   ]
  },
  {
   "cell_type": "markdown",
   "metadata": {},
   "source": [
    "Requires an API key for n2yo.com and username for geonames.org"
   ]
  },
  {
   "cell_type": "code",
   "execution_count": 1,
   "metadata": {},
   "outputs": [
    {
     "name": "stderr",
     "output_type": "stream",
     "text": [
      "── \u001b[1mAttaching packages\u001b[22m ─────────────────────────────────────── tidyverse 1.2.1 ──\n",
      "\u001b[32m✔\u001b[39m \u001b[34mggplot2\u001b[39m 3.2.1     \u001b[32m✔\u001b[39m \u001b[34mpurrr  \u001b[39m 0.3.2\n",
      "\u001b[32m✔\u001b[39m \u001b[34mtibble \u001b[39m 2.1.3     \u001b[32m✔\u001b[39m \u001b[34mdplyr  \u001b[39m 0.8.3\n",
      "\u001b[32m✔\u001b[39m \u001b[34mtidyr  \u001b[39m 1.0.0     \u001b[32m✔\u001b[39m \u001b[34mstringr\u001b[39m 1.4.0\n",
      "\u001b[32m✔\u001b[39m \u001b[34mreadr  \u001b[39m 1.3.1     \u001b[32m✔\u001b[39m \u001b[34mforcats\u001b[39m 0.4.0\n",
      "── \u001b[1mConflicts\u001b[22m ────────────────────────────────────────── tidyverse_conflicts() ──\n",
      "\u001b[31m✖\u001b[39m \u001b[34mdplyr\u001b[39m::\u001b[32mfilter()\u001b[39m masks \u001b[34mstats\u001b[39m::filter()\n",
      "\u001b[31m✖\u001b[39m \u001b[34mdplyr\u001b[39m::\u001b[32mlag()\u001b[39m    masks \u001b[34mstats\u001b[39m::lag()\n"
     ]
    }
   ],
   "source": [
    "library(tidyverse)"
   ]
  },
  {
   "cell_type": "code",
   "execution_count": 2,
   "metadata": {},
   "outputs": [],
   "source": [
    "library(httr)"
   ]
  },
  {
   "cell_type": "code",
   "execution_count": 3,
   "metadata": {},
   "outputs": [
    {
     "name": "stderr",
     "output_type": "stream",
     "text": [
      "\n",
      "Attaching package: ‘lubridate’\n",
      "\n",
      "The following object is masked from ‘package:base’:\n",
      "\n",
      "    date\n",
      "\n"
     ]
    }
   ],
   "source": [
    "library(lubridate)"
   ]
  },
  {
   "cell_type": "code",
   "execution_count": 4,
   "metadata": {},
   "outputs": [
    {
     "name": "stderr",
     "output_type": "stream",
     "text": [
      "\n",
      "Attaching package: ‘jsonlite’\n",
      "\n",
      "The following object is masked from ‘package:purrr’:\n",
      "\n",
      "    flatten\n",
      "\n"
     ]
    }
   ],
   "source": [
    "library(jsonlite)"
   ]
  },
  {
   "cell_type": "code",
   "execution_count": 5,
   "metadata": {},
   "outputs": [
    {
     "name": "stderr",
     "output_type": "stream",
     "text": [
      "\n",
      "Attaching package: ‘assertthat’\n",
      "\n",
      "The following object is masked from ‘package:tibble’:\n",
      "\n",
      "    has_name\n",
      "\n"
     ]
    }
   ],
   "source": [
    "library(assertthat)"
   ]
  },
  {
   "cell_type": "code",
   "execution_count": 6,
   "metadata": {},
   "outputs": [
    {
     "data": {
      "text/html": [
       "<span style=white-space:pre-wrap>'Running at  2019-09-22 19:02:55 GMT'</span>"
      ],
      "text/latex": [
       "'Running at  2019-09-22 19:02:55 GMT'"
      ],
      "text/markdown": [
       "<span style=white-space:pre-wrap>'Running at  2019-09-22 19:02:55 GMT'</span>"
      ],
      "text/plain": [
       "[1] \"Running at  2019-09-22 19:02:55 GMT\""
      ]
     },
     "metadata": {},
     "output_type": "display_data"
    }
   ],
   "source": [
    "paste(\"Running at \", Sys.time() %>% .POSIXct(\"GMT\"), \"GMT\")"
   ]
  },
  {
   "cell_type": "markdown",
   "metadata": {},
   "source": [
    "# Helper functions"
   ]
  },
  {
   "cell_type": "code",
   "execution_count": 7,
   "metadata": {},
   "outputs": [],
   "source": [
    "possibly_get_data <- function(url, n_tries, ...){\n",
    "\n",
    "    rate <- rate_backoff(pause_base = 1, max_times = n_tries)\n",
    "    possibly_insistent_get <- insistently(GET, rate, quiet = FALSE) %>% possibly(otherwise = NULL)\n",
    "\n",
    "    possibly_insistent_get(url, ...)\n",
    "}"
   ]
  },
  {
   "cell_type": "code",
   "execution_count": 8,
   "metadata": {},
   "outputs": [],
   "source": [
    "assert_any_response <- function (x) assert_that(!is.null(x), \n",
    "                                                msg = paste(\"\\nUnable to update data, is the network up?\"))"
   ]
  },
  {
   "cell_type": "code",
   "execution_count": 9,
   "metadata": {},
   "outputs": [],
   "source": [
    "assert_200_response <- function (x) assert_that(x$status_code >= 200 & x$status_code < 400,\n",
    "                                                msg = paste(\"\\nUnable to update data\",\n",
    "                                                            \"\\nstatus code:\", x$status_code, \n",
    "                                                            \"\\nerror messge:\", x$error))"
   ]
  },
  {
   "cell_type": "markdown",
   "metadata": {},
   "source": [
    "# Config"
   ]
  },
  {
   "cell_type": "markdown",
   "metadata": {},
   "source": [
    "What satellites are we trying to get orbital data for?"
   ]
  },
  {
   "cell_type": "code",
   "execution_count": 10,
   "metadata": {},
   "outputs": [],
   "source": [
    "satellites_df <- tibble(\"satellite\"=c(\"METEOR-M2\", \"METEOR-M2-2\", \"NOAA-15\", \"NOAA-18\", \"NOAA-19\"),\n",
    "                     \"frequency\" = c(137100000, 137100000, 137620000, 137912500, 137100000),\n",
    "                     \"norad_id\" = c(40069, 44387, 25338, 28654, 28654),\n",
    "                     \"priority\" = c(4,5,3,2,1))"
   ]
  },
  {
   "cell_type": "code",
   "execution_count": 11,
   "metadata": {},
   "outputs": [
    {
     "data": {
      "text/html": [
       "<table>\n",
       "<caption>A tibble: 5 × 4</caption>\n",
       "<thead>\n",
       "\t<tr><th scope=col>satellite</th><th scope=col>frequency</th><th scope=col>norad_id</th><th scope=col>priority</th></tr>\n",
       "\t<tr><th scope=col>&lt;chr&gt;</th><th scope=col>&lt;dbl&gt;</th><th scope=col>&lt;dbl&gt;</th><th scope=col>&lt;dbl&gt;</th></tr>\n",
       "</thead>\n",
       "<tbody>\n",
       "\t<tr><td>METEOR-M2  </td><td>137100000</td><td>40069</td><td>4</td></tr>\n",
       "\t<tr><td>METEOR-M2-2</td><td>137100000</td><td>44387</td><td>5</td></tr>\n",
       "\t<tr><td>NOAA-15    </td><td>137620000</td><td>25338</td><td>3</td></tr>\n",
       "\t<tr><td>NOAA-18    </td><td>137912500</td><td>28654</td><td>2</td></tr>\n",
       "\t<tr><td>NOAA-19    </td><td>137100000</td><td>28654</td><td>1</td></tr>\n",
       "</tbody>\n",
       "</table>\n"
      ],
      "text/latex": [
       "A tibble: 5 × 4\n",
       "\\begin{tabular}{r|llll}\n",
       " satellite & frequency & norad\\_id & priority\\\\\n",
       " <chr> & <dbl> & <dbl> & <dbl>\\\\\n",
       "\\hline\n",
       "\t METEOR-M2   & 137100000 & 40069 & 4\\\\\n",
       "\t METEOR-M2-2 & 137100000 & 44387 & 5\\\\\n",
       "\t NOAA-15     & 137620000 & 25338 & 3\\\\\n",
       "\t NOAA-18     & 137912500 & 28654 & 2\\\\\n",
       "\t NOAA-19     & 137100000 & 28654 & 1\\\\\n",
       "\\end{tabular}\n"
      ],
      "text/markdown": [
       "\n",
       "A tibble: 5 × 4\n",
       "\n",
       "| satellite &lt;chr&gt; | frequency &lt;dbl&gt; | norad_id &lt;dbl&gt; | priority &lt;dbl&gt; |\n",
       "|---|---|---|---|\n",
       "| METEOR-M2   | 137100000 | 40069 | 4 |\n",
       "| METEOR-M2-2 | 137100000 | 44387 | 5 |\n",
       "| NOAA-15     | 137620000 | 25338 | 3 |\n",
       "| NOAA-18     | 137912500 | 28654 | 2 |\n",
       "| NOAA-19     | 137100000 | 28654 | 1 |\n",
       "\n"
      ],
      "text/plain": [
       "  satellite   frequency norad_id priority\n",
       "1 METEOR-M2   137100000 40069    4       \n",
       "2 METEOR-M2-2 137100000 44387    5       \n",
       "3 NOAA-15     137620000 25338    3       \n",
       "4 NOAA-18     137912500 28654    2       \n",
       "5 NOAA-19     137100000 28654    1       "
      ]
     },
     "metadata": {},
     "output_type": "display_data"
    }
   ],
   "source": [
    "satellites_df"
   ]
  },
  {
   "cell_type": "markdown",
   "metadata": {},
   "source": [
    "API key for n2yo.com"
   ]
  },
  {
   "cell_type": "code",
   "execution_count": 12,
   "metadata": {},
   "outputs": [],
   "source": [
    "n2yo_api_key <- \"&apiKey=CL4ZW2-LEYV8F-XRA2PC-46TQ\""
   ]
  },
  {
   "cell_type": "markdown",
   "metadata": {},
   "source": [
    "Username for geonames.org"
   ]
  },
  {
   "cell_type": "code",
   "execution_count": 13,
   "metadata": {},
   "outputs": [],
   "source": [
    "geonames_username <- \"pgcudahy\""
   ]
  },
  {
   "cell_type": "markdown",
   "metadata": {},
   "source": [
    "Minimal satellite elevation above the horizon before starting data capture (in **degrees**)"
   ]
  },
  {
   "cell_type": "code",
   "execution_count": 14,
   "metadata": {},
   "outputs": [],
   "source": [
    "minimum_observable_elevation = 20"
   ]
  },
  {
   "cell_type": "markdown",
   "metadata": {},
   "source": [
    "Station longitude, latitude. Positive values for E, negative for W"
   ]
  },
  {
   "cell_type": "code",
   "execution_count": 15,
   "metadata": {},
   "outputs": [],
   "source": [
    "station_latitude <- c(-29.53)\n",
    "station_longitude <- c(30.25)"
   ]
  },
  {
   "cell_type": "markdown",
   "metadata": {},
   "source": [
    "Get the station's elevation (in meters above sea level)"
   ]
  },
  {
   "cell_type": "code",
   "execution_count": 16,
   "metadata": {},
   "outputs": [],
   "source": [
    "station_elevation <- possibly_get_data(paste0(\"http://api.geonames.org/gtopo30JSON?lat=\", station_latitude, \n",
    "                                   \"&lng=\", station_longitude, \"&username=\", geonames_username), 8)"
   ]
  },
  {
   "cell_type": "code",
   "execution_count": 17,
   "metadata": {},
   "outputs": [],
   "source": [
    "station_elevation <- content(station_elevation)$gtopo30"
   ]
  },
  {
   "cell_type": "markdown",
   "metadata": {},
   "source": [
    "Sanity check that your coordinates are close to a nearby city"
   ]
  },
  {
   "cell_type": "code",
   "execution_count": 18,
   "metadata": {},
   "outputs": [],
   "source": [
    "nearby_cities <- possibly_get_data(paste0(\"http://api.geonames.org/findNearbyPlaceNameJSON?lat=\", station_latitude, \n",
    "                                   \"&lng=\", station_longitude, \"&username=\", geonames_username), 8)"
   ]
  },
  {
   "cell_type": "code",
   "execution_count": 19,
   "metadata": {},
   "outputs": [
    {
     "data": {
      "text/html": [
       "'Station is located near Merrivale, South Africa at an elevation of 1167 meters above sea level'"
      ],
      "text/latex": [
       "'Station is located near Merrivale, South Africa at an elevation of 1167 meters above sea level'"
      ],
      "text/markdown": [
       "'Station is located near Merrivale, South Africa at an elevation of 1167 meters above sea level'"
      ],
      "text/plain": [
       "[1] \"Station is located near Merrivale, South Africa at an elevation of 1167 meters above sea level\""
      ]
     },
     "metadata": {},
     "output_type": "display_data"
    }
   ],
   "source": [
    "paste0(\"Station is located near \", content(nearby_cities)$geonames[[1]]$toponymName, \", \",\n",
    "    content(nearby_cities)$geonames[[1]]$countryName, \" at an elevation of \", station_elevation,\n",
    "    \" meters above sea level\")"
   ]
  },
  {
   "cell_type": "code",
   "execution_count": 20,
   "metadata": {},
   "outputs": [],
   "source": [
    "localTimeZone <- Sys.timezone()"
   ]
  },
  {
   "cell_type": "markdown",
   "metadata": {},
   "source": [
    "# Load previous satellite orbital data"
   ]
  },
  {
   "cell_type": "code",
   "execution_count": 21,
   "metadata": {},
   "outputs": [],
   "source": [
    "satellite_data_df <- tryCatch({\n",
    "    readRDS(\"satellite_data_df.rds\")}, \n",
    "    warning = function(w) {\n",
    "        print(\"No prior satellite orbital data found on disk\")\n",
    "        tibble(satellite=character(),\n",
    "            startAz=double(),\n",
    "            startAzCompass=character(),\n",
    "            startUTC=as.POSIXct(character()),\n",
    "            maxAz=double(),\n",
    "            maxAzCompass=character(),\n",
    "            maxEl=double(),\n",
    "            maxUTC=integer(),\n",
    "            endAz=double(),\n",
    "            endAzCompass=character(),\n",
    "            endUTC=as.POSIXct(character()),\n",
    "            startDate=character(),\n",
    "            startTime=character(),\n",
    "            endDate=character(),\n",
    "            endTime=character(),\n",
    "            localStartTime=character(),\n",
    "            duration=double())\n",
    "}, error = function(e) {\n",
    "        print(\"There was an error in trying to load satellite orbital data from disk\")\n",
    "        tibble(satellite=character(),\n",
    "            startAz=double(),\n",
    "            startAzCompass=character(),\n",
    "            startUTC=as.POSIXct(character()),\n",
    "            maxAz=double(),\n",
    "            maxAzCompass=character(),\n",
    "            maxEl=double(),\n",
    "            maxUTC=integer(),\n",
    "            endAz=double(),\n",
    "            endAzCompass=character(),\n",
    "            endUTC=as.POSIXct(character()),\n",
    "            startDate=character(),\n",
    "            startTime=character(),\n",
    "            endDate=character(),\n",
    "            endTime=character(),\n",
    "            localStartTime=character(),\n",
    "            duration=double())\n",
    "    }\n",
    ")"
   ]
  },
  {
   "cell_type": "markdown",
   "metadata": {},
   "source": [
    "Get rid of passes that have already occurred"
   ]
  },
  {
   "cell_type": "code",
   "execution_count": 22,
   "metadata": {},
   "outputs": [],
   "source": [
    "current_time_utc <- Sys.time() %>% .POSIXct(\"GMT\")"
   ]
  },
  {
   "cell_type": "code",
   "execution_count": 23,
   "metadata": {},
   "outputs": [],
   "source": [
    "satellite_data_df <- satellite_data_df %>% filter(startUTC > current_time_utc)"
   ]
  },
  {
   "cell_type": "markdown",
   "metadata": {},
   "source": [
    "# Update satellite orbital data"
   ]
  },
  {
   "cell_type": "markdown",
   "metadata": {},
   "source": [
    "##  Using the https://www.n2yo.com/api/ webservice since I can't find any R packages to predict satellite passes locally"
   ]
  },
  {
   "cell_type": "markdown",
   "metadata": {},
   "source": [
    "Request: /radiopasses/{id}/{observer_lat}/{observer_lng}/{observer_alt}/{days}/{min_elevation}\n",
    "```\n",
    "Parameter       Type\tRequired\tComments\n",
    "id              integer Yes\t        NORAD id\n",
    "observer_lat\tfloat   Yes\t        Observer's latitide (decimal degrees format)\n",
    "observer_lng\tfloat   Yes\t        Observer's longitude (decimal degrees format)\n",
    "observer_alt\tfloat   Yes\t        Observer's altitude above sea level in meters\n",
    "days            integer Yes\t        Number of days of prediction (max 10)\n",
    "min_elevation   integer Yes\t        The minimum elevation acceptable for the highest altitude point of the pass (degrees)\n",
    "```"
   ]
  },
  {
   "cell_type": "markdown",
   "metadata": {},
   "source": [
    "Generate API access urls for each satellite based on its NORAD ID"
   ]
  },
  {
   "cell_type": "code",
   "execution_count": 24,
   "metadata": {},
   "outputs": [],
   "source": [
    "n2yo_urls <- satellites_df %>% pluck(\"norad_id\") %>% paste(\"https://www.n2yo.com/rest/v1/satellite/radiopasses\", .,\n",
    "                            station_latitude, station_longitude, station_elevation, 10, minimum_observable_elevation, \n",
    "                            n2yo_api_key, sep=\"/\")"
   ]
  },
  {
   "cell_type": "markdown",
   "metadata": {},
   "source": [
    "Try to safely access the API"
   ]
  },
  {
   "cell_type": "code",
   "execution_count": 25,
   "metadata": {},
   "outputs": [],
   "source": [
    "satellite_data <- n2yo_urls %>% map(possibly_get_data, 8) %>% set_names(satellites_df$satellite)"
   ]
  },
  {
   "cell_type": "markdown",
   "metadata": {},
   "source": [
    "Test if the server responded"
   ]
  },
  {
   "cell_type": "code",
   "execution_count": 26,
   "metadata": {},
   "outputs": [
    {
     "data": {
      "text/html": [
       "<dl>\n",
       "\t<dt>$`METEOR-M2`</dt>\n",
       "\t\t<dd>TRUE</dd>\n",
       "\t<dt>$`METEOR-M2-2`</dt>\n",
       "\t\t<dd>TRUE</dd>\n",
       "\t<dt>$`NOAA-15`</dt>\n",
       "\t\t<dd>TRUE</dd>\n",
       "\t<dt>$`NOAA-18`</dt>\n",
       "\t\t<dd>TRUE</dd>\n",
       "\t<dt>$`NOAA-19`</dt>\n",
       "\t\t<dd>TRUE</dd>\n",
       "</dl>\n"
      ],
      "text/latex": [
       "\\begin{description}\n",
       "\\item[\\$`METEOR-M2`] TRUE\n",
       "\\item[\\$`METEOR-M2-2`] TRUE\n",
       "\\item[\\$`NOAA-15`] TRUE\n",
       "\\item[\\$`NOAA-18`] TRUE\n",
       "\\item[\\$`NOAA-19`] TRUE\n",
       "\\end{description}\n"
      ],
      "text/markdown": [
       "$`METEOR-M2`\n",
       ":   TRUE\n",
       "$`METEOR-M2-2`\n",
       ":   TRUE\n",
       "$`NOAA-15`\n",
       ":   TRUE\n",
       "$`NOAA-18`\n",
       ":   TRUE\n",
       "$`NOAA-19`\n",
       ":   TRUE\n",
       "\n",
       "\n"
      ],
      "text/plain": [
       "$`METEOR-M2`\n",
       "[1] TRUE\n",
       "\n",
       "$`METEOR-M2-2`\n",
       "[1] TRUE\n",
       "\n",
       "$`NOAA-15`\n",
       "[1] TRUE\n",
       "\n",
       "$`NOAA-18`\n",
       "[1] TRUE\n",
       "\n",
       "$`NOAA-19`\n",
       "[1] TRUE\n"
      ]
     },
     "metadata": {},
     "output_type": "display_data"
    }
   ],
   "source": [
    "satellite_data %>% map(assert_any_response)"
   ]
  },
  {
   "cell_type": "markdown",
   "metadata": {},
   "source": [
    "Test that the response was successful"
   ]
  },
  {
   "cell_type": "code",
   "execution_count": 27,
   "metadata": {},
   "outputs": [
    {
     "data": {
      "text/html": [
       "<dl>\n",
       "\t<dt>$`METEOR-M2`</dt>\n",
       "\t\t<dd>TRUE</dd>\n",
       "\t<dt>$`METEOR-M2-2`</dt>\n",
       "\t\t<dd>TRUE</dd>\n",
       "\t<dt>$`NOAA-15`</dt>\n",
       "\t\t<dd>TRUE</dd>\n",
       "\t<dt>$`NOAA-18`</dt>\n",
       "\t\t<dd>TRUE</dd>\n",
       "\t<dt>$`NOAA-19`</dt>\n",
       "\t\t<dd>TRUE</dd>\n",
       "</dl>\n"
      ],
      "text/latex": [
       "\\begin{description}\n",
       "\\item[\\$`METEOR-M2`] TRUE\n",
       "\\item[\\$`METEOR-M2-2`] TRUE\n",
       "\\item[\\$`NOAA-15`] TRUE\n",
       "\\item[\\$`NOAA-18`] TRUE\n",
       "\\item[\\$`NOAA-19`] TRUE\n",
       "\\end{description}\n"
      ],
      "text/markdown": [
       "$`METEOR-M2`\n",
       ":   TRUE\n",
       "$`METEOR-M2-2`\n",
       ":   TRUE\n",
       "$`NOAA-15`\n",
       ":   TRUE\n",
       "$`NOAA-18`\n",
       ":   TRUE\n",
       "$`NOAA-19`\n",
       ":   TRUE\n",
       "\n",
       "\n"
      ],
      "text/plain": [
       "$`METEOR-M2`\n",
       "[1] TRUE\n",
       "\n",
       "$`METEOR-M2-2`\n",
       "[1] TRUE\n",
       "\n",
       "$`NOAA-15`\n",
       "[1] TRUE\n",
       "\n",
       "$`NOAA-18`\n",
       "[1] TRUE\n",
       "\n",
       "$`NOAA-19`\n",
       "[1] TRUE\n"
      ]
     },
     "metadata": {},
     "output_type": "display_data"
    }
   ],
   "source": [
    "satellite_data %>% map(assert_200_response)"
   ]
  },
  {
   "cell_type": "markdown",
   "metadata": {},
   "source": [
    "Extract the payload from the API response"
   ]
  },
  {
   "cell_type": "code",
   "execution_count": 28,
   "metadata": {},
   "outputs": [],
   "source": [
    "satellite_passes <- satellite_data %>% map(function (x) fromJSON(rawToChar(x$content)) %>% pluck(\"passes\"))"
   ]
  },
  {
   "cell_type": "markdown",
   "metadata": {},
   "source": [
    "Bind satellite info from the satellites_df dataframe to each row of the orbital data"
   ]
  },
  {
   "cell_type": "code",
   "execution_count": 29,
   "metadata": {},
   "outputs": [
    {
     "name": "stderr",
     "output_type": "stream",
     "text": [
      "Joining, by = \"satellite\"\n"
     ]
    }
   ],
   "source": [
    "new_satellite_data_df <- map2(names(satellite_passes), satellite_passes, \n",
    "                          function(x,y) cbind(satellite=x, y, stringsAsFactors=FALSE)) %>% \n",
    "                          bind_rows %>% full_join(satellites_df)"
   ]
  },
  {
   "cell_type": "markdown",
   "metadata": {},
   "source": [
    "Format the start and stop times in UTC"
   ]
  },
  {
   "cell_type": "code",
   "execution_count": 30,
   "metadata": {},
   "outputs": [],
   "source": [
    "new_satellite_data_df <- new_satellite_data_df %>% mutate(startUTC = as_datetime(startUTC, tz = \"UTC\")) %>%\n",
    "    mutate(endUTC = as_datetime(endUTC, tz = \"UTC\"))"
   ]
  },
  {
   "cell_type": "markdown",
   "metadata": {},
   "source": [
    "### Filter out passes that we've already downloaded so that they're not duplicated when we bind the new data to the old we've loaded from disk"
   ]
  },
  {
   "cell_type": "code",
   "execution_count": 31,
   "metadata": {},
   "outputs": [],
   "source": [
    "new_satellite_data_df <- anti_join(new_satellite_data_df, satellite_data_df, by = c(\"satellite\", \"startUTC\"))"
   ]
  },
  {
   "cell_type": "markdown",
   "metadata": {},
   "source": [
    "For `mlrpt` need arguments in the form of `mlrpt $startTime-$stopTime -t $duration`. Start and stop time are in the format HHMM in **UTC**. Duration is how long the command needs to run (in **minutes**) from start to shut-down. Make it 3 minutes longer than the time of the satellite pass to give time for start-up, and at the end, decoding and saving images.\n",
    "\n",
    "Also need the start time in **local** timezone to schedule `mlrpt` using `systemd`. Move it back 60 seconds to give `systemd` and `mlrpt` time to start up."
   ]
  },
  {
   "cell_type": "code",
   "execution_count": 32,
   "metadata": {},
   "outputs": [],
   "source": [
    "new_satellite_data_df <- new_satellite_data_df %>% \n",
    "    mutate(startDate = format(startUTC, \"%Y-%m-%d\")) %>%\n",
    "    mutate(startTime = format(startUTC, \"%H%M\")) %>%\n",
    "    mutate(endDate = format(endUTC, \"%Y-%m-%d\")) %>%\n",
    "    mutate(endTime = format(endUTC, \"%H%M\")) %>%\n",
    "    mutate(localStartTime = format(as_datetime(startUTC - 60, tz = localTimeZone), \"%H:%M\")) %>% \n",
    "    mutate(duration = as.numeric(ceiling(endUTC - startUTC)))"
   ]
  },
  {
   "cell_type": "code",
   "execution_count": 33,
   "metadata": {},
   "outputs": [],
   "source": [
    "satellite_data_df <- bind_rows(satellite_data_df, new_satellite_data_df) %>% \n",
    "    select('satellite', 'frequency', 'norad_id', 'priority', everything()) %>%\n",
    "    arrange(startDate, startTime)"
   ]
  },
  {
   "cell_type": "code",
   "execution_count": 34,
   "metadata": {},
   "outputs": [],
   "source": [
    "saveRDS(satellite_data_df, \"satellite_data_df.rds\")"
   ]
  }
 ],
 "metadata": {
  "kernelspec": {
   "display_name": "R",
   "language": "R",
   "name": "ir"
  },
  "language_info": {
   "codemirror_mode": "r",
   "file_extension": ".r",
   "mimetype": "text/x-r-source",
   "name": "R",
   "pygments_lexer": "r",
   "version": "3.3.3"
  }
 },
 "nbformat": 4,
 "nbformat_minor": 2
}
