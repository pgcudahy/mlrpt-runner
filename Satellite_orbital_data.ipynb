{
 "cells": [
  {
   "cell_type": "markdown",
   "metadata": {},
   "source": [
    "# Download Meteor M2 satellite info and calculate times for recording"
   ]
  },
  {
   "cell_type": "markdown",
   "metadata": {},
   "source": [
    "Requires an API key for n2yo.com and username for geonames.org"
   ]
  },
  {
   "cell_type": "code",
   "execution_count": 1,
   "metadata": {},
   "outputs": [
    {
     "name": "stderr",
     "output_type": "stream",
     "text": [
      "── \u001b[1mAttaching packages\u001b[22m ─────────────────────────────────────── tidyverse 1.2.1 ──\n",
      "\u001b[32m✔\u001b[39m \u001b[34mggplot2\u001b[39m 3.2.1     \u001b[32m✔\u001b[39m \u001b[34mpurrr  \u001b[39m 0.3.2\n",
      "\u001b[32m✔\u001b[39m \u001b[34mtibble \u001b[39m 2.1.3     \u001b[32m✔\u001b[39m \u001b[34mdplyr  \u001b[39m 0.8.3\n",
      "\u001b[32m✔\u001b[39m \u001b[34mtidyr  \u001b[39m 1.0.0     \u001b[32m✔\u001b[39m \u001b[34mstringr\u001b[39m 1.4.0\n",
      "\u001b[32m✔\u001b[39m \u001b[34mreadr  \u001b[39m 1.3.1     \u001b[32m✔\u001b[39m \u001b[34mforcats\u001b[39m 0.4.0\n",
      "── \u001b[1mConflicts\u001b[22m ────────────────────────────────────────── tidyverse_conflicts() ──\n",
      "\u001b[31m✖\u001b[39m \u001b[34mdplyr\u001b[39m::\u001b[32mfilter()\u001b[39m masks \u001b[34mstats\u001b[39m::filter()\n",
      "\u001b[31m✖\u001b[39m \u001b[34mdplyr\u001b[39m::\u001b[32mlag()\u001b[39m    masks \u001b[34mstats\u001b[39m::lag()\n"
     ]
    }
   ],
   "source": [
    "library(tidyverse)"
   ]
  },
  {
   "cell_type": "code",
   "execution_count": 2,
   "metadata": {},
   "outputs": [],
   "source": [
    "library(httr)"
   ]
  },
  {
   "cell_type": "code",
   "execution_count": 3,
   "metadata": {},
   "outputs": [
    {
     "name": "stderr",
     "output_type": "stream",
     "text": [
      "\n",
      "Attaching package: ‘lubridate’\n",
      "\n",
      "The following object is masked from ‘package:base’:\n",
      "\n",
      "    date\n",
      "\n"
     ]
    }
   ],
   "source": [
    "library(lubridate)"
   ]
  },
  {
   "cell_type": "code",
   "execution_count": 4,
   "metadata": {},
   "outputs": [
    {
     "name": "stderr",
     "output_type": "stream",
     "text": [
      "\n",
      "Attaching package: ‘jsonlite’\n",
      "\n",
      "The following object is masked from ‘package:purrr’:\n",
      "\n",
      "    flatten\n",
      "\n"
     ]
    }
   ],
   "source": [
    "library(jsonlite)"
   ]
  },
  {
   "cell_type": "code",
   "execution_count": 5,
   "metadata": {},
   "outputs": [],
   "source": [
    "library(yaml)"
   ]
  },
  {
   "cell_type": "markdown",
   "metadata": {},
   "source": [
    "Source to functions in Functions.ipynb "
   ]
  },
  {
   "cell_type": "code",
   "execution_count": 6,
   "metadata": {},
   "outputs": [],
   "source": [
    "eval(parse(text = system2('jupyter', c('nbconvert', 'Functions.ipynb', '--to=script', '--stdout'), stdout = TRUE)))"
   ]
  },
  {
   "cell_type": "code",
   "execution_count": 7,
   "metadata": {},
   "outputs": [
    {
     "data": {
      "text/html": [
       "<span style=white-space:pre-wrap>'Running at  2019-09-29 14:18:48 GMT'</span>"
      ],
      "text/latex": [
       "'Running at  2019-09-29 14:18:48 GMT'"
      ],
      "text/markdown": [
       "<span style=white-space:pre-wrap>'Running at  2019-09-29 14:18:48 GMT'</span>"
      ],
      "text/plain": [
       "[1] \"Running at  2019-09-29 14:18:48 GMT\""
      ]
     },
     "metadata": {},
     "output_type": "display_data"
    }
   ],
   "source": [
    "paste(\"Running at \", Sys.time() %>% .POSIXct(\"GMT\"), \"GMT\")"
   ]
  },
  {
   "cell_type": "markdown",
   "metadata": {},
   "source": [
    "# Config"
   ]
  },
  {
   "cell_type": "code",
   "execution_count": 8,
   "metadata": {},
   "outputs": [],
   "source": [
    "config_list <- tryCatch({\n",
    "    read_yaml(\"configuration.yaml\")\n",
    "}, warning = function(w) {\n",
    "    print(\"No configuration data found. Run Calibrate_receiver.ipynb\")\n",
    "    stop()\n",
    "}, error = function(e) {\n",
    "    print(\"No configuration data found. Run Calibrate_receiver.ipynb\")\n",
    "    stop()\n",
    "    }\n",
    ")"
   ]
  },
  {
   "cell_type": "markdown",
   "metadata": {},
   "source": [
    "# Load previous satellite orbital data"
   ]
  },
  {
   "cell_type": "code",
   "execution_count": 9,
   "metadata": {},
   "outputs": [],
   "source": [
    "satellite_data_df <- tryCatch({\n",
    "    readRDS(\"satellite_data_df.rds\")}, \n",
    "    warning = function(w) {\n",
    "        print(\"No prior satellite orbital data found on disk\")\n",
    "        tibble(satellite=character(),\n",
    "            startAz=double(),\n",
    "            startAzCompass=character(),\n",
    "            startUTC=as.POSIXct(character()),\n",
    "            maxAz=double(),\n",
    "            maxAzCompass=character(),\n",
    "            maxEl=double(),\n",
    "            maxUTC=integer(),\n",
    "            endAz=double(),\n",
    "            endAzCompass=character(),\n",
    "            endUTC=as.POSIXct(character()),\n",
    "            startDate=character(),\n",
    "            startTime=character(),\n",
    "            endDate=character(),\n",
    "            endTime=character(),\n",
    "            localStartTime=character(),\n",
    "            duration=double())\n",
    "}, error = function(e) {\n",
    "        print(\"There was an error in trying to load satellite orbital data from disk\")\n",
    "        tibble(satellite=character(),\n",
    "            startAz=double(),\n",
    "            startAzCompass=character(),\n",
    "            startUTC=as.POSIXct(character()),\n",
    "            maxAz=double(),\n",
    "            maxAzCompass=character(),\n",
    "            maxEl=double(),\n",
    "            maxUTC=integer(),\n",
    "            endAz=double(),\n",
    "            endAzCompass=character(),\n",
    "            endUTC=as.POSIXct(character()),\n",
    "            startDate=character(),\n",
    "            startTime=character(),\n",
    "            endDate=character(),\n",
    "            endTime=character(),\n",
    "            localStartTime=character(),\n",
    "            duration=double())\n",
    "    }\n",
    ")"
   ]
  },
  {
   "cell_type": "markdown",
   "metadata": {},
   "source": [
    "Get rid of passes that have already occurred"
   ]
  },
  {
   "cell_type": "code",
   "execution_count": 10,
   "metadata": {},
   "outputs": [],
   "source": [
    "current_time_utc <- Sys.time() %>% .POSIXct(\"GMT\")"
   ]
  },
  {
   "cell_type": "code",
   "execution_count": 11,
   "metadata": {},
   "outputs": [],
   "source": [
    "satellite_data_df <- satellite_data_df %>% filter(startUTC > current_time_utc)"
   ]
  },
  {
   "cell_type": "markdown",
   "metadata": {},
   "source": [
    "# Update satellite orbital data"
   ]
  },
  {
   "cell_type": "markdown",
   "metadata": {},
   "source": [
    "##  Using the https://www.n2yo.com/api/ webservice since I can't find any R packages to predict satellite passes locally"
   ]
  },
  {
   "cell_type": "markdown",
   "metadata": {},
   "source": [
    "Request: /radiopasses/{id}/{observer_lat}/{observer_lng}/{observer_alt}/{days}/{min_elevation}\n",
    "```\n",
    "Parameter       Type\tRequired\tComments\n",
    "id              integer Yes\t        NORAD id\n",
    "observer_lat\tfloat   Yes\t        Observer's latitide (decimal degrees format)\n",
    "observer_lng\tfloat   Yes\t        Observer's longitude (decimal degrees format)\n",
    "observer_alt\tfloat   Yes\t        Observer's altitude above sea level in meters\n",
    "days            integer Yes\t        Number of days of prediction (max 10)\n",
    "min_elevation   integer Yes\t        The minimum elevation acceptable for the highest altitude point of the pass (degrees)\n",
    "```"
   ]
  },
  {
   "cell_type": "markdown",
   "metadata": {},
   "source": [
    "Generate API access urls for each satellite based on its NORAD ID"
   ]
  },
  {
   "cell_type": "code",
   "execution_count": 12,
   "metadata": {},
   "outputs": [],
   "source": [
    "n2yo_urls <- generateN2YOURL(config_list)"
   ]
  },
  {
   "cell_type": "markdown",
   "metadata": {},
   "source": [
    "Try to safely access the API"
   ]
  },
  {
   "cell_type": "code",
   "execution_count": 13,
   "metadata": {},
   "outputs": [],
   "source": [
    "satellite_data <- n2yo_urls %>% map(possibly_get_data, 8) %>% set_names(names(config_list$satellites))"
   ]
  },
  {
   "cell_type": "code",
   "execution_count": 14,
   "metadata": {},
   "outputs": [
    {
     "name": "stdout",
     "output_type": "stream",
     "text": [
      "[1] \"Successfully fetched data\"\n",
      "[1] \"Successfully fetched data\"\n",
      "[1] \"Successfully fetched data\"\n",
      "[1] \"Successfully fetched data\"\n",
      "[1] \"Successfully fetched data\"\n"
     ]
    },
    {
     "data": {
      "text/html": [
       "<dl>\n",
       "\t<dt>$METEOR_M2</dt>\n",
       "\t\t<dd>'Successfully fetched data'</dd>\n",
       "\t<dt>$METEOR_M2_2</dt>\n",
       "\t\t<dd>'Successfully fetched data'</dd>\n",
       "\t<dt>$NOAA_15</dt>\n",
       "\t\t<dd>'Successfully fetched data'</dd>\n",
       "\t<dt>$NOAA_18</dt>\n",
       "\t\t<dd>'Successfully fetched data'</dd>\n",
       "\t<dt>$NOAA_19</dt>\n",
       "\t\t<dd>'Successfully fetched data'</dd>\n",
       "</dl>\n"
      ],
      "text/latex": [
       "\\begin{description}\n",
       "\\item[\\$METEOR\\_M2] 'Successfully fetched data'\n",
       "\\item[\\$METEOR\\_M2\\_2] 'Successfully fetched data'\n",
       "\\item[\\$NOAA\\_15] 'Successfully fetched data'\n",
       "\\item[\\$NOAA\\_18] 'Successfully fetched data'\n",
       "\\item[\\$NOAA\\_19] 'Successfully fetched data'\n",
       "\\end{description}\n"
      ],
      "text/markdown": [
       "$METEOR_M2\n",
       ":   'Successfully fetched data'\n",
       "$METEOR_M2_2\n",
       ":   'Successfully fetched data'\n",
       "$NOAA_15\n",
       ":   'Successfully fetched data'\n",
       "$NOAA_18\n",
       ":   'Successfully fetched data'\n",
       "$NOAA_19\n",
       ":   'Successfully fetched data'\n",
       "\n",
       "\n"
      ],
      "text/plain": [
       "$METEOR_M2\n",
       "[1] \"Successfully fetched data\"\n",
       "\n",
       "$METEOR_M2_2\n",
       "[1] \"Successfully fetched data\"\n",
       "\n",
       "$NOAA_15\n",
       "[1] \"Successfully fetched data\"\n",
       "\n",
       "$NOAA_18\n",
       "[1] \"Successfully fetched data\"\n",
       "\n",
       "$NOAA_19\n",
       "[1] \"Successfully fetched data\"\n"
      ]
     },
     "metadata": {},
     "output_type": "display_data"
    }
   ],
   "source": [
    "satellite_data %>% map(testResponse)"
   ]
  },
  {
   "cell_type": "markdown",
   "metadata": {},
   "source": [
    "Extract the payload from the API response"
   ]
  },
  {
   "cell_type": "code",
   "execution_count": 15,
   "metadata": {},
   "outputs": [],
   "source": [
    "satellite_passes <- satellite_data %>% map(function (x) fromJSON(rawToChar(x$content)) %>% pluck(\"passes\"))"
   ]
  },
  {
   "cell_type": "markdown",
   "metadata": {},
   "source": [
    "Bind satellite info from the satellites_df dataframe to each row of the orbital data"
   ]
  },
  {
   "cell_type": "code",
   "execution_count": 16,
   "metadata": {},
   "outputs": [
    {
     "name": "stderr",
     "output_type": "stream",
     "text": [
      "Joining, by = \"satellite\"\n"
     ]
    }
   ],
   "source": [
    "new_satellite_data_df <- map2(names(satellite_passes), satellite_passes, \n",
    "                          function(x,y) cbind(satellite=x, y, stringsAsFactors=FALSE)) %>% \n",
    "                          bind_rows %>% full_join(bind_rows(config_list$satellites, .id=\"satellite\"))"
   ]
  },
  {
   "cell_type": "markdown",
   "metadata": {},
   "source": [
    "Format the start and stop times in UTC"
   ]
  },
  {
   "cell_type": "code",
   "execution_count": 17,
   "metadata": {},
   "outputs": [],
   "source": [
    "new_satellite_data_df <- new_satellite_data_df %>% mutate(startUTC = as_datetime(startUTC, tz = \"UTC\")) %>%\n",
    "    mutate(endUTC = as_datetime(endUTC, tz = \"UTC\"))"
   ]
  },
  {
   "cell_type": "markdown",
   "metadata": {},
   "source": [
    "### Filter out passes that we've already downloaded so that they're not duplicated when we bind the new data to the old we've loaded from disk"
   ]
  },
  {
   "cell_type": "code",
   "execution_count": 18,
   "metadata": {},
   "outputs": [],
   "source": [
    "new_satellite_data_df <- anti_join(new_satellite_data_df, satellite_data_df, by = c(\"satellite\", \"startUTC\"))"
   ]
  },
  {
   "cell_type": "markdown",
   "metadata": {},
   "source": [
    "For recording passes need start date, start time and duration. Start time is in the format HH:MM for scheduling with `systemd`. Duration is how long `rtl_fm` needs to run (in **minutes**) from start to shut-down."
   ]
  },
  {
   "cell_type": "code",
   "execution_count": 19,
   "metadata": {},
   "outputs": [],
   "source": [
    "new_satellite_data_df <- new_satellite_data_df %>% \n",
    "    mutate(localStartDate = format(as_datetime(startUTC, tz = config_list$localTimeZone), \"%Y-%m-%d\")) %>%\n",
    "    mutate(localStartTime = format(as_datetime(startUTC, tz = config_list$localTimeZone), \"%H:%M\")) %>% \n",
    "    mutate(duration = as.numeric(ceiling(endUTC - startUTC)))"
   ]
  },
  {
   "cell_type": "code",
   "execution_count": 20,
   "metadata": {},
   "outputs": [],
   "source": [
    "satellite_data_df <- bind_rows(satellite_data_df, new_satellite_data_df) %>% \n",
    "    select('satellite', 'frequency', 'norad_id', 'priority', everything()) %>%\n",
    "    arrange(localStartDate, localStartTime)"
   ]
  },
  {
   "cell_type": "code",
   "execution_count": 21,
   "metadata": {},
   "outputs": [
    {
     "name": "stdout",
     "output_type": "stream",
     "text": [
      "[1] \"Orbital data for 137 future satellite passes saved\"\n"
     ]
    }
   ],
   "source": [
    "print(paste0(\"Orbital data for \", nrow(satellite_data_df), \" future satellite passes saved\"))"
   ]
  },
  {
   "cell_type": "code",
   "execution_count": 22,
   "metadata": {},
   "outputs": [],
   "source": [
    "saveRDS(satellite_data_df, \"satellite_data_df.rds\")"
   ]
  },
  {
   "cell_type": "code",
   "execution_count": null,
   "metadata": {},
   "outputs": [],
   "source": []
  }
 ],
 "metadata": {
  "kernelspec": {
   "display_name": "R",
   "language": "R",
   "name": "ir"
  },
  "language_info": {
   "codemirror_mode": "r",
   "file_extension": ".r",
   "mimetype": "text/x-r-source",
   "name": "R",
   "pygments_lexer": "r",
   "version": "3.3.3"
  }
 },
 "nbformat": 4,
 "nbformat_minor": 2
}
