{
 "cells": [
  {
   "cell_type": "markdown",
   "metadata": {},
   "source": [
    "# Download Meteor M2 satellite info and calculate times for recording"
   ]
  },
  {
   "cell_type": "markdown",
   "metadata": {},
   "source": [
    "Requires an API key for n2yo.com and username for geonames.org"
   ]
  },
  {
   "cell_type": "code",
   "execution_count": 1,
   "metadata": {},
   "outputs": [
    {
     "name": "stderr",
     "output_type": "stream",
     "text": [
      "Registered S3 methods overwritten by 'ggplot2':\n",
      "  method         from \n",
      "  [.quosures     rlang\n",
      "  c.quosures     rlang\n",
      "  print.quosures rlang\n",
      "── \u001b[1mAttaching packages\u001b[22m ─────────────────────────────────────── tidyverse 1.2.1 ──\n",
      "\u001b[32m✔\u001b[39m \u001b[34mggplot2\u001b[39m 3.1.1     \u001b[32m✔\u001b[39m \u001b[34mpurrr  \u001b[39m 0.3.2\n",
      "\u001b[32m✔\u001b[39m \u001b[34mtibble \u001b[39m 2.1.3     \u001b[32m✔\u001b[39m \u001b[34mdplyr  \u001b[39m 0.8.3\n",
      "\u001b[32m✔\u001b[39m \u001b[34mtidyr  \u001b[39m 0.8.3     \u001b[32m✔\u001b[39m \u001b[34mstringr\u001b[39m 1.4.0\n",
      "\u001b[32m✔\u001b[39m \u001b[34mreadr  \u001b[39m 1.3.1     \u001b[32m✔\u001b[39m \u001b[34mforcats\u001b[39m 0.4.0\n",
      "── \u001b[1mConflicts\u001b[22m ────────────────────────────────────────── tidyverse_conflicts() ──\n",
      "\u001b[31m✖\u001b[39m \u001b[34mdplyr\u001b[39m::\u001b[32mfilter()\u001b[39m masks \u001b[34mstats\u001b[39m::filter()\n",
      "\u001b[31m✖\u001b[39m \u001b[34mdplyr\u001b[39m::\u001b[32mlag()\u001b[39m    masks \u001b[34mstats\u001b[39m::lag()\n"
     ]
    }
   ],
   "source": [
    "library(tidyverse)"
   ]
  },
  {
   "cell_type": "code",
   "execution_count": 2,
   "metadata": {},
   "outputs": [],
   "source": [
    "library(httr)"
   ]
  },
  {
   "cell_type": "code",
   "execution_count": 3,
   "metadata": {},
   "outputs": [
    {
     "name": "stderr",
     "output_type": "stream",
     "text": [
      "\n",
      "Attaching package: ‘lubridate’\n",
      "\n",
      "The following object is masked from ‘package:base’:\n",
      "\n",
      "    date\n",
      "\n"
     ]
    }
   ],
   "source": [
    "library(lubridate)"
   ]
  },
  {
   "cell_type": "code",
   "execution_count": 4,
   "metadata": {},
   "outputs": [
    {
     "name": "stderr",
     "output_type": "stream",
     "text": [
      "\n",
      "Attaching package: ‘jsonlite’\n",
      "\n",
      "The following object is masked from ‘package:purrr’:\n",
      "\n",
      "    flatten\n",
      "\n"
     ]
    }
   ],
   "source": [
    "library(jsonlite)"
   ]
  },
  {
   "cell_type": "code",
   "execution_count": 5,
   "metadata": {},
   "outputs": [
    {
     "name": "stderr",
     "output_type": "stream",
     "text": [
      "\n",
      "Attaching package: ‘assertthat’\n",
      "\n",
      "The following object is masked from ‘package:tibble’:\n",
      "\n",
      "    has_name\n",
      "\n"
     ]
    }
   ],
   "source": [
    "library(assertthat)"
   ]
  },
  {
   "cell_type": "code",
   "execution_count": 6,
   "metadata": {},
   "outputs": [
    {
     "data": {
      "text/html": [
       "<span style=white-space:pre-wrap>'Running at  2019-09-21 19:32:04 GMT'</span>"
      ],
      "text/latex": [
       "'Running at  2019-09-21 19:32:04 GMT'"
      ],
      "text/markdown": [
       "<span style=white-space:pre-wrap>'Running at  2019-09-21 19:32:04 GMT'</span>"
      ],
      "text/plain": [
       "[1] \"Running at  2019-09-21 19:32:04 GMT\""
      ]
     },
     "metadata": {},
     "output_type": "display_data"
    }
   ],
   "source": [
    "paste(\"Running at \", Sys.time() %>% .POSIXct(\"GMT\"), \"GMT\")"
   ]
  },
  {
   "cell_type": "markdown",
   "metadata": {},
   "source": [
    "# Helper functions"
   ]
  },
  {
   "cell_type": "code",
   "execution_count": 7,
   "metadata": {},
   "outputs": [],
   "source": [
    "possibly_get_data <- function(url, n_tries, ...){\n",
    "\n",
    "    rate <- rate_backoff(pause_base = 1, max_times = n_tries)\n",
    "    possibly_insistent_get <- insistently(GET, rate, quiet = FALSE) %>% possibly(otherwise = NULL)\n",
    "\n",
    "    possibly_insistent_get(url, ...)\n",
    "}"
   ]
  },
  {
   "cell_type": "code",
   "execution_count": 8,
   "metadata": {},
   "outputs": [],
   "source": [
    "assert_any_response <- function (x) assert_that(!is.null(x), \n",
    "                                                msg = paste(\"\\nUnable to update data, is the network up?\"))"
   ]
  },
  {
   "cell_type": "code",
   "execution_count": 9,
   "metadata": {},
   "outputs": [],
   "source": [
    "assert_200_response <- function (x) assert_that(x$status_code >= 200 & x$status_code < 400,\n",
    "                                                msg = paste(\"\\nUnable to update data\",\n",
    "                                                            \"\\nstatus code:\", x$status_code, \n",
    "                                                            \"\\nerror messge:\", x$error))"
   ]
  },
  {
   "cell_type": "markdown",
   "metadata": {},
   "source": [
    "# Config"
   ]
  },
  {
   "cell_type": "markdown",
   "metadata": {},
   "source": [
    "What satellites are we trying to get orbital data for?"
   ]
  },
  {
   "cell_type": "code",
   "execution_count": 10,
   "metadata": {},
   "outputs": [],
   "source": [
    "satellites_df <- tibble(\"satellite\"=c(\"METEOR-M2\", \"METEOR-M2-2\", \"NOAA-15\", \"NOAA-18\", \"NOAA-19\"),\n",
    "                     \"frequency\" = c(137100000, 137100000, 137620000, 137912500, 137100000),\n",
    "                     \"norad_id\" = c(40069, 44387, 25338, 28654, 28654),\n",
    "                     \"priority\" = c(4,5,3,2,1))"
   ]
  },
  {
   "cell_type": "code",
   "execution_count": 11,
   "metadata": {},
   "outputs": [
    {
     "data": {
      "text/html": [
       "<table>\n",
       "<caption>A tibble: 5 × 4</caption>\n",
       "<thead>\n",
       "\t<tr><th scope=col>satellite</th><th scope=col>frequency</th><th scope=col>norad_id</th><th scope=col>priority</th></tr>\n",
       "\t<tr><th scope=col>&lt;chr&gt;</th><th scope=col>&lt;dbl&gt;</th><th scope=col>&lt;dbl&gt;</th><th scope=col>&lt;dbl&gt;</th></tr>\n",
       "</thead>\n",
       "<tbody>\n",
       "\t<tr><td>METEOR-M2  </td><td>137100000</td><td>40069</td><td>4</td></tr>\n",
       "\t<tr><td>METEOR-M2-2</td><td>137100000</td><td>44387</td><td>5</td></tr>\n",
       "\t<tr><td>NOAA-15    </td><td>137620000</td><td>25338</td><td>3</td></tr>\n",
       "\t<tr><td>NOAA-18    </td><td>137912500</td><td>28654</td><td>2</td></tr>\n",
       "\t<tr><td>NOAA-19    </td><td>137100000</td><td>28654</td><td>1</td></tr>\n",
       "</tbody>\n",
       "</table>\n"
      ],
      "text/latex": [
       "A tibble: 5 × 4\n",
       "\\begin{tabular}{r|llll}\n",
       " satellite & frequency & norad\\_id & priority\\\\\n",
       " <chr> & <dbl> & <dbl> & <dbl>\\\\\n",
       "\\hline\n",
       "\t METEOR-M2   & 137100000 & 40069 & 4\\\\\n",
       "\t METEOR-M2-2 & 137100000 & 44387 & 5\\\\\n",
       "\t NOAA-15     & 137620000 & 25338 & 3\\\\\n",
       "\t NOAA-18     & 137912500 & 28654 & 2\\\\\n",
       "\t NOAA-19     & 137100000 & 28654 & 1\\\\\n",
       "\\end{tabular}\n"
      ],
      "text/markdown": [
       "\n",
       "A tibble: 5 × 4\n",
       "\n",
       "| satellite &lt;chr&gt; | frequency &lt;dbl&gt; | norad_id &lt;dbl&gt; | priority &lt;dbl&gt; |\n",
       "|---|---|---|---|\n",
       "| METEOR-M2   | 137100000 | 40069 | 4 |\n",
       "| METEOR-M2-2 | 137100000 | 44387 | 5 |\n",
       "| NOAA-15     | 137620000 | 25338 | 3 |\n",
       "| NOAA-18     | 137912500 | 28654 | 2 |\n",
       "| NOAA-19     | 137100000 | 28654 | 1 |\n",
       "\n"
      ],
      "text/plain": [
       "  satellite   frequency norad_id priority\n",
       "1 METEOR-M2   137100000 40069    4       \n",
       "2 METEOR-M2-2 137100000 44387    5       \n",
       "3 NOAA-15     137620000 25338    3       \n",
       "4 NOAA-18     137912500 28654    2       \n",
       "5 NOAA-19     137100000 28654    1       "
      ]
     },
     "metadata": {},
     "output_type": "display_data"
    }
   ],
   "source": [
    "satellites_df"
   ]
  },
  {
   "cell_type": "markdown",
   "metadata": {},
   "source": [
    "API key for n2yo.com"
   ]
  },
  {
   "cell_type": "code",
   "execution_count": 12,
   "metadata": {},
   "outputs": [],
   "source": [
    "n2yo_api_key <- \"&apiKey=CL4ZW2-LEYV8F-XRA2PC-46TQ\""
   ]
  },
  {
   "cell_type": "markdown",
   "metadata": {},
   "source": [
    "Username for geonames.org"
   ]
  },
  {
   "cell_type": "code",
   "execution_count": 13,
   "metadata": {},
   "outputs": [],
   "source": [
    "geonames_username <- \"pgcudahy\""
   ]
  },
  {
   "cell_type": "markdown",
   "metadata": {},
   "source": [
    "Minimal satellite elevation above the horizon before starting data capture (in **degrees**)"
   ]
  },
  {
   "cell_type": "code",
   "execution_count": 14,
   "metadata": {},
   "outputs": [],
   "source": [
    "minimum_observable_elevation = 20"
   ]
  },
  {
   "cell_type": "markdown",
   "metadata": {},
   "source": [
    "Station longitude, latitude. Positive values for E, negative for W"
   ]
  },
  {
   "cell_type": "code",
   "execution_count": 15,
   "metadata": {},
   "outputs": [],
   "source": [
    "station_latitude <- c(-29.53)\n",
    "station_longitude <- c(30.25)"
   ]
  },
  {
   "cell_type": "markdown",
   "metadata": {},
   "source": [
    "Get the station's elevation (in meters above sea level)"
   ]
  },
  {
   "cell_type": "code",
   "execution_count": 16,
   "metadata": {},
   "outputs": [],
   "source": [
    "station_elevation <- possibly_get_data(paste0(\"http://api.geonames.org/gtopo30JSON?lat=\", station_latitude, \n",
    "                                   \"&lng=\", station_longitude, \"&username=\", geonames_username), 8)"
   ]
  },
  {
   "cell_type": "code",
   "execution_count": 17,
   "metadata": {},
   "outputs": [],
   "source": [
    "station_elevation <- content(station_elevation)$gtopo30"
   ]
  },
  {
   "cell_type": "markdown",
   "metadata": {},
   "source": [
    "Sanity check that your coordinates are close to a nearby city"
   ]
  },
  {
   "cell_type": "code",
   "execution_count": 18,
   "metadata": {},
   "outputs": [],
   "source": [
    "nearby_cities <- possibly_get_data(paste0(\"http://api.geonames.org/findNearbyPlaceNameJSON?lat=\", station_latitude, \n",
    "                                   \"&lng=\", station_longitude, \"&username=\", geonames_username), 8)"
   ]
  },
  {
   "cell_type": "code",
   "execution_count": 19,
   "metadata": {},
   "outputs": [
    {
     "data": {
      "text/html": [
       "'Station is located near Merrivale, South Africa at an elevation of 1167 meters above sea level'"
      ],
      "text/latex": [
       "'Station is located near Merrivale, South Africa at an elevation of 1167 meters above sea level'"
      ],
      "text/markdown": [
       "'Station is located near Merrivale, South Africa at an elevation of 1167 meters above sea level'"
      ],
      "text/plain": [
       "[1] \"Station is located near Merrivale, South Africa at an elevation of 1167 meters above sea level\""
      ]
     },
     "metadata": {},
     "output_type": "display_data"
    }
   ],
   "source": [
    "paste0(\"Station is located near \", content(nearby_cities)$geonames[[1]]$toponymName, \", \",\n",
    "    content(nearby_cities)$geonames[[1]]$countryName, \" at an elevation of \", station_elevation,\n",
    "    \" meters above sea level\")"
   ]
  },
  {
   "cell_type": "code",
   "execution_count": 20,
   "metadata": {},
   "outputs": [],
   "source": [
    "localTimeZone <- Sys.timezone()"
   ]
  },
  {
   "cell_type": "markdown",
   "metadata": {},
   "source": [
    "# Load previous satellite orbital data"
   ]
  },
  {
   "cell_type": "code",
   "execution_count": 21,
   "metadata": {},
   "outputs": [],
   "source": [
    "satellite_data_df <- tryCatch({\n",
    "    readRDS(\"satellite_data_df.rds\")}, \n",
    "    warning = function(w) {\n",
    "        print(\"No prior satellite orbital data found on disk\")\n",
    "        tibble(satellite=character(),\n",
    "            startAz=double(),\n",
    "            startAzCompass=character(),\n",
    "            startUTC=as.POSIXct,\n",
    "            maxAz=double(),\n",
    "            maxAzCompass=character(),\n",
    "            maxEl=double(),\n",
    "            maxUTC=integer(),\n",
    "            endAz=double(),\n",
    "            endAzCompass=character(),\n",
    "            endUTC=as.POSIXct,\n",
    "            startDate=character(),\n",
    "            startTime=character(),\n",
    "            endDate=character(),\n",
    "            endTime=character(),\n",
    "            localStartTime=character(),\n",
    "            duration=double())\n",
    "}, error = function(e) {\n",
    "        print(\"There was an error in trying to load satellite orbital data from disk\")\n",
    "        tibble(satellite=character(),\n",
    "            startAz=double(),\n",
    "            startAzCompass=character(),\n",
    "            startUTC=double(),\n",
    "            maxAz=double(),\n",
    "            maxAzCompass=character(),\n",
    "            maxEl=double(),\n",
    "            maxUTC=integer(),\n",
    "            endAz=double(),\n",
    "            endAzCompass=character(),\n",
    "            endUTC=double(),\n",
    "            startDate=character(),\n",
    "            startTime=character(),\n",
    "            endDate=character(),\n",
    "            endTime=character(),\n",
    "            localStartTime=character(),\n",
    "            duration=double())\n",
    "    }\n",
    ")"
   ]
  },
  {
   "cell_type": "markdown",
   "metadata": {},
   "source": [
    "# Update satellite orbital data"
   ]
  },
  {
   "cell_type": "markdown",
   "metadata": {},
   "source": [
    "##  Using the https://www.n2yo.com/api/ webservice since I can't find any R packages to predict satellite passes locally"
   ]
  },
  {
   "cell_type": "markdown",
   "metadata": {},
   "source": [
    "Request: /radiopasses/{id}/{observer_lat}/{observer_lng}/{observer_alt}/{days}/{min_elevation}\n",
    "```\n",
    "Parameter       Type\tRequired\tComments\n",
    "id              integer Yes\t        NORAD id\n",
    "observer_lat\tfloat   Yes\t        Observer's latitide (decimal degrees format)\n",
    "observer_lng\tfloat   Yes\t        Observer's longitude (decimal degrees format)\n",
    "observer_alt\tfloat   Yes\t        Observer's altitude above sea level in meters\n",
    "days            integer Yes\t        Number of days of prediction (max 10)\n",
    "min_elevation   integer Yes\t        The minimum elevation acceptable for the highest altitude point of the pass (degrees)\n",
    "```"
   ]
  },
  {
   "cell_type": "markdown",
   "metadata": {},
   "source": [
    "List the satellites we want orbital data on"
   ]
  },
  {
   "cell_type": "code",
   "execution_count": 22,
   "metadata": {},
   "outputs": [
    {
     "data": {
      "text/html": [
       "<table>\n",
       "<caption>A tibble: 5 × 4</caption>\n",
       "<thead>\n",
       "\t<tr><th scope=col>satellite</th><th scope=col>frequency</th><th scope=col>norad_id</th><th scope=col>priority</th></tr>\n",
       "\t<tr><th scope=col>&lt;chr&gt;</th><th scope=col>&lt;dbl&gt;</th><th scope=col>&lt;dbl&gt;</th><th scope=col>&lt;dbl&gt;</th></tr>\n",
       "</thead>\n",
       "<tbody>\n",
       "\t<tr><td>METEOR-M2  </td><td>137100000</td><td>40069</td><td>4</td></tr>\n",
       "\t<tr><td>METEOR-M2-2</td><td>137100000</td><td>44387</td><td>5</td></tr>\n",
       "\t<tr><td>NOAA-15    </td><td>137620000</td><td>25338</td><td>3</td></tr>\n",
       "\t<tr><td>NOAA-18    </td><td>137912500</td><td>28654</td><td>2</td></tr>\n",
       "\t<tr><td>NOAA-19    </td><td>137100000</td><td>28654</td><td>1</td></tr>\n",
       "</tbody>\n",
       "</table>\n"
      ],
      "text/latex": [
       "A tibble: 5 × 4\n",
       "\\begin{tabular}{r|llll}\n",
       " satellite & frequency & norad\\_id & priority\\\\\n",
       " <chr> & <dbl> & <dbl> & <dbl>\\\\\n",
       "\\hline\n",
       "\t METEOR-M2   & 137100000 & 40069 & 4\\\\\n",
       "\t METEOR-M2-2 & 137100000 & 44387 & 5\\\\\n",
       "\t NOAA-15     & 137620000 & 25338 & 3\\\\\n",
       "\t NOAA-18     & 137912500 & 28654 & 2\\\\\n",
       "\t NOAA-19     & 137100000 & 28654 & 1\\\\\n",
       "\\end{tabular}\n"
      ],
      "text/markdown": [
       "\n",
       "A tibble: 5 × 4\n",
       "\n",
       "| satellite &lt;chr&gt; | frequency &lt;dbl&gt; | norad_id &lt;dbl&gt; | priority &lt;dbl&gt; |\n",
       "|---|---|---|---|\n",
       "| METEOR-M2   | 137100000 | 40069 | 4 |\n",
       "| METEOR-M2-2 | 137100000 | 44387 | 5 |\n",
       "| NOAA-15     | 137620000 | 25338 | 3 |\n",
       "| NOAA-18     | 137912500 | 28654 | 2 |\n",
       "| NOAA-19     | 137100000 | 28654 | 1 |\n",
       "\n"
      ],
      "text/plain": [
       "  satellite   frequency norad_id priority\n",
       "1 METEOR-M2   137100000 40069    4       \n",
       "2 METEOR-M2-2 137100000 44387    5       \n",
       "3 NOAA-15     137620000 25338    3       \n",
       "4 NOAA-18     137912500 28654    2       \n",
       "5 NOAA-19     137100000 28654    1       "
      ]
     },
     "metadata": {},
     "output_type": "display_data"
    }
   ],
   "source": [
    "satellites_df"
   ]
  },
  {
   "cell_type": "markdown",
   "metadata": {},
   "source": [
    "Generate API access urls for each satellite based on its NORAD ID"
   ]
  },
  {
   "cell_type": "code",
   "execution_count": 23,
   "metadata": {},
   "outputs": [],
   "source": [
    "n2yo_urls <- satellites_df %>% pluck(\"norad_id\") %>% paste(\"https://www.n2yo.com/rest/v1/satellite/radiopasses\", .,\n",
    "                            station_latitude, station_longitude, station_elevation, 10, minimum_observable_elevation, \n",
    "                            n2yo_api_key, sep=\"/\")"
   ]
  },
  {
   "cell_type": "markdown",
   "metadata": {},
   "source": [
    "Try to safely access the API"
   ]
  },
  {
   "cell_type": "code",
   "execution_count": 24,
   "metadata": {},
   "outputs": [],
   "source": [
    "satellite_data <- n2yo_urls %>% map(possibly_get_data, 8) %>% set_names(satellites_df$satellite)"
   ]
  },
  {
   "cell_type": "code",
   "execution_count": 25,
   "metadata": {},
   "outputs": [
    {
     "data": {
      "text/plain": [
       "$`METEOR-M2`\n",
       "Response [https://www.n2yo.com/rest/v1/satellite/radiopasses/40069/-29.53/30.25/1167/10/20/&apiKey=CL4ZW2-LEYV8F-XRA2PC-46TQ]\n",
       "  Date: 2019-09-21 19:32\n",
       "  Status: 200\n",
       "  Content-Type: application/json\n",
       "  Size: 4.91 kB\n",
       "\r\n",
       "\n",
       "$`METEOR-M2-2`\n",
       "Response [https://www.n2yo.com/rest/v1/satellite/radiopasses/44387/-29.53/30.25/1167/10/20/&apiKey=CL4ZW2-LEYV8F-XRA2PC-46TQ]\n",
       "  Date: 2019-09-21 19:32\n",
       "  Status: 200\n",
       "  Content-Type: application/json\n",
       "  Size: 5.1 kB\n",
       "\r\n",
       "\n",
       "$`NOAA-15`\n",
       "Response [https://www.n2yo.com/rest/v1/satellite/radiopasses/25338/-29.53/30.25/1167/10/20/&apiKey=CL4ZW2-LEYV8F-XRA2PC-46TQ]\n",
       "  Date: 2019-09-21 19:32\n",
       "  Status: 200\n",
       "  Content-Type: application/json\n",
       "  Size: 5.46 kB\n",
       "\r\n",
       "\n",
       "$`NOAA-18`\n",
       "Response [https://www.n2yo.com/rest/v1/satellite/radiopasses/28654/-29.53/30.25/1167/10/20/&apiKey=CL4ZW2-LEYV8F-XRA2PC-46TQ]\n",
       "  Date: 2019-09-21 19:32\n",
       "  Status: 200\n",
       "  Content-Type: application/json\n",
       "  Size: 5.28 kB\n",
       "\r\n",
       "\n",
       "$`NOAA-19`\n",
       "Response [https://www.n2yo.com/rest/v1/satellite/radiopasses/28654/-29.53/30.25/1167/10/20/&apiKey=CL4ZW2-LEYV8F-XRA2PC-46TQ]\n",
       "  Date: 2019-09-21 19:32\n",
       "  Status: 200\n",
       "  Content-Type: application/json\n",
       "  Size: 5.28 kB\n",
       "\r\n"
      ]
     },
     "metadata": {},
     "output_type": "display_data"
    }
   ],
   "source": [
    "satellite_data"
   ]
  },
  {
   "cell_type": "markdown",
   "metadata": {},
   "source": [
    "Test if the server responded"
   ]
  },
  {
   "cell_type": "code",
   "execution_count": 26,
   "metadata": {},
   "outputs": [
    {
     "data": {
      "text/html": [
       "<dl>\n",
       "\t<dt>$`METEOR-M2`</dt>\n",
       "\t\t<dd>TRUE</dd>\n",
       "\t<dt>$`METEOR-M2-2`</dt>\n",
       "\t\t<dd>TRUE</dd>\n",
       "\t<dt>$`NOAA-15`</dt>\n",
       "\t\t<dd>TRUE</dd>\n",
       "\t<dt>$`NOAA-18`</dt>\n",
       "\t\t<dd>TRUE</dd>\n",
       "\t<dt>$`NOAA-19`</dt>\n",
       "\t\t<dd>TRUE</dd>\n",
       "</dl>\n"
      ],
      "text/latex": [
       "\\begin{description}\n",
       "\\item[\\$`METEOR-M2`] TRUE\n",
       "\\item[\\$`METEOR-M2-2`] TRUE\n",
       "\\item[\\$`NOAA-15`] TRUE\n",
       "\\item[\\$`NOAA-18`] TRUE\n",
       "\\item[\\$`NOAA-19`] TRUE\n",
       "\\end{description}\n"
      ],
      "text/markdown": [
       "$`METEOR-M2`\n",
       ":   TRUE\n",
       "$`METEOR-M2-2`\n",
       ":   TRUE\n",
       "$`NOAA-15`\n",
       ":   TRUE\n",
       "$`NOAA-18`\n",
       ":   TRUE\n",
       "$`NOAA-19`\n",
       ":   TRUE\n",
       "\n",
       "\n"
      ],
      "text/plain": [
       "$`METEOR-M2`\n",
       "[1] TRUE\n",
       "\n",
       "$`METEOR-M2-2`\n",
       "[1] TRUE\n",
       "\n",
       "$`NOAA-15`\n",
       "[1] TRUE\n",
       "\n",
       "$`NOAA-18`\n",
       "[1] TRUE\n",
       "\n",
       "$`NOAA-19`\n",
       "[1] TRUE\n"
      ]
     },
     "metadata": {},
     "output_type": "display_data"
    }
   ],
   "source": [
    "satellite_data %>% map(assert_any_response)"
   ]
  },
  {
   "cell_type": "markdown",
   "metadata": {},
   "source": [
    "Test that the response was successful"
   ]
  },
  {
   "cell_type": "code",
   "execution_count": 27,
   "metadata": {},
   "outputs": [
    {
     "data": {
      "text/html": [
       "<dl>\n",
       "\t<dt>$`METEOR-M2`</dt>\n",
       "\t\t<dd>TRUE</dd>\n",
       "\t<dt>$`METEOR-M2-2`</dt>\n",
       "\t\t<dd>TRUE</dd>\n",
       "\t<dt>$`NOAA-15`</dt>\n",
       "\t\t<dd>TRUE</dd>\n",
       "\t<dt>$`NOAA-18`</dt>\n",
       "\t\t<dd>TRUE</dd>\n",
       "\t<dt>$`NOAA-19`</dt>\n",
       "\t\t<dd>TRUE</dd>\n",
       "</dl>\n"
      ],
      "text/latex": [
       "\\begin{description}\n",
       "\\item[\\$`METEOR-M2`] TRUE\n",
       "\\item[\\$`METEOR-M2-2`] TRUE\n",
       "\\item[\\$`NOAA-15`] TRUE\n",
       "\\item[\\$`NOAA-18`] TRUE\n",
       "\\item[\\$`NOAA-19`] TRUE\n",
       "\\end{description}\n"
      ],
      "text/markdown": [
       "$`METEOR-M2`\n",
       ":   TRUE\n",
       "$`METEOR-M2-2`\n",
       ":   TRUE\n",
       "$`NOAA-15`\n",
       ":   TRUE\n",
       "$`NOAA-18`\n",
       ":   TRUE\n",
       "$`NOAA-19`\n",
       ":   TRUE\n",
       "\n",
       "\n"
      ],
      "text/plain": [
       "$`METEOR-M2`\n",
       "[1] TRUE\n",
       "\n",
       "$`METEOR-M2-2`\n",
       "[1] TRUE\n",
       "\n",
       "$`NOAA-15`\n",
       "[1] TRUE\n",
       "\n",
       "$`NOAA-18`\n",
       "[1] TRUE\n",
       "\n",
       "$`NOAA-19`\n",
       "[1] TRUE\n"
      ]
     },
     "metadata": {},
     "output_type": "display_data"
    }
   ],
   "source": [
    "satellite_data %>% map(assert_200_response)"
   ]
  },
  {
   "cell_type": "markdown",
   "metadata": {},
   "source": [
    "Extract the payload from the API response"
   ]
  },
  {
   "cell_type": "code",
   "execution_count": 28,
   "metadata": {},
   "outputs": [],
   "source": [
    "satellite_passes <- satellite_data %>% map(function (x) fromJSON(rawToChar(x$content)) %>% pluck(\"passes\"))"
   ]
  },
  {
   "cell_type": "markdown",
   "metadata": {},
   "source": [
    "Bind satellite info from the satellites_df dataframe to each row of the orbital data"
   ]
  },
  {
   "cell_type": "code",
   "execution_count": 29,
   "metadata": {},
   "outputs": [
    {
     "name": "stderr",
     "output_type": "stream",
     "text": [
      "Joining, by = \"satellite\"\n"
     ]
    }
   ],
   "source": [
    "new_satellite_data_df <- map2(names(satellite_passes), satellite_passes, \n",
    "                          function(x,y) cbind(satellite=x, y, stringsAsFactors=FALSE)) %>% \n",
    "                          bind_rows %>% full_join(satellites_df)"
   ]
  },
  {
   "cell_type": "markdown",
   "metadata": {},
   "source": [
    "Format the start and stop times in UTC"
   ]
  },
  {
   "cell_type": "code",
   "execution_count": 30,
   "metadata": {},
   "outputs": [],
   "source": [
    "new_satellite_data_df <- new_satellite_data_df %>% mutate(startUTC = as_datetime(startUTC, tz = \"UTC\")) %>%\n",
    "    mutate(endUTC = as_datetime(endUTC, tz = \"UTC\"))"
   ]
  },
  {
   "cell_type": "markdown",
   "metadata": {},
   "source": [
    "### Filter out passes that we've already downloaded so that they're not duplicated when we bind the new data to the old we've loaded from disk"
   ]
  },
  {
   "cell_type": "code",
   "execution_count": 31,
   "metadata": {},
   "outputs": [],
   "source": [
    "new_satellite_data_df <- anti_join(new_satellite_data_df, satellite_data_df, by = c(\"satellite\", \"startUTC\"))"
   ]
  },
  {
   "cell_type": "markdown",
   "metadata": {},
   "source": [
    "For `mlrpt` need arguments in the form of `mlrpt $startTime-$stopTime -t $duration`. Start and stop time are in the format HHMM in **UTC**. Duration is how long the command needs to run (in **minutes**) from start to shut-down. Make it 3 minutes longer than the time of the satellite pass to give time for start-up, and at the end, decoding and saving images.\n",
    "\n",
    "Also need the start time in **local** timezone to schedule `mlrpt` using `systemd`. Move it back 60 seconds to give `systemd` and `mlrpt` time to start up."
   ]
  },
  {
   "cell_type": "code",
   "execution_count": 36,
   "metadata": {},
   "outputs": [],
   "source": [
    "new_satellite_data_df <- new_satellite_data_df %>% \n",
    "    mutate(startDate = format(startUTC, \"%Y-%m-%d\")) %>%\n",
    "    mutate(startTime = format(startUTC, \"%H%M\")) %>%\n",
    "    mutate(endDate = format(endUTC, \"%Y-%m-%d\")) %>%\n",
    "    mutate(endTime = format(endUTC, \"%H%M\")) %>%\n",
    "    mutate(localStartTime = format(as_datetime(startUTC, tz = localTimeZone), \"%H:%M\")) %>% \n",
    "    mutate(duration = as.numeric(ceiling(endUTC - startUTC)))"
   ]
  },
  {
   "cell_type": "code",
   "execution_count": 33,
   "metadata": {},
   "outputs": [],
   "source": [
    "satellite_data_df <- bind_rows(satellite_data_df, new_satellite_data_df)"
   ]
  },
  {
   "cell_type": "code",
   "execution_count": 34,
   "metadata": {},
   "outputs": [
    {
     "data": {
      "text/html": [
       "<table>\n",
       "<caption>A tibble: 157 × 20</caption>\n",
       "<thead>\n",
       "\t<tr><th scope=col>startAz</th><th scope=col>startAzCompass</th><th scope=col>startUTC</th><th scope=col>maxAz</th><th scope=col>maxAzCompass</th><th scope=col>maxEl</th><th scope=col>maxUTC</th><th scope=col>endAz</th><th scope=col>endAzCompass</th><th scope=col>endUTC</th><th scope=col>startDate</th><th scope=col>startTime</th><th scope=col>endDate</th><th scope=col>endTime</th><th scope=col>localStartTime</th><th scope=col>duration</th><th scope=col>satellite</th><th scope=col>frequency</th><th scope=col>norad_id</th><th scope=col>priority</th></tr>\n",
       "\t<tr><th scope=col>&lt;dbl&gt;</th><th scope=col>&lt;chr&gt;</th><th scope=col>&lt;dttm&gt;</th><th scope=col>&lt;dbl&gt;</th><th scope=col>&lt;chr&gt;</th><th scope=col>&lt;dbl&gt;</th><th scope=col>&lt;int&gt;</th><th scope=col>&lt;dbl&gt;</th><th scope=col>&lt;chr&gt;</th><th scope=col>&lt;dttm&gt;</th><th scope=col>&lt;chr&gt;</th><th scope=col>&lt;chr&gt;</th><th scope=col>&lt;chr&gt;</th><th scope=col>&lt;chr&gt;</th><th scope=col>&lt;chr&gt;</th><th scope=col>&lt;dbl&gt;</th><th scope=col>&lt;chr&gt;</th><th scope=col>&lt;dbl&gt;</th><th scope=col>&lt;dbl&gt;</th><th scope=col>&lt;dbl&gt;</th></tr>\n",
       "</thead>\n",
       "<tbody>\n",
       "\t<tr><td>178.29</td><td>S  </td><td>2019-09-15 19:13:55</td><td>252.09</td><td>WSW</td><td>38.58</td><td>1568575280</td><td>326.32</td><td>NW </td><td>2019-09-15 19:28:35</td><td>2019-09-15</td><td>1913</td><td>2019-09-15</td><td>1928</td><td>21:12</td><td>18</td><td>METEOR-M2</td><td>NA</td><td>NA</td><td>NA</td></tr>\n",
       "\t<tr><td>357.16</td><td>N  </td><td>2019-09-16 06:30:00</td><td>278.50</td><td>W  </td><td>43.17</td><td>1568615850</td><td>201.37</td><td>SSW</td><td>2019-09-16 06:45:00</td><td>2019-09-16</td><td>0630</td><td>2019-09-16</td><td>0645</td><td>08:29</td><td>18</td><td>METEOR-M2</td><td>NA</td><td>NA</td><td>NA</td></tr>\n",
       "\t<tr><td>172.58</td><td>S  </td><td>2019-09-16 18:53:50</td><td>252.26</td><td>WSW</td><td>61.83</td><td>1568660490</td><td>337.23</td><td>NNW</td><td>2019-09-16 19:09:00</td><td>2019-09-16</td><td>1853</td><td>2019-09-16</td><td>1909</td><td>20:52</td><td>19</td><td>METEOR-M2</td><td>NA</td><td>NA</td><td>NA</td></tr>\n",
       "\t<tr><td>  7.95</td><td>N  </td><td>2019-09-17 06:09:55</td><td>279.43</td><td>W  </td><td>70.02</td><td>1568701055</td><td>195.31</td><td>SSW</td><td>2019-09-17 06:25:15</td><td>2019-09-17</td><td>0609</td><td>2019-09-17</td><td>0625</td><td>08:08</td><td>19</td><td>METEOR-M2</td><td>NA</td><td>NA</td><td>NA</td></tr>\n",
       "\t<tr><td>166.97</td><td>S  </td><td>2019-09-17 18:33:55</td><td> 84.80</td><td>E  </td><td>83.39</td><td>1568745700</td><td>347.99</td><td>N  </td><td>2019-09-17 18:49:15</td><td>2019-09-17</td><td>1833</td><td>2019-09-17</td><td>1849</td><td>20:32</td><td>19</td><td>METEOR-M2</td><td>NA</td><td>NA</td><td>NA</td></tr>\n",
       "\t<tr><td> 18.55</td><td>NNE</td><td>2019-09-18 05:50:00</td><td>101.66</td><td>E  </td><td>74.35</td><td>1568786260</td><td>189.53</td><td>S  </td><td>2019-09-18 06:05:20</td><td>2019-09-18</td><td>0550</td><td>2019-09-18</td><td>0605</td><td>07:49</td><td>18</td><td>METEOR-M2</td><td>NA</td><td>NA</td><td>NA</td></tr>\n",
       "\t<tr><td>161.06</td><td>SSE</td><td>2019-09-18 18:14:10</td><td> 78.16</td><td>E  </td><td>51.73</td><td>1568830910</td><td>358.79</td><td>N  </td><td>2019-09-18 18:29:15</td><td>2019-09-18</td><td>1814</td><td>2019-09-18</td><td>1829</td><td>20:13</td><td>18</td><td>METEOR-M2</td><td>NA</td><td>NA</td><td>NA</td></tr>\n",
       "\t<tr><td> 29.29</td><td>NNE</td><td>2019-09-19 05:30:25</td><td>105.33</td><td>ESE</td><td>46.31</td><td>1568871470</td><td>183.77</td><td>S  </td><td>2019-09-19 05:45:20</td><td>2019-09-19</td><td>0530</td><td>2019-09-19</td><td>0545</td><td>07:29</td><td>18</td><td>METEOR-M2</td><td>NA</td><td>NA</td><td>NA</td></tr>\n",
       "\t<tr><td>154.74</td><td>SSE</td><td>2019-09-19 17:54:30</td><td> 82.41</td><td>E  </td><td>32.09</td><td>1568916110</td><td> 10.01</td><td>N  </td><td>2019-09-19 18:09:00</td><td>2019-09-19</td><td>1754</td><td>2019-09-19</td><td>1809</td><td>19:53</td><td>18</td><td>METEOR-M2</td><td>NA</td><td>NA</td><td>NA</td></tr>\n",
       "\t<tr><td>184.36</td><td>S  </td><td>2019-09-19 19:34:45</td><td>249.16</td><td>WSW</td><td>24.17</td><td>1568922105</td><td>314.34</td><td>NW </td><td>2019-09-19 19:48:35</td><td>2019-09-19</td><td>1934</td><td>2019-09-19</td><td>1948</td><td>21:33</td><td>17</td><td>METEOR-M2</td><td>NA</td><td>NA</td><td>NA</td></tr>\n",
       "\t<tr><td> 40.36</td><td>NE </td><td>2019-09-20 05:11:00</td><td>108.73</td><td>ESE</td><td>29.51</td><td>1568956685</td><td>177.97</td><td>S  </td><td>2019-09-20 05:25:15</td><td>2019-09-20</td><td>0511</td><td>2019-09-20</td><td>0525</td><td>07:10</td><td>17</td><td>METEOR-M2</td><td>NA</td><td>NA</td><td>NA</td></tr>\n",
       "\t<tr><td>345.44</td><td>N  </td><td>2019-09-20 06:51:00</td><td>276.48</td><td>W  </td><td>26.40</td><td>1568962690</td><td>208.48</td><td>SSW</td><td>2019-09-20 07:05:15</td><td>2019-09-20</td><td>0651</td><td>2019-09-20</td><td>0705</td><td>08:50</td><td>17</td><td>METEOR-M2</td><td>NA</td><td>NA</td><td>NA</td></tr>\n",
       "\t<tr><td>147.69</td><td>SE </td><td>2019-09-20 17:35:00</td><td> 84.73</td><td>E  </td><td>20.13</td><td>1569001310</td><td> 21.94</td><td>NNE</td><td>2019-09-20 17:48:30</td><td>2019-09-20</td><td>1735</td><td>2019-09-20</td><td>1748</td><td>19:34</td><td>16</td><td>METEOR-M2</td><td>NA</td><td>NA</td><td>NA</td></tr>\n",
       "\t<tr><td>178.51</td><td>S  </td><td>2019-09-20 19:14:35</td><td>251.36</td><td>WSW</td><td>37.61</td><td>1569007320</td><td>325.70</td><td>NW </td><td>2019-09-20 19:29:15</td><td>2019-09-20</td><td>1914</td><td>2019-09-20</td><td>1929</td><td>21:13</td><td>18</td><td>METEOR-M2</td><td>NA</td><td>NA</td><td>NA</td></tr>\n",
       "\t<tr><td>356.67</td><td>N  </td><td>2019-09-21 06:30:40</td><td>279.60</td><td>W  </td><td>42.04</td><td>1569047890</td><td>201.77</td><td>SSW</td><td>2019-09-21 06:45:40</td><td>2019-09-21</td><td>0630</td><td>2019-09-21</td><td>0645</td><td>08:29</td><td>18</td><td>METEOR-M2</td><td>NA</td><td>NA</td><td>NA</td></tr>\n",
       "\t<tr><td>172.93</td><td>S  </td><td>2019-09-21 18:54:35</td><td>255.50</td><td>W  </td><td>60.23</td><td>1569092535</td><td>336.62</td><td>NNW</td><td>2019-09-21 19:09:40</td><td>2019-09-21</td><td>1854</td><td>2019-09-21</td><td>1909</td><td>20:53</td><td>18</td><td>METEOR-M2</td><td>NA</td><td>NA</td><td>NA</td></tr>\n",
       "\t<tr><td>  7.40</td><td>N  </td><td>2019-09-22 06:10:35</td><td>282.43</td><td>W  </td><td>68.22</td><td>1569133095</td><td>195.67</td><td>SSW</td><td>2019-09-22 06:25:55</td><td>2019-09-22</td><td>0610</td><td>2019-09-22</td><td>0625</td><td>08:09</td><td>18</td><td>METEOR-M2</td><td>NA</td><td>NA</td><td>NA</td></tr>\n",
       "\t<tr><td>167.26</td><td>S  </td><td>2019-09-22 18:34:40</td><td> 66.52</td><td>ENE</td><td>85.37</td><td>1569177745</td><td>347.41</td><td>N  </td><td>2019-09-22 18:49:55</td><td>2019-09-22</td><td>1834</td><td>2019-09-22</td><td>1849</td><td>20:33</td><td>18</td><td>METEOR-M2</td><td>NA</td><td>NA</td><td>NA</td></tr>\n",
       "\t<tr><td> 17.99</td><td>NNE</td><td>2019-09-23 05:50:45</td><td>107.31</td><td>ESE</td><td>76.23</td><td>1569218305</td><td>189.85</td><td>S  </td><td>2019-09-23 06:06:05</td><td>2019-09-23</td><td>0550</td><td>2019-09-23</td><td>0606</td><td>07:49</td><td>19</td><td>METEOR-M2</td><td>NA</td><td>NA</td><td>NA</td></tr>\n",
       "\t<tr><td>161.42</td><td>SSE</td><td>2019-09-23 18:14:50</td><td> 79.27</td><td>E  </td><td>53.13</td><td>1569262950</td><td>358.26</td><td>N  </td><td>2019-09-23 18:29:55</td><td>2019-09-23</td><td>1814</td><td>2019-09-23</td><td>1829</td><td>20:13</td><td>18</td><td>METEOR-M2</td><td>NA</td><td>NA</td><td>NA</td></tr>\n",
       "\t<tr><td> 28.66</td><td>NNE</td><td>2019-09-24 05:31:05</td><td>106.95</td><td>ESE</td><td>47.51</td><td>1569303515</td><td>184.15</td><td>S  </td><td>2019-09-24 05:46:05</td><td>2019-09-24</td><td>0531</td><td>2019-09-24</td><td>0546</td><td>07:30</td><td>18</td><td>METEOR-M2</td><td>NA</td><td>NA</td><td>NA</td></tr>\n",
       "\t<tr><td>155.14</td><td>SSE</td><td>2019-09-24 17:55:10</td><td> 83.04</td><td>E  </td><td>32.90</td><td>1569348150</td><td>  9.30</td><td>N  </td><td>2019-09-24 18:09:45</td><td>2019-09-24</td><td>1755</td><td>2019-09-24</td><td>1809</td><td>19:54</td><td>17</td><td>METEOR-M2</td><td>NA</td><td>NA</td><td>NA</td></tr>\n",
       "\t<tr><td>184.80</td><td>S  </td><td>2019-09-24 19:35:30</td><td>248.69</td><td>WSW</td><td>23.59</td><td>1569354145</td><td>313.73</td><td>NW </td><td>2019-09-24 19:49:15</td><td>2019-09-24</td><td>1935</td><td>2019-09-24</td><td>1949</td><td>21:34</td><td>17</td><td>METEOR-M2</td><td>NA</td><td>NA</td><td>NA</td></tr>\n",
       "\t<tr><td> 39.72</td><td>NE </td><td>2019-09-25 05:11:40</td><td>109.70</td><td>ESE</td><td>30.21</td><td>1569388730</td><td>178.39</td><td>S  </td><td>2019-09-25 05:26:00</td><td>2019-09-25</td><td>0511</td><td>2019-09-25</td><td>0526</td><td>07:10</td><td>18</td><td>METEOR-M2</td><td>NA</td><td>NA</td><td>NA</td></tr>\n",
       "\t<tr><td>344.76</td><td>NNW</td><td>2019-09-25 06:51:45</td><td>277.13</td><td>W  </td><td>25.72</td><td>1569394730</td><td>208.92</td><td>SSW</td><td>2019-09-25 07:05:55</td><td>2019-09-25</td><td>0651</td><td>2019-09-25</td><td>0705</td><td>08:50</td><td>17</td><td>METEOR-M2</td><td>NA</td><td>NA</td><td>NA</td></tr>\n",
       "\t<tr><td>148.09</td><td>SE </td><td>2019-09-25 17:35:40</td><td> 85.06</td><td>E  </td><td>20.65</td><td>1569433350</td><td> 21.18</td><td>NNE</td><td>2019-09-25 17:49:15</td><td>2019-09-25</td><td>1735</td><td>2019-09-25</td><td>1749</td><td>19:34</td><td>NA</td><td>METEOR-M2</td><td>NA</td><td>NA</td><td>NA</td></tr>\n",
       "\t<tr><td>178.92</td><td>S  </td><td>2019-09-25 19:15:20</td><td>250.84</td><td>WSW</td><td>36.68</td><td>1569439360</td><td>325.10</td><td>NW </td><td>2019-09-25 19:29:55</td><td>2019-09-25</td><td>1915</td><td>2019-09-25</td><td>1929</td><td>21:14</td><td>NA</td><td>METEOR-M2</td><td>NA</td><td>NA</td><td>NA</td></tr>\n",
       "\t<tr><td>356.00</td><td>N  </td><td>2019-09-26 06:31:25</td><td>280.41</td><td>W  </td><td>40.93</td><td>1569479930</td><td>202.16</td><td>SSW</td><td>2019-09-26 06:46:20</td><td>2019-09-26</td><td>0631</td><td>2019-09-26</td><td>0646</td><td>08:30</td><td>NA</td><td>METEOR-M2</td><td>NA</td><td>NA</td><td>NA</td></tr>\n",
       "\t<tr><td>148.09</td><td>SE </td><td>2019-09-25 17:35:40</td><td> 85.06</td><td>E  </td><td>20.65</td><td>1569433350</td><td> 21.18</td><td>NNE</td><td>2019-09-25 17:49:15</td><td>2019-09-25</td><td>1735</td><td>2019-09-25</td><td>1749</td><td>19:34</td><td>NA</td><td>METEOR-M2</td><td>NA</td><td>NA</td><td>NA</td></tr>\n",
       "\t<tr><td>178.92</td><td>S  </td><td>2019-09-25 19:15:20</td><td>250.84</td><td>WSW</td><td>36.68</td><td>1569439360</td><td>325.10</td><td>NW </td><td>2019-09-25 19:29:55</td><td>2019-09-25</td><td>1915</td><td>2019-09-25</td><td>1929</td><td>21:14</td><td>NA</td><td>METEOR-M2</td><td>NA</td><td>NA</td><td>NA</td></tr>\n",
       "\t<tr><td>⋮</td><td>⋮</td><td>⋮</td><td>⋮</td><td>⋮</td><td>⋮</td><td>⋮</td><td>⋮</td><td>⋮</td><td>⋮</td><td>⋮</td><td>⋮</td><td>⋮</td><td>⋮</td><td>⋮</td><td>⋮</td><td>⋮</td><td>⋮</td><td>⋮</td><td>⋮</td></tr>\n",
       "\t<tr><td>347.91</td><td>N  </td><td>2019-10-01 07:12:30</td><td>278.99</td><td>W  </td><td>28.58</td><td>1569914385</td><td>207.86</td><td>SSW</td><td>2019-10-01 07:27:05</td><td>2019-10-01</td><td>0712</td><td>2019-10-01</td><td>0727</td><td>09:12</td><td>15</td><td>NOAA-18</td><td>137912500</td><td>28654</td><td>2</td></tr>\n",
       "\t<tr><td>147.01</td><td>SE </td><td>2019-10-01 18:00:15</td><td> 84.78</td><td>E  </td><td>20.25</td><td>1569953230</td><td> 21.32</td><td>NNE</td><td>2019-10-01 18:14:05</td><td>2019-10-01</td><td>1800</td><td>2019-10-01</td><td>1814</td><td>20:00</td><td>14</td><td>NOAA-18</td><td>137912500</td><td>28654</td><td>2</td></tr>\n",
       "\t<tr><td>182.55</td><td>S  </td><td>2019-09-21 19:57:25</td><td>248.59</td><td>WSW</td><td>26.60</td><td>1569096275</td><td>315.86</td><td>NW </td><td>2019-09-21 20:11:40</td><td>2019-09-21</td><td>1957</td><td>2019-09-21</td><td>2011</td><td>21:57</td><td>15</td><td>NOAA-19</td><td>137100000</td><td>28654</td><td>1</td></tr>\n",
       "\t<tr><td> 38.87</td><td>NE </td><td>2019-09-22 05:37:00</td><td>109.28</td><td>ESE</td><td>32.17</td><td>1569131060</td><td>179.79</td><td>S  </td><td>2019-09-22 05:51:40</td><td>2019-09-22</td><td>0537</td><td>2019-09-22</td><td>0551</td><td>07:37</td><td>15</td><td>NOAA-19</td><td>137100000</td><td>28654</td><td>1</td></tr>\n",
       "\t<tr><td>344.42</td><td>NNW</td><td>2019-09-22 07:17:45</td><td>277.34</td><td>W  </td><td>24.93</td><td>1569137095</td><td>209.92</td><td>SSW</td><td>2019-09-22 07:32:05</td><td>2019-09-22</td><td>0717</td><td>2019-09-22</td><td>0732</td><td>09:17</td><td>15</td><td>NOAA-19</td><td>137100000</td><td>28654</td><td>1</td></tr>\n",
       "\t<tr><td>149.35</td><td>SE </td><td>2019-09-22 18:05:10</td><td> 83.38</td><td>E  </td><td>23.23</td><td>1569175940</td><td> 17.79</td><td>NNE</td><td>2019-09-22 18:19:20</td><td>2019-09-22</td><td>1805</td><td>2019-09-22</td><td>1819</td><td>20:05</td><td>15</td><td>NOAA-19</td><td>137100000</td><td>28654</td><td>1</td></tr>\n",
       "\t<tr><td>179.12</td><td>S  </td><td>2019-09-22 19:45:30</td><td>249.75</td><td>WSW</td><td>34.45</td><td>1569181975</td><td>322.54</td><td>NW </td><td>2019-09-22 20:00:15</td><td>2019-09-22</td><td>1945</td><td>2019-09-22</td><td>2000</td><td>21:45</td><td>15</td><td>NOAA-19</td><td>137100000</td><td>28654</td><td>1</td></tr>\n",
       "\t<tr><td> 45.72</td><td>NE </td><td>2019-09-23 05:25:40</td><td>110.67</td><td>ESE</td><td>24.87</td><td>1569216760</td><td>176.31</td><td>S  </td><td>2019-09-23 05:39:45</td><td>2019-09-23</td><td>0525</td><td>2019-09-23</td><td>0539</td><td>07:25</td><td>15</td><td>NOAA-19</td><td>137100000</td><td>28654</td><td>1</td></tr>\n",
       "\t<tr><td>351.24</td><td>N  </td><td>2019-09-23 07:05:40</td><td>279.42</td><td>W  </td><td>32.71</td><td>1569222785</td><td>205.98</td><td>SSW</td><td>2019-09-23 07:20:30</td><td>2019-09-23</td><td>0705</td><td>2019-09-23</td><td>0720</td><td>09:05</td><td>15</td><td>NOAA-19</td><td>137100000</td><td>28654</td><td>1</td></tr>\n",
       "\t<tr><td>175.85</td><td>S  </td><td>2019-09-23 19:33:40</td><td>251.18</td><td>WSW</td><td>45.00</td><td>1569267675</td><td>329.22</td><td>NW </td><td>2019-09-23 19:48:50</td><td>2019-09-23</td><td>1933</td><td>2019-09-23</td><td>1948</td><td>21:33</td><td>16</td><td>NOAA-19</td><td>137100000</td><td>28654</td><td>1</td></tr>\n",
       "\t<tr><td>357.66</td><td>N  </td><td>2019-09-24 06:53:45</td><td>280.00</td><td>W  </td><td>43.13</td><td>1569308480</td><td>202.10</td><td>SSW</td><td>2019-09-24 07:08:55</td><td>2019-09-24</td><td>0653</td><td>2019-09-24</td><td>0708</td><td>08:53</td><td>16</td><td>NOAA-19</td><td>137100000</td><td>28654</td><td>1</td></tr>\n",
       "\t<tr><td>172.53</td><td>S  </td><td>2019-09-24 19:21:50</td><td>253.41</td><td>WSW</td><td>59.40</td><td>1569353375</td><td>335.58</td><td>NNW</td><td>2019-09-24 19:37:15</td><td>2019-09-24</td><td>1921</td><td>2019-09-24</td><td>1937</td><td>21:21</td><td>16</td><td>NOAA-19</td><td>137100000</td><td>28654</td><td>1</td></tr>\n",
       "\t<tr><td>  4.11</td><td>N  </td><td>2019-09-25 06:41:50</td><td>280.41</td><td>W  </td><td>57.32</td><td>1569394175</td><td>198.47</td><td>SSW</td><td>2019-09-25 06:57:15</td><td>2019-09-25</td><td>0641</td><td>2019-09-25</td><td>0657</td><td>08:41</td><td>16</td><td>NOAA-19</td><td>137100000</td><td>28654</td><td>1</td></tr>\n",
       "\t<tr><td>169.22</td><td>S  </td><td>2019-09-25 19:10:00</td><td>260.80</td><td>W  </td><td>78.11</td><td>1569439075</td><td>341.89</td><td>NNW</td><td>2019-09-25 19:25:35</td><td>2019-09-25</td><td>1910</td><td>2019-09-25</td><td>1925</td><td>21:10</td><td>16</td><td>NOAA-19</td><td>137100000</td><td>28654</td><td>1</td></tr>\n",
       "\t<tr><td> 10.42</td><td>N  </td><td>2019-09-26 06:30:00</td><td>279.84</td><td>W  </td><td>75.91</td><td>1569479870</td><td>194.93</td><td>S  </td><td>2019-09-26 06:45:35</td><td>2019-09-26</td><td>0630</td><td>2019-09-26</td><td>0645</td><td>08:30</td><td>16</td><td>NOAA-19</td><td>137100000</td><td>28654</td><td>1</td></tr>\n",
       "\t<tr><td>165.90</td><td>S  </td><td>2019-09-26 18:58:15</td><td> 73.25</td><td>ENE</td><td>80.65</td><td>1569524770</td><td>348.19</td><td>N  </td><td>2019-09-26 19:13:55</td><td>2019-09-26</td><td>1858</td><td>2019-09-26</td><td>1913</td><td>20:58</td><td>16</td><td>NOAA-19</td><td>137100000</td><td>28654</td><td>1</td></tr>\n",
       "\t<tr><td> 16.66</td><td>NNE</td><td>2019-09-27 06:18:15</td><td>107.13</td><td>ESE</td><td>82.84</td><td>1569565565</td><td>191.52</td><td>S  </td><td>2019-09-27 06:33:50</td><td>2019-09-27</td><td>0618</td><td>2019-09-27</td><td>0633</td><td>08:18</td><td>16</td><td>NOAA-19</td><td>137100000</td><td>28654</td><td>1</td></tr>\n",
       "\t<tr><td>162.46</td><td>SSE</td><td>2019-09-27 18:46:35</td><td> 77.20</td><td>E  </td><td>61.25</td><td>1569610465</td><td>354.54</td><td>N  </td><td>2019-09-27 19:02:05</td><td>2019-09-27</td><td>1846</td><td>2019-09-27</td><td>1902</td><td>20:46</td><td>16</td><td>NOAA-19</td><td>137100000</td><td>28654</td><td>1</td></tr>\n",
       "\t<tr><td> 22.97</td><td>NNE</td><td>2019-09-28 06:06:40</td><td>104.62</td><td>E  </td><td>63.18</td><td>1569651260</td><td>188.18</td><td>S  </td><td>2019-09-28 06:22:05</td><td>2019-09-28</td><td>0606</td><td>2019-09-28</td><td>0622</td><td>08:06</td><td>16</td><td>NOAA-19</td><td>137100000</td><td>28654</td><td>1</td></tr>\n",
       "\t<tr><td>158.92</td><td>SSE</td><td>2019-09-28 18:34:55</td><td> 81.24</td><td>E  </td><td>46.09</td><td>1569696155</td><td>  0.89</td><td>N  </td><td>2019-09-28 18:50:15</td><td>2019-09-28</td><td>1834</td><td>2019-09-28</td><td>1850</td><td>20:34</td><td>16</td><td>NOAA-19</td><td>137100000</td><td>28654</td><td>1</td></tr>\n",
       "\t<tr><td> 29.34</td><td>NNE</td><td>2019-09-29 05:55:05</td><td>107.83</td><td>ESE</td><td>47.77</td><td>1569736960</td><td>184.82</td><td>S  </td><td>2019-09-29 06:10:15</td><td>2019-09-29</td><td>0555</td><td>2019-09-29</td><td>0610</td><td>07:55</td><td>16</td><td>NOAA-19</td><td>137100000</td><td>28654</td><td>1</td></tr>\n",
       "\t<tr><td>155.34</td><td>SSE</td><td>2019-09-29 18:23:15</td><td> 81.40</td><td>E  </td><td>34.93</td><td>1569781850</td><td>  7.54</td><td>N  </td><td>2019-09-29 18:38:15</td><td>2019-09-29</td><td>1823</td><td>2019-09-29</td><td>1838</td><td>20:23</td><td>15</td><td>NOAA-19</td><td>137100000</td><td>28654</td><td>1</td></tr>\n",
       "\t<tr><td>184.23</td><td>S  </td><td>2019-09-29 20:04:10</td><td>247.34</td><td>WSW</td><td>23.58</td><td>1569787870</td><td>312.59</td><td>NW </td><td>2019-09-29 20:18:10</td><td>2019-09-29</td><td>2004</td><td>2019-09-29</td><td>2018</td><td>22:04</td><td>14</td><td>NOAA-19</td><td>137100000</td><td>28654</td><td>1</td></tr>\n",
       "\t<tr><td> 35.83</td><td>NE </td><td>2019-09-30 05:43:35</td><td>109.60</td><td>ESE</td><td>36.45</td><td>1569822660</td><td>181.33</td><td>S  </td><td>2019-09-30 05:58:20</td><td>2019-09-30</td><td>0543</td><td>2019-09-30</td><td>0558</td><td>07:43</td><td>15</td><td>NOAA-19</td><td>137100000</td><td>28654</td><td>1</td></tr>\n",
       "\t<tr><td>340.79</td><td>NNW</td><td>2019-09-30 07:24:40</td><td>277.10</td><td>W  </td><td>21.74</td><td>1569828695</td><td>212.14</td><td>SW </td><td>2019-09-30 07:38:35</td><td>2019-09-30</td><td>0724</td><td>2019-09-30</td><td>0738</td><td>09:24</td><td>14</td><td>NOAA-19</td><td>137100000</td><td>28654</td><td>1</td></tr>\n",
       "\t<tr><td>151.23</td><td>SSE</td><td>2019-09-30 18:11:45</td><td> 83.31</td><td>E  </td><td>26.63</td><td>1569867540</td><td> 14.45</td><td>N  </td><td>2019-09-30 18:26:10</td><td>2019-09-30</td><td>1811</td><td>2019-09-30</td><td>1826</td><td>20:11</td><td>15</td><td>NOAA-19</td><td>137100000</td><td>28654</td><td>1</td></tr>\n",
       "\t<tr><td>180.81</td><td>S  </td><td>2019-09-30 19:52:15</td><td>249.98</td><td>WSW</td><td>30.47</td><td>1569873575</td><td>319.48</td><td>NW </td><td>2019-09-30 20:06:50</td><td>2019-09-30</td><td>1952</td><td>2019-09-30</td><td>2006</td><td>21:52</td><td>15</td><td>NOAA-19</td><td>137100000</td><td>28654</td><td>1</td></tr>\n",
       "\t<tr><td> 42.24</td><td>NE </td><td>2019-10-01 05:32:05</td><td>110.93</td><td>ESE</td><td>28.10</td><td>1569908360</td><td>178.04</td><td>S  </td><td>2019-10-01 05:46:30</td><td>2019-10-01</td><td>0532</td><td>2019-10-01</td><td>0546</td><td>07:32</td><td>15</td><td>NOAA-19</td><td>137100000</td><td>28654</td><td>1</td></tr>\n",
       "\t<tr><td>347.91</td><td>N  </td><td>2019-10-01 07:12:30</td><td>278.99</td><td>W  </td><td>28.58</td><td>1569914385</td><td>207.86</td><td>SSW</td><td>2019-10-01 07:27:05</td><td>2019-10-01</td><td>0712</td><td>2019-10-01</td><td>0727</td><td>09:12</td><td>15</td><td>NOAA-19</td><td>137100000</td><td>28654</td><td>1</td></tr>\n",
       "\t<tr><td>147.01</td><td>SE </td><td>2019-10-01 18:00:15</td><td> 84.78</td><td>E  </td><td>20.25</td><td>1569953230</td><td> 21.32</td><td>NNE</td><td>2019-10-01 18:14:05</td><td>2019-10-01</td><td>1800</td><td>2019-10-01</td><td>1814</td><td>20:00</td><td>14</td><td>NOAA-19</td><td>137100000</td><td>28654</td><td>1</td></tr>\n",
       "</tbody>\n",
       "</table>\n"
      ],
      "text/latex": [
       "A tibble: 157 × 20\n",
       "\\begin{tabular}{r|llllllllllllllllllll}\n",
       " startAz & startAzCompass & startUTC & maxAz & maxAzCompass & maxEl & maxUTC & endAz & endAzCompass & endUTC & startDate & startTime & endDate & endTime & localStartTime & duration & satellite & frequency & norad\\_id & priority\\\\\n",
       " <dbl> & <chr> & <dttm> & <dbl> & <chr> & <dbl> & <int> & <dbl> & <chr> & <dttm> & <chr> & <chr> & <chr> & <chr> & <chr> & <dbl> & <chr> & <dbl> & <dbl> & <dbl>\\\\\n",
       "\\hline\n",
       "\t 178.29 & S   & 2019-09-15 19:13:55 & 252.09 & WSW & 38.58 & 1568575280 & 326.32 & NW  & 2019-09-15 19:28:35 & 2019-09-15 & 1913 & 2019-09-15 & 1928 & 21:12 & 18 & METEOR-M2 & NA & NA & NA\\\\\n",
       "\t 357.16 & N   & 2019-09-16 06:30:00 & 278.50 & W   & 43.17 & 1568615850 & 201.37 & SSW & 2019-09-16 06:45:00 & 2019-09-16 & 0630 & 2019-09-16 & 0645 & 08:29 & 18 & METEOR-M2 & NA & NA & NA\\\\\n",
       "\t 172.58 & S   & 2019-09-16 18:53:50 & 252.26 & WSW & 61.83 & 1568660490 & 337.23 & NNW & 2019-09-16 19:09:00 & 2019-09-16 & 1853 & 2019-09-16 & 1909 & 20:52 & 19 & METEOR-M2 & NA & NA & NA\\\\\n",
       "\t   7.95 & N   & 2019-09-17 06:09:55 & 279.43 & W   & 70.02 & 1568701055 & 195.31 & SSW & 2019-09-17 06:25:15 & 2019-09-17 & 0609 & 2019-09-17 & 0625 & 08:08 & 19 & METEOR-M2 & NA & NA & NA\\\\\n",
       "\t 166.97 & S   & 2019-09-17 18:33:55 &  84.80 & E   & 83.39 & 1568745700 & 347.99 & N   & 2019-09-17 18:49:15 & 2019-09-17 & 1833 & 2019-09-17 & 1849 & 20:32 & 19 & METEOR-M2 & NA & NA & NA\\\\\n",
       "\t  18.55 & NNE & 2019-09-18 05:50:00 & 101.66 & E   & 74.35 & 1568786260 & 189.53 & S   & 2019-09-18 06:05:20 & 2019-09-18 & 0550 & 2019-09-18 & 0605 & 07:49 & 18 & METEOR-M2 & NA & NA & NA\\\\\n",
       "\t 161.06 & SSE & 2019-09-18 18:14:10 &  78.16 & E   & 51.73 & 1568830910 & 358.79 & N   & 2019-09-18 18:29:15 & 2019-09-18 & 1814 & 2019-09-18 & 1829 & 20:13 & 18 & METEOR-M2 & NA & NA & NA\\\\\n",
       "\t  29.29 & NNE & 2019-09-19 05:30:25 & 105.33 & ESE & 46.31 & 1568871470 & 183.77 & S   & 2019-09-19 05:45:20 & 2019-09-19 & 0530 & 2019-09-19 & 0545 & 07:29 & 18 & METEOR-M2 & NA & NA & NA\\\\\n",
       "\t 154.74 & SSE & 2019-09-19 17:54:30 &  82.41 & E   & 32.09 & 1568916110 &  10.01 & N   & 2019-09-19 18:09:00 & 2019-09-19 & 1754 & 2019-09-19 & 1809 & 19:53 & 18 & METEOR-M2 & NA & NA & NA\\\\\n",
       "\t 184.36 & S   & 2019-09-19 19:34:45 & 249.16 & WSW & 24.17 & 1568922105 & 314.34 & NW  & 2019-09-19 19:48:35 & 2019-09-19 & 1934 & 2019-09-19 & 1948 & 21:33 & 17 & METEOR-M2 & NA & NA & NA\\\\\n",
       "\t  40.36 & NE  & 2019-09-20 05:11:00 & 108.73 & ESE & 29.51 & 1568956685 & 177.97 & S   & 2019-09-20 05:25:15 & 2019-09-20 & 0511 & 2019-09-20 & 0525 & 07:10 & 17 & METEOR-M2 & NA & NA & NA\\\\\n",
       "\t 345.44 & N   & 2019-09-20 06:51:00 & 276.48 & W   & 26.40 & 1568962690 & 208.48 & SSW & 2019-09-20 07:05:15 & 2019-09-20 & 0651 & 2019-09-20 & 0705 & 08:50 & 17 & METEOR-M2 & NA & NA & NA\\\\\n",
       "\t 147.69 & SE  & 2019-09-20 17:35:00 &  84.73 & E   & 20.13 & 1569001310 &  21.94 & NNE & 2019-09-20 17:48:30 & 2019-09-20 & 1735 & 2019-09-20 & 1748 & 19:34 & 16 & METEOR-M2 & NA & NA & NA\\\\\n",
       "\t 178.51 & S   & 2019-09-20 19:14:35 & 251.36 & WSW & 37.61 & 1569007320 & 325.70 & NW  & 2019-09-20 19:29:15 & 2019-09-20 & 1914 & 2019-09-20 & 1929 & 21:13 & 18 & METEOR-M2 & NA & NA & NA\\\\\n",
       "\t 356.67 & N   & 2019-09-21 06:30:40 & 279.60 & W   & 42.04 & 1569047890 & 201.77 & SSW & 2019-09-21 06:45:40 & 2019-09-21 & 0630 & 2019-09-21 & 0645 & 08:29 & 18 & METEOR-M2 & NA & NA & NA\\\\\n",
       "\t 172.93 & S   & 2019-09-21 18:54:35 & 255.50 & W   & 60.23 & 1569092535 & 336.62 & NNW & 2019-09-21 19:09:40 & 2019-09-21 & 1854 & 2019-09-21 & 1909 & 20:53 & 18 & METEOR-M2 & NA & NA & NA\\\\\n",
       "\t   7.40 & N   & 2019-09-22 06:10:35 & 282.43 & W   & 68.22 & 1569133095 & 195.67 & SSW & 2019-09-22 06:25:55 & 2019-09-22 & 0610 & 2019-09-22 & 0625 & 08:09 & 18 & METEOR-M2 & NA & NA & NA\\\\\n",
       "\t 167.26 & S   & 2019-09-22 18:34:40 &  66.52 & ENE & 85.37 & 1569177745 & 347.41 & N   & 2019-09-22 18:49:55 & 2019-09-22 & 1834 & 2019-09-22 & 1849 & 20:33 & 18 & METEOR-M2 & NA & NA & NA\\\\\n",
       "\t  17.99 & NNE & 2019-09-23 05:50:45 & 107.31 & ESE & 76.23 & 1569218305 & 189.85 & S   & 2019-09-23 06:06:05 & 2019-09-23 & 0550 & 2019-09-23 & 0606 & 07:49 & 19 & METEOR-M2 & NA & NA & NA\\\\\n",
       "\t 161.42 & SSE & 2019-09-23 18:14:50 &  79.27 & E   & 53.13 & 1569262950 & 358.26 & N   & 2019-09-23 18:29:55 & 2019-09-23 & 1814 & 2019-09-23 & 1829 & 20:13 & 18 & METEOR-M2 & NA & NA & NA\\\\\n",
       "\t  28.66 & NNE & 2019-09-24 05:31:05 & 106.95 & ESE & 47.51 & 1569303515 & 184.15 & S   & 2019-09-24 05:46:05 & 2019-09-24 & 0531 & 2019-09-24 & 0546 & 07:30 & 18 & METEOR-M2 & NA & NA & NA\\\\\n",
       "\t 155.14 & SSE & 2019-09-24 17:55:10 &  83.04 & E   & 32.90 & 1569348150 &   9.30 & N   & 2019-09-24 18:09:45 & 2019-09-24 & 1755 & 2019-09-24 & 1809 & 19:54 & 17 & METEOR-M2 & NA & NA & NA\\\\\n",
       "\t 184.80 & S   & 2019-09-24 19:35:30 & 248.69 & WSW & 23.59 & 1569354145 & 313.73 & NW  & 2019-09-24 19:49:15 & 2019-09-24 & 1935 & 2019-09-24 & 1949 & 21:34 & 17 & METEOR-M2 & NA & NA & NA\\\\\n",
       "\t  39.72 & NE  & 2019-09-25 05:11:40 & 109.70 & ESE & 30.21 & 1569388730 & 178.39 & S   & 2019-09-25 05:26:00 & 2019-09-25 & 0511 & 2019-09-25 & 0526 & 07:10 & 18 & METEOR-M2 & NA & NA & NA\\\\\n",
       "\t 344.76 & NNW & 2019-09-25 06:51:45 & 277.13 & W   & 25.72 & 1569394730 & 208.92 & SSW & 2019-09-25 07:05:55 & 2019-09-25 & 0651 & 2019-09-25 & 0705 & 08:50 & 17 & METEOR-M2 & NA & NA & NA\\\\\n",
       "\t 148.09 & SE  & 2019-09-25 17:35:40 &  85.06 & E   & 20.65 & 1569433350 &  21.18 & NNE & 2019-09-25 17:49:15 & 2019-09-25 & 1735 & 2019-09-25 & 1749 & 19:34 & NA & METEOR-M2 & NA & NA & NA\\\\\n",
       "\t 178.92 & S   & 2019-09-25 19:15:20 & 250.84 & WSW & 36.68 & 1569439360 & 325.10 & NW  & 2019-09-25 19:29:55 & 2019-09-25 & 1915 & 2019-09-25 & 1929 & 21:14 & NA & METEOR-M2 & NA & NA & NA\\\\\n",
       "\t 356.00 & N   & 2019-09-26 06:31:25 & 280.41 & W   & 40.93 & 1569479930 & 202.16 & SSW & 2019-09-26 06:46:20 & 2019-09-26 & 0631 & 2019-09-26 & 0646 & 08:30 & NA & METEOR-M2 & NA & NA & NA\\\\\n",
       "\t 148.09 & SE  & 2019-09-25 17:35:40 &  85.06 & E   & 20.65 & 1569433350 &  21.18 & NNE & 2019-09-25 17:49:15 & 2019-09-25 & 1735 & 2019-09-25 & 1749 & 19:34 & NA & METEOR-M2 & NA & NA & NA\\\\\n",
       "\t 178.92 & S   & 2019-09-25 19:15:20 & 250.84 & WSW & 36.68 & 1569439360 & 325.10 & NW  & 2019-09-25 19:29:55 & 2019-09-25 & 1915 & 2019-09-25 & 1929 & 21:14 & NA & METEOR-M2 & NA & NA & NA\\\\\n",
       "\t ⋮ & ⋮ & ⋮ & ⋮ & ⋮ & ⋮ & ⋮ & ⋮ & ⋮ & ⋮ & ⋮ & ⋮ & ⋮ & ⋮ & ⋮ & ⋮ & ⋮ & ⋮ & ⋮ & ⋮\\\\\n",
       "\t 347.91 & N   & 2019-10-01 07:12:30 & 278.99 & W   & 28.58 & 1569914385 & 207.86 & SSW & 2019-10-01 07:27:05 & 2019-10-01 & 0712 & 2019-10-01 & 0727 & 09:12 & 15 & NOAA-18 & 137912500 & 28654 & 2\\\\\n",
       "\t 147.01 & SE  & 2019-10-01 18:00:15 &  84.78 & E   & 20.25 & 1569953230 &  21.32 & NNE & 2019-10-01 18:14:05 & 2019-10-01 & 1800 & 2019-10-01 & 1814 & 20:00 & 14 & NOAA-18 & 137912500 & 28654 & 2\\\\\n",
       "\t 182.55 & S   & 2019-09-21 19:57:25 & 248.59 & WSW & 26.60 & 1569096275 & 315.86 & NW  & 2019-09-21 20:11:40 & 2019-09-21 & 1957 & 2019-09-21 & 2011 & 21:57 & 15 & NOAA-19 & 137100000 & 28654 & 1\\\\\n",
       "\t  38.87 & NE  & 2019-09-22 05:37:00 & 109.28 & ESE & 32.17 & 1569131060 & 179.79 & S   & 2019-09-22 05:51:40 & 2019-09-22 & 0537 & 2019-09-22 & 0551 & 07:37 & 15 & NOAA-19 & 137100000 & 28654 & 1\\\\\n",
       "\t 344.42 & NNW & 2019-09-22 07:17:45 & 277.34 & W   & 24.93 & 1569137095 & 209.92 & SSW & 2019-09-22 07:32:05 & 2019-09-22 & 0717 & 2019-09-22 & 0732 & 09:17 & 15 & NOAA-19 & 137100000 & 28654 & 1\\\\\n",
       "\t 149.35 & SE  & 2019-09-22 18:05:10 &  83.38 & E   & 23.23 & 1569175940 &  17.79 & NNE & 2019-09-22 18:19:20 & 2019-09-22 & 1805 & 2019-09-22 & 1819 & 20:05 & 15 & NOAA-19 & 137100000 & 28654 & 1\\\\\n",
       "\t 179.12 & S   & 2019-09-22 19:45:30 & 249.75 & WSW & 34.45 & 1569181975 & 322.54 & NW  & 2019-09-22 20:00:15 & 2019-09-22 & 1945 & 2019-09-22 & 2000 & 21:45 & 15 & NOAA-19 & 137100000 & 28654 & 1\\\\\n",
       "\t  45.72 & NE  & 2019-09-23 05:25:40 & 110.67 & ESE & 24.87 & 1569216760 & 176.31 & S   & 2019-09-23 05:39:45 & 2019-09-23 & 0525 & 2019-09-23 & 0539 & 07:25 & 15 & NOAA-19 & 137100000 & 28654 & 1\\\\\n",
       "\t 351.24 & N   & 2019-09-23 07:05:40 & 279.42 & W   & 32.71 & 1569222785 & 205.98 & SSW & 2019-09-23 07:20:30 & 2019-09-23 & 0705 & 2019-09-23 & 0720 & 09:05 & 15 & NOAA-19 & 137100000 & 28654 & 1\\\\\n",
       "\t 175.85 & S   & 2019-09-23 19:33:40 & 251.18 & WSW & 45.00 & 1569267675 & 329.22 & NW  & 2019-09-23 19:48:50 & 2019-09-23 & 1933 & 2019-09-23 & 1948 & 21:33 & 16 & NOAA-19 & 137100000 & 28654 & 1\\\\\n",
       "\t 357.66 & N   & 2019-09-24 06:53:45 & 280.00 & W   & 43.13 & 1569308480 & 202.10 & SSW & 2019-09-24 07:08:55 & 2019-09-24 & 0653 & 2019-09-24 & 0708 & 08:53 & 16 & NOAA-19 & 137100000 & 28654 & 1\\\\\n",
       "\t 172.53 & S   & 2019-09-24 19:21:50 & 253.41 & WSW & 59.40 & 1569353375 & 335.58 & NNW & 2019-09-24 19:37:15 & 2019-09-24 & 1921 & 2019-09-24 & 1937 & 21:21 & 16 & NOAA-19 & 137100000 & 28654 & 1\\\\\n",
       "\t   4.11 & N   & 2019-09-25 06:41:50 & 280.41 & W   & 57.32 & 1569394175 & 198.47 & SSW & 2019-09-25 06:57:15 & 2019-09-25 & 0641 & 2019-09-25 & 0657 & 08:41 & 16 & NOAA-19 & 137100000 & 28654 & 1\\\\\n",
       "\t 169.22 & S   & 2019-09-25 19:10:00 & 260.80 & W   & 78.11 & 1569439075 & 341.89 & NNW & 2019-09-25 19:25:35 & 2019-09-25 & 1910 & 2019-09-25 & 1925 & 21:10 & 16 & NOAA-19 & 137100000 & 28654 & 1\\\\\n",
       "\t  10.42 & N   & 2019-09-26 06:30:00 & 279.84 & W   & 75.91 & 1569479870 & 194.93 & S   & 2019-09-26 06:45:35 & 2019-09-26 & 0630 & 2019-09-26 & 0645 & 08:30 & 16 & NOAA-19 & 137100000 & 28654 & 1\\\\\n",
       "\t 165.90 & S   & 2019-09-26 18:58:15 &  73.25 & ENE & 80.65 & 1569524770 & 348.19 & N   & 2019-09-26 19:13:55 & 2019-09-26 & 1858 & 2019-09-26 & 1913 & 20:58 & 16 & NOAA-19 & 137100000 & 28654 & 1\\\\\n",
       "\t  16.66 & NNE & 2019-09-27 06:18:15 & 107.13 & ESE & 82.84 & 1569565565 & 191.52 & S   & 2019-09-27 06:33:50 & 2019-09-27 & 0618 & 2019-09-27 & 0633 & 08:18 & 16 & NOAA-19 & 137100000 & 28654 & 1\\\\\n",
       "\t 162.46 & SSE & 2019-09-27 18:46:35 &  77.20 & E   & 61.25 & 1569610465 & 354.54 & N   & 2019-09-27 19:02:05 & 2019-09-27 & 1846 & 2019-09-27 & 1902 & 20:46 & 16 & NOAA-19 & 137100000 & 28654 & 1\\\\\n",
       "\t  22.97 & NNE & 2019-09-28 06:06:40 & 104.62 & E   & 63.18 & 1569651260 & 188.18 & S   & 2019-09-28 06:22:05 & 2019-09-28 & 0606 & 2019-09-28 & 0622 & 08:06 & 16 & NOAA-19 & 137100000 & 28654 & 1\\\\\n",
       "\t 158.92 & SSE & 2019-09-28 18:34:55 &  81.24 & E   & 46.09 & 1569696155 &   0.89 & N   & 2019-09-28 18:50:15 & 2019-09-28 & 1834 & 2019-09-28 & 1850 & 20:34 & 16 & NOAA-19 & 137100000 & 28654 & 1\\\\\n",
       "\t  29.34 & NNE & 2019-09-29 05:55:05 & 107.83 & ESE & 47.77 & 1569736960 & 184.82 & S   & 2019-09-29 06:10:15 & 2019-09-29 & 0555 & 2019-09-29 & 0610 & 07:55 & 16 & NOAA-19 & 137100000 & 28654 & 1\\\\\n",
       "\t 155.34 & SSE & 2019-09-29 18:23:15 &  81.40 & E   & 34.93 & 1569781850 &   7.54 & N   & 2019-09-29 18:38:15 & 2019-09-29 & 1823 & 2019-09-29 & 1838 & 20:23 & 15 & NOAA-19 & 137100000 & 28654 & 1\\\\\n",
       "\t 184.23 & S   & 2019-09-29 20:04:10 & 247.34 & WSW & 23.58 & 1569787870 & 312.59 & NW  & 2019-09-29 20:18:10 & 2019-09-29 & 2004 & 2019-09-29 & 2018 & 22:04 & 14 & NOAA-19 & 137100000 & 28654 & 1\\\\\n",
       "\t  35.83 & NE  & 2019-09-30 05:43:35 & 109.60 & ESE & 36.45 & 1569822660 & 181.33 & S   & 2019-09-30 05:58:20 & 2019-09-30 & 0543 & 2019-09-30 & 0558 & 07:43 & 15 & NOAA-19 & 137100000 & 28654 & 1\\\\\n",
       "\t 340.79 & NNW & 2019-09-30 07:24:40 & 277.10 & W   & 21.74 & 1569828695 & 212.14 & SW  & 2019-09-30 07:38:35 & 2019-09-30 & 0724 & 2019-09-30 & 0738 & 09:24 & 14 & NOAA-19 & 137100000 & 28654 & 1\\\\\n",
       "\t 151.23 & SSE & 2019-09-30 18:11:45 &  83.31 & E   & 26.63 & 1569867540 &  14.45 & N   & 2019-09-30 18:26:10 & 2019-09-30 & 1811 & 2019-09-30 & 1826 & 20:11 & 15 & NOAA-19 & 137100000 & 28654 & 1\\\\\n",
       "\t 180.81 & S   & 2019-09-30 19:52:15 & 249.98 & WSW & 30.47 & 1569873575 & 319.48 & NW  & 2019-09-30 20:06:50 & 2019-09-30 & 1952 & 2019-09-30 & 2006 & 21:52 & 15 & NOAA-19 & 137100000 & 28654 & 1\\\\\n",
       "\t  42.24 & NE  & 2019-10-01 05:32:05 & 110.93 & ESE & 28.10 & 1569908360 & 178.04 & S   & 2019-10-01 05:46:30 & 2019-10-01 & 0532 & 2019-10-01 & 0546 & 07:32 & 15 & NOAA-19 & 137100000 & 28654 & 1\\\\\n",
       "\t 347.91 & N   & 2019-10-01 07:12:30 & 278.99 & W   & 28.58 & 1569914385 & 207.86 & SSW & 2019-10-01 07:27:05 & 2019-10-01 & 0712 & 2019-10-01 & 0727 & 09:12 & 15 & NOAA-19 & 137100000 & 28654 & 1\\\\\n",
       "\t 147.01 & SE  & 2019-10-01 18:00:15 &  84.78 & E   & 20.25 & 1569953230 &  21.32 & NNE & 2019-10-01 18:14:05 & 2019-10-01 & 1800 & 2019-10-01 & 1814 & 20:00 & 14 & NOAA-19 & 137100000 & 28654 & 1\\\\\n",
       "\\end{tabular}\n"
      ],
      "text/markdown": [
       "\n",
       "A tibble: 157 × 20\n",
       "\n",
       "| startAz &lt;dbl&gt; | startAzCompass &lt;chr&gt; | startUTC &lt;dttm&gt; | maxAz &lt;dbl&gt; | maxAzCompass &lt;chr&gt; | maxEl &lt;dbl&gt; | maxUTC &lt;int&gt; | endAz &lt;dbl&gt; | endAzCompass &lt;chr&gt; | endUTC &lt;dttm&gt; | startDate &lt;chr&gt; | startTime &lt;chr&gt; | endDate &lt;chr&gt; | endTime &lt;chr&gt; | localStartTime &lt;chr&gt; | duration &lt;dbl&gt; | satellite &lt;chr&gt; | frequency &lt;dbl&gt; | norad_id &lt;dbl&gt; | priority &lt;dbl&gt; |\n",
       "|---|---|---|---|---|---|---|---|---|---|---|---|---|---|---|---|---|---|---|---|\n",
       "| 178.29 | S   | 2019-09-15 19:13:55 | 252.09 | WSW | 38.58 | 1568575280 | 326.32 | NW  | 2019-09-15 19:28:35 | 2019-09-15 | 1913 | 2019-09-15 | 1928 | 21:12 | 18 | METEOR-M2 | NA | NA | NA |\n",
       "| 357.16 | N   | 2019-09-16 06:30:00 | 278.50 | W   | 43.17 | 1568615850 | 201.37 | SSW | 2019-09-16 06:45:00 | 2019-09-16 | 0630 | 2019-09-16 | 0645 | 08:29 | 18 | METEOR-M2 | NA | NA | NA |\n",
       "| 172.58 | S   | 2019-09-16 18:53:50 | 252.26 | WSW | 61.83 | 1568660490 | 337.23 | NNW | 2019-09-16 19:09:00 | 2019-09-16 | 1853 | 2019-09-16 | 1909 | 20:52 | 19 | METEOR-M2 | NA | NA | NA |\n",
       "|   7.95 | N   | 2019-09-17 06:09:55 | 279.43 | W   | 70.02 | 1568701055 | 195.31 | SSW | 2019-09-17 06:25:15 | 2019-09-17 | 0609 | 2019-09-17 | 0625 | 08:08 | 19 | METEOR-M2 | NA | NA | NA |\n",
       "| 166.97 | S   | 2019-09-17 18:33:55 |  84.80 | E   | 83.39 | 1568745700 | 347.99 | N   | 2019-09-17 18:49:15 | 2019-09-17 | 1833 | 2019-09-17 | 1849 | 20:32 | 19 | METEOR-M2 | NA | NA | NA |\n",
       "|  18.55 | NNE | 2019-09-18 05:50:00 | 101.66 | E   | 74.35 | 1568786260 | 189.53 | S   | 2019-09-18 06:05:20 | 2019-09-18 | 0550 | 2019-09-18 | 0605 | 07:49 | 18 | METEOR-M2 | NA | NA | NA |\n",
       "| 161.06 | SSE | 2019-09-18 18:14:10 |  78.16 | E   | 51.73 | 1568830910 | 358.79 | N   | 2019-09-18 18:29:15 | 2019-09-18 | 1814 | 2019-09-18 | 1829 | 20:13 | 18 | METEOR-M2 | NA | NA | NA |\n",
       "|  29.29 | NNE | 2019-09-19 05:30:25 | 105.33 | ESE | 46.31 | 1568871470 | 183.77 | S   | 2019-09-19 05:45:20 | 2019-09-19 | 0530 | 2019-09-19 | 0545 | 07:29 | 18 | METEOR-M2 | NA | NA | NA |\n",
       "| 154.74 | SSE | 2019-09-19 17:54:30 |  82.41 | E   | 32.09 | 1568916110 |  10.01 | N   | 2019-09-19 18:09:00 | 2019-09-19 | 1754 | 2019-09-19 | 1809 | 19:53 | 18 | METEOR-M2 | NA | NA | NA |\n",
       "| 184.36 | S   | 2019-09-19 19:34:45 | 249.16 | WSW | 24.17 | 1568922105 | 314.34 | NW  | 2019-09-19 19:48:35 | 2019-09-19 | 1934 | 2019-09-19 | 1948 | 21:33 | 17 | METEOR-M2 | NA | NA | NA |\n",
       "|  40.36 | NE  | 2019-09-20 05:11:00 | 108.73 | ESE | 29.51 | 1568956685 | 177.97 | S   | 2019-09-20 05:25:15 | 2019-09-20 | 0511 | 2019-09-20 | 0525 | 07:10 | 17 | METEOR-M2 | NA | NA | NA |\n",
       "| 345.44 | N   | 2019-09-20 06:51:00 | 276.48 | W   | 26.40 | 1568962690 | 208.48 | SSW | 2019-09-20 07:05:15 | 2019-09-20 | 0651 | 2019-09-20 | 0705 | 08:50 | 17 | METEOR-M2 | NA | NA | NA |\n",
       "| 147.69 | SE  | 2019-09-20 17:35:00 |  84.73 | E   | 20.13 | 1569001310 |  21.94 | NNE | 2019-09-20 17:48:30 | 2019-09-20 | 1735 | 2019-09-20 | 1748 | 19:34 | 16 | METEOR-M2 | NA | NA | NA |\n",
       "| 178.51 | S   | 2019-09-20 19:14:35 | 251.36 | WSW | 37.61 | 1569007320 | 325.70 | NW  | 2019-09-20 19:29:15 | 2019-09-20 | 1914 | 2019-09-20 | 1929 | 21:13 | 18 | METEOR-M2 | NA | NA | NA |\n",
       "| 356.67 | N   | 2019-09-21 06:30:40 | 279.60 | W   | 42.04 | 1569047890 | 201.77 | SSW | 2019-09-21 06:45:40 | 2019-09-21 | 0630 | 2019-09-21 | 0645 | 08:29 | 18 | METEOR-M2 | NA | NA | NA |\n",
       "| 172.93 | S   | 2019-09-21 18:54:35 | 255.50 | W   | 60.23 | 1569092535 | 336.62 | NNW | 2019-09-21 19:09:40 | 2019-09-21 | 1854 | 2019-09-21 | 1909 | 20:53 | 18 | METEOR-M2 | NA | NA | NA |\n",
       "|   7.40 | N   | 2019-09-22 06:10:35 | 282.43 | W   | 68.22 | 1569133095 | 195.67 | SSW | 2019-09-22 06:25:55 | 2019-09-22 | 0610 | 2019-09-22 | 0625 | 08:09 | 18 | METEOR-M2 | NA | NA | NA |\n",
       "| 167.26 | S   | 2019-09-22 18:34:40 |  66.52 | ENE | 85.37 | 1569177745 | 347.41 | N   | 2019-09-22 18:49:55 | 2019-09-22 | 1834 | 2019-09-22 | 1849 | 20:33 | 18 | METEOR-M2 | NA | NA | NA |\n",
       "|  17.99 | NNE | 2019-09-23 05:50:45 | 107.31 | ESE | 76.23 | 1569218305 | 189.85 | S   | 2019-09-23 06:06:05 | 2019-09-23 | 0550 | 2019-09-23 | 0606 | 07:49 | 19 | METEOR-M2 | NA | NA | NA |\n",
       "| 161.42 | SSE | 2019-09-23 18:14:50 |  79.27 | E   | 53.13 | 1569262950 | 358.26 | N   | 2019-09-23 18:29:55 | 2019-09-23 | 1814 | 2019-09-23 | 1829 | 20:13 | 18 | METEOR-M2 | NA | NA | NA |\n",
       "|  28.66 | NNE | 2019-09-24 05:31:05 | 106.95 | ESE | 47.51 | 1569303515 | 184.15 | S   | 2019-09-24 05:46:05 | 2019-09-24 | 0531 | 2019-09-24 | 0546 | 07:30 | 18 | METEOR-M2 | NA | NA | NA |\n",
       "| 155.14 | SSE | 2019-09-24 17:55:10 |  83.04 | E   | 32.90 | 1569348150 |   9.30 | N   | 2019-09-24 18:09:45 | 2019-09-24 | 1755 | 2019-09-24 | 1809 | 19:54 | 17 | METEOR-M2 | NA | NA | NA |\n",
       "| 184.80 | S   | 2019-09-24 19:35:30 | 248.69 | WSW | 23.59 | 1569354145 | 313.73 | NW  | 2019-09-24 19:49:15 | 2019-09-24 | 1935 | 2019-09-24 | 1949 | 21:34 | 17 | METEOR-M2 | NA | NA | NA |\n",
       "|  39.72 | NE  | 2019-09-25 05:11:40 | 109.70 | ESE | 30.21 | 1569388730 | 178.39 | S   | 2019-09-25 05:26:00 | 2019-09-25 | 0511 | 2019-09-25 | 0526 | 07:10 | 18 | METEOR-M2 | NA | NA | NA |\n",
       "| 344.76 | NNW | 2019-09-25 06:51:45 | 277.13 | W   | 25.72 | 1569394730 | 208.92 | SSW | 2019-09-25 07:05:55 | 2019-09-25 | 0651 | 2019-09-25 | 0705 | 08:50 | 17 | METEOR-M2 | NA | NA | NA |\n",
       "| 148.09 | SE  | 2019-09-25 17:35:40 |  85.06 | E   | 20.65 | 1569433350 |  21.18 | NNE | 2019-09-25 17:49:15 | 2019-09-25 | 1735 | 2019-09-25 | 1749 | 19:34 | NA | METEOR-M2 | NA | NA | NA |\n",
       "| 178.92 | S   | 2019-09-25 19:15:20 | 250.84 | WSW | 36.68 | 1569439360 | 325.10 | NW  | 2019-09-25 19:29:55 | 2019-09-25 | 1915 | 2019-09-25 | 1929 | 21:14 | NA | METEOR-M2 | NA | NA | NA |\n",
       "| 356.00 | N   | 2019-09-26 06:31:25 | 280.41 | W   | 40.93 | 1569479930 | 202.16 | SSW | 2019-09-26 06:46:20 | 2019-09-26 | 0631 | 2019-09-26 | 0646 | 08:30 | NA | METEOR-M2 | NA | NA | NA |\n",
       "| 148.09 | SE  | 2019-09-25 17:35:40 |  85.06 | E   | 20.65 | 1569433350 |  21.18 | NNE | 2019-09-25 17:49:15 | 2019-09-25 | 1735 | 2019-09-25 | 1749 | 19:34 | NA | METEOR-M2 | NA | NA | NA |\n",
       "| 178.92 | S   | 2019-09-25 19:15:20 | 250.84 | WSW | 36.68 | 1569439360 | 325.10 | NW  | 2019-09-25 19:29:55 | 2019-09-25 | 1915 | 2019-09-25 | 1929 | 21:14 | NA | METEOR-M2 | NA | NA | NA |\n",
       "| ⋮ | ⋮ | ⋮ | ⋮ | ⋮ | ⋮ | ⋮ | ⋮ | ⋮ | ⋮ | ⋮ | ⋮ | ⋮ | ⋮ | ⋮ | ⋮ | ⋮ | ⋮ | ⋮ | ⋮ |\n",
       "| 347.91 | N   | 2019-10-01 07:12:30 | 278.99 | W   | 28.58 | 1569914385 | 207.86 | SSW | 2019-10-01 07:27:05 | 2019-10-01 | 0712 | 2019-10-01 | 0727 | 09:12 | 15 | NOAA-18 | 137912500 | 28654 | 2 |\n",
       "| 147.01 | SE  | 2019-10-01 18:00:15 |  84.78 | E   | 20.25 | 1569953230 |  21.32 | NNE | 2019-10-01 18:14:05 | 2019-10-01 | 1800 | 2019-10-01 | 1814 | 20:00 | 14 | NOAA-18 | 137912500 | 28654 | 2 |\n",
       "| 182.55 | S   | 2019-09-21 19:57:25 | 248.59 | WSW | 26.60 | 1569096275 | 315.86 | NW  | 2019-09-21 20:11:40 | 2019-09-21 | 1957 | 2019-09-21 | 2011 | 21:57 | 15 | NOAA-19 | 137100000 | 28654 | 1 |\n",
       "|  38.87 | NE  | 2019-09-22 05:37:00 | 109.28 | ESE | 32.17 | 1569131060 | 179.79 | S   | 2019-09-22 05:51:40 | 2019-09-22 | 0537 | 2019-09-22 | 0551 | 07:37 | 15 | NOAA-19 | 137100000 | 28654 | 1 |\n",
       "| 344.42 | NNW | 2019-09-22 07:17:45 | 277.34 | W   | 24.93 | 1569137095 | 209.92 | SSW | 2019-09-22 07:32:05 | 2019-09-22 | 0717 | 2019-09-22 | 0732 | 09:17 | 15 | NOAA-19 | 137100000 | 28654 | 1 |\n",
       "| 149.35 | SE  | 2019-09-22 18:05:10 |  83.38 | E   | 23.23 | 1569175940 |  17.79 | NNE | 2019-09-22 18:19:20 | 2019-09-22 | 1805 | 2019-09-22 | 1819 | 20:05 | 15 | NOAA-19 | 137100000 | 28654 | 1 |\n",
       "| 179.12 | S   | 2019-09-22 19:45:30 | 249.75 | WSW | 34.45 | 1569181975 | 322.54 | NW  | 2019-09-22 20:00:15 | 2019-09-22 | 1945 | 2019-09-22 | 2000 | 21:45 | 15 | NOAA-19 | 137100000 | 28654 | 1 |\n",
       "|  45.72 | NE  | 2019-09-23 05:25:40 | 110.67 | ESE | 24.87 | 1569216760 | 176.31 | S   | 2019-09-23 05:39:45 | 2019-09-23 | 0525 | 2019-09-23 | 0539 | 07:25 | 15 | NOAA-19 | 137100000 | 28654 | 1 |\n",
       "| 351.24 | N   | 2019-09-23 07:05:40 | 279.42 | W   | 32.71 | 1569222785 | 205.98 | SSW | 2019-09-23 07:20:30 | 2019-09-23 | 0705 | 2019-09-23 | 0720 | 09:05 | 15 | NOAA-19 | 137100000 | 28654 | 1 |\n",
       "| 175.85 | S   | 2019-09-23 19:33:40 | 251.18 | WSW | 45.00 | 1569267675 | 329.22 | NW  | 2019-09-23 19:48:50 | 2019-09-23 | 1933 | 2019-09-23 | 1948 | 21:33 | 16 | NOAA-19 | 137100000 | 28654 | 1 |\n",
       "| 357.66 | N   | 2019-09-24 06:53:45 | 280.00 | W   | 43.13 | 1569308480 | 202.10 | SSW | 2019-09-24 07:08:55 | 2019-09-24 | 0653 | 2019-09-24 | 0708 | 08:53 | 16 | NOAA-19 | 137100000 | 28654 | 1 |\n",
       "| 172.53 | S   | 2019-09-24 19:21:50 | 253.41 | WSW | 59.40 | 1569353375 | 335.58 | NNW | 2019-09-24 19:37:15 | 2019-09-24 | 1921 | 2019-09-24 | 1937 | 21:21 | 16 | NOAA-19 | 137100000 | 28654 | 1 |\n",
       "|   4.11 | N   | 2019-09-25 06:41:50 | 280.41 | W   | 57.32 | 1569394175 | 198.47 | SSW | 2019-09-25 06:57:15 | 2019-09-25 | 0641 | 2019-09-25 | 0657 | 08:41 | 16 | NOAA-19 | 137100000 | 28654 | 1 |\n",
       "| 169.22 | S   | 2019-09-25 19:10:00 | 260.80 | W   | 78.11 | 1569439075 | 341.89 | NNW | 2019-09-25 19:25:35 | 2019-09-25 | 1910 | 2019-09-25 | 1925 | 21:10 | 16 | NOAA-19 | 137100000 | 28654 | 1 |\n",
       "|  10.42 | N   | 2019-09-26 06:30:00 | 279.84 | W   | 75.91 | 1569479870 | 194.93 | S   | 2019-09-26 06:45:35 | 2019-09-26 | 0630 | 2019-09-26 | 0645 | 08:30 | 16 | NOAA-19 | 137100000 | 28654 | 1 |\n",
       "| 165.90 | S   | 2019-09-26 18:58:15 |  73.25 | ENE | 80.65 | 1569524770 | 348.19 | N   | 2019-09-26 19:13:55 | 2019-09-26 | 1858 | 2019-09-26 | 1913 | 20:58 | 16 | NOAA-19 | 137100000 | 28654 | 1 |\n",
       "|  16.66 | NNE | 2019-09-27 06:18:15 | 107.13 | ESE | 82.84 | 1569565565 | 191.52 | S   | 2019-09-27 06:33:50 | 2019-09-27 | 0618 | 2019-09-27 | 0633 | 08:18 | 16 | NOAA-19 | 137100000 | 28654 | 1 |\n",
       "| 162.46 | SSE | 2019-09-27 18:46:35 |  77.20 | E   | 61.25 | 1569610465 | 354.54 | N   | 2019-09-27 19:02:05 | 2019-09-27 | 1846 | 2019-09-27 | 1902 | 20:46 | 16 | NOAA-19 | 137100000 | 28654 | 1 |\n",
       "|  22.97 | NNE | 2019-09-28 06:06:40 | 104.62 | E   | 63.18 | 1569651260 | 188.18 | S   | 2019-09-28 06:22:05 | 2019-09-28 | 0606 | 2019-09-28 | 0622 | 08:06 | 16 | NOAA-19 | 137100000 | 28654 | 1 |\n",
       "| 158.92 | SSE | 2019-09-28 18:34:55 |  81.24 | E   | 46.09 | 1569696155 |   0.89 | N   | 2019-09-28 18:50:15 | 2019-09-28 | 1834 | 2019-09-28 | 1850 | 20:34 | 16 | NOAA-19 | 137100000 | 28654 | 1 |\n",
       "|  29.34 | NNE | 2019-09-29 05:55:05 | 107.83 | ESE | 47.77 | 1569736960 | 184.82 | S   | 2019-09-29 06:10:15 | 2019-09-29 | 0555 | 2019-09-29 | 0610 | 07:55 | 16 | NOAA-19 | 137100000 | 28654 | 1 |\n",
       "| 155.34 | SSE | 2019-09-29 18:23:15 |  81.40 | E   | 34.93 | 1569781850 |   7.54 | N   | 2019-09-29 18:38:15 | 2019-09-29 | 1823 | 2019-09-29 | 1838 | 20:23 | 15 | NOAA-19 | 137100000 | 28654 | 1 |\n",
       "| 184.23 | S   | 2019-09-29 20:04:10 | 247.34 | WSW | 23.58 | 1569787870 | 312.59 | NW  | 2019-09-29 20:18:10 | 2019-09-29 | 2004 | 2019-09-29 | 2018 | 22:04 | 14 | NOAA-19 | 137100000 | 28654 | 1 |\n",
       "|  35.83 | NE  | 2019-09-30 05:43:35 | 109.60 | ESE | 36.45 | 1569822660 | 181.33 | S   | 2019-09-30 05:58:20 | 2019-09-30 | 0543 | 2019-09-30 | 0558 | 07:43 | 15 | NOAA-19 | 137100000 | 28654 | 1 |\n",
       "| 340.79 | NNW | 2019-09-30 07:24:40 | 277.10 | W   | 21.74 | 1569828695 | 212.14 | SW  | 2019-09-30 07:38:35 | 2019-09-30 | 0724 | 2019-09-30 | 0738 | 09:24 | 14 | NOAA-19 | 137100000 | 28654 | 1 |\n",
       "| 151.23 | SSE | 2019-09-30 18:11:45 |  83.31 | E   | 26.63 | 1569867540 |  14.45 | N   | 2019-09-30 18:26:10 | 2019-09-30 | 1811 | 2019-09-30 | 1826 | 20:11 | 15 | NOAA-19 | 137100000 | 28654 | 1 |\n",
       "| 180.81 | S   | 2019-09-30 19:52:15 | 249.98 | WSW | 30.47 | 1569873575 | 319.48 | NW  | 2019-09-30 20:06:50 | 2019-09-30 | 1952 | 2019-09-30 | 2006 | 21:52 | 15 | NOAA-19 | 137100000 | 28654 | 1 |\n",
       "|  42.24 | NE  | 2019-10-01 05:32:05 | 110.93 | ESE | 28.10 | 1569908360 | 178.04 | S   | 2019-10-01 05:46:30 | 2019-10-01 | 0532 | 2019-10-01 | 0546 | 07:32 | 15 | NOAA-19 | 137100000 | 28654 | 1 |\n",
       "| 347.91 | N   | 2019-10-01 07:12:30 | 278.99 | W   | 28.58 | 1569914385 | 207.86 | SSW | 2019-10-01 07:27:05 | 2019-10-01 | 0712 | 2019-10-01 | 0727 | 09:12 | 15 | NOAA-19 | 137100000 | 28654 | 1 |\n",
       "| 147.01 | SE  | 2019-10-01 18:00:15 |  84.78 | E   | 20.25 | 1569953230 |  21.32 | NNE | 2019-10-01 18:14:05 | 2019-10-01 | 1800 | 2019-10-01 | 1814 | 20:00 | 14 | NOAA-19 | 137100000 | 28654 | 1 |\n",
       "\n"
      ],
      "text/plain": [
       "    startAz startAzCompass startUTC            maxAz  maxAzCompass maxEl\n",
       "1   178.29  S              2019-09-15 19:13:55 252.09 WSW          38.58\n",
       "2   357.16  N              2019-09-16 06:30:00 278.50 W            43.17\n",
       "3   172.58  S              2019-09-16 18:53:50 252.26 WSW          61.83\n",
       "4     7.95  N              2019-09-17 06:09:55 279.43 W            70.02\n",
       "5   166.97  S              2019-09-17 18:33:55  84.80 E            83.39\n",
       "6    18.55  NNE            2019-09-18 05:50:00 101.66 E            74.35\n",
       "7   161.06  SSE            2019-09-18 18:14:10  78.16 E            51.73\n",
       "8    29.29  NNE            2019-09-19 05:30:25 105.33 ESE          46.31\n",
       "9   154.74  SSE            2019-09-19 17:54:30  82.41 E            32.09\n",
       "10  184.36  S              2019-09-19 19:34:45 249.16 WSW          24.17\n",
       "11   40.36  NE             2019-09-20 05:11:00 108.73 ESE          29.51\n",
       "12  345.44  N              2019-09-20 06:51:00 276.48 W            26.40\n",
       "13  147.69  SE             2019-09-20 17:35:00  84.73 E            20.13\n",
       "14  178.51  S              2019-09-20 19:14:35 251.36 WSW          37.61\n",
       "15  356.67  N              2019-09-21 06:30:40 279.60 W            42.04\n",
       "16  172.93  S              2019-09-21 18:54:35 255.50 W            60.23\n",
       "17    7.40  N              2019-09-22 06:10:35 282.43 W            68.22\n",
       "18  167.26  S              2019-09-22 18:34:40  66.52 ENE          85.37\n",
       "19   17.99  NNE            2019-09-23 05:50:45 107.31 ESE          76.23\n",
       "20  161.42  SSE            2019-09-23 18:14:50  79.27 E            53.13\n",
       "21   28.66  NNE            2019-09-24 05:31:05 106.95 ESE          47.51\n",
       "22  155.14  SSE            2019-09-24 17:55:10  83.04 E            32.90\n",
       "23  184.80  S              2019-09-24 19:35:30 248.69 WSW          23.59\n",
       "24   39.72  NE             2019-09-25 05:11:40 109.70 ESE          30.21\n",
       "25  344.76  NNW            2019-09-25 06:51:45 277.13 W            25.72\n",
       "26  148.09  SE             2019-09-25 17:35:40  85.06 E            20.65\n",
       "27  178.92  S              2019-09-25 19:15:20 250.84 WSW          36.68\n",
       "28  356.00  N              2019-09-26 06:31:25 280.41 W            40.93\n",
       "29  148.09  SE             2019-09-25 17:35:40  85.06 E            20.65\n",
       "30  178.92  S              2019-09-25 19:15:20 250.84 WSW          36.68\n",
       "⋮   ⋮       ⋮              ⋮                   ⋮      ⋮            ⋮    \n",
       "128 347.91  N              2019-10-01 07:12:30 278.99 W            28.58\n",
       "129 147.01  SE             2019-10-01 18:00:15  84.78 E            20.25\n",
       "130 182.55  S              2019-09-21 19:57:25 248.59 WSW          26.60\n",
       "131  38.87  NE             2019-09-22 05:37:00 109.28 ESE          32.17\n",
       "132 344.42  NNW            2019-09-22 07:17:45 277.34 W            24.93\n",
       "133 149.35  SE             2019-09-22 18:05:10  83.38 E            23.23\n",
       "134 179.12  S              2019-09-22 19:45:30 249.75 WSW          34.45\n",
       "135  45.72  NE             2019-09-23 05:25:40 110.67 ESE          24.87\n",
       "136 351.24  N              2019-09-23 07:05:40 279.42 W            32.71\n",
       "137 175.85  S              2019-09-23 19:33:40 251.18 WSW          45.00\n",
       "138 357.66  N              2019-09-24 06:53:45 280.00 W            43.13\n",
       "139 172.53  S              2019-09-24 19:21:50 253.41 WSW          59.40\n",
       "140   4.11  N              2019-09-25 06:41:50 280.41 W            57.32\n",
       "141 169.22  S              2019-09-25 19:10:00 260.80 W            78.11\n",
       "142  10.42  N              2019-09-26 06:30:00 279.84 W            75.91\n",
       "143 165.90  S              2019-09-26 18:58:15  73.25 ENE          80.65\n",
       "144  16.66  NNE            2019-09-27 06:18:15 107.13 ESE          82.84\n",
       "145 162.46  SSE            2019-09-27 18:46:35  77.20 E            61.25\n",
       "146  22.97  NNE            2019-09-28 06:06:40 104.62 E            63.18\n",
       "147 158.92  SSE            2019-09-28 18:34:55  81.24 E            46.09\n",
       "148  29.34  NNE            2019-09-29 05:55:05 107.83 ESE          47.77\n",
       "149 155.34  SSE            2019-09-29 18:23:15  81.40 E            34.93\n",
       "150 184.23  S              2019-09-29 20:04:10 247.34 WSW          23.58\n",
       "151  35.83  NE             2019-09-30 05:43:35 109.60 ESE          36.45\n",
       "152 340.79  NNW            2019-09-30 07:24:40 277.10 W            21.74\n",
       "153 151.23  SSE            2019-09-30 18:11:45  83.31 E            26.63\n",
       "154 180.81  S              2019-09-30 19:52:15 249.98 WSW          30.47\n",
       "155  42.24  NE             2019-10-01 05:32:05 110.93 ESE          28.10\n",
       "156 347.91  N              2019-10-01 07:12:30 278.99 W            28.58\n",
       "157 147.01  SE             2019-10-01 18:00:15  84.78 E            20.25\n",
       "    maxUTC     endAz  endAzCompass endUTC              startDate  startTime\n",
       "1   1568575280 326.32 NW           2019-09-15 19:28:35 2019-09-15 1913     \n",
       "2   1568615850 201.37 SSW          2019-09-16 06:45:00 2019-09-16 0630     \n",
       "3   1568660490 337.23 NNW          2019-09-16 19:09:00 2019-09-16 1853     \n",
       "4   1568701055 195.31 SSW          2019-09-17 06:25:15 2019-09-17 0609     \n",
       "5   1568745700 347.99 N            2019-09-17 18:49:15 2019-09-17 1833     \n",
       "6   1568786260 189.53 S            2019-09-18 06:05:20 2019-09-18 0550     \n",
       "7   1568830910 358.79 N            2019-09-18 18:29:15 2019-09-18 1814     \n",
       "8   1568871470 183.77 S            2019-09-19 05:45:20 2019-09-19 0530     \n",
       "9   1568916110  10.01 N            2019-09-19 18:09:00 2019-09-19 1754     \n",
       "10  1568922105 314.34 NW           2019-09-19 19:48:35 2019-09-19 1934     \n",
       "11  1568956685 177.97 S            2019-09-20 05:25:15 2019-09-20 0511     \n",
       "12  1568962690 208.48 SSW          2019-09-20 07:05:15 2019-09-20 0651     \n",
       "13  1569001310  21.94 NNE          2019-09-20 17:48:30 2019-09-20 1735     \n",
       "14  1569007320 325.70 NW           2019-09-20 19:29:15 2019-09-20 1914     \n",
       "15  1569047890 201.77 SSW          2019-09-21 06:45:40 2019-09-21 0630     \n",
       "16  1569092535 336.62 NNW          2019-09-21 19:09:40 2019-09-21 1854     \n",
       "17  1569133095 195.67 SSW          2019-09-22 06:25:55 2019-09-22 0610     \n",
       "18  1569177745 347.41 N            2019-09-22 18:49:55 2019-09-22 1834     \n",
       "19  1569218305 189.85 S            2019-09-23 06:06:05 2019-09-23 0550     \n",
       "20  1569262950 358.26 N            2019-09-23 18:29:55 2019-09-23 1814     \n",
       "21  1569303515 184.15 S            2019-09-24 05:46:05 2019-09-24 0531     \n",
       "22  1569348150   9.30 N            2019-09-24 18:09:45 2019-09-24 1755     \n",
       "23  1569354145 313.73 NW           2019-09-24 19:49:15 2019-09-24 1935     \n",
       "24  1569388730 178.39 S            2019-09-25 05:26:00 2019-09-25 0511     \n",
       "25  1569394730 208.92 SSW          2019-09-25 07:05:55 2019-09-25 0651     \n",
       "26  1569433350  21.18 NNE          2019-09-25 17:49:15 2019-09-25 1735     \n",
       "27  1569439360 325.10 NW           2019-09-25 19:29:55 2019-09-25 1915     \n",
       "28  1569479930 202.16 SSW          2019-09-26 06:46:20 2019-09-26 0631     \n",
       "29  1569433350  21.18 NNE          2019-09-25 17:49:15 2019-09-25 1735     \n",
       "30  1569439360 325.10 NW           2019-09-25 19:29:55 2019-09-25 1915     \n",
       "⋮   ⋮          ⋮      ⋮            ⋮                   ⋮          ⋮        \n",
       "128 1569914385 207.86 SSW          2019-10-01 07:27:05 2019-10-01 0712     \n",
       "129 1569953230  21.32 NNE          2019-10-01 18:14:05 2019-10-01 1800     \n",
       "130 1569096275 315.86 NW           2019-09-21 20:11:40 2019-09-21 1957     \n",
       "131 1569131060 179.79 S            2019-09-22 05:51:40 2019-09-22 0537     \n",
       "132 1569137095 209.92 SSW          2019-09-22 07:32:05 2019-09-22 0717     \n",
       "133 1569175940  17.79 NNE          2019-09-22 18:19:20 2019-09-22 1805     \n",
       "134 1569181975 322.54 NW           2019-09-22 20:00:15 2019-09-22 1945     \n",
       "135 1569216760 176.31 S            2019-09-23 05:39:45 2019-09-23 0525     \n",
       "136 1569222785 205.98 SSW          2019-09-23 07:20:30 2019-09-23 0705     \n",
       "137 1569267675 329.22 NW           2019-09-23 19:48:50 2019-09-23 1933     \n",
       "138 1569308480 202.10 SSW          2019-09-24 07:08:55 2019-09-24 0653     \n",
       "139 1569353375 335.58 NNW          2019-09-24 19:37:15 2019-09-24 1921     \n",
       "140 1569394175 198.47 SSW          2019-09-25 06:57:15 2019-09-25 0641     \n",
       "141 1569439075 341.89 NNW          2019-09-25 19:25:35 2019-09-25 1910     \n",
       "142 1569479870 194.93 S            2019-09-26 06:45:35 2019-09-26 0630     \n",
       "143 1569524770 348.19 N            2019-09-26 19:13:55 2019-09-26 1858     \n",
       "144 1569565565 191.52 S            2019-09-27 06:33:50 2019-09-27 0618     \n",
       "145 1569610465 354.54 N            2019-09-27 19:02:05 2019-09-27 1846     \n",
       "146 1569651260 188.18 S            2019-09-28 06:22:05 2019-09-28 0606     \n",
       "147 1569696155   0.89 N            2019-09-28 18:50:15 2019-09-28 1834     \n",
       "148 1569736960 184.82 S            2019-09-29 06:10:15 2019-09-29 0555     \n",
       "149 1569781850   7.54 N            2019-09-29 18:38:15 2019-09-29 1823     \n",
       "150 1569787870 312.59 NW           2019-09-29 20:18:10 2019-09-29 2004     \n",
       "151 1569822660 181.33 S            2019-09-30 05:58:20 2019-09-30 0543     \n",
       "152 1569828695 212.14 SW           2019-09-30 07:38:35 2019-09-30 0724     \n",
       "153 1569867540  14.45 N            2019-09-30 18:26:10 2019-09-30 1811     \n",
       "154 1569873575 319.48 NW           2019-09-30 20:06:50 2019-09-30 1952     \n",
       "155 1569908360 178.04 S            2019-10-01 05:46:30 2019-10-01 0532     \n",
       "156 1569914385 207.86 SSW          2019-10-01 07:27:05 2019-10-01 0712     \n",
       "157 1569953230  21.32 NNE          2019-10-01 18:14:05 2019-10-01 1800     \n",
       "    endDate    endTime localStartTime duration satellite frequency norad_id\n",
       "1   2019-09-15 1928    21:12          18       METEOR-M2 NA        NA      \n",
       "2   2019-09-16 0645    08:29          18       METEOR-M2 NA        NA      \n",
       "3   2019-09-16 1909    20:52          19       METEOR-M2 NA        NA      \n",
       "4   2019-09-17 0625    08:08          19       METEOR-M2 NA        NA      \n",
       "5   2019-09-17 1849    20:32          19       METEOR-M2 NA        NA      \n",
       "6   2019-09-18 0605    07:49          18       METEOR-M2 NA        NA      \n",
       "7   2019-09-18 1829    20:13          18       METEOR-M2 NA        NA      \n",
       "8   2019-09-19 0545    07:29          18       METEOR-M2 NA        NA      \n",
       "9   2019-09-19 1809    19:53          18       METEOR-M2 NA        NA      \n",
       "10  2019-09-19 1948    21:33          17       METEOR-M2 NA        NA      \n",
       "11  2019-09-20 0525    07:10          17       METEOR-M2 NA        NA      \n",
       "12  2019-09-20 0705    08:50          17       METEOR-M2 NA        NA      \n",
       "13  2019-09-20 1748    19:34          16       METEOR-M2 NA        NA      \n",
       "14  2019-09-20 1929    21:13          18       METEOR-M2 NA        NA      \n",
       "15  2019-09-21 0645    08:29          18       METEOR-M2 NA        NA      \n",
       "16  2019-09-21 1909    20:53          18       METEOR-M2 NA        NA      \n",
       "17  2019-09-22 0625    08:09          18       METEOR-M2 NA        NA      \n",
       "18  2019-09-22 1849    20:33          18       METEOR-M2 NA        NA      \n",
       "19  2019-09-23 0606    07:49          19       METEOR-M2 NA        NA      \n",
       "20  2019-09-23 1829    20:13          18       METEOR-M2 NA        NA      \n",
       "21  2019-09-24 0546    07:30          18       METEOR-M2 NA        NA      \n",
       "22  2019-09-24 1809    19:54          17       METEOR-M2 NA        NA      \n",
       "23  2019-09-24 1949    21:34          17       METEOR-M2 NA        NA      \n",
       "24  2019-09-25 0526    07:10          18       METEOR-M2 NA        NA      \n",
       "25  2019-09-25 0705    08:50          17       METEOR-M2 NA        NA      \n",
       "26  2019-09-25 1749    19:34          NA       METEOR-M2 NA        NA      \n",
       "27  2019-09-25 1929    21:14          NA       METEOR-M2 NA        NA      \n",
       "28  2019-09-26 0646    08:30          NA       METEOR-M2 NA        NA      \n",
       "29  2019-09-25 1749    19:34          NA       METEOR-M2 NA        NA      \n",
       "30  2019-09-25 1929    21:14          NA       METEOR-M2 NA        NA      \n",
       "⋮   ⋮          ⋮       ⋮              ⋮        ⋮         ⋮         ⋮       \n",
       "128 2019-10-01 0727    09:12          15       NOAA-18   137912500 28654   \n",
       "129 2019-10-01 1814    20:00          14       NOAA-18   137912500 28654   \n",
       "130 2019-09-21 2011    21:57          15       NOAA-19   137100000 28654   \n",
       "131 2019-09-22 0551    07:37          15       NOAA-19   137100000 28654   \n",
       "132 2019-09-22 0732    09:17          15       NOAA-19   137100000 28654   \n",
       "133 2019-09-22 1819    20:05          15       NOAA-19   137100000 28654   \n",
       "134 2019-09-22 2000    21:45          15       NOAA-19   137100000 28654   \n",
       "135 2019-09-23 0539    07:25          15       NOAA-19   137100000 28654   \n",
       "136 2019-09-23 0720    09:05          15       NOAA-19   137100000 28654   \n",
       "137 2019-09-23 1948    21:33          16       NOAA-19   137100000 28654   \n",
       "138 2019-09-24 0708    08:53          16       NOAA-19   137100000 28654   \n",
       "139 2019-09-24 1937    21:21          16       NOAA-19   137100000 28654   \n",
       "140 2019-09-25 0657    08:41          16       NOAA-19   137100000 28654   \n",
       "141 2019-09-25 1925    21:10          16       NOAA-19   137100000 28654   \n",
       "142 2019-09-26 0645    08:30          16       NOAA-19   137100000 28654   \n",
       "143 2019-09-26 1913    20:58          16       NOAA-19   137100000 28654   \n",
       "144 2019-09-27 0633    08:18          16       NOAA-19   137100000 28654   \n",
       "145 2019-09-27 1902    20:46          16       NOAA-19   137100000 28654   \n",
       "146 2019-09-28 0622    08:06          16       NOAA-19   137100000 28654   \n",
       "147 2019-09-28 1850    20:34          16       NOAA-19   137100000 28654   \n",
       "148 2019-09-29 0610    07:55          16       NOAA-19   137100000 28654   \n",
       "149 2019-09-29 1838    20:23          15       NOAA-19   137100000 28654   \n",
       "150 2019-09-29 2018    22:04          14       NOAA-19   137100000 28654   \n",
       "151 2019-09-30 0558    07:43          15       NOAA-19   137100000 28654   \n",
       "152 2019-09-30 0738    09:24          14       NOAA-19   137100000 28654   \n",
       "153 2019-09-30 1826    20:11          15       NOAA-19   137100000 28654   \n",
       "154 2019-09-30 2006    21:52          15       NOAA-19   137100000 28654   \n",
       "155 2019-10-01 0546    07:32          15       NOAA-19   137100000 28654   \n",
       "156 2019-10-01 0727    09:12          15       NOAA-19   137100000 28654   \n",
       "157 2019-10-01 1814    20:00          14       NOAA-19   137100000 28654   \n",
       "    priority\n",
       "1   NA      \n",
       "2   NA      \n",
       "3   NA      \n",
       "4   NA      \n",
       "5   NA      \n",
       "6   NA      \n",
       "7   NA      \n",
       "8   NA      \n",
       "9   NA      \n",
       "10  NA      \n",
       "11  NA      \n",
       "12  NA      \n",
       "13  NA      \n",
       "14  NA      \n",
       "15  NA      \n",
       "16  NA      \n",
       "17  NA      \n",
       "18  NA      \n",
       "19  NA      \n",
       "20  NA      \n",
       "21  NA      \n",
       "22  NA      \n",
       "23  NA      \n",
       "24  NA      \n",
       "25  NA      \n",
       "26  NA      \n",
       "27  NA      \n",
       "28  NA      \n",
       "29  NA      \n",
       "30  NA      \n",
       "⋮   ⋮       \n",
       "128 2       \n",
       "129 2       \n",
       "130 1       \n",
       "131 1       \n",
       "132 1       \n",
       "133 1       \n",
       "134 1       \n",
       "135 1       \n",
       "136 1       \n",
       "137 1       \n",
       "138 1       \n",
       "139 1       \n",
       "140 1       \n",
       "141 1       \n",
       "142 1       \n",
       "143 1       \n",
       "144 1       \n",
       "145 1       \n",
       "146 1       \n",
       "147 1       \n",
       "148 1       \n",
       "149 1       \n",
       "150 1       \n",
       "151 1       \n",
       "152 1       \n",
       "153 1       \n",
       "154 1       \n",
       "155 1       \n",
       "156 1       \n",
       "157 1       "
      ]
     },
     "metadata": {},
     "output_type": "display_data"
    }
   ],
   "source": [
    "satellite_data_df"
   ]
  },
  {
   "cell_type": "code",
   "execution_count": 35,
   "metadata": {},
   "outputs": [],
   "source": [
    "saveRDS(satellite_data_df, \"satellite_data_df.rds\")"
   ]
  }
 ],
 "metadata": {
  "kernelspec": {
   "display_name": "R",
   "language": "R",
   "name": "ir"
  },
  "language_info": {
   "codemirror_mode": "r",
   "file_extension": ".r",
   "mimetype": "text/x-r-source",
   "name": "R",
   "pygments_lexer": "r",
   "version": "3.6.0"
  }
 },
 "nbformat": 4,
 "nbformat_minor": 2
}
