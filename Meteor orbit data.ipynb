{
 "cells": [
  {
   "cell_type": "markdown",
   "metadata": {},
   "source": [
    "# Download Meteor M2 satellite info and calculate times for recording"
   ]
  },
  {
   "cell_type": "markdown",
   "metadata": {},
   "source": [
    "Requires an API key for n2yo.com and username for geonames.org"
   ]
  },
  {
   "cell_type": "code",
   "execution_count": 1,
   "metadata": {},
   "outputs": [
    {
     "name": "stderr",
     "output_type": "stream",
     "text": [
      "Registered S3 methods overwritten by 'ggplot2':\n",
      "  method         from \n",
      "  [.quosures     rlang\n",
      "  c.quosures     rlang\n",
      "  print.quosures rlang\n",
      "── \u001b[1mAttaching packages\u001b[22m ─────────────────────────────────────── tidyverse 1.2.1 ──\n",
      "\u001b[32m✔\u001b[39m \u001b[34mggplot2\u001b[39m 3.1.1     \u001b[32m✔\u001b[39m \u001b[34mpurrr  \u001b[39m 0.3.2\n",
      "\u001b[32m✔\u001b[39m \u001b[34mtibble \u001b[39m 2.1.3     \u001b[32m✔\u001b[39m \u001b[34mdplyr  \u001b[39m 0.8.3\n",
      "\u001b[32m✔\u001b[39m \u001b[34mtidyr  \u001b[39m 0.8.3     \u001b[32m✔\u001b[39m \u001b[34mstringr\u001b[39m 1.4.0\n",
      "\u001b[32m✔\u001b[39m \u001b[34mreadr  \u001b[39m 1.3.1     \u001b[32m✔\u001b[39m \u001b[34mforcats\u001b[39m 0.4.0\n",
      "── \u001b[1mConflicts\u001b[22m ────────────────────────────────────────── tidyverse_conflicts() ──\n",
      "\u001b[31m✖\u001b[39m \u001b[34mdplyr\u001b[39m::\u001b[32mfilter()\u001b[39m masks \u001b[34mstats\u001b[39m::filter()\n",
      "\u001b[31m✖\u001b[39m \u001b[34mdplyr\u001b[39m::\u001b[32mlag()\u001b[39m    masks \u001b[34mstats\u001b[39m::lag()\n"
     ]
    }
   ],
   "source": [
    "library(tidyverse)"
   ]
  },
  {
   "cell_type": "code",
   "execution_count": 2,
   "metadata": {},
   "outputs": [],
   "source": [
    "library(httr)"
   ]
  },
  {
   "cell_type": "code",
   "execution_count": 3,
   "metadata": {},
   "outputs": [
    {
     "name": "stderr",
     "output_type": "stream",
     "text": [
      "\n",
      "Attaching package: ‘lubridate’\n",
      "\n",
      "The following object is masked from ‘package:base’:\n",
      "\n",
      "    date\n",
      "\n"
     ]
    }
   ],
   "source": [
    "library(lubridate)"
   ]
  },
  {
   "cell_type": "code",
   "execution_count": 4,
   "metadata": {},
   "outputs": [
    {
     "name": "stderr",
     "output_type": "stream",
     "text": [
      "\n",
      "Attaching package: ‘jsonlite’\n",
      "\n",
      "The following object is masked from ‘package:purrr’:\n",
      "\n",
      "    flatten\n",
      "\n"
     ]
    }
   ],
   "source": [
    "library(jsonlite)"
   ]
  },
  {
   "cell_type": "code",
   "execution_count": 5,
   "metadata": {},
   "outputs": [
    {
     "name": "stderr",
     "output_type": "stream",
     "text": [
      "\n",
      "Attaching package: ‘assertthat’\n",
      "\n",
      "The following object is masked from ‘package:tibble’:\n",
      "\n",
      "    has_name\n",
      "\n"
     ]
    }
   ],
   "source": [
    "library(assertthat)"
   ]
  },
  {
   "cell_type": "code",
   "execution_count": 6,
   "metadata": {},
   "outputs": [
    {
     "data": {
      "text/html": [
       "<span style=white-space:pre-wrap>'Running at  2019-09-15 15:14:50 GMT'</span>"
      ],
      "text/latex": [
       "'Running at  2019-09-15 15:14:50 GMT'"
      ],
      "text/markdown": [
       "<span style=white-space:pre-wrap>'Running at  2019-09-15 15:14:50 GMT'</span>"
      ],
      "text/plain": [
       "[1] \"Running at  2019-09-15 15:14:50 GMT\""
      ]
     },
     "metadata": {},
     "output_type": "display_data"
    }
   ],
   "source": [
    "paste(\"Running at \", Sys.time() %>% .POSIXct(\"GMT\"), \"GMT\")"
   ]
  },
  {
   "cell_type": "markdown",
   "metadata": {},
   "source": [
    "# Helper functions"
   ]
  },
  {
   "cell_type": "code",
   "execution_count": 7,
   "metadata": {},
   "outputs": [],
   "source": [
    "possibly_get_data <- function(url, n_tries, ...){\n",
    "\n",
    "    rate <- rate_backoff(pause_base = 1, max_times = n_tries)\n",
    "    possibly_insistent_get <- insistently(GET, rate, quiet = FALSE) %>% possibly(otherwise = NULL)\n",
    "\n",
    "    possibly_insistent_get(url, ...)\n",
    "}"
   ]
  },
  {
   "cell_type": "markdown",
   "metadata": {},
   "source": [
    "# Config"
   ]
  },
  {
   "cell_type": "markdown",
   "metadata": {},
   "source": [
    "What satellite are we trying to get orbital data for?"
   ]
  },
  {
   "cell_type": "code",
   "execution_count": 8,
   "metadata": {},
   "outputs": [],
   "source": [
    "satellite_id <- \"METEOR-M2\""
   ]
  },
  {
   "cell_type": "code",
   "execution_count": 9,
   "metadata": {},
   "outputs": [],
   "source": [
    "satellite_norad_id <- 40069"
   ]
  },
  {
   "cell_type": "markdown",
   "metadata": {},
   "source": [
    "API key for n2yo.com"
   ]
  },
  {
   "cell_type": "code",
   "execution_count": 10,
   "metadata": {},
   "outputs": [],
   "source": [
    "n2yo_api_key <- \"&apiKey=CL4ZW2-LEYV8F-XRA2PC-46TQ\""
   ]
  },
  {
   "cell_type": "markdown",
   "metadata": {},
   "source": [
    "Username for geonames.org"
   ]
  },
  {
   "cell_type": "code",
   "execution_count": 11,
   "metadata": {},
   "outputs": [],
   "source": [
    "geonames_username <- \"pgcudahy\""
   ]
  },
  {
   "cell_type": "markdown",
   "metadata": {},
   "source": [
    "Minimal satellite elevation above the horizon before starting data capture (in **degrees**)"
   ]
  },
  {
   "cell_type": "code",
   "execution_count": 12,
   "metadata": {},
   "outputs": [],
   "source": [
    "minimum_observable_elevation = 20"
   ]
  },
  {
   "cell_type": "markdown",
   "metadata": {},
   "source": [
    "Station longitude, latitude. Positive values for E, negative for W"
   ]
  },
  {
   "cell_type": "code",
   "execution_count": 13,
   "metadata": {},
   "outputs": [],
   "source": [
    "station_latitude <- c(-29.53)\n",
    "station_longitude <- c(30.25)"
   ]
  },
  {
   "cell_type": "markdown",
   "metadata": {},
   "source": [
    "Get the station's elevation (in meters above sea level)"
   ]
  },
  {
   "cell_type": "code",
   "execution_count": 14,
   "metadata": {},
   "outputs": [],
   "source": [
    "station_elevation <- possibly_get_data(paste0(\"http://api.geonames.org/gtopo30JSON?lat=\", station_latitude, \n",
    "                                   \"&lng=\", station_longitude, \"&username=\", geonames_username), 8)"
   ]
  },
  {
   "cell_type": "code",
   "execution_count": 15,
   "metadata": {},
   "outputs": [],
   "source": [
    "station_elevation <- content(station_elevation)$gtopo30"
   ]
  },
  {
   "cell_type": "markdown",
   "metadata": {},
   "source": [
    "Sanity check that your coordinates are close to a nearby city"
   ]
  },
  {
   "cell_type": "code",
   "execution_count": 16,
   "metadata": {},
   "outputs": [],
   "source": [
    "nearby_cities <- possibly_get_data(paste0(\"http://api.geonames.org/findNearbyPlaceNameJSON?lat=\", station_latitude, \n",
    "                                   \"&lng=\", station_longitude, \"&username=\", geonames_username), 8)"
   ]
  },
  {
   "cell_type": "code",
   "execution_count": 17,
   "metadata": {},
   "outputs": [
    {
     "data": {
      "text/html": [
       "'Station is located near Merrivale, South Africa at an elevation of 1167 meters above sea level'"
      ],
      "text/latex": [
       "'Station is located near Merrivale, South Africa at an elevation of 1167 meters above sea level'"
      ],
      "text/markdown": [
       "'Station is located near Merrivale, South Africa at an elevation of 1167 meters above sea level'"
      ],
      "text/plain": [
       "[1] \"Station is located near Merrivale, South Africa at an elevation of 1167 meters above sea level\""
      ]
     },
     "metadata": {},
     "output_type": "display_data"
    }
   ],
   "source": [
    "paste0(\"Station is located near \", content(nearby_cities)$geonames[[1]]$toponymName, \", \",\n",
    "    content(nearby_cities)$geonames[[1]]$countryName, \" at an elevation of \", station_elevation,\n",
    "    \" meters above sea level\")"
   ]
  },
  {
   "cell_type": "markdown",
   "metadata": {},
   "source": [
    "# Load previous satellite orbital data"
   ]
  },
  {
   "cell_type": "code",
   "execution_count": 18,
   "metadata": {},
   "outputs": [],
   "source": [
    "satellite_data_df <- tryCatch({\n",
    "    readRDS(\"satellite_data_df.rds\")}, \n",
    "    warning = function(w) {\n",
    "        print(\"No prior satellite orbital data found on disk\")\n",
    "        tibble(startAz=double(),\n",
    "            startAzCompass=character(),\n",
    "            startUTC=double(),\n",
    "            maxAz=double(),\n",
    "            maxAzCompass=character(),\n",
    "            maxEl=double(),\n",
    "            maxUTC=integer(),\n",
    "            endAz=double(),\n",
    "            endAzCompass=character(),\n",
    "            endUTC=double(),\n",
    "            startDate=character(),\n",
    "            startTime=character(),\n",
    "            endDate=character(),\n",
    "            endTime=character(),\n",
    "            localStartTime=character(),\n",
    "            duration=double())\n",
    "}, error = function(e) {\n",
    "        print(\"There was an error in trying to load satellite orbital data from disk\")\n",
    "        tibble(startAz=double(),\n",
    "            startAzCompass=character(),\n",
    "            startUTC=double(),\n",
    "            maxAz=double(),\n",
    "            maxAzCompass=character(),\n",
    "            maxEl=double(),\n",
    "            maxUTC=integer(),\n",
    "            endAz=double(),\n",
    "            endAzCompass=character(),\n",
    "            endUTC=double(),\n",
    "            startDate=character(),\n",
    "            startTime=character(),\n",
    "            endDate=character(),\n",
    "            endTime=character(),\n",
    "            localStartTime=character(),\n",
    "            duration=double())\n",
    "    }\n",
    ")"
   ]
  },
  {
   "cell_type": "markdown",
   "metadata": {},
   "source": [
    "# Update satellite orbital data"
   ]
  },
  {
   "cell_type": "markdown",
   "metadata": {},
   "source": [
    "##  Using the https://www.n2yo.com/api/ webservice since I can't find any R packages to predict satellite passes locally"
   ]
  },
  {
   "cell_type": "markdown",
   "metadata": {},
   "source": [
    "Request: /radiopasses/{id}/{observer_lat}/{observer_lng}/{observer_alt}/{days}/{min_elevation}\n",
    "```\n",
    "Parameter       Type\tRequired\tComments\n",
    "id              integer Yes\t        NORAD id\n",
    "observer_lat\tfloat   Yes\t        Observer's latitide (decimal degrees format)\n",
    "observer_lng\tfloat   Yes\t        Observer's longitude (decimal degrees format)\n",
    "observer_alt\tfloat   Yes\t        Observer's altitude above sea level in meters\n",
    "days            integer Yes\t        Number of days of prediction (max 10)\n",
    "min_elevation   integer Yes\t        The minimum elevation acceptable for the highest altitude point of the pass (degrees)\n",
    "```"
   ]
  },
  {
   "cell_type": "code",
   "execution_count": 19,
   "metadata": {},
   "outputs": [
    {
     "data": {
      "text/html": [
       "'https://www.n2yo.com/rest/v1/satellite/radiopasses/40069/-29.53/30.25/1167/10/20/&amp;apiKey=CL4ZW2-LEYV8F-XRA2PC-46TQ'"
      ],
      "text/latex": [
       "'https://www.n2yo.com/rest/v1/satellite/radiopasses/40069/-29.53/30.25/1167/10/20/\\&apiKey=CL4ZW2-LEYV8F-XRA2PC-46TQ'"
      ],
      "text/markdown": [
       "'https://www.n2yo.com/rest/v1/satellite/radiopasses/40069/-29.53/30.25/1167/10/20/&amp;apiKey=CL4ZW2-LEYV8F-XRA2PC-46TQ'"
      ],
      "text/plain": [
       "[1] \"https://www.n2yo.com/rest/v1/satellite/radiopasses/40069/-29.53/30.25/1167/10/20/&apiKey=CL4ZW2-LEYV8F-XRA2PC-46TQ\""
      ]
     },
     "metadata": {},
     "output_type": "display_data"
    }
   ],
   "source": [
    "paste(\"https://www.n2yo.com/rest/v1/satellite/radiopasses\",\n",
    "                                          satellite_norad_id, station_latitude, station_longitude,\n",
    "                                          station_elevation, 10, minimum_observable_elevation, n2yo_api_key,\n",
    "                                          sep=\"/\")"
   ]
  },
  {
   "cell_type": "code",
   "execution_count": 20,
   "metadata": {},
   "outputs": [],
   "source": [
    "satellite_data <- possibly_get_data(paste(\"https://www.n2yo.com/rest/v1/satellite/radiopasses\",\n",
    "                                          satellite_norad_id, station_latitude, station_longitude,\n",
    "                                          station_elevation, 10, minimum_observable_elevation, n2yo_api_key,\n",
    "                                          sep=\"/\"), 8)"
   ]
  },
  {
   "cell_type": "code",
   "execution_count": 21,
   "metadata": {},
   "outputs": [],
   "source": [
    "satellite_content <- fromJSON(rawToChar(satellite_data$content))"
   ]
  },
  {
   "cell_type": "code",
   "execution_count": 22,
   "metadata": {},
   "outputs": [
    {
     "data": {
      "text/html": [
       "TRUE"
      ],
      "text/latex": [
       "TRUE"
      ],
      "text/markdown": [
       "TRUE"
      ],
      "text/plain": [
       "[1] TRUE"
      ]
     },
     "metadata": {},
     "output_type": "display_data"
    }
   ],
   "source": [
    "assert_that(!is.null(satellite_content$passes),\n",
    "        msg = paste(\"\\nUnable to update orbital data from n2yo.com\",\n",
    "                   \"\\nstatus code:\", satellite_data$status_code, \n",
    "                   \"\\nerror messge:\", satellite_content$error))"
   ]
  },
  {
   "cell_type": "code",
   "execution_count": 23,
   "metadata": {},
   "outputs": [
    {
     "data": {
      "text/html": [
       "TRUE"
      ],
      "text/latex": [
       "TRUE"
      ],
      "text/markdown": [
       "TRUE"
      ],
      "text/plain": [
       "[1] TRUE"
      ]
     },
     "metadata": {},
     "output_type": "display_data"
    }
   ],
   "source": [
    "assert_that(nrow(satellite_content$passes) > 0,\n",
    "           msg = \"Updated orbital data from n2yo.com is empty\")"
   ]
  },
  {
   "cell_type": "code",
   "execution_count": 24,
   "metadata": {},
   "outputs": [],
   "source": [
    "latest_data_date <- max(satellite_data_df$startUTC)"
   ]
  },
  {
   "cell_type": "code",
   "execution_count": 25,
   "metadata": {},
   "outputs": [],
   "source": [
    "satellite_content %<>% \n",
    "    pluck(\"passes\") %>% \n",
    "    as_tibble %>%\n",
    "    filter(startUTC > latest_data_date)"
   ]
  },
  {
   "cell_type": "markdown",
   "metadata": {},
   "source": [
    "For `mlrpt` need arguments in the form of `mlrpt $startTime-$stopTime -t $duration`. Start and stop time are in the format HH:MM in **UTC**. Duration is how long the command needs to run (in **minutes**) from start to shut-down. Make it 3 minutes longer than the time of the satellite pass to give time for start-up, and at the end, decoding and saving images.\n",
    "\n",
    "Also need the start time in **local** timezone to schedule `mlrpt` using `systemd`. Move it back 60 seconds to give `systemd` and `mlrpt` time to start up."
   ]
  },
  {
   "cell_type": "code",
   "execution_count": 26,
   "metadata": {},
   "outputs": [
    {
     "name": "stderr",
     "output_type": "stream",
     "text": [
      "Note: method with signature ‘Period#ANY’ chosen for function ‘-’,\n",
      " target signature ‘Period#Period’.\n",
      " \"ANY#Period\" would also be valid\n"
     ]
    }
   ],
   "source": [
    "satellite_content %<>% \n",
    "    mutate(startUTC = as_datetime(startUTC, tz = \"UTC\")) %>%\n",
    "    mutate(endUTC = as_datetime(endUTC, tz = \"UTC\")) %>%\n",
    "    mutate(startDate = format(startUTC, \"%Y-%m-%d\")) %>%\n",
    "    mutate(startTime = format(startUTC, \"%H:%M\")) %>%\n",
    "    mutate(endDate = format(endUTC, \"%Y-%m-%d\")) %>%\n",
    "    mutate(endTime = format(endUTC, \"%H:%M\")) %>%\n",
    "    mutate(localStartTime = format(as_datetime(startUTC, tz = \"Africa/Johannesburg\") - 60, \"%H:%M\")) %>% \n",
    "    mutate(duration = as.numeric(hm(format(format=\"%H:%M\", endTime)) -\n",
    "                                hm(format(format=\"%H:%M\",startTime)) + 180) / 60)"
   ]
  },
  {
   "cell_type": "code",
   "execution_count": 27,
   "metadata": {},
   "outputs": [],
   "source": [
    "satellite_data_df <- bind_rows(satellite_data_df, satellite_content)"
   ]
  },
  {
   "cell_type": "code",
   "execution_count": 28,
   "metadata": {},
   "outputs": [],
   "source": [
    "saveRDS(satellite_data_df, \"satellite_data_df.rds\")"
   ]
  }
 ],
 "metadata": {
  "kernelspec": {
   "display_name": "R",
   "language": "R",
   "name": "ir"
  },
  "language_info": {
   "codemirror_mode": "r",
   "file_extension": ".r",
   "mimetype": "text/x-r-source",
   "name": "R",
   "pygments_lexer": "r",
   "version": "3.6.0"
  }
 },
 "nbformat": 4,
 "nbformat_minor": 2
}
