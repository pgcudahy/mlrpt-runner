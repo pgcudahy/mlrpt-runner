{
 "cells": [
  {
   "cell_type": "markdown",
   "metadata": {},
   "source": [
    "# Download Meteor M2 satellite info and calculate times for recording"
   ]
  },
  {
   "cell_type": "code",
   "execution_count": 1,
   "metadata": {},
   "outputs": [
    {
     "name": "stderr",
     "output_type": "stream",
     "text": [
      "── \u001b[1mAttaching packages\u001b[22m ─────────────────────────────────────── tidyverse 1.2.1 ──\n",
      "\u001b[32m✔\u001b[39m \u001b[34mggplot2\u001b[39m 3.2.1     \u001b[32m✔\u001b[39m \u001b[34mpurrr  \u001b[39m 0.3.2\n",
      "\u001b[32m✔\u001b[39m \u001b[34mtibble \u001b[39m 2.1.3     \u001b[32m✔\u001b[39m \u001b[34mdplyr  \u001b[39m 0.8.3\n",
      "\u001b[32m✔\u001b[39m \u001b[34mtidyr  \u001b[39m 1.0.0     \u001b[32m✔\u001b[39m \u001b[34mstringr\u001b[39m 1.4.0\n",
      "\u001b[32m✔\u001b[39m \u001b[34mreadr  \u001b[39m 1.3.1     \u001b[32m✔\u001b[39m \u001b[34mforcats\u001b[39m 0.4.0\n",
      "── \u001b[1mConflicts\u001b[22m ────────────────────────────────────────── tidyverse_conflicts() ──\n",
      "\u001b[31m✖\u001b[39m \u001b[34mdplyr\u001b[39m::\u001b[32mfilter()\u001b[39m masks \u001b[34mstats\u001b[39m::filter()\n",
      "\u001b[31m✖\u001b[39m \u001b[34mdplyr\u001b[39m::\u001b[32mlag()\u001b[39m    masks \u001b[34mstats\u001b[39m::lag()\n"
     ]
    }
   ],
   "source": [
    "library(tidyverse)"
   ]
  },
  {
   "cell_type": "code",
   "execution_count": 2,
   "metadata": {},
   "outputs": [],
   "source": [
    "library(httr)"
   ]
  },
  {
   "cell_type": "code",
   "execution_count": 3,
   "metadata": {},
   "outputs": [
    {
     "name": "stderr",
     "output_type": "stream",
     "text": [
      "\n",
      "Attaching package: ‘lubridate’\n",
      "\n",
      "The following object is masked from ‘package:base’:\n",
      "\n",
      "    date\n",
      "\n"
     ]
    }
   ],
   "source": [
    "library(lubridate)"
   ]
  },
  {
   "cell_type": "code",
   "execution_count": 4,
   "metadata": {},
   "outputs": [
    {
     "name": "stderr",
     "output_type": "stream",
     "text": [
      "\n",
      "Attaching package: ‘jsonlite’\n",
      "\n",
      "The following object is masked from ‘package:purrr’:\n",
      "\n",
      "    flatten\n",
      "\n"
     ]
    }
   ],
   "source": [
    "library(jsonlite)"
   ]
  },
  {
   "cell_type": "code",
   "execution_count": 5,
   "metadata": {},
   "outputs": [
    {
     "name": "stderr",
     "output_type": "stream",
     "text": [
      "\n",
      "Attaching package: ‘assertthat’\n",
      "\n",
      "The following object is masked from ‘package:tibble’:\n",
      "\n",
      "    has_name\n",
      "\n"
     ]
    }
   ],
   "source": [
    "library(assertthat)"
   ]
  },
  {
   "cell_type": "markdown",
   "metadata": {},
   "source": [
    "# Helper functions"
   ]
  },
  {
   "cell_type": "code",
   "execution_count": 6,
   "metadata": {},
   "outputs": [],
   "source": [
    "possibly_get_data <- function(url, n_tries, ...){\n",
    "\n",
    "    rate <- rate_backoff(pause_base = 1, max_times = n_tries)\n",
    "    possibly_insistent_get <- insistently(GET, rate, quiet = FALSE) %>% possibly(otherwise = NULL)\n",
    "\n",
    "    possibly_insistent_get(url, ...)\n",
    "}"
   ]
  },
  {
   "cell_type": "markdown",
   "metadata": {},
   "source": [
    "# Config"
   ]
  },
  {
   "cell_type": "markdown",
   "metadata": {},
   "source": [
    "What satellite are we trying to capture?"
   ]
  },
  {
   "cell_type": "code",
   "execution_count": 7,
   "metadata": {},
   "outputs": [],
   "source": [
    "satellite_id <- \"METEOR-M2\""
   ]
  },
  {
   "cell_type": "code",
   "execution_count": 8,
   "metadata": {},
   "outputs": [],
   "source": [
    "satellite_norad_id <- 40069"
   ]
  },
  {
   "cell_type": "code",
   "execution_count": 9,
   "metadata": {},
   "outputs": [],
   "source": [
    "n2yo_api_key <- \"&apiKey=CL4ZW2-LEYV8F-XRA2PC-46TQ\""
   ]
  },
  {
   "cell_type": "code",
   "execution_count": 10,
   "metadata": {},
   "outputs": [],
   "source": [
    "geonames_username <- \"pgcudahy\""
   ]
  },
  {
   "cell_type": "markdown",
   "metadata": {},
   "source": [
    "Minimal elevation of pass to capture satellite (in degrees)"
   ]
  },
  {
   "cell_type": "code",
   "execution_count": 11,
   "metadata": {},
   "outputs": [],
   "source": [
    "minimum_observable_elevation = 20"
   ]
  },
  {
   "cell_type": "markdown",
   "metadata": {},
   "source": [
    "Station longitude, latitude. Positive values for E, negative for W"
   ]
  },
  {
   "cell_type": "code",
   "execution_count": 12,
   "metadata": {},
   "outputs": [],
   "source": [
    "station_latitude <- c(-29.53)\n",
    "station_longitude <- c(30.25)"
   ]
  },
  {
   "cell_type": "markdown",
   "metadata": {},
   "source": [
    "Sanity check that your coordinates are close to a nearby city"
   ]
  },
  {
   "cell_type": "code",
   "execution_count": 13,
   "metadata": {},
   "outputs": [],
   "source": [
    "nearby_cities <- possibly_get_data(paste0(\"http://api.geonames.org/findNearbyPlaceNameJSON?lat=\", station_latitude, \n",
    "                                   \"&lng=\", station_longitude, \"&username=\", geonames_username), 8)"
   ]
  },
  {
   "cell_type": "code",
   "execution_count": 14,
   "metadata": {},
   "outputs": [
    {
     "data": {
      "text/html": [
       "'Merrivale'"
      ],
      "text/latex": [
       "'Merrivale'"
      ],
      "text/markdown": [
       "'Merrivale'"
      ],
      "text/plain": [
       "[1] \"Merrivale\""
      ]
     },
     "metadata": {},
     "output_type": "display_data"
    }
   ],
   "source": [
    "content(nearby_cities)$geonames[[1]]$toponymName"
   ]
  },
  {
   "cell_type": "code",
   "execution_count": 15,
   "metadata": {},
   "outputs": [
    {
     "data": {
      "text/html": [
       "'South Africa'"
      ],
      "text/latex": [
       "'South Africa'"
      ],
      "text/markdown": [
       "'South Africa'"
      ],
      "text/plain": [
       "[1] \"South Africa\""
      ]
     },
     "metadata": {},
     "output_type": "display_data"
    }
   ],
   "source": [
    "content(nearby_cities)$geonames[[1]]$countryName"
   ]
  },
  {
   "cell_type": "markdown",
   "metadata": {},
   "source": [
    "And get the elevation (in meters above sea level)"
   ]
  },
  {
   "cell_type": "code",
   "execution_count": 16,
   "metadata": {},
   "outputs": [],
   "source": [
    "station_elevation <- possibly_get_data(paste0(\"http://api.geonames.org/gtopo30JSON?lat=\", station_latitude, \n",
    "                                   \"&lng=\", station_longitude, \"&username=\", geonames_username), 8)"
   ]
  },
  {
   "cell_type": "code",
   "execution_count": 17,
   "metadata": {},
   "outputs": [
    {
     "data": {
      "text/html": [
       "1167"
      ],
      "text/latex": [
       "1167"
      ],
      "text/markdown": [
       "1167"
      ],
      "text/plain": [
       "[1] 1167"
      ]
     },
     "metadata": {},
     "output_type": "display_data"
    }
   ],
   "source": [
    "(station_elevation <- content(station_elevation)$gtopo30)"
   ]
  },
  {
   "cell_type": "markdown",
   "metadata": {},
   "source": [
    "# Get satellite orbital data"
   ]
  },
  {
   "cell_type": "code",
   "execution_count": 18,
   "metadata": {},
   "outputs": [],
   "source": [
    "#satellite_data <- possibly_get_data(\"http://www.celestrak.com/NORAD/elements/weather.txt\", 5)"
   ]
  },
  {
   "cell_type": "code",
   "execution_count": 19,
   "metadata": {},
   "outputs": [],
   "source": [
    "#satellite_data"
   ]
  },
  {
   "cell_type": "code",
   "execution_count": 20,
   "metadata": {},
   "outputs": [],
   "source": [
    "#satellite_df <- content(satellite_data) %>% strsplit(\"\\r\\n\", fixed=TRUE) %>% unlist %>% \n",
    "#    matrix(ncol = 3, byrow = TRUE, dimnames=list(NULL, c(\"satellite\", \"a\", \"b\"))) %>% as_tibble"
   ]
  },
  {
   "cell_type": "code",
   "execution_count": 21,
   "metadata": {},
   "outputs": [],
   "source": [
    "#satellite_df %>% filter(grepl(satellite_id, satellite))"
   ]
  },
  {
   "cell_type": "markdown",
   "metadata": {},
   "source": [
    "## Let's try this again using the https://www.n2yo.com/api/ webservice since I can't find any R packages to predict satellite passes"
   ]
  },
  {
   "cell_type": "markdown",
   "metadata": {},
   "source": [
    "Request: /radiopasses/{id}/{observer_lat}/{observer_lng}/{observer_alt}/{days}/{min_elevation}\n",
    "```\n",
    "Parameter       Type\tRequired\tComments\n",
    "id              integer Yes\t        NORAD id\n",
    "observer_lat\tfloat   Yes\t        Observer's latitide (decimal degrees format)\n",
    "observer_lng\tfloat   Yes\t        Observer's longitude (decimal degrees format)\n",
    "observer_alt\tfloat   Yes\t        Observer's altitude above sea level in meters\n",
    "days            integer Yes\t        Number of days of prediction (max 10)\n",
    "min_elevation   integer Yes\t        The minimum elevation acceptable for the highest altitude point of the pass (degrees)\n",
    "```"
   ]
  },
  {
   "cell_type": "code",
   "execution_count": 22,
   "metadata": {},
   "outputs": [
    {
     "data": {
      "text/html": [
       "'https://www.n2yo.com/rest/v1/satellite/radiopasses/40069/-29.53/30.25/1167/10/20/&amp;apiKey=CL4ZW2-LEYV8F-XRA2PC-46TQ'"
      ],
      "text/latex": [
       "'https://www.n2yo.com/rest/v1/satellite/radiopasses/40069/-29.53/30.25/1167/10/20/\\&apiKey=CL4ZW2-LEYV8F-XRA2PC-46TQ'"
      ],
      "text/markdown": [
       "'https://www.n2yo.com/rest/v1/satellite/radiopasses/40069/-29.53/30.25/1167/10/20/&amp;apiKey=CL4ZW2-LEYV8F-XRA2PC-46TQ'"
      ],
      "text/plain": [
       "[1] \"https://www.n2yo.com/rest/v1/satellite/radiopasses/40069/-29.53/30.25/1167/10/20/&apiKey=CL4ZW2-LEYV8F-XRA2PC-46TQ\""
      ]
     },
     "metadata": {},
     "output_type": "display_data"
    }
   ],
   "source": [
    "paste(\"https://www.n2yo.com/rest/v1/satellite/radiopasses\",\n",
    "                                          satellite_norad_id, station_latitude, station_longitude,\n",
    "                                          station_elevation, 10, minimum_observable_elevation, n2yo_api_key,\n",
    "                                          sep=\"/\")"
   ]
  },
  {
   "cell_type": "code",
   "execution_count": 23,
   "metadata": {},
   "outputs": [],
   "source": [
    "satellite_data <- possibly_get_data(paste(\"https://www.n2yo.com/rest/v1/satellite/radiopasses\",\n",
    "                                          satellite_norad_id, station_latitude, station_longitude,\n",
    "                                          station_elevation, 10, minimum_observable_elevation, n2yo_api_key,\n",
    "                                          sep=\"/\"), 8)"
   ]
  },
  {
   "cell_type": "code",
   "execution_count": 24,
   "metadata": {},
   "outputs": [],
   "source": [
    "satellite_content <- fromJSON(rawToChar(satellite_data$content))"
   ]
  },
  {
   "cell_type": "code",
   "execution_count": 25,
   "metadata": {},
   "outputs": [
    {
     "data": {
      "text/html": [
       "TRUE"
      ],
      "text/latex": [
       "TRUE"
      ],
      "text/markdown": [
       "TRUE"
      ],
      "text/plain": [
       "[1] TRUE"
      ]
     },
     "metadata": {},
     "output_type": "display_data"
    }
   ],
   "source": [
    "assert_that(!is.null(satellite_content$passes),\n",
    "        msg = paste(\"\\nUnable to updated orbital data from n2yo.com\",\n",
    "                   \"\\nstatus code:\", satellite_data$status_code, \n",
    "                   \"\\nerror messge:\", satellite_content$error))"
   ]
  },
  {
   "cell_type": "code",
   "execution_count": 26,
   "metadata": {},
   "outputs": [],
   "source": [
    "satellite_data_df <- satellite_content %>% pluck(\"passes\") %>% as_tibble"
   ]
  },
  {
   "cell_type": "code",
   "execution_count": 27,
   "metadata": {},
   "outputs": [
    {
     "data": {
      "text/html": [
       "TRUE"
      ],
      "text/latex": [
       "TRUE"
      ],
      "text/markdown": [
       "TRUE"
      ],
      "text/plain": [
       "[1] TRUE"
      ]
     },
     "metadata": {},
     "output_type": "display_data"
    }
   ],
   "source": [
    "assert_that(nrow(satellite_data_df) > 0,\n",
    "           msg = \"Updated orbital data from n2yo.com is empty\")"
   ]
  },
  {
   "cell_type": "code",
   "execution_count": 28,
   "metadata": {},
   "outputs": [
    {
     "name": "stderr",
     "output_type": "stream",
     "text": [
      "Note: method with signature ‘Period#ANY’ chosen for function ‘-’,\n",
      " target signature ‘Period#Period’.\n",
      " \"ANY#Period\" would also be valid\n"
     ]
    }
   ],
   "source": [
    "satellite_data_df %<>%\n",
    "    mutate(startUTC = as_datetime(startUTC, tz = \"UTC\")) %>%\n",
    "    mutate(endUTC = as_datetime(endUTC, tz = \"UTC\")) %>%\n",
    "    mutate(startDate = format(startUTC, \"%Y-%m-%d\")) %>%\n",
    "    mutate(startTime = format(startUTC, \"%H:%M\")) %>%\n",
    "    mutate(endDate = format(endUTC, \"%Y-%m-%d\")) %>%\n",
    "    mutate(endTime = format(endUTC, \"%H:%M\")) %>%\n",
    "    mutate(localStartTime = format(as_datetime(startUTC, tz = \"Africa/Johannesburg\") - 60, \"%H:%M\")) %>% \n",
    "    mutate(duration = as.numeric(hm(format(format=\"%H:%M\", endTime)) -\n",
    "                                hm(format(format=\"%H:%M\",startTime))) / 60)"
   ]
  },
  {
   "cell_type": "code",
   "execution_count": 29,
   "metadata": {},
   "outputs": [
    {
     "data": {
      "text/html": [
       "<table>\n",
       "<caption>A tibble: 6 × 16</caption>\n",
       "<thead>\n",
       "\t<tr><th scope=col>startAz</th><th scope=col>startAzCompass</th><th scope=col>startUTC</th><th scope=col>maxAz</th><th scope=col>maxAzCompass</th><th scope=col>maxEl</th><th scope=col>maxUTC</th><th scope=col>endAz</th><th scope=col>endAzCompass</th><th scope=col>endUTC</th><th scope=col>startDate</th><th scope=col>startTime</th><th scope=col>endDate</th><th scope=col>endTime</th><th scope=col>localStartTime</th><th scope=col>duration</th></tr>\n",
       "\t<tr><th scope=col>&lt;dbl&gt;</th><th scope=col>&lt;chr&gt;</th><th scope=col>&lt;dttm&gt;</th><th scope=col>&lt;dbl&gt;</th><th scope=col>&lt;chr&gt;</th><th scope=col>&lt;dbl&gt;</th><th scope=col>&lt;int&gt;</th><th scope=col>&lt;dbl&gt;</th><th scope=col>&lt;chr&gt;</th><th scope=col>&lt;dttm&gt;</th><th scope=col>&lt;chr&gt;</th><th scope=col>&lt;chr&gt;</th><th scope=col>&lt;chr&gt;</th><th scope=col>&lt;chr&gt;</th><th scope=col>&lt;chr&gt;</th><th scope=col>&lt;dbl&gt;</th></tr>\n",
       "</thead>\n",
       "<tbody>\n",
       "\t<tr><td>184.19</td><td>S </td><td>2019-09-14 19:34:05</td><td>248.18</td><td>WSW</td><td>24.77</td><td>1568490060</td><td>314.95</td><td>NW </td><td>2019-09-14 19:47:55</td><td>2019-09-14</td><td>19:34</td><td>2019-09-14</td><td>19:47</td><td>21:33</td><td>13</td></tr>\n",
       "\t<tr><td> 40.75</td><td>NE</td><td>2019-09-15 05:10:15</td><td>109.46</td><td>ESE</td><td>28.83</td><td>1568524645</td><td>177.55</td><td>S  </td><td>2019-09-15 05:24:30</td><td>2019-09-15</td><td>05:10</td><td>2019-09-15</td><td>05:24</td><td>07:09</td><td>14</td></tr>\n",
       "\t<tr><td>345.85</td><td>N </td><td>2019-09-15 06:50:20</td><td>277.36</td><td>W  </td><td>27.08</td><td>1568530645</td><td>208.04</td><td>SSW</td><td>2019-09-15 07:04:35</td><td>2019-09-15</td><td>06:50</td><td>2019-09-15</td><td>07:04</td><td>08:49</td><td>14</td></tr>\n",
       "\t<tr><td>178.29</td><td>S </td><td>2019-09-15 19:13:55</td><td>252.09</td><td>WSW</td><td>38.58</td><td>1568575280</td><td>326.32</td><td>NW </td><td>2019-09-15 19:28:35</td><td>2019-09-15</td><td>19:13</td><td>2019-09-15</td><td>19:28</td><td>21:12</td><td>15</td></tr>\n",
       "\t<tr><td>357.16</td><td>N </td><td>2019-09-16 06:30:00</td><td>278.49</td><td>W  </td><td>43.17</td><td>1568615850</td><td>201.37</td><td>SSW</td><td>2019-09-16 06:45:00</td><td>2019-09-16</td><td>06:30</td><td>2019-09-16</td><td>06:45</td><td>08:29</td><td>15</td></tr>\n",
       "\t<tr><td>172.58</td><td>S </td><td>2019-09-16 18:53:50</td><td>252.28</td><td>WSW</td><td>61.83</td><td>1568660490</td><td>337.23</td><td>NNW</td><td>2019-09-16 19:09:00</td><td>2019-09-16</td><td>18:53</td><td>2019-09-16</td><td>19:09</td><td>20:52</td><td>16</td></tr>\n",
       "</tbody>\n",
       "</table>\n"
      ],
      "text/latex": [
       "A tibble: 6 × 16\n",
       "\\begin{tabular}{r|llllllllllllllll}\n",
       " startAz & startAzCompass & startUTC & maxAz & maxAzCompass & maxEl & maxUTC & endAz & endAzCompass & endUTC & startDate & startTime & endDate & endTime & localStartTime & duration\\\\\n",
       " <dbl> & <chr> & <dttm> & <dbl> & <chr> & <dbl> & <int> & <dbl> & <chr> & <dttm> & <chr> & <chr> & <chr> & <chr> & <chr> & <dbl>\\\\\n",
       "\\hline\n",
       "\t 184.19 & S  & 2019-09-14 19:34:05 & 248.18 & WSW & 24.77 & 1568490060 & 314.95 & NW  & 2019-09-14 19:47:55 & 2019-09-14 & 19:34 & 2019-09-14 & 19:47 & 21:33 & 13\\\\\n",
       "\t  40.75 & NE & 2019-09-15 05:10:15 & 109.46 & ESE & 28.83 & 1568524645 & 177.55 & S   & 2019-09-15 05:24:30 & 2019-09-15 & 05:10 & 2019-09-15 & 05:24 & 07:09 & 14\\\\\n",
       "\t 345.85 & N  & 2019-09-15 06:50:20 & 277.36 & W   & 27.08 & 1568530645 & 208.04 & SSW & 2019-09-15 07:04:35 & 2019-09-15 & 06:50 & 2019-09-15 & 07:04 & 08:49 & 14\\\\\n",
       "\t 178.29 & S  & 2019-09-15 19:13:55 & 252.09 & WSW & 38.58 & 1568575280 & 326.32 & NW  & 2019-09-15 19:28:35 & 2019-09-15 & 19:13 & 2019-09-15 & 19:28 & 21:12 & 15\\\\\n",
       "\t 357.16 & N  & 2019-09-16 06:30:00 & 278.49 & W   & 43.17 & 1568615850 & 201.37 & SSW & 2019-09-16 06:45:00 & 2019-09-16 & 06:30 & 2019-09-16 & 06:45 & 08:29 & 15\\\\\n",
       "\t 172.58 & S  & 2019-09-16 18:53:50 & 252.28 & WSW & 61.83 & 1568660490 & 337.23 & NNW & 2019-09-16 19:09:00 & 2019-09-16 & 18:53 & 2019-09-16 & 19:09 & 20:52 & 16\\\\\n",
       "\\end{tabular}\n"
      ],
      "text/markdown": [
       "\n",
       "A tibble: 6 × 16\n",
       "\n",
       "| startAz &lt;dbl&gt; | startAzCompass &lt;chr&gt; | startUTC &lt;dttm&gt; | maxAz &lt;dbl&gt; | maxAzCompass &lt;chr&gt; | maxEl &lt;dbl&gt; | maxUTC &lt;int&gt; | endAz &lt;dbl&gt; | endAzCompass &lt;chr&gt; | endUTC &lt;dttm&gt; | startDate &lt;chr&gt; | startTime &lt;chr&gt; | endDate &lt;chr&gt; | endTime &lt;chr&gt; | localStartTime &lt;chr&gt; | duration &lt;dbl&gt; |\n",
       "|---|---|---|---|---|---|---|---|---|---|---|---|---|---|---|---|\n",
       "| 184.19 | S  | 2019-09-14 19:34:05 | 248.18 | WSW | 24.77 | 1568490060 | 314.95 | NW  | 2019-09-14 19:47:55 | 2019-09-14 | 19:34 | 2019-09-14 | 19:47 | 21:33 | 13 |\n",
       "|  40.75 | NE | 2019-09-15 05:10:15 | 109.46 | ESE | 28.83 | 1568524645 | 177.55 | S   | 2019-09-15 05:24:30 | 2019-09-15 | 05:10 | 2019-09-15 | 05:24 | 07:09 | 14 |\n",
       "| 345.85 | N  | 2019-09-15 06:50:20 | 277.36 | W   | 27.08 | 1568530645 | 208.04 | SSW | 2019-09-15 07:04:35 | 2019-09-15 | 06:50 | 2019-09-15 | 07:04 | 08:49 | 14 |\n",
       "| 178.29 | S  | 2019-09-15 19:13:55 | 252.09 | WSW | 38.58 | 1568575280 | 326.32 | NW  | 2019-09-15 19:28:35 | 2019-09-15 | 19:13 | 2019-09-15 | 19:28 | 21:12 | 15 |\n",
       "| 357.16 | N  | 2019-09-16 06:30:00 | 278.49 | W   | 43.17 | 1568615850 | 201.37 | SSW | 2019-09-16 06:45:00 | 2019-09-16 | 06:30 | 2019-09-16 | 06:45 | 08:29 | 15 |\n",
       "| 172.58 | S  | 2019-09-16 18:53:50 | 252.28 | WSW | 61.83 | 1568660490 | 337.23 | NNW | 2019-09-16 19:09:00 | 2019-09-16 | 18:53 | 2019-09-16 | 19:09 | 20:52 | 16 |\n",
       "\n"
      ],
      "text/plain": [
       "  startAz startAzCompass startUTC            maxAz  maxAzCompass maxEl\n",
       "1 184.19  S              2019-09-14 19:34:05 248.18 WSW          24.77\n",
       "2  40.75  NE             2019-09-15 05:10:15 109.46 ESE          28.83\n",
       "3 345.85  N              2019-09-15 06:50:20 277.36 W            27.08\n",
       "4 178.29  S              2019-09-15 19:13:55 252.09 WSW          38.58\n",
       "5 357.16  N              2019-09-16 06:30:00 278.49 W            43.17\n",
       "6 172.58  S              2019-09-16 18:53:50 252.28 WSW          61.83\n",
       "  maxUTC     endAz  endAzCompass endUTC              startDate  startTime\n",
       "1 1568490060 314.95 NW           2019-09-14 19:47:55 2019-09-14 19:34    \n",
       "2 1568524645 177.55 S            2019-09-15 05:24:30 2019-09-15 05:10    \n",
       "3 1568530645 208.04 SSW          2019-09-15 07:04:35 2019-09-15 06:50    \n",
       "4 1568575280 326.32 NW           2019-09-15 19:28:35 2019-09-15 19:13    \n",
       "5 1568615850 201.37 SSW          2019-09-16 06:45:00 2019-09-16 06:30    \n",
       "6 1568660490 337.23 NNW          2019-09-16 19:09:00 2019-09-16 18:53    \n",
       "  endDate    endTime localStartTime duration\n",
       "1 2019-09-14 19:47   21:33          13      \n",
       "2 2019-09-15 05:24   07:09          14      \n",
       "3 2019-09-15 07:04   08:49          14      \n",
       "4 2019-09-15 19:28   21:12          15      \n",
       "5 2019-09-16 06:45   08:29          15      \n",
       "6 2019-09-16 19:09   20:52          16      "
      ]
     },
     "metadata": {},
     "output_type": "display_data"
    }
   ],
   "source": [
    "head(satellite_data_df)"
   ]
  },
  {
   "cell_type": "code",
   "execution_count": 30,
   "metadata": {},
   "outputs": [],
   "source": [
    "dates <- summarise(satellite_data_df, min(startDate, na.rm=TRUE),\n",
    "          max(startDate, na.rm=TRUE)) %>% paste(collapse=\"_\")"
   ]
  },
  {
   "cell_type": "code",
   "execution_count": 31,
   "metadata": {},
   "outputs": [],
   "source": [
    "saveRDS(satellite_data_df, paste0(\"satellite_data_\", dates, \".rds\"))"
   ]
  },
  {
   "cell_type": "code",
   "execution_count": null,
   "metadata": {},
   "outputs": [],
   "source": []
  }
 ],
 "metadata": {
  "kernelspec": {
   "display_name": "R",
   "language": "R",
   "name": "ir"
  },
  "language_info": {
   "codemirror_mode": "r",
   "file_extension": ".r",
   "mimetype": "text/x-r-source",
   "name": "R",
   "pygments_lexer": "r",
   "version": "3.3.3"
  }
 },
 "nbformat": 4,
 "nbformat_minor": 2
}
