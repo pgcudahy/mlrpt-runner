{
 "cells": [
  {
   "cell_type": "markdown",
   "metadata": {},
   "source": [
    "TODO\n",
    "\n",
    "1. Add decoding of the Meteor-M2 2 satellite\n",
    "https://www.rtl-sdr.com/weather-satellite-meteor-m2-2-now-transmitting-images/\n",
    "\n",
    "1. systemd automation of fetching satellite data\n",
    "    ```\n",
    "    /etc/systemd/system/foo.timer\n",
    "    [Unit]\n",
    "    Description=Run foo weekly and on boot\n",
    "    [Timer]\n",
    "    OnBootSec=15min\n",
    "    OnUnitActiveSec=1w \n",
    "    [Install]\n",
    "    WantedBy=timers.target\n",
    "    ```\n",
    "\n"
   ]
  },
  {
   "cell_type": "code",
   "execution_count": null,
   "metadata": {},
   "outputs": [],
   "source": []
  }
 ],
 "metadata": {
  "kernelspec": {
   "display_name": "R",
   "language": "R",
   "name": "ir"
  },
  "language_info": {
   "codemirror_mode": "r",
   "file_extension": ".r",
   "mimetype": "text/x-r-source",
   "name": "R",
   "pygments_lexer": "r",
   "version": "3.6.0"
  }
 },
 "nbformat": 4,
 "nbformat_minor": 2
}
