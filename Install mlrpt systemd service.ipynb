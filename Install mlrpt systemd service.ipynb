{
 "cells": [
  {
   "cell_type": "markdown",
   "metadata": {},
   "source": [
    "Set up an mlrpt systemd service\n",
    "https://scruss.com/blog/2017/10/22/creating-a-systemd-user-service-on-your-raspberry-pi/\n",
    "https://askubuntu.com/questions/1077778/how-do-i-pass-flags-when-starting-a-systemd-service"
   ]
  },
  {
   "cell_type": "markdown",
   "metadata": {},
   "source": [
    "Need a command string in the form of `mlrpt $startT-$stopT (time HHMM in UTC) -t $durationMin`"
   ]
  },
  {
   "cell_type": "markdown",
   "metadata": {},
   "source": [
    "First set up for user systemd services so we can avoid sudo. \n",
    "\n",
    "The `-p` flag with `mkdir` will create nested directories, but only if they don't already exist"
   ]
  },
  {
   "cell_type": "code",
   "execution_count": null,
   "metadata": {},
   "outputs": [],
   "source": [
    "system(\"mkdir -p ~/.config/systemd/user\", intern=TRUE)"
   ]
  },
  {
   "cell_type": "code",
   "execution_count": 98,
   "metadata": {},
   "outputs": [],
   "source": [
    "mlrpt_service_file <- paste(\n",
    "\"[Unit]\n",
    "Description=Capture Meteor satellite data using mlrpt\n",
    "DefaultDependencies=no\n",
    "Wants=local-fs.target time-sync.target\n",
    "After=local-fs.target time-sync.target\n",
    "\n",
    "[Service]\n",
    "#https://wiki.archlinux.org/index.php/systemd#Service_types\n",
    "Type=simple\n",
    "#Config file location\n",
    "EnvironmentFile=~/mlrpt/config\n",
    "ExecStart=/usr/local/bin/mlrpt $START_TIME-$END_TIME -t $DURATION\n",
    "\n",
    "#The .service does not require an [Install] section as it is the timer units that are enabled\")"
   ]
  },
  {
   "cell_type": "code",
   "execution_count": null,
   "metadata": {},
   "outputs": [],
   "source": [
    "file_handler <- file(\"~/.config/systemd/user/mlrpt.service\")\n",
    "writeLines(mlrpt_service_file, file_handler)\n",
    "close(file_handler)"
   ]
  },
  {
   "cell_type": "code",
   "execution_count": null,
   "metadata": {},
   "outputs": [],
   "source": [
    "system(\"systemctl --user enable mlrpt.service\", intern=TRUE)"
   ]
  }
 ],
 "metadata": {
  "kernelspec": {
   "display_name": "R",
   "language": "R",
   "name": "ir"
  },
  "language_info": {
   "codemirror_mode": "r",
   "file_extension": ".r",
   "mimetype": "text/x-r-source",
   "name": "R",
   "pygments_lexer": "r",
   "version": "3.6.0"
  }
 },
 "nbformat": 4,
 "nbformat_minor": 2
}
