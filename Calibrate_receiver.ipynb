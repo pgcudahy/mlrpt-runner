{
 "cells": [
  {
   "cell_type": "markdown",
   "metadata": {},
   "source": [
    "# Calibrate the rtl-sdr dongle"
   ]
  },
  {
   "cell_type": "code",
   "execution_count": 52,
   "metadata": {},
   "outputs": [],
   "source": [
    "library(tidyverse)"
   ]
  },
  {
   "cell_type": "code",
   "execution_count": 10,
   "metadata": {},
   "outputs": [],
   "source": [
    "library(yaml)"
   ]
  },
  {
   "cell_type": "code",
   "execution_count": 86,
   "metadata": {},
   "outputs": [
    {
     "data": {
      "text/html": [
       "<span style=white-space:pre-wrap>'Running at  2019-09-22 18:11:25 GMT'</span>"
      ],
      "text/latex": [
       "'Running at  2019-09-22 18:11:25 GMT'"
      ],
      "text/markdown": [
       "<span style=white-space:pre-wrap>'Running at  2019-09-22 18:11:25 GMT'</span>"
      ],
      "text/plain": [
       "[1] \"Running at  2019-09-22 18:11:25 GMT\""
      ]
     },
     "metadata": {},
     "output_type": "display_data"
    }
   ],
   "source": [
    "paste(\"Running at \", Sys.time() %>% .POSIXct(\"GMT\"), \"GMT\")"
   ]
  },
  {
   "cell_type": "markdown",
   "metadata": {},
   "source": [
    "Use `kal` to find a nearby GSM station in the GSM900 band with a default offset of 0 and gain of 49.6"
   ]
  },
  {
   "cell_type": "code",
   "execution_count": 8,
   "metadata": {},
   "outputs": [],
   "source": [
    "best_channel <- system(paste0(\"kal -s GSM900 -e 0 -g 49.6 | sed 's/ \\\\+/\\\\t/g' | cut -f 3,8 | \",\n",
    "                              \"sort -k2 -n -r | head -1 | cut -f 1\"),\n",
    "                       intern = TRUE)"
   ]
  },
  {
   "cell_type": "markdown",
   "metadata": {},
   "source": [
    "Use that channel to find the clock frequency offset"
   ]
  },
  {
   "cell_type": "code",
   "execution_count": 64,
   "metadata": {},
   "outputs": [
    {
     "data": {
      "text/html": [
       "-0.605"
      ],
      "text/latex": [
       "-0.605"
      ],
      "text/markdown": [
       "-0.605"
      ],
      "text/plain": [
       "[1] -0.605"
      ]
     },
     "metadata": {},
     "output_type": "display_data"
    }
   ],
   "source": [
    "(clock_offset <- system(paste0(\"kal -c \", best_channel, \" -g 49.6 -e 0\"), intern=TRUE) %>%\n",
    "    pluck(5) %>% strsplit(\":\") %>% pluck(1,2) %>% substr(2,nchar(.) - 4) %>% as.numeric)"
   ]
  },
  {
   "cell_type": "code",
   "execution_count": 98,
   "metadata": {},
   "outputs": [],
   "source": [
    "write_yaml(list(\"clock_offset\" = clock_offset), \"calibration.yaml\")"
   ]
  },
  {
   "cell_type": "code",
   "execution_count": null,
   "metadata": {},
   "outputs": [],
   "source": []
  }
 ],
 "metadata": {
  "kernelspec": {
   "display_name": "R",
   "language": "R",
   "name": "ir"
  },
  "language_info": {
   "codemirror_mode": "r",
   "file_extension": ".r",
   "mimetype": "text/x-r-source",
   "name": "R",
   "pygments_lexer": "r",
   "version": "3.3.3"
  }
 },
 "nbformat": 4,
 "nbformat_minor": 2
}
