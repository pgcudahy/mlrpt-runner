{
 "cells": [
  {
   "cell_type": "markdown",
   "metadata": {},
   "source": [
    "Calibrate the rtl-sdr dongle"
   ]
  },
  {
   "cell_type": "code",
   "execution_count": null,
   "metadata": {},
   "outputs": [],
   "source": [
    "newShift=$(timeout 100 kal -c $channel -g 49.6 -e $recentShift 2> /dev/null | tail -1 | cut -d \" \" -f 4)\n",
    "echo $newShift | tee $shiftFile\n",
    "\n",
    "kal -s GSM900 -e 0 -g 49.6 2> /dev/null | sed 's/ \\+/\\t/g' | cut -f 3,8 | sort -k2 -n -r | head -1 | cut -f 1)"
   ]
  },
  {
   "cell_type": "markdown",
   "metadata": {},
   "source": [
    "Use `kal` to find a nearby GSM station in the GSM900 band with a default offset of 0 and gain of 49.6"
   ]
  },
  {
   "cell_type": "code",
   "execution_count": null,
   "metadata": {},
   "outputs": [],
   "source": [
    "kal -s GSM900 -e 0 -g 49.6 | sed 's/ \\+/\\t/g' | cut -f 3,8 | sort -k2 -n -r | head -1 | cut -f 1"
   ]
  },
  {
   "cell_type": "code",
   "execution_count": null,
   "metadata": {},
   "outputs": [],
   "source": []
  }
 ],
 "metadata": {
  "kernelspec": {
   "display_name": "R",
   "language": "R",
   "name": "ir"
  },
  "language_info": {
   "codemirror_mode": "r",
   "file_extension": ".r",
   "mimetype": "text/x-r-source",
   "name": "R",
   "pygments_lexer": "r",
   "version": "3.6.0"
  }
 },
 "nbformat": 4,
 "nbformat_minor": 2
}
