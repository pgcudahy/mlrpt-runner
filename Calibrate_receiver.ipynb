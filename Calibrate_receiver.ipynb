{
 "cells": [
  {
   "cell_type": "markdown",
   "metadata": {},
   "source": [
    "# Calibrate the rtl-sdr dongle"
   ]
  },
  {
   "cell_type": "code",
   "execution_count": 1,
   "metadata": {},
   "outputs": [
    {
     "name": "stderr",
     "output_type": "stream",
     "text": [
      "── \u001b[1mAttaching packages\u001b[22m ─────────────────────────────────────── tidyverse 1.2.1 ──\n",
      "\u001b[32m✔\u001b[39m \u001b[34mggplot2\u001b[39m 3.2.1     \u001b[32m✔\u001b[39m \u001b[34mpurrr  \u001b[39m 0.3.2\n",
      "\u001b[32m✔\u001b[39m \u001b[34mtibble \u001b[39m 2.1.3     \u001b[32m✔\u001b[39m \u001b[34mdplyr  \u001b[39m 0.8.3\n",
      "\u001b[32m✔\u001b[39m \u001b[34mtidyr  \u001b[39m 1.0.0     \u001b[32m✔\u001b[39m \u001b[34mstringr\u001b[39m 1.4.0\n",
      "\u001b[32m✔\u001b[39m \u001b[34mreadr  \u001b[39m 1.3.1     \u001b[32m✔\u001b[39m \u001b[34mforcats\u001b[39m 0.4.0\n",
      "── \u001b[1mConflicts\u001b[22m ────────────────────────────────────────── tidyverse_conflicts() ──\n",
      "\u001b[31m✖\u001b[39m \u001b[34mdplyr\u001b[39m::\u001b[32mfilter()\u001b[39m masks \u001b[34mstats\u001b[39m::filter()\n",
      "\u001b[31m✖\u001b[39m \u001b[34mdplyr\u001b[39m::\u001b[32mlag()\u001b[39m    masks \u001b[34mstats\u001b[39m::lag()\n"
     ]
    }
   ],
   "source": [
    "library(tidyverse)"
   ]
  },
  {
   "cell_type": "code",
   "execution_count": 2,
   "metadata": {},
   "outputs": [],
   "source": [
    "library(httr)"
   ]
  },
  {
   "cell_type": "code",
   "execution_count": 3,
   "metadata": {},
   "outputs": [],
   "source": [
    "library(yaml)"
   ]
  },
  {
   "cell_type": "markdown",
   "metadata": {},
   "source": [
    "Source to functions in Functions.ipynb "
   ]
  },
  {
   "cell_type": "code",
   "execution_count": 4,
   "metadata": {},
   "outputs": [],
   "source": [
    "eval(parse(text = system2('jupyter', c('nbconvert', 'Functions.ipynb', '--to=script', '--stdout'), stdout = TRUE)))"
   ]
  },
  {
   "cell_type": "code",
   "execution_count": 5,
   "metadata": {},
   "outputs": [
    {
     "data": {
      "text/html": [
       "<span style=white-space:pre-wrap>'Running at  2019-09-29 14:17:56 GMT'</span>"
      ],
      "text/latex": [
       "'Running at  2019-09-29 14:17:56 GMT'"
      ],
      "text/markdown": [
       "<span style=white-space:pre-wrap>'Running at  2019-09-29 14:17:56 GMT'</span>"
      ],
      "text/plain": [
       "[1] \"Running at  2019-09-29 14:17:56 GMT\""
      ]
     },
     "metadata": {},
     "output_type": "display_data"
    }
   ],
   "source": [
    "paste(\"Running at \", Sys.time() %>% .POSIXct(\"GMT\"), \"GMT\")"
   ]
  },
  {
   "cell_type": "markdown",
   "metadata": {},
   "source": [
    "# Config"
   ]
  },
  {
   "cell_type": "code",
   "execution_count": 14,
   "metadata": {},
   "outputs": [],
   "source": [
    "config_list <- tryCatch({\n",
    "    read_yaml(\"configuration.yaml\")\n",
    "}, warning = function(w) {\n",
    "        print(paste0(\"No configuration data found in \", getwd()))\n",
    "        list(satellites=list(METEOR_M2=list(frequency=as.integer(137100000), norad_id=40069, priority=4),\n",
    "                            METEOR_M2_2=list(frequency=as.integer(137100000), norad_id=44387, priority=5),\n",
    "                            NOAA_15=list(frequency=as.integer(137620000), norad_id=25338 , priority=3),\n",
    "                            NOAA_18=list(frequency=as.integer(137912500), norad_id=28654, priority=2),\n",
    "                            NOAA_19=list(frequency=as.integer(137100000), norad_id=33591, priority=1)),\n",
    "             n2yo_api_key = \"&apiKey=CL4ZW2-LEYV8F-XRA2PC-46TQ\",\n",
    "             geonames_username = \"pgcudahy\",\n",
    "             minimum_observable_elevation = 20,\n",
    "             station_latitude = -29.53,\n",
    "             station_longitude = 30.25,\n",
    "             station_elevation = NULL,\n",
    "             minimum_observable_elevation = 20,\n",
    "             recording_directory = \"~/recordings\",\n",
    "             localTimeZone = Sys.timezone(),\n",
    "             clock_offset = NULL)\n",
    "}, error = function(e) {\n",
    "        print(paste0(\"There was an error in trying to load configuration data from \", getwd()))\n",
    "        list(satellites=list(METEOR_M2=list(frequency=137100000, norad_id=40069, priority=4),\n",
    "                            METEOR_M2_2=list(frequency=137100000, norad_id=44387, priority=5),\n",
    "                            NOAA_18=list(frequency=137912500, norad_id=28654, priority=2),\n",
    "                            NOAA_19=list(frequency=137100000, norad_id=33591, priority=1)),\n",
    "             n2yo_api_key =\" &apiKey=CL4ZW2-LEYV8F-XRA2PC-46TQ\",\n",
    "             geonames_username = \"pgcudahy\",\n",
    "             minimum_observable_elevation = 20,\n",
    "             station_latitude = -29.53,\n",
    "             station_longitude = 30.25,\n",
    "             station_elevation = NULL,\n",
    "             minimum_observable_elevation = 20,\n",
    "             recording_directory = \"~/recordings\",\n",
    "             localTimeZone = Sys.timezone(),\n",
    "             clock_offset = NULL)\n",
    "    }\n",
    ")"
   ]
  },
  {
   "cell_type": "code",
   "execution_count": 7,
   "metadata": {},
   "outputs": [],
   "source": [
    "config_list$station_elevation <- findStationElevation(config_list$station_elevation, \n",
    "                                                      config_list$station_latitude, \n",
    "                                                      config_list$station_longitude, \n",
    "                                                      config_list$geonames_username)"
   ]
  },
  {
   "cell_type": "markdown",
   "metadata": {},
   "source": [
    "Sanity check that your coordinates are close to a nearby city"
   ]
  },
  {
   "cell_type": "code",
   "execution_count": 8,
   "metadata": {},
   "outputs": [],
   "source": [
    "nearby_city <- findNearbyCity(config_list$station_latitude, config_list$station_longitude,\n",
    "                                config_list$geonames_username)"
   ]
  },
  {
   "cell_type": "code",
   "execution_count": 9,
   "metadata": {},
   "outputs": [
    {
     "name": "stdout",
     "output_type": "stream",
     "text": [
      "[1] \"Station is located near Merrivale, South Africa at an elevation of 1167 meters above sea level\"\n"
     ]
    }
   ],
   "source": [
    "print(paste0(\"Station is located near \", nearby_city$geonames[[1]]$toponymName, \", \",\n",
    "    nearby_city$geonames[[1]]$countryName, \" at an elevation of \", config_list$station_elevation,\n",
    "    \" meters above sea level\"))"
   ]
  },
  {
   "cell_type": "code",
   "execution_count": 10,
   "metadata": {},
   "outputs": [],
   "source": [
    "config_list$gain <- findDongleMaxGain(config_list$gain)"
   ]
  },
  {
   "cell_type": "code",
   "execution_count": 11,
   "metadata": {},
   "outputs": [],
   "source": [
    "config_list$clock_offset <- findClockOffset(config_list$clock_offset, config_list$gain)"
   ]
  },
  {
   "cell_type": "code",
   "execution_count": 17,
   "metadata": {},
   "outputs": [
    {
     "data": {
      "text/html": [
       "<dl>\n",
       "\t<dt>$satellites</dt>\n",
       "\t\t<dd><dl>\n",
       "\t<dt>$METEOR_M2</dt>\n",
       "\t\t<dd><dl>\n",
       "\t<dt>$frequency</dt>\n",
       "\t\t<dd>137100000</dd>\n",
       "\t<dt>$norad_id</dt>\n",
       "\t\t<dd>40069</dd>\n",
       "\t<dt>$priority</dt>\n",
       "\t\t<dd>4</dd>\n",
       "</dl>\n",
       "</dd>\n",
       "\t<dt>$METEOR_M2_2</dt>\n",
       "\t\t<dd><dl>\n",
       "\t<dt>$frequency</dt>\n",
       "\t\t<dd>137100000</dd>\n",
       "\t<dt>$norad_id</dt>\n",
       "\t\t<dd>44387</dd>\n",
       "\t<dt>$priority</dt>\n",
       "\t\t<dd>5</dd>\n",
       "</dl>\n",
       "</dd>\n",
       "\t<dt>$NOAA_15</dt>\n",
       "\t\t<dd><dl>\n",
       "\t<dt>$frequency</dt>\n",
       "\t\t<dd>137620000</dd>\n",
       "\t<dt>$norad_id</dt>\n",
       "\t\t<dd>25338</dd>\n",
       "\t<dt>$priority</dt>\n",
       "\t\t<dd>3</dd>\n",
       "</dl>\n",
       "</dd>\n",
       "\t<dt>$NOAA_18</dt>\n",
       "\t\t<dd><dl>\n",
       "\t<dt>$frequency</dt>\n",
       "\t\t<dd>137912500</dd>\n",
       "\t<dt>$norad_id</dt>\n",
       "\t\t<dd>28654</dd>\n",
       "\t<dt>$priority</dt>\n",
       "\t\t<dd>2</dd>\n",
       "</dl>\n",
       "</dd>\n",
       "\t<dt>$NOAA_19</dt>\n",
       "\t\t<dd><dl>\n",
       "\t<dt>$frequency</dt>\n",
       "\t\t<dd>137100000</dd>\n",
       "\t<dt>$norad_id</dt>\n",
       "\t\t<dd>33591</dd>\n",
       "\t<dt>$priority</dt>\n",
       "\t\t<dd>1</dd>\n",
       "</dl>\n",
       "</dd>\n",
       "</dl>\n",
       "</dd>\n",
       "\t<dt>$n2yo_api_key</dt>\n",
       "\t\t<dd>'&amp;apiKey=CL4ZW2-LEYV8F-XRA2PC-46TQ'</dd>\n",
       "\t<dt>$geonames_username</dt>\n",
       "\t\t<dd>'pgcudahy'</dd>\n",
       "\t<dt>$minimum_observable_elevation</dt>\n",
       "\t\t<dd>20</dd>\n",
       "\t<dt>$station_latitude</dt>\n",
       "\t\t<dd>-29.53</dd>\n",
       "\t<dt>$station_longitude</dt>\n",
       "\t\t<dd>30.25</dd>\n",
       "\t<dt>$station_elevation</dt>\n",
       "\t\t<dd>1167</dd>\n",
       "\t<dt>$localTimeZone</dt>\n",
       "\t\t<dd>'Africa/Johannesburg'</dd>\n",
       "\t<dt>$clock_offset</dt>\n",
       "\t\t<dd>-0.546</dd>\n",
       "\t<dt>$gain</dt>\n",
       "\t\t<dd>49.6</dd>\n",
       "\t<dt>$recording_directory</dt>\n",
       "\t\t<dd>'~/recordings'</dd>\n",
       "</dl>\n"
      ],
      "text/latex": [
       "\\begin{description}\n",
       "\\item[\\$satellites] \\begin{description}\n",
       "\\item[\\$METEOR\\_M2] \\begin{description}\n",
       "\\item[\\$frequency] 137100000\n",
       "\\item[\\$norad\\_id] 40069\n",
       "\\item[\\$priority] 4\n",
       "\\end{description}\n",
       "\n",
       "\\item[\\$METEOR\\_M2\\_2] \\begin{description}\n",
       "\\item[\\$frequency] 137100000\n",
       "\\item[\\$norad\\_id] 44387\n",
       "\\item[\\$priority] 5\n",
       "\\end{description}\n",
       "\n",
       "\\item[\\$NOAA\\_15] \\begin{description}\n",
       "\\item[\\$frequency] 137620000\n",
       "\\item[\\$norad\\_id] 25338\n",
       "\\item[\\$priority] 3\n",
       "\\end{description}\n",
       "\n",
       "\\item[\\$NOAA\\_18] \\begin{description}\n",
       "\\item[\\$frequency] 137912500\n",
       "\\item[\\$norad\\_id] 28654\n",
       "\\item[\\$priority] 2\n",
       "\\end{description}\n",
       "\n",
       "\\item[\\$NOAA\\_19] \\begin{description}\n",
       "\\item[\\$frequency] 137100000\n",
       "\\item[\\$norad\\_id] 33591\n",
       "\\item[\\$priority] 1\n",
       "\\end{description}\n",
       "\n",
       "\\end{description}\n",
       "\n",
       "\\item[\\$n2yo\\_api\\_key] '\\&apiKey=CL4ZW2-LEYV8F-XRA2PC-46TQ'\n",
       "\\item[\\$geonames\\_username] 'pgcudahy'\n",
       "\\item[\\$minimum\\_observable\\_elevation] 20\n",
       "\\item[\\$station\\_latitude] -29.53\n",
       "\\item[\\$station\\_longitude] 30.25\n",
       "\\item[\\$station\\_elevation] 1167\n",
       "\\item[\\$localTimeZone] 'Africa/Johannesburg'\n",
       "\\item[\\$clock\\_offset] -0.546\n",
       "\\item[\\$gain] 49.6\n",
       "\\item[\\$recording\\_directory] '\\textasciitilde{}/recordings'\n",
       "\\end{description}\n"
      ],
      "text/markdown": [
       "$satellites\n",
       ":   $METEOR_M2\n",
       ":   $frequency\n",
       ":   137100000\n",
       "$norad_id\n",
       ":   40069\n",
       "$priority\n",
       ":   4\n",
       "\n",
       "\n",
       "\n",
       "$METEOR_M2_2\n",
       ":   $frequency\n",
       ":   137100000\n",
       "$norad_id\n",
       ":   44387\n",
       "$priority\n",
       ":   5\n",
       "\n",
       "\n",
       "\n",
       "$NOAA_15\n",
       ":   $frequency\n",
       ":   137620000\n",
       "$norad_id\n",
       ":   25338\n",
       "$priority\n",
       ":   3\n",
       "\n",
       "\n",
       "\n",
       "$NOAA_18\n",
       ":   $frequency\n",
       ":   137912500\n",
       "$norad_id\n",
       ":   28654\n",
       "$priority\n",
       ":   2\n",
       "\n",
       "\n",
       "\n",
       "$NOAA_19\n",
       ":   $frequency\n",
       ":   137100000\n",
       "$norad_id\n",
       ":   33591\n",
       "$priority\n",
       ":   1\n",
       "\n",
       "\n",
       "\n",
       "\n",
       "\n",
       "\n",
       "$n2yo_api_key\n",
       ":   '&amp;apiKey=CL4ZW2-LEYV8F-XRA2PC-46TQ'\n",
       "$geonames_username\n",
       ":   'pgcudahy'\n",
       "$minimum_observable_elevation\n",
       ":   20\n",
       "$station_latitude\n",
       ":   -29.53\n",
       "$station_longitude\n",
       ":   30.25\n",
       "$station_elevation\n",
       ":   1167\n",
       "$localTimeZone\n",
       ":   'Africa/Johannesburg'\n",
       "$clock_offset\n",
       ":   -0.546\n",
       "$gain\n",
       ":   49.6\n",
       "$recording_directory\n",
       ":   '~/recordings'\n",
       "\n",
       "\n"
      ],
      "text/plain": [
       "$satellites\n",
       "$satellites$METEOR_M2\n",
       "$satellites$METEOR_M2$frequency\n",
       "[1] 137100000\n",
       "\n",
       "$satellites$METEOR_M2$norad_id\n",
       "[1] 40069\n",
       "\n",
       "$satellites$METEOR_M2$priority\n",
       "[1] 4\n",
       "\n",
       "\n",
       "$satellites$METEOR_M2_2\n",
       "$satellites$METEOR_M2_2$frequency\n",
       "[1] 137100000\n",
       "\n",
       "$satellites$METEOR_M2_2$norad_id\n",
       "[1] 44387\n",
       "\n",
       "$satellites$METEOR_M2_2$priority\n",
       "[1] 5\n",
       "\n",
       "\n",
       "$satellites$NOAA_15\n",
       "$satellites$NOAA_15$frequency\n",
       "[1] 137620000\n",
       "\n",
       "$satellites$NOAA_15$norad_id\n",
       "[1] 25338\n",
       "\n",
       "$satellites$NOAA_15$priority\n",
       "[1] 3\n",
       "\n",
       "\n",
       "$satellites$NOAA_18\n",
       "$satellites$NOAA_18$frequency\n",
       "[1] 137912500\n",
       "\n",
       "$satellites$NOAA_18$norad_id\n",
       "[1] 28654\n",
       "\n",
       "$satellites$NOAA_18$priority\n",
       "[1] 2\n",
       "\n",
       "\n",
       "$satellites$NOAA_19\n",
       "$satellites$NOAA_19$frequency\n",
       "[1] 137100000\n",
       "\n",
       "$satellites$NOAA_19$norad_id\n",
       "[1] 33591\n",
       "\n",
       "$satellites$NOAA_19$priority\n",
       "[1] 1\n",
       "\n",
       "\n",
       "\n",
       "$n2yo_api_key\n",
       "[1] \"&apiKey=CL4ZW2-LEYV8F-XRA2PC-46TQ\"\n",
       "\n",
       "$geonames_username\n",
       "[1] \"pgcudahy\"\n",
       "\n",
       "$minimum_observable_elevation\n",
       "[1] 20\n",
       "\n",
       "$station_latitude\n",
       "[1] -29.53\n",
       "\n",
       "$station_longitude\n",
       "[1] 30.25\n",
       "\n",
       "$station_elevation\n",
       "[1] 1167\n",
       "\n",
       "$localTimeZone\n",
       "[1] \"Africa/Johannesburg\"\n",
       "\n",
       "$clock_offset\n",
       "[1] -0.546\n",
       "\n",
       "$gain\n",
       "[1] 49.6\n",
       "\n",
       "$recording_directory\n",
       "[1] \"~/recordings\"\n"
      ]
     },
     "metadata": {},
     "output_type": "display_data"
    }
   ],
   "source": [
    "config_list"
   ]
  },
  {
   "cell_type": "code",
   "execution_count": 18,
   "metadata": {},
   "outputs": [],
   "source": [
    "write_yaml(config_list, \"configuration.yaml\")"
   ]
  },
  {
   "cell_type": "code",
   "execution_count": null,
   "metadata": {},
   "outputs": [],
   "source": []
  }
 ],
 "metadata": {
  "kernelspec": {
   "display_name": "R",
   "language": "R",
   "name": "ir"
  },
  "language_info": {
   "codemirror_mode": "r",
   "file_extension": ".r",
   "mimetype": "text/x-r-source",
   "name": "R",
   "pygments_lexer": "r",
   "version": "3.3.3"
  }
 },
 "nbformat": 4,
 "nbformat_minor": 2
}
