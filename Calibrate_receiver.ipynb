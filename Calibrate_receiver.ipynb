{
 "cells": [
  {
   "cell_type": "markdown",
   "metadata": {},
   "source": [
    "# Calibrate the rtl-sdr dongle"
   ]
  },
  {
   "cell_type": "code",
   "execution_count": 1,
   "metadata": {},
   "outputs": [
    {
     "name": "stderr",
     "output_type": "stream",
     "text": [
      "── \u001b[1mAttaching packages\u001b[22m ─────────────────────────────────────── tidyverse 1.2.1 ──\n",
      "\u001b[32m✔\u001b[39m \u001b[34mggplot2\u001b[39m 3.2.1     \u001b[32m✔\u001b[39m \u001b[34mpurrr  \u001b[39m 0.3.2\n",
      "\u001b[32m✔\u001b[39m \u001b[34mtibble \u001b[39m 2.1.3     \u001b[32m✔\u001b[39m \u001b[34mdplyr  \u001b[39m 0.8.3\n",
      "\u001b[32m✔\u001b[39m \u001b[34mtidyr  \u001b[39m 1.0.0     \u001b[32m✔\u001b[39m \u001b[34mstringr\u001b[39m 1.4.0\n",
      "\u001b[32m✔\u001b[39m \u001b[34mreadr  \u001b[39m 1.3.1     \u001b[32m✔\u001b[39m \u001b[34mforcats\u001b[39m 0.4.0\n",
      "── \u001b[1mConflicts\u001b[22m ────────────────────────────────────────── tidyverse_conflicts() ──\n",
      "\u001b[31m✖\u001b[39m \u001b[34mdplyr\u001b[39m::\u001b[32mfilter()\u001b[39m masks \u001b[34mstats\u001b[39m::filter()\n",
      "\u001b[31m✖\u001b[39m \u001b[34mdplyr\u001b[39m::\u001b[32mlag()\u001b[39m    masks \u001b[34mstats\u001b[39m::lag()\n"
     ]
    }
   ],
   "source": [
    "library(tidyverse)"
   ]
  },
  {
   "cell_type": "code",
   "execution_count": 2,
   "metadata": {},
   "outputs": [],
   "source": [
    "library(httr)"
   ]
  },
  {
   "cell_type": "code",
   "execution_count": 3,
   "metadata": {},
   "outputs": [],
   "source": [
    "library(yaml)"
   ]
  },
  {
   "cell_type": "markdown",
   "metadata": {},
   "source": [
    "Source to functions in Functions.ipynb "
   ]
  },
  {
   "cell_type": "code",
   "execution_count": 4,
   "metadata": {},
   "outputs": [],
   "source": [
    "eval(parse(text = system2('jupyter', c('nbconvert', 'Functions.ipynb', '--to=script', '--stdout'), stdout = TRUE)))"
   ]
  },
  {
   "cell_type": "code",
   "execution_count": 5,
   "metadata": {},
   "outputs": [
    {
     "data": {
      "text/html": [
       "<span style=white-space:pre-wrap>'Running at  2019-09-29 14:17:56 GMT'</span>"
      ],
      "text/latex": [
       "'Running at  2019-09-29 14:17:56 GMT'"
      ],
      "text/markdown": [
       "<span style=white-space:pre-wrap>'Running at  2019-09-29 14:17:56 GMT'</span>"
      ],
      "text/plain": [
       "[1] \"Running at  2019-09-29 14:17:56 GMT\""
      ]
     },
     "metadata": {},
     "output_type": "display_data"
    }
   ],
   "source": [
    "paste(\"Running at \", Sys.time() %>% .POSIXct(\"GMT\"), \"GMT\")"
   ]
  },
  {
   "cell_type": "markdown",
   "metadata": {},
   "source": [
    "# Config"
   ]
  },
  {
   "cell_type": "code",
   "execution_count": 6,
   "metadata": {},
   "outputs": [],
   "source": [
    "config_list <- tryCatch({\n",
    "    read_yaml(\"configuration.yaml\")\n",
    "}, warning = function(w) {\n",
    "        print(paste0(\"No configuration data found in \", getwd()))\n",
    "        list(satellites=list(METEOR_M2=list(frequency=as.integer(137100000), norad_id=40069, priority=4),\n",
    "                            METEOR_M2_2=list(frequency=as.integer(137100000), norad_id=44387, priority=5),\n",
    "                            NOAA_15=list(frequency=as.integer(137620000), norad_id=25338 , priority=3),\n",
    "                            NOAA_18=list(frequency=as.integer(137912500), norad_id=28654, priority=2),\n",
    "                            NOAA_19=list(frequency=as.integer(137100000), norad_id=33591, priority=1)),\n",
    "             n2yo_api_key = \"&apiKey=CL4ZW2-LEYV8F-XRA2PC-46TQ\",\n",
    "             geonames_username = \"pgcudahy\",\n",
    "             minimum_observable_elevation = 20,\n",
    "             station_latitude = -29.53,\n",
    "             station_longitude = 30.25,\n",
    "             station_elevation = NULL,\n",
    "             minimum_observable_elevation = 20,\n",
    "             localTimeZone = Sys.timezone(),\n",
    "             clock_offset = NULL)\n",
    "}, error = function(e) {\n",
    "        print(paste0(\"There was an error in trying to load configuration data from \", getwd()))\n",
    "        list(satellites=list(METEOR_M2=list(frequency=137100000, norad_id=40069, priority=4),\n",
    "                            METEOR_M2_2=list(frequency=137100000, norad_id=44387, priority=5),\n",
    "                            NOAA_18=list(frequency=137912500, norad_id=28654, priority=2),\n",
    "                            NOAA_19=list(frequency=137100000, norad_id=33591, priority=1)),\n",
    "             n2yo_api_key =\" &apiKey=CL4ZW2-LEYV8F-XRA2PC-46TQ\",\n",
    "             geonames_username = \"pgcudahy\",\n",
    "             minimum_observable_elevation = 20,\n",
    "             station_latitude = -29.53,\n",
    "             station_longitude = 30.25,\n",
    "             station_elevation = NULL,\n",
    "             minimum_observable_elevation = 20,\n",
    "             localTimeZone = Sys.timezone(),\n",
    "             clock_offset = NULL)\n",
    "    }\n",
    ")"
   ]
  },
  {
   "cell_type": "code",
   "execution_count": 7,
   "metadata": {},
   "outputs": [],
   "source": [
    "config_list$station_elevation <- findStationElevation(config_list$station_elevation, \n",
    "                                                      config_list$station_latitude, \n",
    "                                                      config_list$station_longitude, \n",
    "                                                      config_list$geonames_username)"
   ]
  },
  {
   "cell_type": "markdown",
   "metadata": {},
   "source": [
    "Sanity check that your coordinates are close to a nearby city"
   ]
  },
  {
   "cell_type": "code",
   "execution_count": 8,
   "metadata": {},
   "outputs": [],
   "source": [
    "nearby_city <- findNearbyCity(config_list$station_latitude, config_list$station_longitude,\n",
    "                                config_list$geonames_username)"
   ]
  },
  {
   "cell_type": "code",
   "execution_count": 9,
   "metadata": {},
   "outputs": [
    {
     "name": "stdout",
     "output_type": "stream",
     "text": [
      "[1] \"Station is located near Merrivale, South Africa at an elevation of 1167 meters above sea level\"\n"
     ]
    }
   ],
   "source": [
    "print(paste0(\"Station is located near \", nearby_city$geonames[[1]]$toponymName, \", \",\n",
    "    nearby_city$geonames[[1]]$countryName, \" at an elevation of \", config_list$station_elevation,\n",
    "    \" meters above sea level\"))"
   ]
  },
  {
   "cell_type": "code",
   "execution_count": 10,
   "metadata": {},
   "outputs": [],
   "source": [
    "config_list$gain <- findDongleMaxGain(config_list$gain)"
   ]
  },
  {
   "cell_type": "code",
   "execution_count": 11,
   "metadata": {},
   "outputs": [],
   "source": [
    "config_list$clock_offset <- findClockOffset(config_list$clock_offset, config_list$gain)"
   ]
  },
  {
   "cell_type": "code",
   "execution_count": 12,
   "metadata": {},
   "outputs": [],
   "source": [
    "write_yaml(config_list, \"configuration.yaml\")"
   ]
  }
 ],
 "metadata": {
  "kernelspec": {
   "display_name": "R",
   "language": "R",
   "name": "ir"
  },
  "language_info": {
   "codemirror_mode": "r",
   "file_extension": ".r",
   "mimetype": "text/x-r-source",
   "name": "R",
   "pygments_lexer": "r",
   "version": "3.3.3"
  }
 },
 "nbformat": 4,
 "nbformat_minor": 2
}
