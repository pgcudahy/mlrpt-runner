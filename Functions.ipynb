{
 "cells": [
  {
   "cell_type": "markdown",
   "metadata": {},
   "source": [
    "# API helper calls"
   ]
  },
  {
   "cell_type": "markdown",
   "metadata": {},
   "source": [
    "Try to GET data from a url. If no response, retry `n_tries` times with exponential backoff."
   ]
  },
  {
   "cell_type": "code",
   "execution_count": 109,
   "metadata": {},
   "outputs": [],
   "source": [
    "possibly_get_data <- function(url, n_tries, ...){\n",
    "\n",
    "    rate <- rate_backoff(pause_base = 1, max_times = n_tries)\n",
    "    possibly_insistent_get <- insistently(GET, rate, quiet = FALSE) %>% possibly(otherwise = NULL)\n",
    "\n",
    "    possibly_insistent_get(url, ...)\n",
    "}"
   ]
  },
  {
   "cell_type": "code",
   "execution_count": 1,
   "metadata": {},
   "outputs": [],
   "source": [
    "testResponse <- function (response_object) {\n",
    "    if(is.null(response_object)) {\n",
    "        print(\"\\nUnable to fetch updated data, is the network up?\")\n",
    "    }\n",
    "    else if(response_object$status_code < 200 | response_object$status_code >= 400) {\n",
    "        print(paste(\"\\nUnable to update data \\nstatus code:\", x$status_code, \"\\nerror messge:\", x$error))\n",
    "    }\n",
    "    else {\n",
    "        print(\"Successfully fetched data\")\n",
    "    }\n",
    "}"
   ]
  },
  {
   "cell_type": "markdown",
   "metadata": {},
   "source": [
    "# Get base station parameters"
   ]
  },
  {
   "cell_type": "markdown",
   "metadata": {},
   "source": [
    "Check to see if a station_elevation is present, and if NULL, use the geonames.org webservice to provide an elevation for a given latitude and longitude"
   ]
  },
  {
   "cell_type": "code",
   "execution_count": 110,
   "metadata": {},
   "outputs": [],
   "source": [
    "findStationElevation <- function(station_elevation, station_latitude, station_longitude, geonames_username) {\n",
    "    if (is.null(station_elevation)) { \n",
    "        station_elevation <- possibly_get_data(\n",
    "            paste0(\"http://api.geonames.org/gtopo30JSON?lat=\", station_latitude, \n",
    "                   \"&lng=\", station_longitude, \"&username=\", \n",
    "                   geonames_username), 8) %>% content %>% pluck(\"gtopo30\")}\n",
    "    station_elevation\n",
    "}"
   ]
  },
  {
   "cell_type": "markdown",
   "metadata": {},
   "source": [
    "Perform a sanity check that the given coordinates are near where you expect them"
   ]
  },
  {
   "cell_type": "code",
   "execution_count": null,
   "metadata": {},
   "outputs": [],
   "source": [
    "findNearbyCity <- function(station_latitude, station_longitude, geonames_username) {\n",
    "    possibly_get_data(paste0(\"http://api.geonames.org/findNearbyPlaceNameJSON?lat=\", \n",
    "                                              station_latitude, \"&lng=\", station_longitude, \"&username=\", \n",
    "                                              geonames_username), 8) %>% content\n",
    "}"
   ]
  },
  {
   "cell_type": "markdown",
   "metadata": {},
   "source": [
    "# Get dongle parameters"
   ]
  },
  {
   "cell_type": "markdown",
   "metadata": {},
   "source": [
    "## Parse the output of rtl_test to find the maximum gain of the dongle\n",
    "\n",
    "Need to work on suppressing warnings"
   ]
  },
  {
   "cell_type": "code",
   "execution_count": 100,
   "metadata": {},
   "outputs": [],
   "source": [
    "findDongleMaxGain <- function(gain) {\n",
    "    if (is.null(gain)) {\n",
    "        rtl_test_output <- system2('timeout', c('2', 'rtl_test'), stdout = TRUE, stderr = TRUE)\n",
    "        if(any(grepl(\"Failed to open\", rtl_test_output))) {\n",
    "            print(\"Unable to open RTL SDR device. Is it busy or missing?\")\n",
    "            stop()\n",
    "        }\n",
    "        if(any(grepl(\"Supported gain\", rtl_test_output))) {\n",
    "            gain <- rtl_test_output %>% pluck(grep(\"Supported\", .)) %>% strsplit(\" \") %>% \n",
    "                unlist %>% tail(n=1) %>% as.numeric\n",
    "        }\n",
    "    }\n",
    "    return(gain)\n",
    "}"
   ]
  },
  {
   "cell_type": "markdown",
   "metadata": {},
   "source": [
    "## Find the offset for the internal clock on the dongle. \n",
    "Going to use the `kal` command and for this we need to set the gain, so first check to see if that's in the config.  Then use `kal` to find a nearby GSM station in the GSM900 band with a default offset of 0. Then use that station to test the offset"
   ]
  },
  {
   "cell_type": "code",
   "execution_count": 99,
   "metadata": {},
   "outputs": [],
   "source": [
    "findClockOffset <- function(clock_offset, gain) {\n",
    "    if (is.null(gain)) {\n",
    "        gain <- findDongleMaxGain(gain)\n",
    "    }\n",
    "    if (is.null(clock_offset)) {\n",
    "        print(\"No clock offset found. Running kal. This will take a few minutes\")\n",
    "        flush.console()\n",
    "        best_channel <- system(paste0(\"kal -s GSM900 -e 0 -g \", gain, \" | sed 's/ \\\\+/\\\\t/g' | cut -f 3,8 | \",\n",
    "                              \"sort -k2 -n -r | head -1 | cut -f 1\"),\n",
    "                       intern = TRUE)\n",
    "        if(length(best_channel > 0)) {\n",
    "            print(\"GSM station found. Calibrating dongle drift\")\n",
    "            flush.console()\n",
    "            clock_offset <- system(paste0(\"kal -c \", best_channel, \" -g \", gain, \" -e 0\"), intern=TRUE) %>%\n",
    "                pluck(5) %>% strsplit(\":\") %>% pluck(1,2) %>% substr(2,nchar(.) - 4) %>% as.numeric\n",
    "            }\n",
    "        else {\n",
    "            print(\"error finding gsm channel\")\n",
    "            clock_offset <- NULL\n",
    "        }\n",
    "    }\n",
    "    return(clock_offset)\n",
    "}"
   ]
  },
  {
   "cell_type": "markdown",
   "metadata": {},
   "source": [
    "# Access the N2YO API"
   ]
  },
  {
   "cell_type": "code",
   "execution_count": 2,
   "metadata": {},
   "outputs": [],
   "source": [
    "generateN2YOURL <- function(config_list) {\n",
    "    config_list$satellites %>% \n",
    "    map(\"norad_id\") %>% \n",
    "    paste(\"https://www.n2yo.com/rest/v1/satellite/radiopasses\", ., \n",
    "          config_list$station_latitude, config_list$station_longitude, config_list$station_elevation, \n",
    "          10, config_list$minimum_observable_elevation, config_list$n2yo_api_key, sep=\"/\")}"
   ]
  },
  {
   "cell_type": "markdown",
   "metadata": {},
   "source": [
    "# Scheduling recordings"
   ]
  },
  {
   "cell_type": "markdown",
   "metadata": {},
   "source": [
    "Looks for pairs of rows that have overlapping times, then selects the row with the higher priority value (since a low priority number eg 1 is what we want to record). \n",
    "\n",
    "May break if there are three consecutive passes that overlap..."
   ]
  },
  {
   "cell_type": "code",
   "execution_count": 3,
   "metadata": {},
   "outputs": [],
   "source": [
    "passesToDrop <- function(df) {\n",
    "    df %>% \n",
    "        filter(endUTC > lead(startUTC) | lag(endUTC) > startUTC) %>% \n",
    "        mutate(group = ({seq(1, nrow(.)/2)} %>% \n",
    "        rep(each=2))) %>% \n",
    "        group_by(group) %>% \n",
    "        filter(priority == max(priority))\n",
    "    }"
   ]
  },
  {
   "cell_type": "code",
   "execution_count": null,
   "metadata": {},
   "outputs": [],
   "source": []
  }
 ],
 "metadata": {
  "kernelspec": {
   "display_name": "R",
   "language": "R",
   "name": "ir"
  },
  "language_info": {
   "codemirror_mode": "r",
   "file_extension": ".r",
   "mimetype": "text/x-r-source",
   "name": "R",
   "pygments_lexer": "r",
   "version": "3.3.3"
  }
 },
 "nbformat": 4,
 "nbformat_minor": 2
}
