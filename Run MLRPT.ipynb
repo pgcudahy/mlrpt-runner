{
 "cells": [
  {
   "cell_type": "markdown",
   "metadata": {},
   "source": [
    "# Schedule recordings using saved orbital data"
   ]
  },
  {
   "cell_type": "code",
   "execution_count": 1,
   "metadata": {},
   "outputs": [
    {
     "name": "stderr",
     "output_type": "stream",
     "text": [
      "Registered S3 methods overwritten by 'ggplot2':\n",
      "  method         from \n",
      "  [.quosures     rlang\n",
      "  c.quosures     rlang\n",
      "  print.quosures rlang\n",
      "── \u001b[1mAttaching packages\u001b[22m ─────────────────────────────────────── tidyverse 1.2.1 ──\n",
      "\u001b[32m✔\u001b[39m \u001b[34mggplot2\u001b[39m 3.1.1     \u001b[32m✔\u001b[39m \u001b[34mpurrr  \u001b[39m 0.3.2\n",
      "\u001b[32m✔\u001b[39m \u001b[34mtibble \u001b[39m 2.1.3     \u001b[32m✔\u001b[39m \u001b[34mdplyr  \u001b[39m 0.8.3\n",
      "\u001b[32m✔\u001b[39m \u001b[34mtidyr  \u001b[39m 0.8.3     \u001b[32m✔\u001b[39m \u001b[34mstringr\u001b[39m 1.4.0\n",
      "\u001b[32m✔\u001b[39m \u001b[34mreadr  \u001b[39m 1.3.1     \u001b[32m✔\u001b[39m \u001b[34mforcats\u001b[39m 0.4.0\n",
      "── \u001b[1mConflicts\u001b[22m ────────────────────────────────────────── tidyverse_conflicts() ──\n",
      "\u001b[31m✖\u001b[39m \u001b[34mdplyr\u001b[39m::\u001b[32mfilter()\u001b[39m masks \u001b[34mstats\u001b[39m::filter()\n",
      "\u001b[31m✖\u001b[39m \u001b[34mdplyr\u001b[39m::\u001b[32mlag()\u001b[39m    masks \u001b[34mstats\u001b[39m::lag()\n"
     ]
    }
   ],
   "source": [
    "library(tidyverse)"
   ]
  },
  {
   "cell_type": "code",
   "execution_count": 2,
   "metadata": {},
   "outputs": [
    {
     "name": "stderr",
     "output_type": "stream",
     "text": [
      "\n",
      "Attaching package: ‘lubridate’\n",
      "\n",
      "The following object is masked from ‘package:base’:\n",
      "\n",
      "    date\n",
      "\n"
     ]
    }
   ],
   "source": [
    "library(lubridate)"
   ]
  },
  {
   "cell_type": "code",
   "execution_count": 14,
   "metadata": {},
   "outputs": [],
   "source": [
    "library(yaml)"
   ]
  },
  {
   "cell_type": "code",
   "execution_count": 3,
   "metadata": {},
   "outputs": [
    {
     "name": "stderr",
     "output_type": "stream",
     "text": [
      "\n",
      "Attaching package: ‘assertthat’\n",
      "\n",
      "The following object is masked from ‘package:tibble’:\n",
      "\n",
      "    has_name\n",
      "\n"
     ]
    }
   ],
   "source": [
    "library(assertthat)"
   ]
  },
  {
   "cell_type": "code",
   "execution_count": 4,
   "metadata": {},
   "outputs": [
    {
     "data": {
      "text/html": [
       "<span style=white-space:pre-wrap>'Running at  2019-09-22 10:28:01 GMT'</span>"
      ],
      "text/latex": [
       "'Running at  2019-09-22 10:28:01 GMT'"
      ],
      "text/markdown": [
       "<span style=white-space:pre-wrap>'Running at  2019-09-22 10:28:01 GMT'</span>"
      ],
      "text/plain": [
       "[1] \"Running at  2019-09-22 10:28:01 GMT\""
      ]
     },
     "metadata": {},
     "output_type": "display_data"
    }
   ],
   "source": [
    "paste(\"Running at \", Sys.time() %>% .POSIXct(\"GMT\"), \"GMT\")"
   ]
  },
  {
   "cell_type": "code",
   "execution_count": 5,
   "metadata": {},
   "outputs": [
    {
     "data": {
      "text/html": [
       "TRUE"
      ],
      "text/latex": [
       "TRUE"
      ],
      "text/markdown": [
       "TRUE"
      ],
      "text/plain": [
       "[1] TRUE"
      ]
     },
     "metadata": {},
     "output_type": "display_data"
    }
   ],
   "source": [
    "assert_that(file.exists(\"satellite_data_df.rds\"),\n",
    "            msg = \"No satellite data files found on disk. Have you run `Satellite_orbital_data`?\")"
   ]
  },
  {
   "cell_type": "code",
   "execution_count": 6,
   "metadata": {},
   "outputs": [],
   "source": [
    "satellite_data_df <- readRDS(\"satellite_data_df.rds\")"
   ]
  },
  {
   "cell_type": "code",
   "execution_count": 13,
   "metadata": {},
   "outputs": [
    {
     "ename": "ERROR",
     "evalue": "Error in read_yaml(\"calibration.yaml\"): could not find function \"read_yaml\"\n",
     "output_type": "error",
     "traceback": [
      "Error in read_yaml(\"calibration.yaml\"): could not find function \"read_yaml\"\nTraceback:\n"
     ]
    }
   ],
   "source": [
    "read_yaml(\"calibration.yaml\")"
   ]
  },
  {
   "cell_type": "markdown",
   "metadata": {},
   "source": [
    "## Convert to satellite passes each day"
   ]
  },
  {
   "cell_type": "markdown",
   "metadata": {},
   "source": [
    "Get the current time in UTC"
   ]
  },
  {
   "cell_type": "code",
   "execution_count": 7,
   "metadata": {},
   "outputs": [],
   "source": [
    "current_time_utc <- Sys.time() %>% .POSIXct(\"GMT\")"
   ]
  },
  {
   "cell_type": "markdown",
   "metadata": {},
   "source": [
    "Make sure we have a future satellite pass in the data, then filter out any past passes."
   ]
  },
  {
   "cell_type": "code",
   "execution_count": 8,
   "metadata": {},
   "outputs": [
    {
     "data": {
      "text/html": [
       "TRUE"
      ],
      "text/latex": [
       "TRUE"
      ],
      "text/markdown": [
       "TRUE"
      ],
      "text/plain": [
       "[1] TRUE"
      ]
     },
     "metadata": {},
     "output_type": "display_data"
    }
   ],
   "source": [
    "assert_that(nrow(satellite_data_df %>% filter(startUTC > current_time_utc)) > 0,\n",
    "            msg = \"No future satellite orbital data available\")"
   ]
  },
  {
   "cell_type": "raw",
   "metadata": {},
   "source": [
    "Get rid of old passes"
   ]
  },
  {
   "cell_type": "code",
   "execution_count": 9,
   "metadata": {},
   "outputs": [],
   "source": [
    "satellite_data_df <- satellite_data_df %>% filter(startUTC > current_time_utc)"
   ]
  },
  {
   "cell_type": "markdown",
   "metadata": {},
   "source": [
    "## Format systemd / mlrpt commands\n",
    "\n",
    "For systemd, using `systemd-run` rather than the usual template based form since these are one-off non-recurring commands. The argument `--user` runs the command as the user who scheduled it. `--unit` gives the job a name. The argument `--on-calendar` schedules the start and needs to be one minute before the satellite pass to give systemd and mlrpt time to start up. The format is yyyy-mm-dd HH:MM in **local time**. Documentation at https://www.freedesktop.org/software/systemd/man/systemd-run.html\n",
    "\n",
    "For `mlrpt` need arguments in the form of `mlrpt -s $startTime-$stopTime -t $duration`. Start and stop time are in the format HHMM in **UTC**. Duration is how long the command needs to run (in **minutes**) from start to shut-down. Make it 3 minutes longer than the time of the satellite pass to give time for start-up, and at the end, decoding and saving images."
   ]
  },
  {
   "cell_type": "code",
   "execution_count": 10,
   "metadata": {
    "scrolled": true
   },
   "outputs": [
    {
     "data": {
      "text/html": [
       "<ol class=list-inline>\n",
       "\t<li>'systemd-run --user --unit=\"mlrpt_2019-09-22_20:33\" --on-calendar=\"2019-09-22 20:33\" /usr/local/bin/mlrpt -s 1834-1849 -t 16'</li>\n",
       "\t<li>'systemd-run --user --unit=\"mlrpt_2019-09-23_07:49\" --on-calendar=\"2019-09-23 07:49\" /usr/local/bin/mlrpt -s 0550-0606 -t 16'</li>\n",
       "\t<li>'systemd-run --user --unit=\"mlrpt_2019-09-23_20:13\" --on-calendar=\"2019-09-23 20:13\" /usr/local/bin/mlrpt -s 1814-1829 -t 16'</li>\n",
       "\t<li>'systemd-run --user --unit=\"mlrpt_2019-09-24_07:30\" --on-calendar=\"2019-09-24 07:30\" /usr/local/bin/mlrpt -s 0531-0546 -t 15'</li>\n",
       "\t<li>'systemd-run --user --unit=\"mlrpt_2019-09-24_19:54\" --on-calendar=\"2019-09-24 19:54\" /usr/local/bin/mlrpt -s 1755-1809 -t 15'</li>\n",
       "\t<li>'systemd-run --user --unit=\"mlrpt_2019-09-24_21:34\" --on-calendar=\"2019-09-24 21:34\" /usr/local/bin/mlrpt -s 1935-1949 -t 14'</li>\n",
       "\t<li>'systemd-run --user --unit=\"mlrpt_2019-09-25_07:10\" --on-calendar=\"2019-09-25 07:10\" /usr/local/bin/mlrpt -s 0511-0526 -t 15'</li>\n",
       "\t<li>'systemd-run --user --unit=\"mlrpt_2019-09-25_08:50\" --on-calendar=\"2019-09-25 08:50\" /usr/local/bin/mlrpt -s 0651-0705 -t 15'</li>\n",
       "\t<li>'systemd-run --user --unit=\"mlrpt_2019-09-25_19:34\" --on-calendar=\"2019-09-25 19:34\" /usr/local/bin/mlrpt -s 1735-1749 -t 14'</li>\n",
       "\t<li>'systemd-run --user --unit=\"mlrpt_2019-09-25_21:14\" --on-calendar=\"2019-09-25 21:14\" /usr/local/bin/mlrpt -s 1915-1929 -t 15'</li>\n",
       "\t<li>'systemd-run --user --unit=\"mlrpt_2019-09-26_08:30\" --on-calendar=\"2019-09-26 08:30\" /usr/local/bin/mlrpt -s 0631-0646 -t 15'</li>\n",
       "\t<li>'systemd-run --user --unit=\"mlrpt_2019-09-26_20:54\" --on-calendar=\"2019-09-26 20:54\" /usr/local/bin/mlrpt -s 1855-1910 -t 16'</li>\n",
       "\t<li>'systemd-run --user --unit=\"mlrpt_2019-09-27_08:10\" --on-calendar=\"2019-09-27 08:10\" /usr/local/bin/mlrpt -s 0611-0626 -t 16'</li>\n",
       "\t<li>'systemd-run --user --unit=\"mlrpt_2019-09-27_20:34\" --on-calendar=\"2019-09-27 20:34\" /usr/local/bin/mlrpt -s 1835-1850 -t 16'</li>\n",
       "\t<li>'systemd-run --user --unit=\"mlrpt_2019-09-28_07:50\" --on-calendar=\"2019-09-28 07:50\" /usr/local/bin/mlrpt -s 0551-0606 -t 16'</li>\n",
       "\t<li>'systemd-run --user --unit=\"mlrpt_2019-09-28_20:14\" --on-calendar=\"2019-09-28 20:14\" /usr/local/bin/mlrpt -s 1815-1830 -t 16'</li>\n",
       "\t<li>'systemd-run --user --unit=\"mlrpt_2019-09-29_07:30\" --on-calendar=\"2019-09-29 07:30\" /usr/local/bin/mlrpt -s 0531-0546 -t 15'</li>\n",
       "\t<li>'systemd-run --user --unit=\"mlrpt_2019-09-29_19:54\" --on-calendar=\"2019-09-29 19:54\" /usr/local/bin/mlrpt -s 1755-1810 -t 15'</li>\n",
       "\t<li>'systemd-run --user --unit=\"mlrpt_2019-09-29_21:35\" --on-calendar=\"2019-09-29 21:35\" /usr/local/bin/mlrpt -s 1936-1949 -t 14'</li>\n",
       "\t<li>'systemd-run --user --unit=\"mlrpt_2019-09-30_07:11\" --on-calendar=\"2019-09-30 07:11\" /usr/local/bin/mlrpt -s 0512-0526 -t 15'</li>\n",
       "\t<li>'systemd-run --user --unit=\"mlrpt_2019-09-30_08:51\" --on-calendar=\"2019-09-30 08:51\" /usr/local/bin/mlrpt -s 0652-0706 -t 15'</li>\n",
       "\t<li>'systemd-run --user --unit=\"mlrpt_2019-09-30_19:35\" --on-calendar=\"2019-09-30 19:35\" /usr/local/bin/mlrpt -s 1736-1750 -t 14'</li>\n",
       "\t<li>'systemd-run --user --unit=\"mlrpt_2019-09-30_21:15\" --on-calendar=\"2019-09-30 21:15\" /usr/local/bin/mlrpt -s 1916-1930 -t 15'</li>\n",
       "\t<li>'systemd-run --user --unit=\"mlrpt_2019-10-01_08:31\" --on-calendar=\"2019-10-01 08:31\" /usr/local/bin/mlrpt -s 0632-0647 -t 15'</li>\n",
       "\t<li>'systemd-run --user --unit=\"mlrpt_2019-10-01_20:55\" --on-calendar=\"2019-10-01 20:55\" /usr/local/bin/mlrpt -s 1856-1911 -t 16'</li>\n",
       "\t<li>'systemd-run --user --unit=\"mlrpt_2019-10-02_08:11\" --on-calendar=\"2019-10-02 08:11\" /usr/local/bin/mlrpt -s 0612-0627 -t 16'</li>\n",
       "\t<li>'systemd-run --user --unit=\"mlrpt_2019-09-22_14:17\" --on-calendar=\"2019-09-22 14:17\" /usr/local/bin/mlrpt -s 1218-1232 -t 14'</li>\n",
       "\t<li>'systemd-run --user --unit=\"mlrpt_2019-09-22_15:57\" --on-calendar=\"2019-09-22 15:57\" /usr/local/bin/mlrpt -s 1358-1412 -t 15'</li>\n",
       "\t<li>'systemd-run --user --unit=\"mlrpt_2019-09-22_01:32\" --on-calendar=\"2019-09-22 01:32\" /usr/local/bin/mlrpt -s 2333-2347 -t 14'</li>\n",
       "\t<li>'systemd-run --user --unit=\"mlrpt_2019-09-23_03:12\" --on-calendar=\"2019-09-23 03:12\" /usr/local/bin/mlrpt -s 0113-0127 -t 15'</li>\n",
       "\t<li>'systemd-run --user --unit=\"mlrpt_2019-09-23_15:34\" --on-calendar=\"2019-09-23 15:34\" /usr/local/bin/mlrpt -s 1335-1350 -t 15'</li>\n",
       "\t<li>'systemd-run --user --unit=\"mlrpt_2019-09-24_02:49\" --on-calendar=\"2019-09-24 02:49\" /usr/local/bin/mlrpt -s 0050-0105 -t 16'</li>\n",
       "\t<li>'systemd-run --user --unit=\"mlrpt_2019-09-24_15:11\" --on-calendar=\"2019-09-24 15:11\" /usr/local/bin/mlrpt -s 1312-1328 -t 16'</li>\n",
       "\t<li>'systemd-run --user --unit=\"mlrpt_2019-09-25_02:26\" --on-calendar=\"2019-09-25 02:26\" /usr/local/bin/mlrpt -s 0027-0042 -t 16'</li>\n",
       "\t<li>'systemd-run --user --unit=\"mlrpt_2019-09-25_14:49\" --on-calendar=\"2019-09-25 14:49\" /usr/local/bin/mlrpt -s 1250-1305 -t 16'</li>\n",
       "\t<li>'systemd-run --user --unit=\"mlrpt_2019-09-26_02:04\" --on-calendar=\"2019-09-26 02:04\" /usr/local/bin/mlrpt -s 0005-0020 -t 15'</li>\n",
       "\t<li>'systemd-run --user --unit=\"mlrpt_2019-09-26_14:27\" --on-calendar=\"2019-09-26 14:27\" /usr/local/bin/mlrpt -s 1228-1242 -t 15'</li>\n",
       "\t<li>'systemd-run --user --unit=\"mlrpt_2019-09-26_16:07\" --on-calendar=\"2019-09-26 16:07\" /usr/local/bin/mlrpt -s 1408-1422 -t 14'</li>\n",
       "\t<li>'systemd-run --user --unit=\"mlrpt_2019-09-26_01:42\" --on-calendar=\"2019-09-26 01:42\" /usr/local/bin/mlrpt -s 2343-2357 -t 15'</li>\n",
       "\t<li>'systemd-run --user --unit=\"mlrpt_2019-09-27_03:22\" --on-calendar=\"2019-09-27 03:22\" /usr/local/bin/mlrpt -s 0123-0137 -t 15'</li>\n",
       "\t<li>'systemd-run --user --unit=\"mlrpt_2019-09-27_15:44\" --on-calendar=\"2019-09-27 15:44\" /usr/local/bin/mlrpt -s 1345-1400 -t 15'</li>\n",
       "\t<li>'systemd-run --user --unit=\"mlrpt_2019-09-28_02:59\" --on-calendar=\"2019-09-28 02:59\" /usr/local/bin/mlrpt -s 0100-0115 -t 15'</li>\n",
       "\t<li>'systemd-run --user --unit=\"mlrpt_2019-09-28_15:21\" --on-calendar=\"2019-09-28 15:21\" /usr/local/bin/mlrpt -s 1322-1337 -t 16'</li>\n",
       "\t<li>'systemd-run --user --unit=\"mlrpt_2019-09-29_02:36\" --on-calendar=\"2019-09-29 02:36\" /usr/local/bin/mlrpt -s 0037-0052 -t 16'</li>\n",
       "\t<li>'systemd-run --user --unit=\"mlrpt_2019-09-29_14:59\" --on-calendar=\"2019-09-29 14:59\" /usr/local/bin/mlrpt -s 1300-1315 -t 16'</li>\n",
       "\t<li>'systemd-run --user --unit=\"mlrpt_2019-09-30_02:14\" --on-calendar=\"2019-09-30 02:14\" /usr/local/bin/mlrpt -s 0015-0030 -t 15'</li>\n",
       "\t<li>'systemd-run --user --unit=\"mlrpt_2019-09-30_14:36\" --on-calendar=\"2019-09-30 14:36\" /usr/local/bin/mlrpt -s 1237-1252 -t 15'</li>\n",
       "\t<li>'systemd-run --user --unit=\"mlrpt_2019-09-30_01:52\" --on-calendar=\"2019-09-30 01:52\" /usr/local/bin/mlrpt -s 2353-0007 -t 15'</li>\n",
       "\t<li>'systemd-run --user --unit=\"mlrpt_2019-10-01_03:32\" --on-calendar=\"2019-10-01 03:32\" /usr/local/bin/mlrpt -s 0133-0147 -t 14'</li>\n",
       "\t<li>'systemd-run --user --unit=\"mlrpt_2019-10-01_14:14\" --on-calendar=\"2019-10-01 14:14\" /usr/local/bin/mlrpt -s 1215-1229 -t 14'</li>\n",
       "\t<li>'systemd-run --user --unit=\"mlrpt_2019-10-01_15:54\" --on-calendar=\"2019-10-01 15:54\" /usr/local/bin/mlrpt -s 1355-1409 -t 15'</li>\n",
       "\t<li>'systemd-run --user --unit=\"mlrpt_2019-10-01_01:30\" --on-calendar=\"2019-10-01 01:30\" /usr/local/bin/mlrpt -s 2331-2344 -t 14'</li>\n",
       "\t<li>'systemd-run --user --unit=\"mlrpt_2019-10-02_03:09\" --on-calendar=\"2019-10-02 03:09\" /usr/local/bin/mlrpt -s 0110-0124 -t 15'</li>\n",
       "\t<li>'systemd-run --user --unit=\"mlrpt_2019-09-22_18:16\" --on-calendar=\"2019-09-22 18:16\" /usr/local/bin/mlrpt -s 1617-1631 -t 14'</li>\n",
       "\t<li>'systemd-run --user --unit=\"mlrpt_2019-09-22_19:56\" --on-calendar=\"2019-09-22 19:56\" /usr/local/bin/mlrpt -s 1757-1811 -t 15'</li>\n",
       "\t<li>'systemd-run --user --unit=\"mlrpt_2019-09-23_05:31\" --on-calendar=\"2019-09-23 05:31\" /usr/local/bin/mlrpt -s 0332-0345 -t 14'</li>\n",
       "\t<li>'systemd-run --user --unit=\"mlrpt_2019-09-23_07:09\" --on-calendar=\"2019-09-23 07:09\" /usr/local/bin/mlrpt -s 0510-0525 -t 15'</li>\n",
       "\t<li>'systemd-run --user --unit=\"mlrpt_2019-09-23_19:30\" --on-calendar=\"2019-09-23 19:30\" /usr/local/bin/mlrpt -s 1731-1746 -t 15'</li>\n",
       "\t<li>'systemd-run --user --unit=\"mlrpt_2019-09-24_06:44\" --on-calendar=\"2019-09-24 06:44\" /usr/local/bin/mlrpt -s 0445-0500 -t 16'</li>\n",
       "\t<li>'systemd-run --user --unit=\"mlrpt_2019-09-24_19:05\" --on-calendar=\"2019-09-24 19:05\" /usr/local/bin/mlrpt -s 1706-1721 -t 16'</li>\n",
       "\t<li>'systemd-run --user --unit=\"mlrpt_2019-09-25_06:19\" --on-calendar=\"2019-09-25 06:19\" /usr/local/bin/mlrpt -s 0420-0435 -t 16'</li>\n",
       "\t<li>'systemd-run --user --unit=\"mlrpt_2019-09-25_18:40\" --on-calendar=\"2019-09-25 18:40\" /usr/local/bin/mlrpt -s 1641-1656 -t 15'</li>\n",
       "\t<li>'systemd-run --user --unit=\"mlrpt_2019-09-26_05:54\" --on-calendar=\"2019-09-26 05:54\" /usr/local/bin/mlrpt -s 0355-0410 -t 15'</li>\n",
       "\t<li>'systemd-run --user --unit=\"mlrpt_2019-09-26_07:35\" --on-calendar=\"2019-09-26 07:35\" /usr/local/bin/mlrpt -s 0536-0549 -t 14'</li>\n",
       "\t<li>'systemd-run --user --unit=\"mlrpt_2019-09-26_18:16\" --on-calendar=\"2019-09-26 18:16\" /usr/local/bin/mlrpt -s 1617-1630 -t 14'</li>\n",
       "\t<li>'systemd-run --user --unit=\"mlrpt_2019-09-26_19:55\" --on-calendar=\"2019-09-26 19:55\" /usr/local/bin/mlrpt -s 1756-1810 -t 15'</li>\n",
       "\t<li>'systemd-run --user --unit=\"mlrpt_2019-09-27_05:30\" --on-calendar=\"2019-09-27 05:30\" /usr/local/bin/mlrpt -s 0331-0344 -t 14'</li>\n",
       "\t<li>'systemd-run --user --unit=\"mlrpt_2019-09-27_07:09\" --on-calendar=\"2019-09-27 07:09\" /usr/local/bin/mlrpt -s 0510-0524 -t 15'</li>\n",
       "\t<li>'systemd-run --user --unit=\"mlrpt_2019-09-27_19:30\" --on-calendar=\"2019-09-27 19:30\" /usr/local/bin/mlrpt -s 1731-1746 -t 15'</li>\n",
       "\t<li>'systemd-run --user --unit=\"mlrpt_2019-09-28_06:43\" --on-calendar=\"2019-09-28 06:43\" /usr/local/bin/mlrpt -s 0444-0500 -t 16'</li>\n",
       "\t<li>'systemd-run --user --unit=\"mlrpt_2019-09-28_19:05\" --on-calendar=\"2019-09-28 19:05\" /usr/local/bin/mlrpt -s 1706-1721 -t 16'</li>\n",
       "\t<li>'systemd-run --user --unit=\"mlrpt_2019-09-29_06:18\" --on-calendar=\"2019-09-29 06:18\" /usr/local/bin/mlrpt -s 0419-0435 -t 16'</li>\n",
       "\t<li>'systemd-run --user --unit=\"mlrpt_2019-09-29_18:40\" --on-calendar=\"2019-09-29 18:40\" /usr/local/bin/mlrpt -s 1641-1656 -t 15'</li>\n",
       "\t<li>'systemd-run --user --unit=\"mlrpt_2019-09-30_05:54\" --on-calendar=\"2019-09-30 05:54\" /usr/local/bin/mlrpt -s 0355-0409 -t 15'</li>\n",
       "\t<li>'systemd-run --user --unit=\"mlrpt_2019-09-30_07:34\" --on-calendar=\"2019-09-30 07:34\" /usr/local/bin/mlrpt -s 0535-0549 -t 14'</li>\n",
       "\t<li>'systemd-run --user --unit=\"mlrpt_2019-09-30_18:15\" --on-calendar=\"2019-09-30 18:15\" /usr/local/bin/mlrpt -s 1616-1630 -t 14'</li>\n",
       "\t<li>'systemd-run --user --unit=\"mlrpt_2019-09-30_19:55\" --on-calendar=\"2019-09-30 19:55\" /usr/local/bin/mlrpt -s 1756-1810 -t 15'</li>\n",
       "\t<li>'systemd-run --user --unit=\"mlrpt_2019-10-01_05:30\" --on-calendar=\"2019-10-01 05:30\" /usr/local/bin/mlrpt -s 0331-0344 -t 14'</li>\n",
       "\t<li>'systemd-run --user --unit=\"mlrpt_2019-10-01_07:08\" --on-calendar=\"2019-10-01 07:08\" /usr/local/bin/mlrpt -s 0509-0524 -t 15'</li>\n",
       "\t<li>'systemd-run --user --unit=\"mlrpt_2019-10-01_19:29\" --on-calendar=\"2019-10-01 19:29\" /usr/local/bin/mlrpt -s 1730-1745 -t 15'</li>\n",
       "\t<li>'systemd-run --user --unit=\"mlrpt_2019-10-02_06:43\" --on-calendar=\"2019-10-02 06:43\" /usr/local/bin/mlrpt -s 0444-0459 -t 16'</li>\n",
       "\t<li>'systemd-run --user --unit=\"mlrpt_2019-09-22_20:04\" --on-calendar=\"2019-09-22 20:04\" /usr/local/bin/mlrpt -s 1805-1819 -t 15'</li>\n",
       "\t<li>'systemd-run --user --unit=\"mlrpt_2019-09-22_21:44\" --on-calendar=\"2019-09-22 21:44\" /usr/local/bin/mlrpt -s 1945-2000 -t 15'</li>\n",
       "\t<li>'systemd-run --user --unit=\"mlrpt_2019-09-23_07:24\" --on-calendar=\"2019-09-23 07:24\" /usr/local/bin/mlrpt -s 0525-0539 -t 15'</li>\n",
       "\t<li>'systemd-run --user --unit=\"mlrpt_2019-09-23_09:04\" --on-calendar=\"2019-09-23 09:04\" /usr/local/bin/mlrpt -s 0705-0720 -t 15'</li>\n",
       "\t<li>'systemd-run --user --unit=\"mlrpt_2019-09-23_21:32\" --on-calendar=\"2019-09-23 21:32\" /usr/local/bin/mlrpt -s 1933-1948 -t 16'</li>\n",
       "\t<li>'systemd-run --user --unit=\"mlrpt_2019-09-24_08:52\" --on-calendar=\"2019-09-24 08:52\" /usr/local/bin/mlrpt -s 0653-0708 -t 16'</li>\n",
       "\t<li>'systemd-run --user --unit=\"mlrpt_2019-09-24_21:20\" --on-calendar=\"2019-09-24 21:20\" /usr/local/bin/mlrpt -s 1921-1937 -t 16'</li>\n",
       "\t<li>'systemd-run --user --unit=\"mlrpt_2019-09-25_08:40\" --on-calendar=\"2019-09-25 08:40\" /usr/local/bin/mlrpt -s 0641-0657 -t 16'</li>\n",
       "\t<li>'systemd-run --user --unit=\"mlrpt_2019-09-25_21:09\" --on-calendar=\"2019-09-25 21:09\" /usr/local/bin/mlrpt -s 1910-1925 -t 16'</li>\n",
       "\t<li>'systemd-run --user --unit=\"mlrpt_2019-09-26_08:29\" --on-calendar=\"2019-09-26 08:29\" /usr/local/bin/mlrpt -s 0630-0645 -t 16'</li>\n",
       "\t<li>'systemd-run --user --unit=\"mlrpt_2019-09-26_20:57\" --on-calendar=\"2019-09-26 20:57\" /usr/local/bin/mlrpt -s 1858-1913 -t 16'</li>\n",
       "\t<li>'systemd-run --user --unit=\"mlrpt_2019-09-27_08:17\" --on-calendar=\"2019-09-27 08:17\" /usr/local/bin/mlrpt -s 0618-0633 -t 16'</li>\n",
       "\t<li>'systemd-run --user --unit=\"mlrpt_2019-09-27_20:45\" --on-calendar=\"2019-09-27 20:45\" /usr/local/bin/mlrpt -s 1846-1902 -t 16'</li>\n",
       "\t<li>'systemd-run --user --unit=\"mlrpt_2019-09-28_08:05\" --on-calendar=\"2019-09-28 08:05\" /usr/local/bin/mlrpt -s 0606-0622 -t 16'</li>\n",
       "\t<li>'systemd-run --user --unit=\"mlrpt_2019-09-28_20:33\" --on-calendar=\"2019-09-28 20:33\" /usr/local/bin/mlrpt -s 1834-1850 -t 16'</li>\n",
       "\t<li>'systemd-run --user --unit=\"mlrpt_2019-09-29_07:54\" --on-calendar=\"2019-09-29 07:54\" /usr/local/bin/mlrpt -s 0555-0610 -t 16'</li>\n",
       "\t<li>'systemd-run --user --unit=\"mlrpt_2019-09-29_20:22\" --on-calendar=\"2019-09-29 20:22\" /usr/local/bin/mlrpt -s 1823-1838 -t 15'</li>\n",
       "\t<li>'systemd-run --user --unit=\"mlrpt_2019-09-29_22:03\" --on-calendar=\"2019-09-29 22:03\" /usr/local/bin/mlrpt -s 2004-2018 -t 14'</li>\n",
       "\t<li>'systemd-run --user --unit=\"mlrpt_2019-09-30_07:42\" --on-calendar=\"2019-09-30 07:42\" /usr/local/bin/mlrpt -s 0543-0558 -t 15'</li>\n",
       "\t<li>'systemd-run --user --unit=\"mlrpt_2019-09-30_09:23\" --on-calendar=\"2019-09-30 09:23\" /usr/local/bin/mlrpt -s 0724-0738 -t 14'</li>\n",
       "\t<li>'systemd-run --user --unit=\"mlrpt_2019-09-30_20:10\" --on-calendar=\"2019-09-30 20:10\" /usr/local/bin/mlrpt -s 1811-1826 -t 15'</li>\n",
       "\t<li>'systemd-run --user --unit=\"mlrpt_2019-09-30_21:51\" --on-calendar=\"2019-09-30 21:51\" /usr/local/bin/mlrpt -s 1952-2006 -t 15'</li>\n",
       "\t<li>'systemd-run --user --unit=\"mlrpt_2019-10-01_07:31\" --on-calendar=\"2019-10-01 07:31\" /usr/local/bin/mlrpt -s 0532-0546 -t 15'</li>\n",
       "\t<li>'systemd-run --user --unit=\"mlrpt_2019-10-01_09:11\" --on-calendar=\"2019-10-01 09:11\" /usr/local/bin/mlrpt -s 0712-0727 -t 15'</li>\n",
       "\t<li>'systemd-run --user --unit=\"mlrpt_2019-10-01_19:59\" --on-calendar=\"2019-10-01 19:59\" /usr/local/bin/mlrpt -s 1800-1814 -t 14'</li>\n",
       "\t<li>'systemd-run --user --unit=\"mlrpt_2019-10-01_21:39\" --on-calendar=\"2019-10-01 21:39\" /usr/local/bin/mlrpt -s 1940-1955 -t 15'</li>\n",
       "\t<li>'systemd-run --user --unit=\"mlrpt_2019-10-02_07:19\" --on-calendar=\"2019-10-02 07:19\" /usr/local/bin/mlrpt -s 0520-0534 -t 14'</li>\n",
       "\t<li>'systemd-run --user --unit=\"mlrpt_2019-10-02_08:59\" --on-calendar=\"2019-10-02 08:59\" /usr/local/bin/mlrpt -s 0700-0715 -t 15'</li>\n",
       "\t<li>'systemd-run --user --unit=\"mlrpt_2019-09-22_20:04\" --on-calendar=\"2019-09-22 20:04\" /usr/local/bin/mlrpt -s 1805-1819 -t 15'</li>\n",
       "\t<li>'systemd-run --user --unit=\"mlrpt_2019-09-22_21:44\" --on-calendar=\"2019-09-22 21:44\" /usr/local/bin/mlrpt -s 1945-2000 -t 15'</li>\n",
       "\t<li>'systemd-run --user --unit=\"mlrpt_2019-09-23_07:24\" --on-calendar=\"2019-09-23 07:24\" /usr/local/bin/mlrpt -s 0525-0539 -t 15'</li>\n",
       "\t<li>'systemd-run --user --unit=\"mlrpt_2019-09-23_09:04\" --on-calendar=\"2019-09-23 09:04\" /usr/local/bin/mlrpt -s 0705-0720 -t 15'</li>\n",
       "\t<li>'systemd-run --user --unit=\"mlrpt_2019-09-23_21:32\" --on-calendar=\"2019-09-23 21:32\" /usr/local/bin/mlrpt -s 1933-1948 -t 16'</li>\n",
       "\t<li>'systemd-run --user --unit=\"mlrpt_2019-09-24_08:52\" --on-calendar=\"2019-09-24 08:52\" /usr/local/bin/mlrpt -s 0653-0708 -t 16'</li>\n",
       "\t<li>'systemd-run --user --unit=\"mlrpt_2019-09-24_21:20\" --on-calendar=\"2019-09-24 21:20\" /usr/local/bin/mlrpt -s 1921-1937 -t 16'</li>\n",
       "\t<li>'systemd-run --user --unit=\"mlrpt_2019-09-25_08:40\" --on-calendar=\"2019-09-25 08:40\" /usr/local/bin/mlrpt -s 0641-0657 -t 16'</li>\n",
       "\t<li>'systemd-run --user --unit=\"mlrpt_2019-09-25_21:09\" --on-calendar=\"2019-09-25 21:09\" /usr/local/bin/mlrpt -s 1910-1925 -t 16'</li>\n",
       "\t<li>'systemd-run --user --unit=\"mlrpt_2019-09-26_08:29\" --on-calendar=\"2019-09-26 08:29\" /usr/local/bin/mlrpt -s 0630-0645 -t 16'</li>\n",
       "\t<li>'systemd-run --user --unit=\"mlrpt_2019-09-26_20:57\" --on-calendar=\"2019-09-26 20:57\" /usr/local/bin/mlrpt -s 1858-1913 -t 16'</li>\n",
       "\t<li>'systemd-run --user --unit=\"mlrpt_2019-09-27_08:17\" --on-calendar=\"2019-09-27 08:17\" /usr/local/bin/mlrpt -s 0618-0633 -t 16'</li>\n",
       "\t<li>'systemd-run --user --unit=\"mlrpt_2019-09-27_20:45\" --on-calendar=\"2019-09-27 20:45\" /usr/local/bin/mlrpt -s 1846-1902 -t 16'</li>\n",
       "\t<li>'systemd-run --user --unit=\"mlrpt_2019-09-28_08:05\" --on-calendar=\"2019-09-28 08:05\" /usr/local/bin/mlrpt -s 0606-0622 -t 16'</li>\n",
       "\t<li>'systemd-run --user --unit=\"mlrpt_2019-09-28_20:33\" --on-calendar=\"2019-09-28 20:33\" /usr/local/bin/mlrpt -s 1834-1850 -t 16'</li>\n",
       "\t<li>'systemd-run --user --unit=\"mlrpt_2019-09-29_07:54\" --on-calendar=\"2019-09-29 07:54\" /usr/local/bin/mlrpt -s 0555-0610 -t 16'</li>\n",
       "\t<li>'systemd-run --user --unit=\"mlrpt_2019-09-29_20:22\" --on-calendar=\"2019-09-29 20:22\" /usr/local/bin/mlrpt -s 1823-1838 -t 15'</li>\n",
       "\t<li>'systemd-run --user --unit=\"mlrpt_2019-09-29_22:03\" --on-calendar=\"2019-09-29 22:03\" /usr/local/bin/mlrpt -s 2004-2018 -t 14'</li>\n",
       "\t<li>'systemd-run --user --unit=\"mlrpt_2019-09-30_07:42\" --on-calendar=\"2019-09-30 07:42\" /usr/local/bin/mlrpt -s 0543-0558 -t 15'</li>\n",
       "\t<li>'systemd-run --user --unit=\"mlrpt_2019-09-30_09:23\" --on-calendar=\"2019-09-30 09:23\" /usr/local/bin/mlrpt -s 0724-0738 -t 14'</li>\n",
       "\t<li>'systemd-run --user --unit=\"mlrpt_2019-09-30_20:10\" --on-calendar=\"2019-09-30 20:10\" /usr/local/bin/mlrpt -s 1811-1826 -t 15'</li>\n",
       "\t<li>'systemd-run --user --unit=\"mlrpt_2019-09-30_21:51\" --on-calendar=\"2019-09-30 21:51\" /usr/local/bin/mlrpt -s 1952-2006 -t 15'</li>\n",
       "\t<li>'systemd-run --user --unit=\"mlrpt_2019-10-01_07:31\" --on-calendar=\"2019-10-01 07:31\" /usr/local/bin/mlrpt -s 0532-0546 -t 15'</li>\n",
       "\t<li>'systemd-run --user --unit=\"mlrpt_2019-10-01_09:11\" --on-calendar=\"2019-10-01 09:11\" /usr/local/bin/mlrpt -s 0712-0727 -t 15'</li>\n",
       "\t<li>'systemd-run --user --unit=\"mlrpt_2019-10-01_19:59\" --on-calendar=\"2019-10-01 19:59\" /usr/local/bin/mlrpt -s 1800-1814 -t 14'</li>\n",
       "\t<li>'systemd-run --user --unit=\"mlrpt_2019-10-01_21:39\" --on-calendar=\"2019-10-01 21:39\" /usr/local/bin/mlrpt -s 1940-1955 -t 15'</li>\n",
       "\t<li>'systemd-run --user --unit=\"mlrpt_2019-10-02_07:19\" --on-calendar=\"2019-10-02 07:19\" /usr/local/bin/mlrpt -s 0520-0534 -t 14'</li>\n",
       "\t<li>'systemd-run --user --unit=\"mlrpt_2019-10-02_08:59\" --on-calendar=\"2019-10-02 08:59\" /usr/local/bin/mlrpt -s 0700-0715 -t 15'</li>\n",
       "</ol>\n"
      ],
      "text/latex": [
       "\\begin{enumerate*}\n",
       "\\item 'systemd-run --user --unit=\"mlrpt\\_2019-09-22\\_20:33\" --on-calendar=\"2019-09-22 20:33\" /usr/local/bin/mlrpt -s 1834-1849 -t 16'\n",
       "\\item 'systemd-run --user --unit=\"mlrpt\\_2019-09-23\\_07:49\" --on-calendar=\"2019-09-23 07:49\" /usr/local/bin/mlrpt -s 0550-0606 -t 16'\n",
       "\\item 'systemd-run --user --unit=\"mlrpt\\_2019-09-23\\_20:13\" --on-calendar=\"2019-09-23 20:13\" /usr/local/bin/mlrpt -s 1814-1829 -t 16'\n",
       "\\item 'systemd-run --user --unit=\"mlrpt\\_2019-09-24\\_07:30\" --on-calendar=\"2019-09-24 07:30\" /usr/local/bin/mlrpt -s 0531-0546 -t 15'\n",
       "\\item 'systemd-run --user --unit=\"mlrpt\\_2019-09-24\\_19:54\" --on-calendar=\"2019-09-24 19:54\" /usr/local/bin/mlrpt -s 1755-1809 -t 15'\n",
       "\\item 'systemd-run --user --unit=\"mlrpt\\_2019-09-24\\_21:34\" --on-calendar=\"2019-09-24 21:34\" /usr/local/bin/mlrpt -s 1935-1949 -t 14'\n",
       "\\item 'systemd-run --user --unit=\"mlrpt\\_2019-09-25\\_07:10\" --on-calendar=\"2019-09-25 07:10\" /usr/local/bin/mlrpt -s 0511-0526 -t 15'\n",
       "\\item 'systemd-run --user --unit=\"mlrpt\\_2019-09-25\\_08:50\" --on-calendar=\"2019-09-25 08:50\" /usr/local/bin/mlrpt -s 0651-0705 -t 15'\n",
       "\\item 'systemd-run --user --unit=\"mlrpt\\_2019-09-25\\_19:34\" --on-calendar=\"2019-09-25 19:34\" /usr/local/bin/mlrpt -s 1735-1749 -t 14'\n",
       "\\item 'systemd-run --user --unit=\"mlrpt\\_2019-09-25\\_21:14\" --on-calendar=\"2019-09-25 21:14\" /usr/local/bin/mlrpt -s 1915-1929 -t 15'\n",
       "\\item 'systemd-run --user --unit=\"mlrpt\\_2019-09-26\\_08:30\" --on-calendar=\"2019-09-26 08:30\" /usr/local/bin/mlrpt -s 0631-0646 -t 15'\n",
       "\\item 'systemd-run --user --unit=\"mlrpt\\_2019-09-26\\_20:54\" --on-calendar=\"2019-09-26 20:54\" /usr/local/bin/mlrpt -s 1855-1910 -t 16'\n",
       "\\item 'systemd-run --user --unit=\"mlrpt\\_2019-09-27\\_08:10\" --on-calendar=\"2019-09-27 08:10\" /usr/local/bin/mlrpt -s 0611-0626 -t 16'\n",
       "\\item 'systemd-run --user --unit=\"mlrpt\\_2019-09-27\\_20:34\" --on-calendar=\"2019-09-27 20:34\" /usr/local/bin/mlrpt -s 1835-1850 -t 16'\n",
       "\\item 'systemd-run --user --unit=\"mlrpt\\_2019-09-28\\_07:50\" --on-calendar=\"2019-09-28 07:50\" /usr/local/bin/mlrpt -s 0551-0606 -t 16'\n",
       "\\item 'systemd-run --user --unit=\"mlrpt\\_2019-09-28\\_20:14\" --on-calendar=\"2019-09-28 20:14\" /usr/local/bin/mlrpt -s 1815-1830 -t 16'\n",
       "\\item 'systemd-run --user --unit=\"mlrpt\\_2019-09-29\\_07:30\" --on-calendar=\"2019-09-29 07:30\" /usr/local/bin/mlrpt -s 0531-0546 -t 15'\n",
       "\\item 'systemd-run --user --unit=\"mlrpt\\_2019-09-29\\_19:54\" --on-calendar=\"2019-09-29 19:54\" /usr/local/bin/mlrpt -s 1755-1810 -t 15'\n",
       "\\item 'systemd-run --user --unit=\"mlrpt\\_2019-09-29\\_21:35\" --on-calendar=\"2019-09-29 21:35\" /usr/local/bin/mlrpt -s 1936-1949 -t 14'\n",
       "\\item 'systemd-run --user --unit=\"mlrpt\\_2019-09-30\\_07:11\" --on-calendar=\"2019-09-30 07:11\" /usr/local/bin/mlrpt -s 0512-0526 -t 15'\n",
       "\\item 'systemd-run --user --unit=\"mlrpt\\_2019-09-30\\_08:51\" --on-calendar=\"2019-09-30 08:51\" /usr/local/bin/mlrpt -s 0652-0706 -t 15'\n",
       "\\item 'systemd-run --user --unit=\"mlrpt\\_2019-09-30\\_19:35\" --on-calendar=\"2019-09-30 19:35\" /usr/local/bin/mlrpt -s 1736-1750 -t 14'\n",
       "\\item 'systemd-run --user --unit=\"mlrpt\\_2019-09-30\\_21:15\" --on-calendar=\"2019-09-30 21:15\" /usr/local/bin/mlrpt -s 1916-1930 -t 15'\n",
       "\\item 'systemd-run --user --unit=\"mlrpt\\_2019-10-01\\_08:31\" --on-calendar=\"2019-10-01 08:31\" /usr/local/bin/mlrpt -s 0632-0647 -t 15'\n",
       "\\item 'systemd-run --user --unit=\"mlrpt\\_2019-10-01\\_20:55\" --on-calendar=\"2019-10-01 20:55\" /usr/local/bin/mlrpt -s 1856-1911 -t 16'\n",
       "\\item 'systemd-run --user --unit=\"mlrpt\\_2019-10-02\\_08:11\" --on-calendar=\"2019-10-02 08:11\" /usr/local/bin/mlrpt -s 0612-0627 -t 16'\n",
       "\\item 'systemd-run --user --unit=\"mlrpt\\_2019-09-22\\_14:17\" --on-calendar=\"2019-09-22 14:17\" /usr/local/bin/mlrpt -s 1218-1232 -t 14'\n",
       "\\item 'systemd-run --user --unit=\"mlrpt\\_2019-09-22\\_15:57\" --on-calendar=\"2019-09-22 15:57\" /usr/local/bin/mlrpt -s 1358-1412 -t 15'\n",
       "\\item 'systemd-run --user --unit=\"mlrpt\\_2019-09-22\\_01:32\" --on-calendar=\"2019-09-22 01:32\" /usr/local/bin/mlrpt -s 2333-2347 -t 14'\n",
       "\\item 'systemd-run --user --unit=\"mlrpt\\_2019-09-23\\_03:12\" --on-calendar=\"2019-09-23 03:12\" /usr/local/bin/mlrpt -s 0113-0127 -t 15'\n",
       "\\item 'systemd-run --user --unit=\"mlrpt\\_2019-09-23\\_15:34\" --on-calendar=\"2019-09-23 15:34\" /usr/local/bin/mlrpt -s 1335-1350 -t 15'\n",
       "\\item 'systemd-run --user --unit=\"mlrpt\\_2019-09-24\\_02:49\" --on-calendar=\"2019-09-24 02:49\" /usr/local/bin/mlrpt -s 0050-0105 -t 16'\n",
       "\\item 'systemd-run --user --unit=\"mlrpt\\_2019-09-24\\_15:11\" --on-calendar=\"2019-09-24 15:11\" /usr/local/bin/mlrpt -s 1312-1328 -t 16'\n",
       "\\item 'systemd-run --user --unit=\"mlrpt\\_2019-09-25\\_02:26\" --on-calendar=\"2019-09-25 02:26\" /usr/local/bin/mlrpt -s 0027-0042 -t 16'\n",
       "\\item 'systemd-run --user --unit=\"mlrpt\\_2019-09-25\\_14:49\" --on-calendar=\"2019-09-25 14:49\" /usr/local/bin/mlrpt -s 1250-1305 -t 16'\n",
       "\\item 'systemd-run --user --unit=\"mlrpt\\_2019-09-26\\_02:04\" --on-calendar=\"2019-09-26 02:04\" /usr/local/bin/mlrpt -s 0005-0020 -t 15'\n",
       "\\item 'systemd-run --user --unit=\"mlrpt\\_2019-09-26\\_14:27\" --on-calendar=\"2019-09-26 14:27\" /usr/local/bin/mlrpt -s 1228-1242 -t 15'\n",
       "\\item 'systemd-run --user --unit=\"mlrpt\\_2019-09-26\\_16:07\" --on-calendar=\"2019-09-26 16:07\" /usr/local/bin/mlrpt -s 1408-1422 -t 14'\n",
       "\\item 'systemd-run --user --unit=\"mlrpt\\_2019-09-26\\_01:42\" --on-calendar=\"2019-09-26 01:42\" /usr/local/bin/mlrpt -s 2343-2357 -t 15'\n",
       "\\item 'systemd-run --user --unit=\"mlrpt\\_2019-09-27\\_03:22\" --on-calendar=\"2019-09-27 03:22\" /usr/local/bin/mlrpt -s 0123-0137 -t 15'\n",
       "\\item 'systemd-run --user --unit=\"mlrpt\\_2019-09-27\\_15:44\" --on-calendar=\"2019-09-27 15:44\" /usr/local/bin/mlrpt -s 1345-1400 -t 15'\n",
       "\\item 'systemd-run --user --unit=\"mlrpt\\_2019-09-28\\_02:59\" --on-calendar=\"2019-09-28 02:59\" /usr/local/bin/mlrpt -s 0100-0115 -t 15'\n",
       "\\item 'systemd-run --user --unit=\"mlrpt\\_2019-09-28\\_15:21\" --on-calendar=\"2019-09-28 15:21\" /usr/local/bin/mlrpt -s 1322-1337 -t 16'\n",
       "\\item 'systemd-run --user --unit=\"mlrpt\\_2019-09-29\\_02:36\" --on-calendar=\"2019-09-29 02:36\" /usr/local/bin/mlrpt -s 0037-0052 -t 16'\n",
       "\\item 'systemd-run --user --unit=\"mlrpt\\_2019-09-29\\_14:59\" --on-calendar=\"2019-09-29 14:59\" /usr/local/bin/mlrpt -s 1300-1315 -t 16'\n",
       "\\item 'systemd-run --user --unit=\"mlrpt\\_2019-09-30\\_02:14\" --on-calendar=\"2019-09-30 02:14\" /usr/local/bin/mlrpt -s 0015-0030 -t 15'\n",
       "\\item 'systemd-run --user --unit=\"mlrpt\\_2019-09-30\\_14:36\" --on-calendar=\"2019-09-30 14:36\" /usr/local/bin/mlrpt -s 1237-1252 -t 15'\n",
       "\\item 'systemd-run --user --unit=\"mlrpt\\_2019-09-30\\_01:52\" --on-calendar=\"2019-09-30 01:52\" /usr/local/bin/mlrpt -s 2353-0007 -t 15'\n",
       "\\item 'systemd-run --user --unit=\"mlrpt\\_2019-10-01\\_03:32\" --on-calendar=\"2019-10-01 03:32\" /usr/local/bin/mlrpt -s 0133-0147 -t 14'\n",
       "\\item 'systemd-run --user --unit=\"mlrpt\\_2019-10-01\\_14:14\" --on-calendar=\"2019-10-01 14:14\" /usr/local/bin/mlrpt -s 1215-1229 -t 14'\n",
       "\\item 'systemd-run --user --unit=\"mlrpt\\_2019-10-01\\_15:54\" --on-calendar=\"2019-10-01 15:54\" /usr/local/bin/mlrpt -s 1355-1409 -t 15'\n",
       "\\item 'systemd-run --user --unit=\"mlrpt\\_2019-10-01\\_01:30\" --on-calendar=\"2019-10-01 01:30\" /usr/local/bin/mlrpt -s 2331-2344 -t 14'\n",
       "\\item 'systemd-run --user --unit=\"mlrpt\\_2019-10-02\\_03:09\" --on-calendar=\"2019-10-02 03:09\" /usr/local/bin/mlrpt -s 0110-0124 -t 15'\n",
       "\\item 'systemd-run --user --unit=\"mlrpt\\_2019-09-22\\_18:16\" --on-calendar=\"2019-09-22 18:16\" /usr/local/bin/mlrpt -s 1617-1631 -t 14'\n",
       "\\item 'systemd-run --user --unit=\"mlrpt\\_2019-09-22\\_19:56\" --on-calendar=\"2019-09-22 19:56\" /usr/local/bin/mlrpt -s 1757-1811 -t 15'\n",
       "\\item 'systemd-run --user --unit=\"mlrpt\\_2019-09-23\\_05:31\" --on-calendar=\"2019-09-23 05:31\" /usr/local/bin/mlrpt -s 0332-0345 -t 14'\n",
       "\\item 'systemd-run --user --unit=\"mlrpt\\_2019-09-23\\_07:09\" --on-calendar=\"2019-09-23 07:09\" /usr/local/bin/mlrpt -s 0510-0525 -t 15'\n",
       "\\item 'systemd-run --user --unit=\"mlrpt\\_2019-09-23\\_19:30\" --on-calendar=\"2019-09-23 19:30\" /usr/local/bin/mlrpt -s 1731-1746 -t 15'\n",
       "\\item 'systemd-run --user --unit=\"mlrpt\\_2019-09-24\\_06:44\" --on-calendar=\"2019-09-24 06:44\" /usr/local/bin/mlrpt -s 0445-0500 -t 16'\n",
       "\\item 'systemd-run --user --unit=\"mlrpt\\_2019-09-24\\_19:05\" --on-calendar=\"2019-09-24 19:05\" /usr/local/bin/mlrpt -s 1706-1721 -t 16'\n",
       "\\item 'systemd-run --user --unit=\"mlrpt\\_2019-09-25\\_06:19\" --on-calendar=\"2019-09-25 06:19\" /usr/local/bin/mlrpt -s 0420-0435 -t 16'\n",
       "\\item 'systemd-run --user --unit=\"mlrpt\\_2019-09-25\\_18:40\" --on-calendar=\"2019-09-25 18:40\" /usr/local/bin/mlrpt -s 1641-1656 -t 15'\n",
       "\\item 'systemd-run --user --unit=\"mlrpt\\_2019-09-26\\_05:54\" --on-calendar=\"2019-09-26 05:54\" /usr/local/bin/mlrpt -s 0355-0410 -t 15'\n",
       "\\item 'systemd-run --user --unit=\"mlrpt\\_2019-09-26\\_07:35\" --on-calendar=\"2019-09-26 07:35\" /usr/local/bin/mlrpt -s 0536-0549 -t 14'\n",
       "\\item 'systemd-run --user --unit=\"mlrpt\\_2019-09-26\\_18:16\" --on-calendar=\"2019-09-26 18:16\" /usr/local/bin/mlrpt -s 1617-1630 -t 14'\n",
       "\\item 'systemd-run --user --unit=\"mlrpt\\_2019-09-26\\_19:55\" --on-calendar=\"2019-09-26 19:55\" /usr/local/bin/mlrpt -s 1756-1810 -t 15'\n",
       "\\item 'systemd-run --user --unit=\"mlrpt\\_2019-09-27\\_05:30\" --on-calendar=\"2019-09-27 05:30\" /usr/local/bin/mlrpt -s 0331-0344 -t 14'\n",
       "\\item 'systemd-run --user --unit=\"mlrpt\\_2019-09-27\\_07:09\" --on-calendar=\"2019-09-27 07:09\" /usr/local/bin/mlrpt -s 0510-0524 -t 15'\n",
       "\\item 'systemd-run --user --unit=\"mlrpt\\_2019-09-27\\_19:30\" --on-calendar=\"2019-09-27 19:30\" /usr/local/bin/mlrpt -s 1731-1746 -t 15'\n",
       "\\item 'systemd-run --user --unit=\"mlrpt\\_2019-09-28\\_06:43\" --on-calendar=\"2019-09-28 06:43\" /usr/local/bin/mlrpt -s 0444-0500 -t 16'\n",
       "\\item 'systemd-run --user --unit=\"mlrpt\\_2019-09-28\\_19:05\" --on-calendar=\"2019-09-28 19:05\" /usr/local/bin/mlrpt -s 1706-1721 -t 16'\n",
       "\\item 'systemd-run --user --unit=\"mlrpt\\_2019-09-29\\_06:18\" --on-calendar=\"2019-09-29 06:18\" /usr/local/bin/mlrpt -s 0419-0435 -t 16'\n",
       "\\item 'systemd-run --user --unit=\"mlrpt\\_2019-09-29\\_18:40\" --on-calendar=\"2019-09-29 18:40\" /usr/local/bin/mlrpt -s 1641-1656 -t 15'\n",
       "\\item 'systemd-run --user --unit=\"mlrpt\\_2019-09-30\\_05:54\" --on-calendar=\"2019-09-30 05:54\" /usr/local/bin/mlrpt -s 0355-0409 -t 15'\n",
       "\\item 'systemd-run --user --unit=\"mlrpt\\_2019-09-30\\_07:34\" --on-calendar=\"2019-09-30 07:34\" /usr/local/bin/mlrpt -s 0535-0549 -t 14'\n",
       "\\item 'systemd-run --user --unit=\"mlrpt\\_2019-09-30\\_18:15\" --on-calendar=\"2019-09-30 18:15\" /usr/local/bin/mlrpt -s 1616-1630 -t 14'\n",
       "\\item 'systemd-run --user --unit=\"mlrpt\\_2019-09-30\\_19:55\" --on-calendar=\"2019-09-30 19:55\" /usr/local/bin/mlrpt -s 1756-1810 -t 15'\n",
       "\\item 'systemd-run --user --unit=\"mlrpt\\_2019-10-01\\_05:30\" --on-calendar=\"2019-10-01 05:30\" /usr/local/bin/mlrpt -s 0331-0344 -t 14'\n",
       "\\item 'systemd-run --user --unit=\"mlrpt\\_2019-10-01\\_07:08\" --on-calendar=\"2019-10-01 07:08\" /usr/local/bin/mlrpt -s 0509-0524 -t 15'\n",
       "\\item 'systemd-run --user --unit=\"mlrpt\\_2019-10-01\\_19:29\" --on-calendar=\"2019-10-01 19:29\" /usr/local/bin/mlrpt -s 1730-1745 -t 15'\n",
       "\\item 'systemd-run --user --unit=\"mlrpt\\_2019-10-02\\_06:43\" --on-calendar=\"2019-10-02 06:43\" /usr/local/bin/mlrpt -s 0444-0459 -t 16'\n",
       "\\item 'systemd-run --user --unit=\"mlrpt\\_2019-09-22\\_20:04\" --on-calendar=\"2019-09-22 20:04\" /usr/local/bin/mlrpt -s 1805-1819 -t 15'\n",
       "\\item 'systemd-run --user --unit=\"mlrpt\\_2019-09-22\\_21:44\" --on-calendar=\"2019-09-22 21:44\" /usr/local/bin/mlrpt -s 1945-2000 -t 15'\n",
       "\\item 'systemd-run --user --unit=\"mlrpt\\_2019-09-23\\_07:24\" --on-calendar=\"2019-09-23 07:24\" /usr/local/bin/mlrpt -s 0525-0539 -t 15'\n",
       "\\item 'systemd-run --user --unit=\"mlrpt\\_2019-09-23\\_09:04\" --on-calendar=\"2019-09-23 09:04\" /usr/local/bin/mlrpt -s 0705-0720 -t 15'\n",
       "\\item 'systemd-run --user --unit=\"mlrpt\\_2019-09-23\\_21:32\" --on-calendar=\"2019-09-23 21:32\" /usr/local/bin/mlrpt -s 1933-1948 -t 16'\n",
       "\\item 'systemd-run --user --unit=\"mlrpt\\_2019-09-24\\_08:52\" --on-calendar=\"2019-09-24 08:52\" /usr/local/bin/mlrpt -s 0653-0708 -t 16'\n",
       "\\item 'systemd-run --user --unit=\"mlrpt\\_2019-09-24\\_21:20\" --on-calendar=\"2019-09-24 21:20\" /usr/local/bin/mlrpt -s 1921-1937 -t 16'\n",
       "\\item 'systemd-run --user --unit=\"mlrpt\\_2019-09-25\\_08:40\" --on-calendar=\"2019-09-25 08:40\" /usr/local/bin/mlrpt -s 0641-0657 -t 16'\n",
       "\\item 'systemd-run --user --unit=\"mlrpt\\_2019-09-25\\_21:09\" --on-calendar=\"2019-09-25 21:09\" /usr/local/bin/mlrpt -s 1910-1925 -t 16'\n",
       "\\item 'systemd-run --user --unit=\"mlrpt\\_2019-09-26\\_08:29\" --on-calendar=\"2019-09-26 08:29\" /usr/local/bin/mlrpt -s 0630-0645 -t 16'\n",
       "\\item 'systemd-run --user --unit=\"mlrpt\\_2019-09-26\\_20:57\" --on-calendar=\"2019-09-26 20:57\" /usr/local/bin/mlrpt -s 1858-1913 -t 16'\n",
       "\\item 'systemd-run --user --unit=\"mlrpt\\_2019-09-27\\_08:17\" --on-calendar=\"2019-09-27 08:17\" /usr/local/bin/mlrpt -s 0618-0633 -t 16'\n",
       "\\item 'systemd-run --user --unit=\"mlrpt\\_2019-09-27\\_20:45\" --on-calendar=\"2019-09-27 20:45\" /usr/local/bin/mlrpt -s 1846-1902 -t 16'\n",
       "\\item 'systemd-run --user --unit=\"mlrpt\\_2019-09-28\\_08:05\" --on-calendar=\"2019-09-28 08:05\" /usr/local/bin/mlrpt -s 0606-0622 -t 16'\n",
       "\\item 'systemd-run --user --unit=\"mlrpt\\_2019-09-28\\_20:33\" --on-calendar=\"2019-09-28 20:33\" /usr/local/bin/mlrpt -s 1834-1850 -t 16'\n",
       "\\item 'systemd-run --user --unit=\"mlrpt\\_2019-09-29\\_07:54\" --on-calendar=\"2019-09-29 07:54\" /usr/local/bin/mlrpt -s 0555-0610 -t 16'\n",
       "\\item 'systemd-run --user --unit=\"mlrpt\\_2019-09-29\\_20:22\" --on-calendar=\"2019-09-29 20:22\" /usr/local/bin/mlrpt -s 1823-1838 -t 15'\n",
       "\\item 'systemd-run --user --unit=\"mlrpt\\_2019-09-29\\_22:03\" --on-calendar=\"2019-09-29 22:03\" /usr/local/bin/mlrpt -s 2004-2018 -t 14'\n",
       "\\item 'systemd-run --user --unit=\"mlrpt\\_2019-09-30\\_07:42\" --on-calendar=\"2019-09-30 07:42\" /usr/local/bin/mlrpt -s 0543-0558 -t 15'\n",
       "\\item 'systemd-run --user --unit=\"mlrpt\\_2019-09-30\\_09:23\" --on-calendar=\"2019-09-30 09:23\" /usr/local/bin/mlrpt -s 0724-0738 -t 14'\n",
       "\\item 'systemd-run --user --unit=\"mlrpt\\_2019-09-30\\_20:10\" --on-calendar=\"2019-09-30 20:10\" /usr/local/bin/mlrpt -s 1811-1826 -t 15'\n",
       "\\item 'systemd-run --user --unit=\"mlrpt\\_2019-09-30\\_21:51\" --on-calendar=\"2019-09-30 21:51\" /usr/local/bin/mlrpt -s 1952-2006 -t 15'\n",
       "\\item 'systemd-run --user --unit=\"mlrpt\\_2019-10-01\\_07:31\" --on-calendar=\"2019-10-01 07:31\" /usr/local/bin/mlrpt -s 0532-0546 -t 15'\n",
       "\\item 'systemd-run --user --unit=\"mlrpt\\_2019-10-01\\_09:11\" --on-calendar=\"2019-10-01 09:11\" /usr/local/bin/mlrpt -s 0712-0727 -t 15'\n",
       "\\item 'systemd-run --user --unit=\"mlrpt\\_2019-10-01\\_19:59\" --on-calendar=\"2019-10-01 19:59\" /usr/local/bin/mlrpt -s 1800-1814 -t 14'\n",
       "\\item 'systemd-run --user --unit=\"mlrpt\\_2019-10-01\\_21:39\" --on-calendar=\"2019-10-01 21:39\" /usr/local/bin/mlrpt -s 1940-1955 -t 15'\n",
       "\\item 'systemd-run --user --unit=\"mlrpt\\_2019-10-02\\_07:19\" --on-calendar=\"2019-10-02 07:19\" /usr/local/bin/mlrpt -s 0520-0534 -t 14'\n",
       "\\item 'systemd-run --user --unit=\"mlrpt\\_2019-10-02\\_08:59\" --on-calendar=\"2019-10-02 08:59\" /usr/local/bin/mlrpt -s 0700-0715 -t 15'\n",
       "\\item 'systemd-run --user --unit=\"mlrpt\\_2019-09-22\\_20:04\" --on-calendar=\"2019-09-22 20:04\" /usr/local/bin/mlrpt -s 1805-1819 -t 15'\n",
       "\\item 'systemd-run --user --unit=\"mlrpt\\_2019-09-22\\_21:44\" --on-calendar=\"2019-09-22 21:44\" /usr/local/bin/mlrpt -s 1945-2000 -t 15'\n",
       "\\item 'systemd-run --user --unit=\"mlrpt\\_2019-09-23\\_07:24\" --on-calendar=\"2019-09-23 07:24\" /usr/local/bin/mlrpt -s 0525-0539 -t 15'\n",
       "\\item 'systemd-run --user --unit=\"mlrpt\\_2019-09-23\\_09:04\" --on-calendar=\"2019-09-23 09:04\" /usr/local/bin/mlrpt -s 0705-0720 -t 15'\n",
       "\\item 'systemd-run --user --unit=\"mlrpt\\_2019-09-23\\_21:32\" --on-calendar=\"2019-09-23 21:32\" /usr/local/bin/mlrpt -s 1933-1948 -t 16'\n",
       "\\item 'systemd-run --user --unit=\"mlrpt\\_2019-09-24\\_08:52\" --on-calendar=\"2019-09-24 08:52\" /usr/local/bin/mlrpt -s 0653-0708 -t 16'\n",
       "\\item 'systemd-run --user --unit=\"mlrpt\\_2019-09-24\\_21:20\" --on-calendar=\"2019-09-24 21:20\" /usr/local/bin/mlrpt -s 1921-1937 -t 16'\n",
       "\\item 'systemd-run --user --unit=\"mlrpt\\_2019-09-25\\_08:40\" --on-calendar=\"2019-09-25 08:40\" /usr/local/bin/mlrpt -s 0641-0657 -t 16'\n",
       "\\item 'systemd-run --user --unit=\"mlrpt\\_2019-09-25\\_21:09\" --on-calendar=\"2019-09-25 21:09\" /usr/local/bin/mlrpt -s 1910-1925 -t 16'\n",
       "\\item 'systemd-run --user --unit=\"mlrpt\\_2019-09-26\\_08:29\" --on-calendar=\"2019-09-26 08:29\" /usr/local/bin/mlrpt -s 0630-0645 -t 16'\n",
       "\\item 'systemd-run --user --unit=\"mlrpt\\_2019-09-26\\_20:57\" --on-calendar=\"2019-09-26 20:57\" /usr/local/bin/mlrpt -s 1858-1913 -t 16'\n",
       "\\item 'systemd-run --user --unit=\"mlrpt\\_2019-09-27\\_08:17\" --on-calendar=\"2019-09-27 08:17\" /usr/local/bin/mlrpt -s 0618-0633 -t 16'\n",
       "\\item 'systemd-run --user --unit=\"mlrpt\\_2019-09-27\\_20:45\" --on-calendar=\"2019-09-27 20:45\" /usr/local/bin/mlrpt -s 1846-1902 -t 16'\n",
       "\\item 'systemd-run --user --unit=\"mlrpt\\_2019-09-28\\_08:05\" --on-calendar=\"2019-09-28 08:05\" /usr/local/bin/mlrpt -s 0606-0622 -t 16'\n",
       "\\item 'systemd-run --user --unit=\"mlrpt\\_2019-09-28\\_20:33\" --on-calendar=\"2019-09-28 20:33\" /usr/local/bin/mlrpt -s 1834-1850 -t 16'\n",
       "\\item 'systemd-run --user --unit=\"mlrpt\\_2019-09-29\\_07:54\" --on-calendar=\"2019-09-29 07:54\" /usr/local/bin/mlrpt -s 0555-0610 -t 16'\n",
       "\\item 'systemd-run --user --unit=\"mlrpt\\_2019-09-29\\_20:22\" --on-calendar=\"2019-09-29 20:22\" /usr/local/bin/mlrpt -s 1823-1838 -t 15'\n",
       "\\item 'systemd-run --user --unit=\"mlrpt\\_2019-09-29\\_22:03\" --on-calendar=\"2019-09-29 22:03\" /usr/local/bin/mlrpt -s 2004-2018 -t 14'\n",
       "\\item 'systemd-run --user --unit=\"mlrpt\\_2019-09-30\\_07:42\" --on-calendar=\"2019-09-30 07:42\" /usr/local/bin/mlrpt -s 0543-0558 -t 15'\n",
       "\\item 'systemd-run --user --unit=\"mlrpt\\_2019-09-30\\_09:23\" --on-calendar=\"2019-09-30 09:23\" /usr/local/bin/mlrpt -s 0724-0738 -t 14'\n",
       "\\item 'systemd-run --user --unit=\"mlrpt\\_2019-09-30\\_20:10\" --on-calendar=\"2019-09-30 20:10\" /usr/local/bin/mlrpt -s 1811-1826 -t 15'\n",
       "\\item 'systemd-run --user --unit=\"mlrpt\\_2019-09-30\\_21:51\" --on-calendar=\"2019-09-30 21:51\" /usr/local/bin/mlrpt -s 1952-2006 -t 15'\n",
       "\\item 'systemd-run --user --unit=\"mlrpt\\_2019-10-01\\_07:31\" --on-calendar=\"2019-10-01 07:31\" /usr/local/bin/mlrpt -s 0532-0546 -t 15'\n",
       "\\item 'systemd-run --user --unit=\"mlrpt\\_2019-10-01\\_09:11\" --on-calendar=\"2019-10-01 09:11\" /usr/local/bin/mlrpt -s 0712-0727 -t 15'\n",
       "\\item 'systemd-run --user --unit=\"mlrpt\\_2019-10-01\\_19:59\" --on-calendar=\"2019-10-01 19:59\" /usr/local/bin/mlrpt -s 1800-1814 -t 14'\n",
       "\\item 'systemd-run --user --unit=\"mlrpt\\_2019-10-01\\_21:39\" --on-calendar=\"2019-10-01 21:39\" /usr/local/bin/mlrpt -s 1940-1955 -t 15'\n",
       "\\item 'systemd-run --user --unit=\"mlrpt\\_2019-10-02\\_07:19\" --on-calendar=\"2019-10-02 07:19\" /usr/local/bin/mlrpt -s 0520-0534 -t 14'\n",
       "\\item 'systemd-run --user --unit=\"mlrpt\\_2019-10-02\\_08:59\" --on-calendar=\"2019-10-02 08:59\" /usr/local/bin/mlrpt -s 0700-0715 -t 15'\n",
       "\\end{enumerate*}\n"
      ],
      "text/markdown": [
       "1. 'systemd-run --user --unit=\"mlrpt_2019-09-22_20:33\" --on-calendar=\"2019-09-22 20:33\" /usr/local/bin/mlrpt -s 1834-1849 -t 16'\n",
       "2. 'systemd-run --user --unit=\"mlrpt_2019-09-23_07:49\" --on-calendar=\"2019-09-23 07:49\" /usr/local/bin/mlrpt -s 0550-0606 -t 16'\n",
       "3. 'systemd-run --user --unit=\"mlrpt_2019-09-23_20:13\" --on-calendar=\"2019-09-23 20:13\" /usr/local/bin/mlrpt -s 1814-1829 -t 16'\n",
       "4. 'systemd-run --user --unit=\"mlrpt_2019-09-24_07:30\" --on-calendar=\"2019-09-24 07:30\" /usr/local/bin/mlrpt -s 0531-0546 -t 15'\n",
       "5. 'systemd-run --user --unit=\"mlrpt_2019-09-24_19:54\" --on-calendar=\"2019-09-24 19:54\" /usr/local/bin/mlrpt -s 1755-1809 -t 15'\n",
       "6. 'systemd-run --user --unit=\"mlrpt_2019-09-24_21:34\" --on-calendar=\"2019-09-24 21:34\" /usr/local/bin/mlrpt -s 1935-1949 -t 14'\n",
       "7. 'systemd-run --user --unit=\"mlrpt_2019-09-25_07:10\" --on-calendar=\"2019-09-25 07:10\" /usr/local/bin/mlrpt -s 0511-0526 -t 15'\n",
       "8. 'systemd-run --user --unit=\"mlrpt_2019-09-25_08:50\" --on-calendar=\"2019-09-25 08:50\" /usr/local/bin/mlrpt -s 0651-0705 -t 15'\n",
       "9. 'systemd-run --user --unit=\"mlrpt_2019-09-25_19:34\" --on-calendar=\"2019-09-25 19:34\" /usr/local/bin/mlrpt -s 1735-1749 -t 14'\n",
       "10. 'systemd-run --user --unit=\"mlrpt_2019-09-25_21:14\" --on-calendar=\"2019-09-25 21:14\" /usr/local/bin/mlrpt -s 1915-1929 -t 15'\n",
       "11. 'systemd-run --user --unit=\"mlrpt_2019-09-26_08:30\" --on-calendar=\"2019-09-26 08:30\" /usr/local/bin/mlrpt -s 0631-0646 -t 15'\n",
       "12. 'systemd-run --user --unit=\"mlrpt_2019-09-26_20:54\" --on-calendar=\"2019-09-26 20:54\" /usr/local/bin/mlrpt -s 1855-1910 -t 16'\n",
       "13. 'systemd-run --user --unit=\"mlrpt_2019-09-27_08:10\" --on-calendar=\"2019-09-27 08:10\" /usr/local/bin/mlrpt -s 0611-0626 -t 16'\n",
       "14. 'systemd-run --user --unit=\"mlrpt_2019-09-27_20:34\" --on-calendar=\"2019-09-27 20:34\" /usr/local/bin/mlrpt -s 1835-1850 -t 16'\n",
       "15. 'systemd-run --user --unit=\"mlrpt_2019-09-28_07:50\" --on-calendar=\"2019-09-28 07:50\" /usr/local/bin/mlrpt -s 0551-0606 -t 16'\n",
       "16. 'systemd-run --user --unit=\"mlrpt_2019-09-28_20:14\" --on-calendar=\"2019-09-28 20:14\" /usr/local/bin/mlrpt -s 1815-1830 -t 16'\n",
       "17. 'systemd-run --user --unit=\"mlrpt_2019-09-29_07:30\" --on-calendar=\"2019-09-29 07:30\" /usr/local/bin/mlrpt -s 0531-0546 -t 15'\n",
       "18. 'systemd-run --user --unit=\"mlrpt_2019-09-29_19:54\" --on-calendar=\"2019-09-29 19:54\" /usr/local/bin/mlrpt -s 1755-1810 -t 15'\n",
       "19. 'systemd-run --user --unit=\"mlrpt_2019-09-29_21:35\" --on-calendar=\"2019-09-29 21:35\" /usr/local/bin/mlrpt -s 1936-1949 -t 14'\n",
       "20. 'systemd-run --user --unit=\"mlrpt_2019-09-30_07:11\" --on-calendar=\"2019-09-30 07:11\" /usr/local/bin/mlrpt -s 0512-0526 -t 15'\n",
       "21. 'systemd-run --user --unit=\"mlrpt_2019-09-30_08:51\" --on-calendar=\"2019-09-30 08:51\" /usr/local/bin/mlrpt -s 0652-0706 -t 15'\n",
       "22. 'systemd-run --user --unit=\"mlrpt_2019-09-30_19:35\" --on-calendar=\"2019-09-30 19:35\" /usr/local/bin/mlrpt -s 1736-1750 -t 14'\n",
       "23. 'systemd-run --user --unit=\"mlrpt_2019-09-30_21:15\" --on-calendar=\"2019-09-30 21:15\" /usr/local/bin/mlrpt -s 1916-1930 -t 15'\n",
       "24. 'systemd-run --user --unit=\"mlrpt_2019-10-01_08:31\" --on-calendar=\"2019-10-01 08:31\" /usr/local/bin/mlrpt -s 0632-0647 -t 15'\n",
       "25. 'systemd-run --user --unit=\"mlrpt_2019-10-01_20:55\" --on-calendar=\"2019-10-01 20:55\" /usr/local/bin/mlrpt -s 1856-1911 -t 16'\n",
       "26. 'systemd-run --user --unit=\"mlrpt_2019-10-02_08:11\" --on-calendar=\"2019-10-02 08:11\" /usr/local/bin/mlrpt -s 0612-0627 -t 16'\n",
       "27. 'systemd-run --user --unit=\"mlrpt_2019-09-22_14:17\" --on-calendar=\"2019-09-22 14:17\" /usr/local/bin/mlrpt -s 1218-1232 -t 14'\n",
       "28. 'systemd-run --user --unit=\"mlrpt_2019-09-22_15:57\" --on-calendar=\"2019-09-22 15:57\" /usr/local/bin/mlrpt -s 1358-1412 -t 15'\n",
       "29. 'systemd-run --user --unit=\"mlrpt_2019-09-22_01:32\" --on-calendar=\"2019-09-22 01:32\" /usr/local/bin/mlrpt -s 2333-2347 -t 14'\n",
       "30. 'systemd-run --user --unit=\"mlrpt_2019-09-23_03:12\" --on-calendar=\"2019-09-23 03:12\" /usr/local/bin/mlrpt -s 0113-0127 -t 15'\n",
       "31. 'systemd-run --user --unit=\"mlrpt_2019-09-23_15:34\" --on-calendar=\"2019-09-23 15:34\" /usr/local/bin/mlrpt -s 1335-1350 -t 15'\n",
       "32. 'systemd-run --user --unit=\"mlrpt_2019-09-24_02:49\" --on-calendar=\"2019-09-24 02:49\" /usr/local/bin/mlrpt -s 0050-0105 -t 16'\n",
       "33. 'systemd-run --user --unit=\"mlrpt_2019-09-24_15:11\" --on-calendar=\"2019-09-24 15:11\" /usr/local/bin/mlrpt -s 1312-1328 -t 16'\n",
       "34. 'systemd-run --user --unit=\"mlrpt_2019-09-25_02:26\" --on-calendar=\"2019-09-25 02:26\" /usr/local/bin/mlrpt -s 0027-0042 -t 16'\n",
       "35. 'systemd-run --user --unit=\"mlrpt_2019-09-25_14:49\" --on-calendar=\"2019-09-25 14:49\" /usr/local/bin/mlrpt -s 1250-1305 -t 16'\n",
       "36. 'systemd-run --user --unit=\"mlrpt_2019-09-26_02:04\" --on-calendar=\"2019-09-26 02:04\" /usr/local/bin/mlrpt -s 0005-0020 -t 15'\n",
       "37. 'systemd-run --user --unit=\"mlrpt_2019-09-26_14:27\" --on-calendar=\"2019-09-26 14:27\" /usr/local/bin/mlrpt -s 1228-1242 -t 15'\n",
       "38. 'systemd-run --user --unit=\"mlrpt_2019-09-26_16:07\" --on-calendar=\"2019-09-26 16:07\" /usr/local/bin/mlrpt -s 1408-1422 -t 14'\n",
       "39. 'systemd-run --user --unit=\"mlrpt_2019-09-26_01:42\" --on-calendar=\"2019-09-26 01:42\" /usr/local/bin/mlrpt -s 2343-2357 -t 15'\n",
       "40. 'systemd-run --user --unit=\"mlrpt_2019-09-27_03:22\" --on-calendar=\"2019-09-27 03:22\" /usr/local/bin/mlrpt -s 0123-0137 -t 15'\n",
       "41. 'systemd-run --user --unit=\"mlrpt_2019-09-27_15:44\" --on-calendar=\"2019-09-27 15:44\" /usr/local/bin/mlrpt -s 1345-1400 -t 15'\n",
       "42. 'systemd-run --user --unit=\"mlrpt_2019-09-28_02:59\" --on-calendar=\"2019-09-28 02:59\" /usr/local/bin/mlrpt -s 0100-0115 -t 15'\n",
       "43. 'systemd-run --user --unit=\"mlrpt_2019-09-28_15:21\" --on-calendar=\"2019-09-28 15:21\" /usr/local/bin/mlrpt -s 1322-1337 -t 16'\n",
       "44. 'systemd-run --user --unit=\"mlrpt_2019-09-29_02:36\" --on-calendar=\"2019-09-29 02:36\" /usr/local/bin/mlrpt -s 0037-0052 -t 16'\n",
       "45. 'systemd-run --user --unit=\"mlrpt_2019-09-29_14:59\" --on-calendar=\"2019-09-29 14:59\" /usr/local/bin/mlrpt -s 1300-1315 -t 16'\n",
       "46. 'systemd-run --user --unit=\"mlrpt_2019-09-30_02:14\" --on-calendar=\"2019-09-30 02:14\" /usr/local/bin/mlrpt -s 0015-0030 -t 15'\n",
       "47. 'systemd-run --user --unit=\"mlrpt_2019-09-30_14:36\" --on-calendar=\"2019-09-30 14:36\" /usr/local/bin/mlrpt -s 1237-1252 -t 15'\n",
       "48. 'systemd-run --user --unit=\"mlrpt_2019-09-30_01:52\" --on-calendar=\"2019-09-30 01:52\" /usr/local/bin/mlrpt -s 2353-0007 -t 15'\n",
       "49. 'systemd-run --user --unit=\"mlrpt_2019-10-01_03:32\" --on-calendar=\"2019-10-01 03:32\" /usr/local/bin/mlrpt -s 0133-0147 -t 14'\n",
       "50. 'systemd-run --user --unit=\"mlrpt_2019-10-01_14:14\" --on-calendar=\"2019-10-01 14:14\" /usr/local/bin/mlrpt -s 1215-1229 -t 14'\n",
       "51. 'systemd-run --user --unit=\"mlrpt_2019-10-01_15:54\" --on-calendar=\"2019-10-01 15:54\" /usr/local/bin/mlrpt -s 1355-1409 -t 15'\n",
       "52. 'systemd-run --user --unit=\"mlrpt_2019-10-01_01:30\" --on-calendar=\"2019-10-01 01:30\" /usr/local/bin/mlrpt -s 2331-2344 -t 14'\n",
       "53. 'systemd-run --user --unit=\"mlrpt_2019-10-02_03:09\" --on-calendar=\"2019-10-02 03:09\" /usr/local/bin/mlrpt -s 0110-0124 -t 15'\n",
       "54. 'systemd-run --user --unit=\"mlrpt_2019-09-22_18:16\" --on-calendar=\"2019-09-22 18:16\" /usr/local/bin/mlrpt -s 1617-1631 -t 14'\n",
       "55. 'systemd-run --user --unit=\"mlrpt_2019-09-22_19:56\" --on-calendar=\"2019-09-22 19:56\" /usr/local/bin/mlrpt -s 1757-1811 -t 15'\n",
       "56. 'systemd-run --user --unit=\"mlrpt_2019-09-23_05:31\" --on-calendar=\"2019-09-23 05:31\" /usr/local/bin/mlrpt -s 0332-0345 -t 14'\n",
       "57. 'systemd-run --user --unit=\"mlrpt_2019-09-23_07:09\" --on-calendar=\"2019-09-23 07:09\" /usr/local/bin/mlrpt -s 0510-0525 -t 15'\n",
       "58. 'systemd-run --user --unit=\"mlrpt_2019-09-23_19:30\" --on-calendar=\"2019-09-23 19:30\" /usr/local/bin/mlrpt -s 1731-1746 -t 15'\n",
       "59. 'systemd-run --user --unit=\"mlrpt_2019-09-24_06:44\" --on-calendar=\"2019-09-24 06:44\" /usr/local/bin/mlrpt -s 0445-0500 -t 16'\n",
       "60. 'systemd-run --user --unit=\"mlrpt_2019-09-24_19:05\" --on-calendar=\"2019-09-24 19:05\" /usr/local/bin/mlrpt -s 1706-1721 -t 16'\n",
       "61. 'systemd-run --user --unit=\"mlrpt_2019-09-25_06:19\" --on-calendar=\"2019-09-25 06:19\" /usr/local/bin/mlrpt -s 0420-0435 -t 16'\n",
       "62. 'systemd-run --user --unit=\"mlrpt_2019-09-25_18:40\" --on-calendar=\"2019-09-25 18:40\" /usr/local/bin/mlrpt -s 1641-1656 -t 15'\n",
       "63. 'systemd-run --user --unit=\"mlrpt_2019-09-26_05:54\" --on-calendar=\"2019-09-26 05:54\" /usr/local/bin/mlrpt -s 0355-0410 -t 15'\n",
       "64. 'systemd-run --user --unit=\"mlrpt_2019-09-26_07:35\" --on-calendar=\"2019-09-26 07:35\" /usr/local/bin/mlrpt -s 0536-0549 -t 14'\n",
       "65. 'systemd-run --user --unit=\"mlrpt_2019-09-26_18:16\" --on-calendar=\"2019-09-26 18:16\" /usr/local/bin/mlrpt -s 1617-1630 -t 14'\n",
       "66. 'systemd-run --user --unit=\"mlrpt_2019-09-26_19:55\" --on-calendar=\"2019-09-26 19:55\" /usr/local/bin/mlrpt -s 1756-1810 -t 15'\n",
       "67. 'systemd-run --user --unit=\"mlrpt_2019-09-27_05:30\" --on-calendar=\"2019-09-27 05:30\" /usr/local/bin/mlrpt -s 0331-0344 -t 14'\n",
       "68. 'systemd-run --user --unit=\"mlrpt_2019-09-27_07:09\" --on-calendar=\"2019-09-27 07:09\" /usr/local/bin/mlrpt -s 0510-0524 -t 15'\n",
       "69. 'systemd-run --user --unit=\"mlrpt_2019-09-27_19:30\" --on-calendar=\"2019-09-27 19:30\" /usr/local/bin/mlrpt -s 1731-1746 -t 15'\n",
       "70. 'systemd-run --user --unit=\"mlrpt_2019-09-28_06:43\" --on-calendar=\"2019-09-28 06:43\" /usr/local/bin/mlrpt -s 0444-0500 -t 16'\n",
       "71. 'systemd-run --user --unit=\"mlrpt_2019-09-28_19:05\" --on-calendar=\"2019-09-28 19:05\" /usr/local/bin/mlrpt -s 1706-1721 -t 16'\n",
       "72. 'systemd-run --user --unit=\"mlrpt_2019-09-29_06:18\" --on-calendar=\"2019-09-29 06:18\" /usr/local/bin/mlrpt -s 0419-0435 -t 16'\n",
       "73. 'systemd-run --user --unit=\"mlrpt_2019-09-29_18:40\" --on-calendar=\"2019-09-29 18:40\" /usr/local/bin/mlrpt -s 1641-1656 -t 15'\n",
       "74. 'systemd-run --user --unit=\"mlrpt_2019-09-30_05:54\" --on-calendar=\"2019-09-30 05:54\" /usr/local/bin/mlrpt -s 0355-0409 -t 15'\n",
       "75. 'systemd-run --user --unit=\"mlrpt_2019-09-30_07:34\" --on-calendar=\"2019-09-30 07:34\" /usr/local/bin/mlrpt -s 0535-0549 -t 14'\n",
       "76. 'systemd-run --user --unit=\"mlrpt_2019-09-30_18:15\" --on-calendar=\"2019-09-30 18:15\" /usr/local/bin/mlrpt -s 1616-1630 -t 14'\n",
       "77. 'systemd-run --user --unit=\"mlrpt_2019-09-30_19:55\" --on-calendar=\"2019-09-30 19:55\" /usr/local/bin/mlrpt -s 1756-1810 -t 15'\n",
       "78. 'systemd-run --user --unit=\"mlrpt_2019-10-01_05:30\" --on-calendar=\"2019-10-01 05:30\" /usr/local/bin/mlrpt -s 0331-0344 -t 14'\n",
       "79. 'systemd-run --user --unit=\"mlrpt_2019-10-01_07:08\" --on-calendar=\"2019-10-01 07:08\" /usr/local/bin/mlrpt -s 0509-0524 -t 15'\n",
       "80. 'systemd-run --user --unit=\"mlrpt_2019-10-01_19:29\" --on-calendar=\"2019-10-01 19:29\" /usr/local/bin/mlrpt -s 1730-1745 -t 15'\n",
       "81. 'systemd-run --user --unit=\"mlrpt_2019-10-02_06:43\" --on-calendar=\"2019-10-02 06:43\" /usr/local/bin/mlrpt -s 0444-0459 -t 16'\n",
       "82. 'systemd-run --user --unit=\"mlrpt_2019-09-22_20:04\" --on-calendar=\"2019-09-22 20:04\" /usr/local/bin/mlrpt -s 1805-1819 -t 15'\n",
       "83. 'systemd-run --user --unit=\"mlrpt_2019-09-22_21:44\" --on-calendar=\"2019-09-22 21:44\" /usr/local/bin/mlrpt -s 1945-2000 -t 15'\n",
       "84. 'systemd-run --user --unit=\"mlrpt_2019-09-23_07:24\" --on-calendar=\"2019-09-23 07:24\" /usr/local/bin/mlrpt -s 0525-0539 -t 15'\n",
       "85. 'systemd-run --user --unit=\"mlrpt_2019-09-23_09:04\" --on-calendar=\"2019-09-23 09:04\" /usr/local/bin/mlrpt -s 0705-0720 -t 15'\n",
       "86. 'systemd-run --user --unit=\"mlrpt_2019-09-23_21:32\" --on-calendar=\"2019-09-23 21:32\" /usr/local/bin/mlrpt -s 1933-1948 -t 16'\n",
       "87. 'systemd-run --user --unit=\"mlrpt_2019-09-24_08:52\" --on-calendar=\"2019-09-24 08:52\" /usr/local/bin/mlrpt -s 0653-0708 -t 16'\n",
       "88. 'systemd-run --user --unit=\"mlrpt_2019-09-24_21:20\" --on-calendar=\"2019-09-24 21:20\" /usr/local/bin/mlrpt -s 1921-1937 -t 16'\n",
       "89. 'systemd-run --user --unit=\"mlrpt_2019-09-25_08:40\" --on-calendar=\"2019-09-25 08:40\" /usr/local/bin/mlrpt -s 0641-0657 -t 16'\n",
       "90. 'systemd-run --user --unit=\"mlrpt_2019-09-25_21:09\" --on-calendar=\"2019-09-25 21:09\" /usr/local/bin/mlrpt -s 1910-1925 -t 16'\n",
       "91. 'systemd-run --user --unit=\"mlrpt_2019-09-26_08:29\" --on-calendar=\"2019-09-26 08:29\" /usr/local/bin/mlrpt -s 0630-0645 -t 16'\n",
       "92. 'systemd-run --user --unit=\"mlrpt_2019-09-26_20:57\" --on-calendar=\"2019-09-26 20:57\" /usr/local/bin/mlrpt -s 1858-1913 -t 16'\n",
       "93. 'systemd-run --user --unit=\"mlrpt_2019-09-27_08:17\" --on-calendar=\"2019-09-27 08:17\" /usr/local/bin/mlrpt -s 0618-0633 -t 16'\n",
       "94. 'systemd-run --user --unit=\"mlrpt_2019-09-27_20:45\" --on-calendar=\"2019-09-27 20:45\" /usr/local/bin/mlrpt -s 1846-1902 -t 16'\n",
       "95. 'systemd-run --user --unit=\"mlrpt_2019-09-28_08:05\" --on-calendar=\"2019-09-28 08:05\" /usr/local/bin/mlrpt -s 0606-0622 -t 16'\n",
       "96. 'systemd-run --user --unit=\"mlrpt_2019-09-28_20:33\" --on-calendar=\"2019-09-28 20:33\" /usr/local/bin/mlrpt -s 1834-1850 -t 16'\n",
       "97. 'systemd-run --user --unit=\"mlrpt_2019-09-29_07:54\" --on-calendar=\"2019-09-29 07:54\" /usr/local/bin/mlrpt -s 0555-0610 -t 16'\n",
       "98. 'systemd-run --user --unit=\"mlrpt_2019-09-29_20:22\" --on-calendar=\"2019-09-29 20:22\" /usr/local/bin/mlrpt -s 1823-1838 -t 15'\n",
       "99. 'systemd-run --user --unit=\"mlrpt_2019-09-29_22:03\" --on-calendar=\"2019-09-29 22:03\" /usr/local/bin/mlrpt -s 2004-2018 -t 14'\n",
       "100. 'systemd-run --user --unit=\"mlrpt_2019-09-30_07:42\" --on-calendar=\"2019-09-30 07:42\" /usr/local/bin/mlrpt -s 0543-0558 -t 15'\n",
       "101. 'systemd-run --user --unit=\"mlrpt_2019-09-30_09:23\" --on-calendar=\"2019-09-30 09:23\" /usr/local/bin/mlrpt -s 0724-0738 -t 14'\n",
       "102. 'systemd-run --user --unit=\"mlrpt_2019-09-30_20:10\" --on-calendar=\"2019-09-30 20:10\" /usr/local/bin/mlrpt -s 1811-1826 -t 15'\n",
       "103. 'systemd-run --user --unit=\"mlrpt_2019-09-30_21:51\" --on-calendar=\"2019-09-30 21:51\" /usr/local/bin/mlrpt -s 1952-2006 -t 15'\n",
       "104. 'systemd-run --user --unit=\"mlrpt_2019-10-01_07:31\" --on-calendar=\"2019-10-01 07:31\" /usr/local/bin/mlrpt -s 0532-0546 -t 15'\n",
       "105. 'systemd-run --user --unit=\"mlrpt_2019-10-01_09:11\" --on-calendar=\"2019-10-01 09:11\" /usr/local/bin/mlrpt -s 0712-0727 -t 15'\n",
       "106. 'systemd-run --user --unit=\"mlrpt_2019-10-01_19:59\" --on-calendar=\"2019-10-01 19:59\" /usr/local/bin/mlrpt -s 1800-1814 -t 14'\n",
       "107. 'systemd-run --user --unit=\"mlrpt_2019-10-01_21:39\" --on-calendar=\"2019-10-01 21:39\" /usr/local/bin/mlrpt -s 1940-1955 -t 15'\n",
       "108. 'systemd-run --user --unit=\"mlrpt_2019-10-02_07:19\" --on-calendar=\"2019-10-02 07:19\" /usr/local/bin/mlrpt -s 0520-0534 -t 14'\n",
       "109. 'systemd-run --user --unit=\"mlrpt_2019-10-02_08:59\" --on-calendar=\"2019-10-02 08:59\" /usr/local/bin/mlrpt -s 0700-0715 -t 15'\n",
       "110. 'systemd-run --user --unit=\"mlrpt_2019-09-22_20:04\" --on-calendar=\"2019-09-22 20:04\" /usr/local/bin/mlrpt -s 1805-1819 -t 15'\n",
       "111. 'systemd-run --user --unit=\"mlrpt_2019-09-22_21:44\" --on-calendar=\"2019-09-22 21:44\" /usr/local/bin/mlrpt -s 1945-2000 -t 15'\n",
       "112. 'systemd-run --user --unit=\"mlrpt_2019-09-23_07:24\" --on-calendar=\"2019-09-23 07:24\" /usr/local/bin/mlrpt -s 0525-0539 -t 15'\n",
       "113. 'systemd-run --user --unit=\"mlrpt_2019-09-23_09:04\" --on-calendar=\"2019-09-23 09:04\" /usr/local/bin/mlrpt -s 0705-0720 -t 15'\n",
       "114. 'systemd-run --user --unit=\"mlrpt_2019-09-23_21:32\" --on-calendar=\"2019-09-23 21:32\" /usr/local/bin/mlrpt -s 1933-1948 -t 16'\n",
       "115. 'systemd-run --user --unit=\"mlrpt_2019-09-24_08:52\" --on-calendar=\"2019-09-24 08:52\" /usr/local/bin/mlrpt -s 0653-0708 -t 16'\n",
       "116. 'systemd-run --user --unit=\"mlrpt_2019-09-24_21:20\" --on-calendar=\"2019-09-24 21:20\" /usr/local/bin/mlrpt -s 1921-1937 -t 16'\n",
       "117. 'systemd-run --user --unit=\"mlrpt_2019-09-25_08:40\" --on-calendar=\"2019-09-25 08:40\" /usr/local/bin/mlrpt -s 0641-0657 -t 16'\n",
       "118. 'systemd-run --user --unit=\"mlrpt_2019-09-25_21:09\" --on-calendar=\"2019-09-25 21:09\" /usr/local/bin/mlrpt -s 1910-1925 -t 16'\n",
       "119. 'systemd-run --user --unit=\"mlrpt_2019-09-26_08:29\" --on-calendar=\"2019-09-26 08:29\" /usr/local/bin/mlrpt -s 0630-0645 -t 16'\n",
       "120. 'systemd-run --user --unit=\"mlrpt_2019-09-26_20:57\" --on-calendar=\"2019-09-26 20:57\" /usr/local/bin/mlrpt -s 1858-1913 -t 16'\n",
       "121. 'systemd-run --user --unit=\"mlrpt_2019-09-27_08:17\" --on-calendar=\"2019-09-27 08:17\" /usr/local/bin/mlrpt -s 0618-0633 -t 16'\n",
       "122. 'systemd-run --user --unit=\"mlrpt_2019-09-27_20:45\" --on-calendar=\"2019-09-27 20:45\" /usr/local/bin/mlrpt -s 1846-1902 -t 16'\n",
       "123. 'systemd-run --user --unit=\"mlrpt_2019-09-28_08:05\" --on-calendar=\"2019-09-28 08:05\" /usr/local/bin/mlrpt -s 0606-0622 -t 16'\n",
       "124. 'systemd-run --user --unit=\"mlrpt_2019-09-28_20:33\" --on-calendar=\"2019-09-28 20:33\" /usr/local/bin/mlrpt -s 1834-1850 -t 16'\n",
       "125. 'systemd-run --user --unit=\"mlrpt_2019-09-29_07:54\" --on-calendar=\"2019-09-29 07:54\" /usr/local/bin/mlrpt -s 0555-0610 -t 16'\n",
       "126. 'systemd-run --user --unit=\"mlrpt_2019-09-29_20:22\" --on-calendar=\"2019-09-29 20:22\" /usr/local/bin/mlrpt -s 1823-1838 -t 15'\n",
       "127. 'systemd-run --user --unit=\"mlrpt_2019-09-29_22:03\" --on-calendar=\"2019-09-29 22:03\" /usr/local/bin/mlrpt -s 2004-2018 -t 14'\n",
       "128. 'systemd-run --user --unit=\"mlrpt_2019-09-30_07:42\" --on-calendar=\"2019-09-30 07:42\" /usr/local/bin/mlrpt -s 0543-0558 -t 15'\n",
       "129. 'systemd-run --user --unit=\"mlrpt_2019-09-30_09:23\" --on-calendar=\"2019-09-30 09:23\" /usr/local/bin/mlrpt -s 0724-0738 -t 14'\n",
       "130. 'systemd-run --user --unit=\"mlrpt_2019-09-30_20:10\" --on-calendar=\"2019-09-30 20:10\" /usr/local/bin/mlrpt -s 1811-1826 -t 15'\n",
       "131. 'systemd-run --user --unit=\"mlrpt_2019-09-30_21:51\" --on-calendar=\"2019-09-30 21:51\" /usr/local/bin/mlrpt -s 1952-2006 -t 15'\n",
       "132. 'systemd-run --user --unit=\"mlrpt_2019-10-01_07:31\" --on-calendar=\"2019-10-01 07:31\" /usr/local/bin/mlrpt -s 0532-0546 -t 15'\n",
       "133. 'systemd-run --user --unit=\"mlrpt_2019-10-01_09:11\" --on-calendar=\"2019-10-01 09:11\" /usr/local/bin/mlrpt -s 0712-0727 -t 15'\n",
       "134. 'systemd-run --user --unit=\"mlrpt_2019-10-01_19:59\" --on-calendar=\"2019-10-01 19:59\" /usr/local/bin/mlrpt -s 1800-1814 -t 14'\n",
       "135. 'systemd-run --user --unit=\"mlrpt_2019-10-01_21:39\" --on-calendar=\"2019-10-01 21:39\" /usr/local/bin/mlrpt -s 1940-1955 -t 15'\n",
       "136. 'systemd-run --user --unit=\"mlrpt_2019-10-02_07:19\" --on-calendar=\"2019-10-02 07:19\" /usr/local/bin/mlrpt -s 0520-0534 -t 14'\n",
       "137. 'systemd-run --user --unit=\"mlrpt_2019-10-02_08:59\" --on-calendar=\"2019-10-02 08:59\" /usr/local/bin/mlrpt -s 0700-0715 -t 15'\n",
       "\n",
       "\n"
      ],
      "text/plain": [
       "  [1] \"systemd-run --user --unit=\\\"mlrpt_2019-09-22_20:33\\\" --on-calendar=\\\"2019-09-22 20:33\\\" /usr/local/bin/mlrpt -s 1834-1849 -t 16\"\n",
       "  [2] \"systemd-run --user --unit=\\\"mlrpt_2019-09-23_07:49\\\" --on-calendar=\\\"2019-09-23 07:49\\\" /usr/local/bin/mlrpt -s 0550-0606 -t 16\"\n",
       "  [3] \"systemd-run --user --unit=\\\"mlrpt_2019-09-23_20:13\\\" --on-calendar=\\\"2019-09-23 20:13\\\" /usr/local/bin/mlrpt -s 1814-1829 -t 16\"\n",
       "  [4] \"systemd-run --user --unit=\\\"mlrpt_2019-09-24_07:30\\\" --on-calendar=\\\"2019-09-24 07:30\\\" /usr/local/bin/mlrpt -s 0531-0546 -t 15\"\n",
       "  [5] \"systemd-run --user --unit=\\\"mlrpt_2019-09-24_19:54\\\" --on-calendar=\\\"2019-09-24 19:54\\\" /usr/local/bin/mlrpt -s 1755-1809 -t 15\"\n",
       "  [6] \"systemd-run --user --unit=\\\"mlrpt_2019-09-24_21:34\\\" --on-calendar=\\\"2019-09-24 21:34\\\" /usr/local/bin/mlrpt -s 1935-1949 -t 14\"\n",
       "  [7] \"systemd-run --user --unit=\\\"mlrpt_2019-09-25_07:10\\\" --on-calendar=\\\"2019-09-25 07:10\\\" /usr/local/bin/mlrpt -s 0511-0526 -t 15\"\n",
       "  [8] \"systemd-run --user --unit=\\\"mlrpt_2019-09-25_08:50\\\" --on-calendar=\\\"2019-09-25 08:50\\\" /usr/local/bin/mlrpt -s 0651-0705 -t 15\"\n",
       "  [9] \"systemd-run --user --unit=\\\"mlrpt_2019-09-25_19:34\\\" --on-calendar=\\\"2019-09-25 19:34\\\" /usr/local/bin/mlrpt -s 1735-1749 -t 14\"\n",
       " [10] \"systemd-run --user --unit=\\\"mlrpt_2019-09-25_21:14\\\" --on-calendar=\\\"2019-09-25 21:14\\\" /usr/local/bin/mlrpt -s 1915-1929 -t 15\"\n",
       " [11] \"systemd-run --user --unit=\\\"mlrpt_2019-09-26_08:30\\\" --on-calendar=\\\"2019-09-26 08:30\\\" /usr/local/bin/mlrpt -s 0631-0646 -t 15\"\n",
       " [12] \"systemd-run --user --unit=\\\"mlrpt_2019-09-26_20:54\\\" --on-calendar=\\\"2019-09-26 20:54\\\" /usr/local/bin/mlrpt -s 1855-1910 -t 16\"\n",
       " [13] \"systemd-run --user --unit=\\\"mlrpt_2019-09-27_08:10\\\" --on-calendar=\\\"2019-09-27 08:10\\\" /usr/local/bin/mlrpt -s 0611-0626 -t 16\"\n",
       " [14] \"systemd-run --user --unit=\\\"mlrpt_2019-09-27_20:34\\\" --on-calendar=\\\"2019-09-27 20:34\\\" /usr/local/bin/mlrpt -s 1835-1850 -t 16\"\n",
       " [15] \"systemd-run --user --unit=\\\"mlrpt_2019-09-28_07:50\\\" --on-calendar=\\\"2019-09-28 07:50\\\" /usr/local/bin/mlrpt -s 0551-0606 -t 16\"\n",
       " [16] \"systemd-run --user --unit=\\\"mlrpt_2019-09-28_20:14\\\" --on-calendar=\\\"2019-09-28 20:14\\\" /usr/local/bin/mlrpt -s 1815-1830 -t 16\"\n",
       " [17] \"systemd-run --user --unit=\\\"mlrpt_2019-09-29_07:30\\\" --on-calendar=\\\"2019-09-29 07:30\\\" /usr/local/bin/mlrpt -s 0531-0546 -t 15\"\n",
       " [18] \"systemd-run --user --unit=\\\"mlrpt_2019-09-29_19:54\\\" --on-calendar=\\\"2019-09-29 19:54\\\" /usr/local/bin/mlrpt -s 1755-1810 -t 15\"\n",
       " [19] \"systemd-run --user --unit=\\\"mlrpt_2019-09-29_21:35\\\" --on-calendar=\\\"2019-09-29 21:35\\\" /usr/local/bin/mlrpt -s 1936-1949 -t 14\"\n",
       " [20] \"systemd-run --user --unit=\\\"mlrpt_2019-09-30_07:11\\\" --on-calendar=\\\"2019-09-30 07:11\\\" /usr/local/bin/mlrpt -s 0512-0526 -t 15\"\n",
       " [21] \"systemd-run --user --unit=\\\"mlrpt_2019-09-30_08:51\\\" --on-calendar=\\\"2019-09-30 08:51\\\" /usr/local/bin/mlrpt -s 0652-0706 -t 15\"\n",
       " [22] \"systemd-run --user --unit=\\\"mlrpt_2019-09-30_19:35\\\" --on-calendar=\\\"2019-09-30 19:35\\\" /usr/local/bin/mlrpt -s 1736-1750 -t 14\"\n",
       " [23] \"systemd-run --user --unit=\\\"mlrpt_2019-09-30_21:15\\\" --on-calendar=\\\"2019-09-30 21:15\\\" /usr/local/bin/mlrpt -s 1916-1930 -t 15\"\n",
       " [24] \"systemd-run --user --unit=\\\"mlrpt_2019-10-01_08:31\\\" --on-calendar=\\\"2019-10-01 08:31\\\" /usr/local/bin/mlrpt -s 0632-0647 -t 15\"\n",
       " [25] \"systemd-run --user --unit=\\\"mlrpt_2019-10-01_20:55\\\" --on-calendar=\\\"2019-10-01 20:55\\\" /usr/local/bin/mlrpt -s 1856-1911 -t 16\"\n",
       " [26] \"systemd-run --user --unit=\\\"mlrpt_2019-10-02_08:11\\\" --on-calendar=\\\"2019-10-02 08:11\\\" /usr/local/bin/mlrpt -s 0612-0627 -t 16\"\n",
       " [27] \"systemd-run --user --unit=\\\"mlrpt_2019-09-22_14:17\\\" --on-calendar=\\\"2019-09-22 14:17\\\" /usr/local/bin/mlrpt -s 1218-1232 -t 14\"\n",
       " [28] \"systemd-run --user --unit=\\\"mlrpt_2019-09-22_15:57\\\" --on-calendar=\\\"2019-09-22 15:57\\\" /usr/local/bin/mlrpt -s 1358-1412 -t 15\"\n",
       " [29] \"systemd-run --user --unit=\\\"mlrpt_2019-09-22_01:32\\\" --on-calendar=\\\"2019-09-22 01:32\\\" /usr/local/bin/mlrpt -s 2333-2347 -t 14\"\n",
       " [30] \"systemd-run --user --unit=\\\"mlrpt_2019-09-23_03:12\\\" --on-calendar=\\\"2019-09-23 03:12\\\" /usr/local/bin/mlrpt -s 0113-0127 -t 15\"\n",
       " [31] \"systemd-run --user --unit=\\\"mlrpt_2019-09-23_15:34\\\" --on-calendar=\\\"2019-09-23 15:34\\\" /usr/local/bin/mlrpt -s 1335-1350 -t 15\"\n",
       " [32] \"systemd-run --user --unit=\\\"mlrpt_2019-09-24_02:49\\\" --on-calendar=\\\"2019-09-24 02:49\\\" /usr/local/bin/mlrpt -s 0050-0105 -t 16\"\n",
       " [33] \"systemd-run --user --unit=\\\"mlrpt_2019-09-24_15:11\\\" --on-calendar=\\\"2019-09-24 15:11\\\" /usr/local/bin/mlrpt -s 1312-1328 -t 16\"\n",
       " [34] \"systemd-run --user --unit=\\\"mlrpt_2019-09-25_02:26\\\" --on-calendar=\\\"2019-09-25 02:26\\\" /usr/local/bin/mlrpt -s 0027-0042 -t 16\"\n",
       " [35] \"systemd-run --user --unit=\\\"mlrpt_2019-09-25_14:49\\\" --on-calendar=\\\"2019-09-25 14:49\\\" /usr/local/bin/mlrpt -s 1250-1305 -t 16\"\n",
       " [36] \"systemd-run --user --unit=\\\"mlrpt_2019-09-26_02:04\\\" --on-calendar=\\\"2019-09-26 02:04\\\" /usr/local/bin/mlrpt -s 0005-0020 -t 15\"\n",
       " [37] \"systemd-run --user --unit=\\\"mlrpt_2019-09-26_14:27\\\" --on-calendar=\\\"2019-09-26 14:27\\\" /usr/local/bin/mlrpt -s 1228-1242 -t 15\"\n",
       " [38] \"systemd-run --user --unit=\\\"mlrpt_2019-09-26_16:07\\\" --on-calendar=\\\"2019-09-26 16:07\\\" /usr/local/bin/mlrpt -s 1408-1422 -t 14\"\n",
       " [39] \"systemd-run --user --unit=\\\"mlrpt_2019-09-26_01:42\\\" --on-calendar=\\\"2019-09-26 01:42\\\" /usr/local/bin/mlrpt -s 2343-2357 -t 15\"\n",
       " [40] \"systemd-run --user --unit=\\\"mlrpt_2019-09-27_03:22\\\" --on-calendar=\\\"2019-09-27 03:22\\\" /usr/local/bin/mlrpt -s 0123-0137 -t 15\"\n",
       " [41] \"systemd-run --user --unit=\\\"mlrpt_2019-09-27_15:44\\\" --on-calendar=\\\"2019-09-27 15:44\\\" /usr/local/bin/mlrpt -s 1345-1400 -t 15\"\n",
       " [42] \"systemd-run --user --unit=\\\"mlrpt_2019-09-28_02:59\\\" --on-calendar=\\\"2019-09-28 02:59\\\" /usr/local/bin/mlrpt -s 0100-0115 -t 15\"\n",
       " [43] \"systemd-run --user --unit=\\\"mlrpt_2019-09-28_15:21\\\" --on-calendar=\\\"2019-09-28 15:21\\\" /usr/local/bin/mlrpt -s 1322-1337 -t 16\"\n",
       " [44] \"systemd-run --user --unit=\\\"mlrpt_2019-09-29_02:36\\\" --on-calendar=\\\"2019-09-29 02:36\\\" /usr/local/bin/mlrpt -s 0037-0052 -t 16\"\n",
       " [45] \"systemd-run --user --unit=\\\"mlrpt_2019-09-29_14:59\\\" --on-calendar=\\\"2019-09-29 14:59\\\" /usr/local/bin/mlrpt -s 1300-1315 -t 16\"\n",
       " [46] \"systemd-run --user --unit=\\\"mlrpt_2019-09-30_02:14\\\" --on-calendar=\\\"2019-09-30 02:14\\\" /usr/local/bin/mlrpt -s 0015-0030 -t 15\"\n",
       " [47] \"systemd-run --user --unit=\\\"mlrpt_2019-09-30_14:36\\\" --on-calendar=\\\"2019-09-30 14:36\\\" /usr/local/bin/mlrpt -s 1237-1252 -t 15\"\n",
       " [48] \"systemd-run --user --unit=\\\"mlrpt_2019-09-30_01:52\\\" --on-calendar=\\\"2019-09-30 01:52\\\" /usr/local/bin/mlrpt -s 2353-0007 -t 15\"\n",
       " [49] \"systemd-run --user --unit=\\\"mlrpt_2019-10-01_03:32\\\" --on-calendar=\\\"2019-10-01 03:32\\\" /usr/local/bin/mlrpt -s 0133-0147 -t 14\"\n",
       " [50] \"systemd-run --user --unit=\\\"mlrpt_2019-10-01_14:14\\\" --on-calendar=\\\"2019-10-01 14:14\\\" /usr/local/bin/mlrpt -s 1215-1229 -t 14\"\n",
       " [51] \"systemd-run --user --unit=\\\"mlrpt_2019-10-01_15:54\\\" --on-calendar=\\\"2019-10-01 15:54\\\" /usr/local/bin/mlrpt -s 1355-1409 -t 15\"\n",
       " [52] \"systemd-run --user --unit=\\\"mlrpt_2019-10-01_01:30\\\" --on-calendar=\\\"2019-10-01 01:30\\\" /usr/local/bin/mlrpt -s 2331-2344 -t 14\"\n",
       " [53] \"systemd-run --user --unit=\\\"mlrpt_2019-10-02_03:09\\\" --on-calendar=\\\"2019-10-02 03:09\\\" /usr/local/bin/mlrpt -s 0110-0124 -t 15\"\n",
       " [54] \"systemd-run --user --unit=\\\"mlrpt_2019-09-22_18:16\\\" --on-calendar=\\\"2019-09-22 18:16\\\" /usr/local/bin/mlrpt -s 1617-1631 -t 14\"\n",
       " [55] \"systemd-run --user --unit=\\\"mlrpt_2019-09-22_19:56\\\" --on-calendar=\\\"2019-09-22 19:56\\\" /usr/local/bin/mlrpt -s 1757-1811 -t 15\"\n",
       " [56] \"systemd-run --user --unit=\\\"mlrpt_2019-09-23_05:31\\\" --on-calendar=\\\"2019-09-23 05:31\\\" /usr/local/bin/mlrpt -s 0332-0345 -t 14\"\n",
       " [57] \"systemd-run --user --unit=\\\"mlrpt_2019-09-23_07:09\\\" --on-calendar=\\\"2019-09-23 07:09\\\" /usr/local/bin/mlrpt -s 0510-0525 -t 15\"\n",
       " [58] \"systemd-run --user --unit=\\\"mlrpt_2019-09-23_19:30\\\" --on-calendar=\\\"2019-09-23 19:30\\\" /usr/local/bin/mlrpt -s 1731-1746 -t 15\"\n",
       " [59] \"systemd-run --user --unit=\\\"mlrpt_2019-09-24_06:44\\\" --on-calendar=\\\"2019-09-24 06:44\\\" /usr/local/bin/mlrpt -s 0445-0500 -t 16\"\n",
       " [60] \"systemd-run --user --unit=\\\"mlrpt_2019-09-24_19:05\\\" --on-calendar=\\\"2019-09-24 19:05\\\" /usr/local/bin/mlrpt -s 1706-1721 -t 16\"\n",
       " [61] \"systemd-run --user --unit=\\\"mlrpt_2019-09-25_06:19\\\" --on-calendar=\\\"2019-09-25 06:19\\\" /usr/local/bin/mlrpt -s 0420-0435 -t 16\"\n",
       " [62] \"systemd-run --user --unit=\\\"mlrpt_2019-09-25_18:40\\\" --on-calendar=\\\"2019-09-25 18:40\\\" /usr/local/bin/mlrpt -s 1641-1656 -t 15\"\n",
       " [63] \"systemd-run --user --unit=\\\"mlrpt_2019-09-26_05:54\\\" --on-calendar=\\\"2019-09-26 05:54\\\" /usr/local/bin/mlrpt -s 0355-0410 -t 15\"\n",
       " [64] \"systemd-run --user --unit=\\\"mlrpt_2019-09-26_07:35\\\" --on-calendar=\\\"2019-09-26 07:35\\\" /usr/local/bin/mlrpt -s 0536-0549 -t 14\"\n",
       " [65] \"systemd-run --user --unit=\\\"mlrpt_2019-09-26_18:16\\\" --on-calendar=\\\"2019-09-26 18:16\\\" /usr/local/bin/mlrpt -s 1617-1630 -t 14\"\n",
       " [66] \"systemd-run --user --unit=\\\"mlrpt_2019-09-26_19:55\\\" --on-calendar=\\\"2019-09-26 19:55\\\" /usr/local/bin/mlrpt -s 1756-1810 -t 15\"\n",
       " [67] \"systemd-run --user --unit=\\\"mlrpt_2019-09-27_05:30\\\" --on-calendar=\\\"2019-09-27 05:30\\\" /usr/local/bin/mlrpt -s 0331-0344 -t 14\"\n",
       " [68] \"systemd-run --user --unit=\\\"mlrpt_2019-09-27_07:09\\\" --on-calendar=\\\"2019-09-27 07:09\\\" /usr/local/bin/mlrpt -s 0510-0524 -t 15\"\n",
       " [69] \"systemd-run --user --unit=\\\"mlrpt_2019-09-27_19:30\\\" --on-calendar=\\\"2019-09-27 19:30\\\" /usr/local/bin/mlrpt -s 1731-1746 -t 15\"\n",
       " [70] \"systemd-run --user --unit=\\\"mlrpt_2019-09-28_06:43\\\" --on-calendar=\\\"2019-09-28 06:43\\\" /usr/local/bin/mlrpt -s 0444-0500 -t 16\"\n",
       " [71] \"systemd-run --user --unit=\\\"mlrpt_2019-09-28_19:05\\\" --on-calendar=\\\"2019-09-28 19:05\\\" /usr/local/bin/mlrpt -s 1706-1721 -t 16\"\n",
       " [72] \"systemd-run --user --unit=\\\"mlrpt_2019-09-29_06:18\\\" --on-calendar=\\\"2019-09-29 06:18\\\" /usr/local/bin/mlrpt -s 0419-0435 -t 16\"\n",
       " [73] \"systemd-run --user --unit=\\\"mlrpt_2019-09-29_18:40\\\" --on-calendar=\\\"2019-09-29 18:40\\\" /usr/local/bin/mlrpt -s 1641-1656 -t 15\"\n",
       " [74] \"systemd-run --user --unit=\\\"mlrpt_2019-09-30_05:54\\\" --on-calendar=\\\"2019-09-30 05:54\\\" /usr/local/bin/mlrpt -s 0355-0409 -t 15\"\n",
       " [75] \"systemd-run --user --unit=\\\"mlrpt_2019-09-30_07:34\\\" --on-calendar=\\\"2019-09-30 07:34\\\" /usr/local/bin/mlrpt -s 0535-0549 -t 14\"\n",
       " [76] \"systemd-run --user --unit=\\\"mlrpt_2019-09-30_18:15\\\" --on-calendar=\\\"2019-09-30 18:15\\\" /usr/local/bin/mlrpt -s 1616-1630 -t 14\"\n",
       " [77] \"systemd-run --user --unit=\\\"mlrpt_2019-09-30_19:55\\\" --on-calendar=\\\"2019-09-30 19:55\\\" /usr/local/bin/mlrpt -s 1756-1810 -t 15\"\n",
       " [78] \"systemd-run --user --unit=\\\"mlrpt_2019-10-01_05:30\\\" --on-calendar=\\\"2019-10-01 05:30\\\" /usr/local/bin/mlrpt -s 0331-0344 -t 14\"\n",
       " [79] \"systemd-run --user --unit=\\\"mlrpt_2019-10-01_07:08\\\" --on-calendar=\\\"2019-10-01 07:08\\\" /usr/local/bin/mlrpt -s 0509-0524 -t 15\"\n",
       " [80] \"systemd-run --user --unit=\\\"mlrpt_2019-10-01_19:29\\\" --on-calendar=\\\"2019-10-01 19:29\\\" /usr/local/bin/mlrpt -s 1730-1745 -t 15\"\n",
       " [81] \"systemd-run --user --unit=\\\"mlrpt_2019-10-02_06:43\\\" --on-calendar=\\\"2019-10-02 06:43\\\" /usr/local/bin/mlrpt -s 0444-0459 -t 16\"\n",
       " [82] \"systemd-run --user --unit=\\\"mlrpt_2019-09-22_20:04\\\" --on-calendar=\\\"2019-09-22 20:04\\\" /usr/local/bin/mlrpt -s 1805-1819 -t 15\"\n",
       " [83] \"systemd-run --user --unit=\\\"mlrpt_2019-09-22_21:44\\\" --on-calendar=\\\"2019-09-22 21:44\\\" /usr/local/bin/mlrpt -s 1945-2000 -t 15\"\n",
       " [84] \"systemd-run --user --unit=\\\"mlrpt_2019-09-23_07:24\\\" --on-calendar=\\\"2019-09-23 07:24\\\" /usr/local/bin/mlrpt -s 0525-0539 -t 15\"\n",
       " [85] \"systemd-run --user --unit=\\\"mlrpt_2019-09-23_09:04\\\" --on-calendar=\\\"2019-09-23 09:04\\\" /usr/local/bin/mlrpt -s 0705-0720 -t 15\"\n",
       " [86] \"systemd-run --user --unit=\\\"mlrpt_2019-09-23_21:32\\\" --on-calendar=\\\"2019-09-23 21:32\\\" /usr/local/bin/mlrpt -s 1933-1948 -t 16\"\n",
       " [87] \"systemd-run --user --unit=\\\"mlrpt_2019-09-24_08:52\\\" --on-calendar=\\\"2019-09-24 08:52\\\" /usr/local/bin/mlrpt -s 0653-0708 -t 16\"\n",
       " [88] \"systemd-run --user --unit=\\\"mlrpt_2019-09-24_21:20\\\" --on-calendar=\\\"2019-09-24 21:20\\\" /usr/local/bin/mlrpt -s 1921-1937 -t 16\"\n",
       " [89] \"systemd-run --user --unit=\\\"mlrpt_2019-09-25_08:40\\\" --on-calendar=\\\"2019-09-25 08:40\\\" /usr/local/bin/mlrpt -s 0641-0657 -t 16\"\n",
       " [90] \"systemd-run --user --unit=\\\"mlrpt_2019-09-25_21:09\\\" --on-calendar=\\\"2019-09-25 21:09\\\" /usr/local/bin/mlrpt -s 1910-1925 -t 16\"\n",
       " [91] \"systemd-run --user --unit=\\\"mlrpt_2019-09-26_08:29\\\" --on-calendar=\\\"2019-09-26 08:29\\\" /usr/local/bin/mlrpt -s 0630-0645 -t 16\"\n",
       " [92] \"systemd-run --user --unit=\\\"mlrpt_2019-09-26_20:57\\\" --on-calendar=\\\"2019-09-26 20:57\\\" /usr/local/bin/mlrpt -s 1858-1913 -t 16\"\n",
       " [93] \"systemd-run --user --unit=\\\"mlrpt_2019-09-27_08:17\\\" --on-calendar=\\\"2019-09-27 08:17\\\" /usr/local/bin/mlrpt -s 0618-0633 -t 16\"\n",
       " [94] \"systemd-run --user --unit=\\\"mlrpt_2019-09-27_20:45\\\" --on-calendar=\\\"2019-09-27 20:45\\\" /usr/local/bin/mlrpt -s 1846-1902 -t 16\"\n",
       " [95] \"systemd-run --user --unit=\\\"mlrpt_2019-09-28_08:05\\\" --on-calendar=\\\"2019-09-28 08:05\\\" /usr/local/bin/mlrpt -s 0606-0622 -t 16\"\n",
       " [96] \"systemd-run --user --unit=\\\"mlrpt_2019-09-28_20:33\\\" --on-calendar=\\\"2019-09-28 20:33\\\" /usr/local/bin/mlrpt -s 1834-1850 -t 16\"\n",
       " [97] \"systemd-run --user --unit=\\\"mlrpt_2019-09-29_07:54\\\" --on-calendar=\\\"2019-09-29 07:54\\\" /usr/local/bin/mlrpt -s 0555-0610 -t 16\"\n",
       " [98] \"systemd-run --user --unit=\\\"mlrpt_2019-09-29_20:22\\\" --on-calendar=\\\"2019-09-29 20:22\\\" /usr/local/bin/mlrpt -s 1823-1838 -t 15\"\n",
       " [99] \"systemd-run --user --unit=\\\"mlrpt_2019-09-29_22:03\\\" --on-calendar=\\\"2019-09-29 22:03\\\" /usr/local/bin/mlrpt -s 2004-2018 -t 14\"\n",
       "[100] \"systemd-run --user --unit=\\\"mlrpt_2019-09-30_07:42\\\" --on-calendar=\\\"2019-09-30 07:42\\\" /usr/local/bin/mlrpt -s 0543-0558 -t 15\"\n",
       "[101] \"systemd-run --user --unit=\\\"mlrpt_2019-09-30_09:23\\\" --on-calendar=\\\"2019-09-30 09:23\\\" /usr/local/bin/mlrpt -s 0724-0738 -t 14\"\n",
       "[102] \"systemd-run --user --unit=\\\"mlrpt_2019-09-30_20:10\\\" --on-calendar=\\\"2019-09-30 20:10\\\" /usr/local/bin/mlrpt -s 1811-1826 -t 15\"\n",
       "[103] \"systemd-run --user --unit=\\\"mlrpt_2019-09-30_21:51\\\" --on-calendar=\\\"2019-09-30 21:51\\\" /usr/local/bin/mlrpt -s 1952-2006 -t 15\"\n",
       "[104] \"systemd-run --user --unit=\\\"mlrpt_2019-10-01_07:31\\\" --on-calendar=\\\"2019-10-01 07:31\\\" /usr/local/bin/mlrpt -s 0532-0546 -t 15\"\n",
       "[105] \"systemd-run --user --unit=\\\"mlrpt_2019-10-01_09:11\\\" --on-calendar=\\\"2019-10-01 09:11\\\" /usr/local/bin/mlrpt -s 0712-0727 -t 15\"\n",
       "[106] \"systemd-run --user --unit=\\\"mlrpt_2019-10-01_19:59\\\" --on-calendar=\\\"2019-10-01 19:59\\\" /usr/local/bin/mlrpt -s 1800-1814 -t 14\"\n",
       "[107] \"systemd-run --user --unit=\\\"mlrpt_2019-10-01_21:39\\\" --on-calendar=\\\"2019-10-01 21:39\\\" /usr/local/bin/mlrpt -s 1940-1955 -t 15\"\n",
       "[108] \"systemd-run --user --unit=\\\"mlrpt_2019-10-02_07:19\\\" --on-calendar=\\\"2019-10-02 07:19\\\" /usr/local/bin/mlrpt -s 0520-0534 -t 14\"\n",
       "[109] \"systemd-run --user --unit=\\\"mlrpt_2019-10-02_08:59\\\" --on-calendar=\\\"2019-10-02 08:59\\\" /usr/local/bin/mlrpt -s 0700-0715 -t 15\"\n",
       "[110] \"systemd-run --user --unit=\\\"mlrpt_2019-09-22_20:04\\\" --on-calendar=\\\"2019-09-22 20:04\\\" /usr/local/bin/mlrpt -s 1805-1819 -t 15\"\n",
       "[111] \"systemd-run --user --unit=\\\"mlrpt_2019-09-22_21:44\\\" --on-calendar=\\\"2019-09-22 21:44\\\" /usr/local/bin/mlrpt -s 1945-2000 -t 15\"\n",
       "[112] \"systemd-run --user --unit=\\\"mlrpt_2019-09-23_07:24\\\" --on-calendar=\\\"2019-09-23 07:24\\\" /usr/local/bin/mlrpt -s 0525-0539 -t 15\"\n",
       "[113] \"systemd-run --user --unit=\\\"mlrpt_2019-09-23_09:04\\\" --on-calendar=\\\"2019-09-23 09:04\\\" /usr/local/bin/mlrpt -s 0705-0720 -t 15\"\n",
       "[114] \"systemd-run --user --unit=\\\"mlrpt_2019-09-23_21:32\\\" --on-calendar=\\\"2019-09-23 21:32\\\" /usr/local/bin/mlrpt -s 1933-1948 -t 16\"\n",
       "[115] \"systemd-run --user --unit=\\\"mlrpt_2019-09-24_08:52\\\" --on-calendar=\\\"2019-09-24 08:52\\\" /usr/local/bin/mlrpt -s 0653-0708 -t 16\"\n",
       "[116] \"systemd-run --user --unit=\\\"mlrpt_2019-09-24_21:20\\\" --on-calendar=\\\"2019-09-24 21:20\\\" /usr/local/bin/mlrpt -s 1921-1937 -t 16\"\n",
       "[117] \"systemd-run --user --unit=\\\"mlrpt_2019-09-25_08:40\\\" --on-calendar=\\\"2019-09-25 08:40\\\" /usr/local/bin/mlrpt -s 0641-0657 -t 16\"\n",
       "[118] \"systemd-run --user --unit=\\\"mlrpt_2019-09-25_21:09\\\" --on-calendar=\\\"2019-09-25 21:09\\\" /usr/local/bin/mlrpt -s 1910-1925 -t 16\"\n",
       "[119] \"systemd-run --user --unit=\\\"mlrpt_2019-09-26_08:29\\\" --on-calendar=\\\"2019-09-26 08:29\\\" /usr/local/bin/mlrpt -s 0630-0645 -t 16\"\n",
       "[120] \"systemd-run --user --unit=\\\"mlrpt_2019-09-26_20:57\\\" --on-calendar=\\\"2019-09-26 20:57\\\" /usr/local/bin/mlrpt -s 1858-1913 -t 16\"\n",
       "[121] \"systemd-run --user --unit=\\\"mlrpt_2019-09-27_08:17\\\" --on-calendar=\\\"2019-09-27 08:17\\\" /usr/local/bin/mlrpt -s 0618-0633 -t 16\"\n",
       "[122] \"systemd-run --user --unit=\\\"mlrpt_2019-09-27_20:45\\\" --on-calendar=\\\"2019-09-27 20:45\\\" /usr/local/bin/mlrpt -s 1846-1902 -t 16\"\n",
       "[123] \"systemd-run --user --unit=\\\"mlrpt_2019-09-28_08:05\\\" --on-calendar=\\\"2019-09-28 08:05\\\" /usr/local/bin/mlrpt -s 0606-0622 -t 16\"\n",
       "[124] \"systemd-run --user --unit=\\\"mlrpt_2019-09-28_20:33\\\" --on-calendar=\\\"2019-09-28 20:33\\\" /usr/local/bin/mlrpt -s 1834-1850 -t 16\"\n",
       "[125] \"systemd-run --user --unit=\\\"mlrpt_2019-09-29_07:54\\\" --on-calendar=\\\"2019-09-29 07:54\\\" /usr/local/bin/mlrpt -s 0555-0610 -t 16\"\n",
       "[126] \"systemd-run --user --unit=\\\"mlrpt_2019-09-29_20:22\\\" --on-calendar=\\\"2019-09-29 20:22\\\" /usr/local/bin/mlrpt -s 1823-1838 -t 15\"\n",
       "[127] \"systemd-run --user --unit=\\\"mlrpt_2019-09-29_22:03\\\" --on-calendar=\\\"2019-09-29 22:03\\\" /usr/local/bin/mlrpt -s 2004-2018 -t 14\"\n",
       "[128] \"systemd-run --user --unit=\\\"mlrpt_2019-09-30_07:42\\\" --on-calendar=\\\"2019-09-30 07:42\\\" /usr/local/bin/mlrpt -s 0543-0558 -t 15\"\n",
       "[129] \"systemd-run --user --unit=\\\"mlrpt_2019-09-30_09:23\\\" --on-calendar=\\\"2019-09-30 09:23\\\" /usr/local/bin/mlrpt -s 0724-0738 -t 14\"\n",
       "[130] \"systemd-run --user --unit=\\\"mlrpt_2019-09-30_20:10\\\" --on-calendar=\\\"2019-09-30 20:10\\\" /usr/local/bin/mlrpt -s 1811-1826 -t 15\"\n",
       "[131] \"systemd-run --user --unit=\\\"mlrpt_2019-09-30_21:51\\\" --on-calendar=\\\"2019-09-30 21:51\\\" /usr/local/bin/mlrpt -s 1952-2006 -t 15\"\n",
       "[132] \"systemd-run --user --unit=\\\"mlrpt_2019-10-01_07:31\\\" --on-calendar=\\\"2019-10-01 07:31\\\" /usr/local/bin/mlrpt -s 0532-0546 -t 15\"\n",
       "[133] \"systemd-run --user --unit=\\\"mlrpt_2019-10-01_09:11\\\" --on-calendar=\\\"2019-10-01 09:11\\\" /usr/local/bin/mlrpt -s 0712-0727 -t 15\"\n",
       "[134] \"systemd-run --user --unit=\\\"mlrpt_2019-10-01_19:59\\\" --on-calendar=\\\"2019-10-01 19:59\\\" /usr/local/bin/mlrpt -s 1800-1814 -t 14\"\n",
       "[135] \"systemd-run --user --unit=\\\"mlrpt_2019-10-01_21:39\\\" --on-calendar=\\\"2019-10-01 21:39\\\" /usr/local/bin/mlrpt -s 1940-1955 -t 15\"\n",
       "[136] \"systemd-run --user --unit=\\\"mlrpt_2019-10-02_07:19\\\" --on-calendar=\\\"2019-10-02 07:19\\\" /usr/local/bin/mlrpt -s 0520-0534 -t 14\"\n",
       "[137] \"systemd-run --user --unit=\\\"mlrpt_2019-10-02_08:59\\\" --on-calendar=\\\"2019-10-02 08:59\\\" /usr/local/bin/mlrpt -s 0700-0715 -t 15\""
      ]
     },
     "metadata": {},
     "output_type": "display_data"
    }
   ],
   "source": [
    "paste0('systemd-run --user --unit=\\\"mlrpt_', satellite_data_df$startDate, \"_\", satellite_data_df$localStartTime,\n",
    "       '\\\" --on-calendar=\\\"', satellite_data_df$startDate,\" \", satellite_data_df$localStartTime,\n",
    "       '\\\" /usr/local/bin/mlrpt -s ', satellite_data_df$startTime,\"-\", satellite_data_df$endTime,\n",
    "       ' -t ', satellite_data_df$duration)"
   ]
  },
  {
   "cell_type": "markdown",
   "metadata": {},
   "source": [
    "## Format systemd / rtl_fm commands \n",
    "\n",
    "http://kmkeen.com/rtl-demod-guide/\n",
    "\n",
    "`timeout $duration rtl_fm $biast -f $freq -s $sample -g $dongleGain -F 9 -A fast -E offset -p $dongleShift $recdir/$fileNameCore.raw | tee -a $logFile`\n",
    "\n",
    "-For `timeout`, append `m` to the time for minutes. Seconds is the default\n",
    "\n",
    "-Whether to turn bias-t power on (i.e., for LNA). See: `rtl_fm --help | grep \"-T\"`\n",
    "biast=\"\" \n",
    "\n",
    "-Sample rate, width of recorded signal - should include few kHz for doppler shift.\n",
    "sample='48000'\n",
    "\n",
    "-Dongle gain. Run `rtl_test` to get supported gain levels. 49.6 seems to be the highest supported by rtl-sdr.\n",
    "dongleGain='49.6'\n",
    "\n",
    "-`-F` fir_size (default: off) enables low-leakage downsample filterEnable a higher quality downsampling FIR than the default boxcar filter. `-F 0` is okay to use while `-F 9` is still a work in progress.\n",
    "FIR=9\n",
    "\n",
    "-`-A` Choose how arctan is computed. Options select between the standard (floating) lib *std*, a fast polynomial integer approximation *fast* and a precomputed look-up-table *lut*\n",
    "arctan=fast\n",
    "\n",
    "dongleshift\n",
    "\n",
    "- `-E`\n",
    "    1) `-E dc` dc blocking filter\n",
    "    2) `-E deemp` de-emphasis filter for WBFM\n",
    "    3) `-E direct` direct sampling mode\n",
    "    4) `-E offset` offset tuning mode (E4000 only)\n",
    "    Use multiple -E option to enable multiple features.\n",
    "\n",
    "\n",
    "-Sample rate of the wav file. Shouldn't be changed\n",
    "wavrate='11025'\n",
    "\n",
    "-Dongle index, is there any rtl_fm allowing passing serial of dongle?\n",
    "dongleIndex='0'\n",
    "\n",
    "-enchancements to apply to the pocessed images. See wxtoimg manual for available options\n",
    "enchancements=('MCIR-precip' 'HVC' 'MSA' 'therm' 'HVCT-precip' 'NO')\n",
    "\n",
    "-resize images to the given size to avoid growing of the repository; in px, otherwise, comment out the line\n",
    "resizeimageto=1024"
   ]
  },
  {
   "cell_type": "code",
   "execution_count": 11,
   "metadata": {},
   "outputs": [
    {
     "data": {
      "text/html": [
       "<table>\n",
       "<caption>A data.frame: 6 × 20</caption>\n",
       "<thead>\n",
       "\t<tr><th scope=col>satellite</th><th scope=col>frequency</th><th scope=col>norad_id</th><th scope=col>priority</th><th scope=col>startAz</th><th scope=col>startAzCompass</th><th scope=col>startUTC</th><th scope=col>maxAz</th><th scope=col>maxAzCompass</th><th scope=col>maxEl</th><th scope=col>maxUTC</th><th scope=col>endAz</th><th scope=col>endAzCompass</th><th scope=col>endUTC</th><th scope=col>startDate</th><th scope=col>startTime</th><th scope=col>endDate</th><th scope=col>endTime</th><th scope=col>localStartTime</th><th scope=col>duration</th></tr>\n",
       "\t<tr><th scope=col>&lt;chr&gt;</th><th scope=col>&lt;dbl&gt;</th><th scope=col>&lt;dbl&gt;</th><th scope=col>&lt;dbl&gt;</th><th scope=col>&lt;dbl&gt;</th><th scope=col>&lt;chr&gt;</th><th scope=col>&lt;dttm&gt;</th><th scope=col>&lt;dbl&gt;</th><th scope=col>&lt;chr&gt;</th><th scope=col>&lt;dbl&gt;</th><th scope=col>&lt;int&gt;</th><th scope=col>&lt;dbl&gt;</th><th scope=col>&lt;chr&gt;</th><th scope=col>&lt;dttm&gt;</th><th scope=col>&lt;chr&gt;</th><th scope=col>&lt;chr&gt;</th><th scope=col>&lt;chr&gt;</th><th scope=col>&lt;chr&gt;</th><th scope=col>&lt;chr&gt;</th><th scope=col>&lt;dbl&gt;</th></tr>\n",
       "</thead>\n",
       "<tbody>\n",
       "\t<tr><td>METEOR-M2</td><td>137100000</td><td>40069</td><td>4</td><td>167.26</td><td>S  </td><td>2019-09-22 18:34:40</td><td> 64.47</td><td>ENE</td><td>85.33</td><td>1569177745</td><td>347.41</td><td>N </td><td>2019-09-22 18:49:55</td><td>2019-09-22</td><td>1834</td><td>2019-09-22</td><td>1849</td><td>20:33</td><td>16</td></tr>\n",
       "\t<tr><td>METEOR-M2</td><td>137100000</td><td>40069</td><td>4</td><td> 17.99</td><td>NNE</td><td>2019-09-23 05:50:45</td><td>108.09</td><td>ESE</td><td>76.20</td><td>1569218305</td><td>189.85</td><td>S </td><td>2019-09-23 06:06:05</td><td>2019-09-23</td><td>0550</td><td>2019-09-23</td><td>0606</td><td>07:49</td><td>16</td></tr>\n",
       "\t<tr><td>METEOR-M2</td><td>137100000</td><td>40069</td><td>4</td><td>161.41</td><td>SSE</td><td>2019-09-23 18:14:50</td><td> 79.00</td><td>E  </td><td>53.13</td><td>1569262950</td><td>358.25</td><td>N </td><td>2019-09-23 18:29:55</td><td>2019-09-23</td><td>1814</td><td>2019-09-23</td><td>1829</td><td>20:13</td><td>16</td></tr>\n",
       "\t<tr><td>METEOR-M2</td><td>137100000</td><td>40069</td><td>4</td><td> 28.68</td><td>NNE</td><td>2019-09-24 05:31:05</td><td>107.21</td><td>ESE</td><td>47.49</td><td>1569303515</td><td>184.15</td><td>S </td><td>2019-09-24 05:46:05</td><td>2019-09-24</td><td>0531</td><td>2019-09-24</td><td>0546</td><td>07:30</td><td>15</td></tr>\n",
       "\t<tr><td>METEOR-M2</td><td>137100000</td><td>40069</td><td>4</td><td>155.12</td><td>SSE</td><td>2019-09-24 17:55:10</td><td> 82.88</td><td>E  </td><td>32.90</td><td>1569348150</td><td>  9.29</td><td>N </td><td>2019-09-24 18:09:45</td><td>2019-09-24</td><td>1755</td><td>2019-09-24</td><td>1809</td><td>19:54</td><td>15</td></tr>\n",
       "\t<tr><td>METEOR-M2</td><td>137100000</td><td>40069</td><td>4</td><td>184.83</td><td>S  </td><td>2019-09-24 19:35:30</td><td>248.82</td><td>WSW</td><td>23.60</td><td>1569354145</td><td>313.76</td><td>NW</td><td>2019-09-24 19:49:15</td><td>2019-09-24</td><td>1935</td><td>2019-09-24</td><td>1949</td><td>21:34</td><td>14</td></tr>\n",
       "</tbody>\n",
       "</table>\n"
      ],
      "text/latex": [
       "A data.frame: 6 × 20\n",
       "\\begin{tabular}{r|llllllllllllllllllll}\n",
       " satellite & frequency & norad\\_id & priority & startAz & startAzCompass & startUTC & maxAz & maxAzCompass & maxEl & maxUTC & endAz & endAzCompass & endUTC & startDate & startTime & endDate & endTime & localStartTime & duration\\\\\n",
       " <chr> & <dbl> & <dbl> & <dbl> & <dbl> & <chr> & <dttm> & <dbl> & <chr> & <dbl> & <int> & <dbl> & <chr> & <dttm> & <chr> & <chr> & <chr> & <chr> & <chr> & <dbl>\\\\\n",
       "\\hline\n",
       "\t METEOR-M2 & 137100000 & 40069 & 4 & 167.26 & S   & 2019-09-22 18:34:40 &  64.47 & ENE & 85.33 & 1569177745 & 347.41 & N  & 2019-09-22 18:49:55 & 2019-09-22 & 1834 & 2019-09-22 & 1849 & 20:33 & 16\\\\\n",
       "\t METEOR-M2 & 137100000 & 40069 & 4 &  17.99 & NNE & 2019-09-23 05:50:45 & 108.09 & ESE & 76.20 & 1569218305 & 189.85 & S  & 2019-09-23 06:06:05 & 2019-09-23 & 0550 & 2019-09-23 & 0606 & 07:49 & 16\\\\\n",
       "\t METEOR-M2 & 137100000 & 40069 & 4 & 161.41 & SSE & 2019-09-23 18:14:50 &  79.00 & E   & 53.13 & 1569262950 & 358.25 & N  & 2019-09-23 18:29:55 & 2019-09-23 & 1814 & 2019-09-23 & 1829 & 20:13 & 16\\\\\n",
       "\t METEOR-M2 & 137100000 & 40069 & 4 &  28.68 & NNE & 2019-09-24 05:31:05 & 107.21 & ESE & 47.49 & 1569303515 & 184.15 & S  & 2019-09-24 05:46:05 & 2019-09-24 & 0531 & 2019-09-24 & 0546 & 07:30 & 15\\\\\n",
       "\t METEOR-M2 & 137100000 & 40069 & 4 & 155.12 & SSE & 2019-09-24 17:55:10 &  82.88 & E   & 32.90 & 1569348150 &   9.29 & N  & 2019-09-24 18:09:45 & 2019-09-24 & 1755 & 2019-09-24 & 1809 & 19:54 & 15\\\\\n",
       "\t METEOR-M2 & 137100000 & 40069 & 4 & 184.83 & S   & 2019-09-24 19:35:30 & 248.82 & WSW & 23.60 & 1569354145 & 313.76 & NW & 2019-09-24 19:49:15 & 2019-09-24 & 1935 & 2019-09-24 & 1949 & 21:34 & 14\\\\\n",
       "\\end{tabular}\n"
      ],
      "text/markdown": [
       "\n",
       "A data.frame: 6 × 20\n",
       "\n",
       "| satellite &lt;chr&gt; | frequency &lt;dbl&gt; | norad_id &lt;dbl&gt; | priority &lt;dbl&gt; | startAz &lt;dbl&gt; | startAzCompass &lt;chr&gt; | startUTC &lt;dttm&gt; | maxAz &lt;dbl&gt; | maxAzCompass &lt;chr&gt; | maxEl &lt;dbl&gt; | maxUTC &lt;int&gt; | endAz &lt;dbl&gt; | endAzCompass &lt;chr&gt; | endUTC &lt;dttm&gt; | startDate &lt;chr&gt; | startTime &lt;chr&gt; | endDate &lt;chr&gt; | endTime &lt;chr&gt; | localStartTime &lt;chr&gt; | duration &lt;dbl&gt; |\n",
       "|---|---|---|---|---|---|---|---|---|---|---|---|---|---|---|---|---|---|---|---|\n",
       "| METEOR-M2 | 137100000 | 40069 | 4 | 167.26 | S   | 2019-09-22 18:34:40 |  64.47 | ENE | 85.33 | 1569177745 | 347.41 | N  | 2019-09-22 18:49:55 | 2019-09-22 | 1834 | 2019-09-22 | 1849 | 20:33 | 16 |\n",
       "| METEOR-M2 | 137100000 | 40069 | 4 |  17.99 | NNE | 2019-09-23 05:50:45 | 108.09 | ESE | 76.20 | 1569218305 | 189.85 | S  | 2019-09-23 06:06:05 | 2019-09-23 | 0550 | 2019-09-23 | 0606 | 07:49 | 16 |\n",
       "| METEOR-M2 | 137100000 | 40069 | 4 | 161.41 | SSE | 2019-09-23 18:14:50 |  79.00 | E   | 53.13 | 1569262950 | 358.25 | N  | 2019-09-23 18:29:55 | 2019-09-23 | 1814 | 2019-09-23 | 1829 | 20:13 | 16 |\n",
       "| METEOR-M2 | 137100000 | 40069 | 4 |  28.68 | NNE | 2019-09-24 05:31:05 | 107.21 | ESE | 47.49 | 1569303515 | 184.15 | S  | 2019-09-24 05:46:05 | 2019-09-24 | 0531 | 2019-09-24 | 0546 | 07:30 | 15 |\n",
       "| METEOR-M2 | 137100000 | 40069 | 4 | 155.12 | SSE | 2019-09-24 17:55:10 |  82.88 | E   | 32.90 | 1569348150 |   9.29 | N  | 2019-09-24 18:09:45 | 2019-09-24 | 1755 | 2019-09-24 | 1809 | 19:54 | 15 |\n",
       "| METEOR-M2 | 137100000 | 40069 | 4 | 184.83 | S   | 2019-09-24 19:35:30 | 248.82 | WSW | 23.60 | 1569354145 | 313.76 | NW | 2019-09-24 19:49:15 | 2019-09-24 | 1935 | 2019-09-24 | 1949 | 21:34 | 14 |\n",
       "\n"
      ],
      "text/plain": [
       "  satellite frequency norad_id priority startAz startAzCompass\n",
       "1 METEOR-M2 137100000 40069    4        167.26  S             \n",
       "2 METEOR-M2 137100000 40069    4         17.99  NNE           \n",
       "3 METEOR-M2 137100000 40069    4        161.41  SSE           \n",
       "4 METEOR-M2 137100000 40069    4         28.68  NNE           \n",
       "5 METEOR-M2 137100000 40069    4        155.12  SSE           \n",
       "6 METEOR-M2 137100000 40069    4        184.83  S             \n",
       "  startUTC            maxAz  maxAzCompass maxEl maxUTC     endAz  endAzCompass\n",
       "1 2019-09-22 18:34:40  64.47 ENE          85.33 1569177745 347.41 N           \n",
       "2 2019-09-23 05:50:45 108.09 ESE          76.20 1569218305 189.85 S           \n",
       "3 2019-09-23 18:14:50  79.00 E            53.13 1569262950 358.25 N           \n",
       "4 2019-09-24 05:31:05 107.21 ESE          47.49 1569303515 184.15 S           \n",
       "5 2019-09-24 17:55:10  82.88 E            32.90 1569348150   9.29 N           \n",
       "6 2019-09-24 19:35:30 248.82 WSW          23.60 1569354145 313.76 NW          \n",
       "  endUTC              startDate  startTime endDate    endTime localStartTime\n",
       "1 2019-09-22 18:49:55 2019-09-22 1834      2019-09-22 1849    20:33         \n",
       "2 2019-09-23 06:06:05 2019-09-23 0550      2019-09-23 0606    07:49         \n",
       "3 2019-09-23 18:29:55 2019-09-23 1814      2019-09-23 1829    20:13         \n",
       "4 2019-09-24 05:46:05 2019-09-24 0531      2019-09-24 0546    07:30         \n",
       "5 2019-09-24 18:09:45 2019-09-24 1755      2019-09-24 1809    19:54         \n",
       "6 2019-09-24 19:49:15 2019-09-24 1935      2019-09-24 1949    21:34         \n",
       "  duration\n",
       "1 16      \n",
       "2 16      \n",
       "3 16      \n",
       "4 15      \n",
       "5 15      \n",
       "6 14      "
      ]
     },
     "metadata": {},
     "output_type": "display_data"
    }
   ],
   "source": [
    "head(satellite_data_df)"
   ]
  },
  {
   "cell_type": "code",
   "execution_count": 12,
   "metadata": {},
   "outputs": [
    {
     "data": {
      "text/html": [
       "'20:33'"
      ],
      "text/latex": [
       "'20:33'"
      ],
      "text/markdown": [
       "'20:33'"
      ],
      "text/plain": [
       "[1] \"20:33\""
      ]
     },
     "metadata": {},
     "output_type": "display_data"
    }
   ],
   "source": [
    "satellite_data_df$localStartTime[[1]]"
   ]
  },
  {
   "cell_type": "code",
   "execution_count": null,
   "metadata": {},
   "outputs": [],
   "source": [
    "`timeout $duration rtl_fm $biast -f $freq -s $sample -g $dongleGain -F 9 -A fast -E offset \n",
    "-p $dongleShift $recdir/$fileNameCore.raw | tee -a $logFile`"
   ]
  },
  {
   "cell_type": "code",
   "execution_count": null,
   "metadata": {},
   "outputs": [],
   "source": [
    "paste0('systemd-run --user --unit=\\\"rtl_fm_', satellite_data_df$startDate, \"_\", satellite_data_df$localStartTime,\n",
    "       '\\\" --on-calendar=\\\"', satellite_data_df$startDate,\" \", satellite_data_df$localStartTime,\n",
    "       '\\\" /usr/bin/timeout ', satellite_data_df$duration, 'm', ' /usr/local/bin/rtl_fm -f ', satellite_data_df$frequency,\n",
    "       ' -s 48000 -g 49.6 -F 9 -A fast -E offset -p '\n",
    "       \n",
    "       satellite_data_df$startTime,\"-\", satellite_data_df$endTime,\n",
    "       ' -t ', satellite_data_df$duration)"
   ]
  }
 ],
 "metadata": {
  "kernelspec": {
   "display_name": "R",
   "language": "R",
   "name": "ir"
  },
  "language_info": {
   "codemirror_mode": "r",
   "file_extension": ".r",
   "mimetype": "text/x-r-source",
   "name": "R",
   "pygments_lexer": "r",
   "version": "3.6.0"
  }
 },
 "nbformat": 4,
 "nbformat_minor": 2
}
