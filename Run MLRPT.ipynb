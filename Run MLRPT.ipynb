{
 "cells": [
  {
   "cell_type": "markdown",
   "metadata": {},
   "source": [
    "# Get mlrpt working with the saved data"
   ]
  },
  {
   "cell_type": "code",
   "execution_count": 1,
   "metadata": {},
   "outputs": [
    {
     "name": "stderr",
     "output_type": "stream",
     "text": [
      "Registered S3 methods overwritten by 'ggplot2':\n",
      "  method         from \n",
      "  [.quosures     rlang\n",
      "  c.quosures     rlang\n",
      "  print.quosures rlang\n",
      "── \u001b[1mAttaching packages\u001b[22m ─────────────────────────────────────── tidyverse 1.2.1 ──\n",
      "\u001b[32m✔\u001b[39m \u001b[34mggplot2\u001b[39m 3.1.1     \u001b[32m✔\u001b[39m \u001b[34mpurrr  \u001b[39m 0.3.2\n",
      "\u001b[32m✔\u001b[39m \u001b[34mtibble \u001b[39m 2.1.3     \u001b[32m✔\u001b[39m \u001b[34mdplyr  \u001b[39m 0.8.3\n",
      "\u001b[32m✔\u001b[39m \u001b[34mtidyr  \u001b[39m 0.8.3     \u001b[32m✔\u001b[39m \u001b[34mstringr\u001b[39m 1.4.0\n",
      "\u001b[32m✔\u001b[39m \u001b[34mreadr  \u001b[39m 1.3.1     \u001b[32m✔\u001b[39m \u001b[34mforcats\u001b[39m 0.4.0\n",
      "── \u001b[1mConflicts\u001b[22m ────────────────────────────────────────── tidyverse_conflicts() ──\n",
      "\u001b[31m✖\u001b[39m \u001b[34mdplyr\u001b[39m::\u001b[32mfilter()\u001b[39m masks \u001b[34mstats\u001b[39m::filter()\n",
      "\u001b[31m✖\u001b[39m \u001b[34mdplyr\u001b[39m::\u001b[32mlag()\u001b[39m    masks \u001b[34mstats\u001b[39m::lag()\n"
     ]
    }
   ],
   "source": [
    "library(tidyverse)"
   ]
  },
  {
   "cell_type": "code",
   "execution_count": 2,
   "metadata": {},
   "outputs": [
    {
     "name": "stderr",
     "output_type": "stream",
     "text": [
      "\n",
      "Attaching package: ‘lubridate’\n",
      "\n",
      "The following object is masked from ‘package:base’:\n",
      "\n",
      "    date\n",
      "\n"
     ]
    }
   ],
   "source": [
    "library(lubridate)"
   ]
  },
  {
   "cell_type": "code",
   "execution_count": 3,
   "metadata": {},
   "outputs": [
    {
     "name": "stderr",
     "output_type": "stream",
     "text": [
      "\n",
      "Attaching package: ‘assertthat’\n",
      "\n",
      "The following object is masked from ‘package:tibble’:\n",
      "\n",
      "    has_name\n",
      "\n"
     ]
    }
   ],
   "source": [
    "library(assertthat)"
   ]
  },
  {
   "cell_type": "code",
   "execution_count": 4,
   "metadata": {},
   "outputs": [
    {
     "data": {
      "text/html": [
       "<span style=white-space:pre-wrap>'Running at  2019-09-15 15:19:43 GMT'</span>"
      ],
      "text/latex": [
       "'Running at  2019-09-15 15:19:43 GMT'"
      ],
      "text/markdown": [
       "<span style=white-space:pre-wrap>'Running at  2019-09-15 15:19:43 GMT'</span>"
      ],
      "text/plain": [
       "[1] \"Running at  2019-09-15 15:19:43 GMT\""
      ]
     },
     "metadata": {},
     "output_type": "display_data"
    }
   ],
   "source": [
    "paste(\"Running at \", Sys.time() %>% .POSIXct(\"GMT\"), \"GMT\")"
   ]
  },
  {
   "cell_type": "code",
   "execution_count": 5,
   "metadata": {},
   "outputs": [
    {
     "data": {
      "text/html": [
       "TRUE"
      ],
      "text/latex": [
       "TRUE"
      ],
      "text/markdown": [
       "TRUE"
      ],
      "text/plain": [
       "[1] TRUE"
      ]
     },
     "metadata": {},
     "output_type": "display_data"
    }
   ],
   "source": [
    "assert_that(length(list.files(pattern=\"satellite_data_*\")) > 0,\n",
    "            msg = \"No satellite data files found on disk. Have you run `Meteor orbit data`?\")"
   ]
  },
  {
   "cell_type": "code",
   "execution_count": 6,
   "metadata": {},
   "outputs": [],
   "source": [
    "satellite_data_df <- readRDS(\"satellite_data_df.rds\")"
   ]
  },
  {
   "cell_type": "markdown",
   "metadata": {},
   "source": [
    "## Convert to satellite passes each day"
   ]
  },
  {
   "cell_type": "markdown",
   "metadata": {},
   "source": [
    "Get the current time in UTC"
   ]
  },
  {
   "cell_type": "code",
   "execution_count": 7,
   "metadata": {},
   "outputs": [],
   "source": [
    "current_time_utc <- Sys.time() %>% .POSIXct(\"GMT\")"
   ]
  },
  {
   "cell_type": "markdown",
   "metadata": {},
   "source": [
    "Make sure we have a future satellite pass in the data, then filter out any past passes."
   ]
  },
  {
   "cell_type": "code",
   "execution_count": 8,
   "metadata": {},
   "outputs": [
    {
     "data": {
      "text/html": [
       "TRUE"
      ],
      "text/latex": [
       "TRUE"
      ],
      "text/markdown": [
       "TRUE"
      ],
      "text/plain": [
       "[1] TRUE"
      ]
     },
     "metadata": {},
     "output_type": "display_data"
    }
   ],
   "source": [
    "assert_that(nrow(satellite_data_df %>% filter(startUTC > current_time_utc)) > 0,\n",
    "            msg = \"No future satellite data available\")"
   ]
  },
  {
   "cell_type": "code",
   "execution_count": 9,
   "metadata": {},
   "outputs": [],
   "source": [
    "satellite_data_df <- satellite_data_df %>% filter(startUTC > current_time_utc)"
   ]
  },
  {
   "cell_type": "markdown",
   "metadata": {},
   "source": [
    "## Format systemd / mlrpt commands\n",
    "\n",
    "For systemd, using `systemd-run` rather than the usual template based form since these are one-off non-recurring commands. The argument `--user` runs the command as the user who scheduled it. `--no-block` tells systemd to not synchronously wait for the unit start operation to finish. `--unit` gives the job a name. The argument `--on-calendar` schedules the start and needs to be one minute before the satellite pass to give systemd and mlrpt time to start up. The format is yyyy-mm-dd HH:MM in **local time**. Documentation at https://www.freedesktop.org/software/systemd/man/systemd-run.html\n",
    "\n",
    "For `mlrpt` need arguments in the form of `mlrpt $startTime-$stopTime -t $duration`. Start and stop time are in the format HH:MM in **UTC**. Duration is how long the command needs to run (in **minutes**) from start to shut-down. Make it 3 minutes longer than the time of the satellite pass to give time for start-up, and at the end, decoding and saving images.\n",
    "\n",
    "Times were already formatted and adjusted when creating the satellite pass dataframe and can be used directly in here."
   ]
  },
  {
   "cell_type": "code",
   "execution_count": 10,
   "metadata": {
    "scrolled": true
   },
   "outputs": [
    {
     "data": {
      "text/html": [
       "<ol class=list-inline>\n",
       "\t<li>'systemd-run --user --no-block --unit=\"mlrpt_2019-09-15_21:12\" --on-calendar=\"2019-09-15 21:12\" /usr/local/bin/mlrpt \"19:13-19:28\" -t 18'</li>\n",
       "\t<li>'systemd-run --user --no-block --unit=\"mlrpt_2019-09-16_08:29\" --on-calendar=\"2019-09-16 08:29\" /usr/local/bin/mlrpt \"06:30-06:45\" -t 18'</li>\n",
       "\t<li>'systemd-run --user --no-block --unit=\"mlrpt_2019-09-16_20:52\" --on-calendar=\"2019-09-16 20:52\" /usr/local/bin/mlrpt \"18:53-19:09\" -t 19'</li>\n",
       "\t<li>'systemd-run --user --no-block --unit=\"mlrpt_2019-09-17_08:08\" --on-calendar=\"2019-09-17 08:08\" /usr/local/bin/mlrpt \"06:09-06:25\" -t 19'</li>\n",
       "\t<li>'systemd-run --user --no-block --unit=\"mlrpt_2019-09-17_20:32\" --on-calendar=\"2019-09-17 20:32\" /usr/local/bin/mlrpt \"18:33-18:49\" -t 19'</li>\n",
       "\t<li>'systemd-run --user --no-block --unit=\"mlrpt_2019-09-18_07:49\" --on-calendar=\"2019-09-18 07:49\" /usr/local/bin/mlrpt \"05:50-06:05\" -t 18'</li>\n",
       "\t<li>'systemd-run --user --no-block --unit=\"mlrpt_2019-09-18_20:13\" --on-calendar=\"2019-09-18 20:13\" /usr/local/bin/mlrpt \"18:14-18:29\" -t 18'</li>\n",
       "\t<li>'systemd-run --user --no-block --unit=\"mlrpt_2019-09-19_07:29\" --on-calendar=\"2019-09-19 07:29\" /usr/local/bin/mlrpt \"05:30-05:45\" -t 18'</li>\n",
       "\t<li>'systemd-run --user --no-block --unit=\"mlrpt_2019-09-19_19:53\" --on-calendar=\"2019-09-19 19:53\" /usr/local/bin/mlrpt \"17:54-18:09\" -t 18'</li>\n",
       "\t<li>'systemd-run --user --no-block --unit=\"mlrpt_2019-09-19_21:33\" --on-calendar=\"2019-09-19 21:33\" /usr/local/bin/mlrpt \"19:34-19:48\" -t 17'</li>\n",
       "\t<li>'systemd-run --user --no-block --unit=\"mlrpt_2019-09-20_07:10\" --on-calendar=\"2019-09-20 07:10\" /usr/local/bin/mlrpt \"05:11-05:25\" -t 17'</li>\n",
       "\t<li>'systemd-run --user --no-block --unit=\"mlrpt_2019-09-20_08:50\" --on-calendar=\"2019-09-20 08:50\" /usr/local/bin/mlrpt \"06:51-07:05\" -t 17'</li>\n",
       "\t<li>'systemd-run --user --no-block --unit=\"mlrpt_2019-09-20_19:34\" --on-calendar=\"2019-09-20 19:34\" /usr/local/bin/mlrpt \"17:35-17:48\" -t 16'</li>\n",
       "\t<li>'systemd-run --user --no-block --unit=\"mlrpt_2019-09-20_21:13\" --on-calendar=\"2019-09-20 21:13\" /usr/local/bin/mlrpt \"19:14-19:29\" -t 18'</li>\n",
       "\t<li>'systemd-run --user --no-block --unit=\"mlrpt_2019-09-21_08:29\" --on-calendar=\"2019-09-21 08:29\" /usr/local/bin/mlrpt \"06:30-06:45\" -t 18'</li>\n",
       "\t<li>'systemd-run --user --no-block --unit=\"mlrpt_2019-09-21_20:53\" --on-calendar=\"2019-09-21 20:53\" /usr/local/bin/mlrpt \"18:54-19:09\" -t 18'</li>\n",
       "\t<li>'systemd-run --user --no-block --unit=\"mlrpt_2019-09-22_08:09\" --on-calendar=\"2019-09-22 08:09\" /usr/local/bin/mlrpt \"06:10-06:25\" -t 18'</li>\n",
       "\t<li>'systemd-run --user --no-block --unit=\"mlrpt_2019-09-22_20:33\" --on-calendar=\"2019-09-22 20:33\" /usr/local/bin/mlrpt \"18:34-18:49\" -t 18'</li>\n",
       "\t<li>'systemd-run --user --no-block --unit=\"mlrpt_2019-09-23_07:49\" --on-calendar=\"2019-09-23 07:49\" /usr/local/bin/mlrpt \"05:50-06:06\" -t 19'</li>\n",
       "\t<li>'systemd-run --user --no-block --unit=\"mlrpt_2019-09-23_20:13\" --on-calendar=\"2019-09-23 20:13\" /usr/local/bin/mlrpt \"18:14-18:29\" -t 18'</li>\n",
       "\t<li>'systemd-run --user --no-block --unit=\"mlrpt_2019-09-24_07:30\" --on-calendar=\"2019-09-24 07:30\" /usr/local/bin/mlrpt \"05:31-05:46\" -t 18'</li>\n",
       "\t<li>'systemd-run --user --no-block --unit=\"mlrpt_2019-09-24_19:54\" --on-calendar=\"2019-09-24 19:54\" /usr/local/bin/mlrpt \"17:55-18:09\" -t 17'</li>\n",
       "\t<li>'systemd-run --user --no-block --unit=\"mlrpt_2019-09-24_21:34\" --on-calendar=\"2019-09-24 21:34\" /usr/local/bin/mlrpt \"19:35-19:49\" -t 17'</li>\n",
       "\t<li>'systemd-run --user --no-block --unit=\"mlrpt_2019-09-25_07:10\" --on-calendar=\"2019-09-25 07:10\" /usr/local/bin/mlrpt \"05:11-05:26\" -t 18'</li>\n",
       "\t<li>'systemd-run --user --no-block --unit=\"mlrpt_2019-09-25_08:50\" --on-calendar=\"2019-09-25 08:50\" /usr/local/bin/mlrpt \"06:51-07:05\" -t 17'</li>\n",
       "</ol>\n"
      ],
      "text/latex": [
       "\\begin{enumerate*}\n",
       "\\item 'systemd-run --user --no-block --unit=\"mlrpt\\_2019-09-15\\_21:12\" --on-calendar=\"2019-09-15 21:12\" /usr/local/bin/mlrpt \"19:13-19:28\" -t 18'\n",
       "\\item 'systemd-run --user --no-block --unit=\"mlrpt\\_2019-09-16\\_08:29\" --on-calendar=\"2019-09-16 08:29\" /usr/local/bin/mlrpt \"06:30-06:45\" -t 18'\n",
       "\\item 'systemd-run --user --no-block --unit=\"mlrpt\\_2019-09-16\\_20:52\" --on-calendar=\"2019-09-16 20:52\" /usr/local/bin/mlrpt \"18:53-19:09\" -t 19'\n",
       "\\item 'systemd-run --user --no-block --unit=\"mlrpt\\_2019-09-17\\_08:08\" --on-calendar=\"2019-09-17 08:08\" /usr/local/bin/mlrpt \"06:09-06:25\" -t 19'\n",
       "\\item 'systemd-run --user --no-block --unit=\"mlrpt\\_2019-09-17\\_20:32\" --on-calendar=\"2019-09-17 20:32\" /usr/local/bin/mlrpt \"18:33-18:49\" -t 19'\n",
       "\\item 'systemd-run --user --no-block --unit=\"mlrpt\\_2019-09-18\\_07:49\" --on-calendar=\"2019-09-18 07:49\" /usr/local/bin/mlrpt \"05:50-06:05\" -t 18'\n",
       "\\item 'systemd-run --user --no-block --unit=\"mlrpt\\_2019-09-18\\_20:13\" --on-calendar=\"2019-09-18 20:13\" /usr/local/bin/mlrpt \"18:14-18:29\" -t 18'\n",
       "\\item 'systemd-run --user --no-block --unit=\"mlrpt\\_2019-09-19\\_07:29\" --on-calendar=\"2019-09-19 07:29\" /usr/local/bin/mlrpt \"05:30-05:45\" -t 18'\n",
       "\\item 'systemd-run --user --no-block --unit=\"mlrpt\\_2019-09-19\\_19:53\" --on-calendar=\"2019-09-19 19:53\" /usr/local/bin/mlrpt \"17:54-18:09\" -t 18'\n",
       "\\item 'systemd-run --user --no-block --unit=\"mlrpt\\_2019-09-19\\_21:33\" --on-calendar=\"2019-09-19 21:33\" /usr/local/bin/mlrpt \"19:34-19:48\" -t 17'\n",
       "\\item 'systemd-run --user --no-block --unit=\"mlrpt\\_2019-09-20\\_07:10\" --on-calendar=\"2019-09-20 07:10\" /usr/local/bin/mlrpt \"05:11-05:25\" -t 17'\n",
       "\\item 'systemd-run --user --no-block --unit=\"mlrpt\\_2019-09-20\\_08:50\" --on-calendar=\"2019-09-20 08:50\" /usr/local/bin/mlrpt \"06:51-07:05\" -t 17'\n",
       "\\item 'systemd-run --user --no-block --unit=\"mlrpt\\_2019-09-20\\_19:34\" --on-calendar=\"2019-09-20 19:34\" /usr/local/bin/mlrpt \"17:35-17:48\" -t 16'\n",
       "\\item 'systemd-run --user --no-block --unit=\"mlrpt\\_2019-09-20\\_21:13\" --on-calendar=\"2019-09-20 21:13\" /usr/local/bin/mlrpt \"19:14-19:29\" -t 18'\n",
       "\\item 'systemd-run --user --no-block --unit=\"mlrpt\\_2019-09-21\\_08:29\" --on-calendar=\"2019-09-21 08:29\" /usr/local/bin/mlrpt \"06:30-06:45\" -t 18'\n",
       "\\item 'systemd-run --user --no-block --unit=\"mlrpt\\_2019-09-21\\_20:53\" --on-calendar=\"2019-09-21 20:53\" /usr/local/bin/mlrpt \"18:54-19:09\" -t 18'\n",
       "\\item 'systemd-run --user --no-block --unit=\"mlrpt\\_2019-09-22\\_08:09\" --on-calendar=\"2019-09-22 08:09\" /usr/local/bin/mlrpt \"06:10-06:25\" -t 18'\n",
       "\\item 'systemd-run --user --no-block --unit=\"mlrpt\\_2019-09-22\\_20:33\" --on-calendar=\"2019-09-22 20:33\" /usr/local/bin/mlrpt \"18:34-18:49\" -t 18'\n",
       "\\item 'systemd-run --user --no-block --unit=\"mlrpt\\_2019-09-23\\_07:49\" --on-calendar=\"2019-09-23 07:49\" /usr/local/bin/mlrpt \"05:50-06:06\" -t 19'\n",
       "\\item 'systemd-run --user --no-block --unit=\"mlrpt\\_2019-09-23\\_20:13\" --on-calendar=\"2019-09-23 20:13\" /usr/local/bin/mlrpt \"18:14-18:29\" -t 18'\n",
       "\\item 'systemd-run --user --no-block --unit=\"mlrpt\\_2019-09-24\\_07:30\" --on-calendar=\"2019-09-24 07:30\" /usr/local/bin/mlrpt \"05:31-05:46\" -t 18'\n",
       "\\item 'systemd-run --user --no-block --unit=\"mlrpt\\_2019-09-24\\_19:54\" --on-calendar=\"2019-09-24 19:54\" /usr/local/bin/mlrpt \"17:55-18:09\" -t 17'\n",
       "\\item 'systemd-run --user --no-block --unit=\"mlrpt\\_2019-09-24\\_21:34\" --on-calendar=\"2019-09-24 21:34\" /usr/local/bin/mlrpt \"19:35-19:49\" -t 17'\n",
       "\\item 'systemd-run --user --no-block --unit=\"mlrpt\\_2019-09-25\\_07:10\" --on-calendar=\"2019-09-25 07:10\" /usr/local/bin/mlrpt \"05:11-05:26\" -t 18'\n",
       "\\item 'systemd-run --user --no-block --unit=\"mlrpt\\_2019-09-25\\_08:50\" --on-calendar=\"2019-09-25 08:50\" /usr/local/bin/mlrpt \"06:51-07:05\" -t 17'\n",
       "\\end{enumerate*}\n"
      ],
      "text/markdown": [
       "1. 'systemd-run --user --no-block --unit=\"mlrpt_2019-09-15_21:12\" --on-calendar=\"2019-09-15 21:12\" /usr/local/bin/mlrpt \"19:13-19:28\" -t 18'\n",
       "2. 'systemd-run --user --no-block --unit=\"mlrpt_2019-09-16_08:29\" --on-calendar=\"2019-09-16 08:29\" /usr/local/bin/mlrpt \"06:30-06:45\" -t 18'\n",
       "3. 'systemd-run --user --no-block --unit=\"mlrpt_2019-09-16_20:52\" --on-calendar=\"2019-09-16 20:52\" /usr/local/bin/mlrpt \"18:53-19:09\" -t 19'\n",
       "4. 'systemd-run --user --no-block --unit=\"mlrpt_2019-09-17_08:08\" --on-calendar=\"2019-09-17 08:08\" /usr/local/bin/mlrpt \"06:09-06:25\" -t 19'\n",
       "5. 'systemd-run --user --no-block --unit=\"mlrpt_2019-09-17_20:32\" --on-calendar=\"2019-09-17 20:32\" /usr/local/bin/mlrpt \"18:33-18:49\" -t 19'\n",
       "6. 'systemd-run --user --no-block --unit=\"mlrpt_2019-09-18_07:49\" --on-calendar=\"2019-09-18 07:49\" /usr/local/bin/mlrpt \"05:50-06:05\" -t 18'\n",
       "7. 'systemd-run --user --no-block --unit=\"mlrpt_2019-09-18_20:13\" --on-calendar=\"2019-09-18 20:13\" /usr/local/bin/mlrpt \"18:14-18:29\" -t 18'\n",
       "8. 'systemd-run --user --no-block --unit=\"mlrpt_2019-09-19_07:29\" --on-calendar=\"2019-09-19 07:29\" /usr/local/bin/mlrpt \"05:30-05:45\" -t 18'\n",
       "9. 'systemd-run --user --no-block --unit=\"mlrpt_2019-09-19_19:53\" --on-calendar=\"2019-09-19 19:53\" /usr/local/bin/mlrpt \"17:54-18:09\" -t 18'\n",
       "10. 'systemd-run --user --no-block --unit=\"mlrpt_2019-09-19_21:33\" --on-calendar=\"2019-09-19 21:33\" /usr/local/bin/mlrpt \"19:34-19:48\" -t 17'\n",
       "11. 'systemd-run --user --no-block --unit=\"mlrpt_2019-09-20_07:10\" --on-calendar=\"2019-09-20 07:10\" /usr/local/bin/mlrpt \"05:11-05:25\" -t 17'\n",
       "12. 'systemd-run --user --no-block --unit=\"mlrpt_2019-09-20_08:50\" --on-calendar=\"2019-09-20 08:50\" /usr/local/bin/mlrpt \"06:51-07:05\" -t 17'\n",
       "13. 'systemd-run --user --no-block --unit=\"mlrpt_2019-09-20_19:34\" --on-calendar=\"2019-09-20 19:34\" /usr/local/bin/mlrpt \"17:35-17:48\" -t 16'\n",
       "14. 'systemd-run --user --no-block --unit=\"mlrpt_2019-09-20_21:13\" --on-calendar=\"2019-09-20 21:13\" /usr/local/bin/mlrpt \"19:14-19:29\" -t 18'\n",
       "15. 'systemd-run --user --no-block --unit=\"mlrpt_2019-09-21_08:29\" --on-calendar=\"2019-09-21 08:29\" /usr/local/bin/mlrpt \"06:30-06:45\" -t 18'\n",
       "16. 'systemd-run --user --no-block --unit=\"mlrpt_2019-09-21_20:53\" --on-calendar=\"2019-09-21 20:53\" /usr/local/bin/mlrpt \"18:54-19:09\" -t 18'\n",
       "17. 'systemd-run --user --no-block --unit=\"mlrpt_2019-09-22_08:09\" --on-calendar=\"2019-09-22 08:09\" /usr/local/bin/mlrpt \"06:10-06:25\" -t 18'\n",
       "18. 'systemd-run --user --no-block --unit=\"mlrpt_2019-09-22_20:33\" --on-calendar=\"2019-09-22 20:33\" /usr/local/bin/mlrpt \"18:34-18:49\" -t 18'\n",
       "19. 'systemd-run --user --no-block --unit=\"mlrpt_2019-09-23_07:49\" --on-calendar=\"2019-09-23 07:49\" /usr/local/bin/mlrpt \"05:50-06:06\" -t 19'\n",
       "20. 'systemd-run --user --no-block --unit=\"mlrpt_2019-09-23_20:13\" --on-calendar=\"2019-09-23 20:13\" /usr/local/bin/mlrpt \"18:14-18:29\" -t 18'\n",
       "21. 'systemd-run --user --no-block --unit=\"mlrpt_2019-09-24_07:30\" --on-calendar=\"2019-09-24 07:30\" /usr/local/bin/mlrpt \"05:31-05:46\" -t 18'\n",
       "22. 'systemd-run --user --no-block --unit=\"mlrpt_2019-09-24_19:54\" --on-calendar=\"2019-09-24 19:54\" /usr/local/bin/mlrpt \"17:55-18:09\" -t 17'\n",
       "23. 'systemd-run --user --no-block --unit=\"mlrpt_2019-09-24_21:34\" --on-calendar=\"2019-09-24 21:34\" /usr/local/bin/mlrpt \"19:35-19:49\" -t 17'\n",
       "24. 'systemd-run --user --no-block --unit=\"mlrpt_2019-09-25_07:10\" --on-calendar=\"2019-09-25 07:10\" /usr/local/bin/mlrpt \"05:11-05:26\" -t 18'\n",
       "25. 'systemd-run --user --no-block --unit=\"mlrpt_2019-09-25_08:50\" --on-calendar=\"2019-09-25 08:50\" /usr/local/bin/mlrpt \"06:51-07:05\" -t 17'\n",
       "\n",
       "\n"
      ],
      "text/plain": [
       " [1] \"systemd-run --user --no-block --unit=\\\"mlrpt_2019-09-15_21:12\\\" --on-calendar=\\\"2019-09-15 21:12\\\" /usr/local/bin/mlrpt \\\"19:13-19:28\\\" -t 18\"\n",
       " [2] \"systemd-run --user --no-block --unit=\\\"mlrpt_2019-09-16_08:29\\\" --on-calendar=\\\"2019-09-16 08:29\\\" /usr/local/bin/mlrpt \\\"06:30-06:45\\\" -t 18\"\n",
       " [3] \"systemd-run --user --no-block --unit=\\\"mlrpt_2019-09-16_20:52\\\" --on-calendar=\\\"2019-09-16 20:52\\\" /usr/local/bin/mlrpt \\\"18:53-19:09\\\" -t 19\"\n",
       " [4] \"systemd-run --user --no-block --unit=\\\"mlrpt_2019-09-17_08:08\\\" --on-calendar=\\\"2019-09-17 08:08\\\" /usr/local/bin/mlrpt \\\"06:09-06:25\\\" -t 19\"\n",
       " [5] \"systemd-run --user --no-block --unit=\\\"mlrpt_2019-09-17_20:32\\\" --on-calendar=\\\"2019-09-17 20:32\\\" /usr/local/bin/mlrpt \\\"18:33-18:49\\\" -t 19\"\n",
       " [6] \"systemd-run --user --no-block --unit=\\\"mlrpt_2019-09-18_07:49\\\" --on-calendar=\\\"2019-09-18 07:49\\\" /usr/local/bin/mlrpt \\\"05:50-06:05\\\" -t 18\"\n",
       " [7] \"systemd-run --user --no-block --unit=\\\"mlrpt_2019-09-18_20:13\\\" --on-calendar=\\\"2019-09-18 20:13\\\" /usr/local/bin/mlrpt \\\"18:14-18:29\\\" -t 18\"\n",
       " [8] \"systemd-run --user --no-block --unit=\\\"mlrpt_2019-09-19_07:29\\\" --on-calendar=\\\"2019-09-19 07:29\\\" /usr/local/bin/mlrpt \\\"05:30-05:45\\\" -t 18\"\n",
       " [9] \"systemd-run --user --no-block --unit=\\\"mlrpt_2019-09-19_19:53\\\" --on-calendar=\\\"2019-09-19 19:53\\\" /usr/local/bin/mlrpt \\\"17:54-18:09\\\" -t 18\"\n",
       "[10] \"systemd-run --user --no-block --unit=\\\"mlrpt_2019-09-19_21:33\\\" --on-calendar=\\\"2019-09-19 21:33\\\" /usr/local/bin/mlrpt \\\"19:34-19:48\\\" -t 17\"\n",
       "[11] \"systemd-run --user --no-block --unit=\\\"mlrpt_2019-09-20_07:10\\\" --on-calendar=\\\"2019-09-20 07:10\\\" /usr/local/bin/mlrpt \\\"05:11-05:25\\\" -t 17\"\n",
       "[12] \"systemd-run --user --no-block --unit=\\\"mlrpt_2019-09-20_08:50\\\" --on-calendar=\\\"2019-09-20 08:50\\\" /usr/local/bin/mlrpt \\\"06:51-07:05\\\" -t 17\"\n",
       "[13] \"systemd-run --user --no-block --unit=\\\"mlrpt_2019-09-20_19:34\\\" --on-calendar=\\\"2019-09-20 19:34\\\" /usr/local/bin/mlrpt \\\"17:35-17:48\\\" -t 16\"\n",
       "[14] \"systemd-run --user --no-block --unit=\\\"mlrpt_2019-09-20_21:13\\\" --on-calendar=\\\"2019-09-20 21:13\\\" /usr/local/bin/mlrpt \\\"19:14-19:29\\\" -t 18\"\n",
       "[15] \"systemd-run --user --no-block --unit=\\\"mlrpt_2019-09-21_08:29\\\" --on-calendar=\\\"2019-09-21 08:29\\\" /usr/local/bin/mlrpt \\\"06:30-06:45\\\" -t 18\"\n",
       "[16] \"systemd-run --user --no-block --unit=\\\"mlrpt_2019-09-21_20:53\\\" --on-calendar=\\\"2019-09-21 20:53\\\" /usr/local/bin/mlrpt \\\"18:54-19:09\\\" -t 18\"\n",
       "[17] \"systemd-run --user --no-block --unit=\\\"mlrpt_2019-09-22_08:09\\\" --on-calendar=\\\"2019-09-22 08:09\\\" /usr/local/bin/mlrpt \\\"06:10-06:25\\\" -t 18\"\n",
       "[18] \"systemd-run --user --no-block --unit=\\\"mlrpt_2019-09-22_20:33\\\" --on-calendar=\\\"2019-09-22 20:33\\\" /usr/local/bin/mlrpt \\\"18:34-18:49\\\" -t 18\"\n",
       "[19] \"systemd-run --user --no-block --unit=\\\"mlrpt_2019-09-23_07:49\\\" --on-calendar=\\\"2019-09-23 07:49\\\" /usr/local/bin/mlrpt \\\"05:50-06:06\\\" -t 19\"\n",
       "[20] \"systemd-run --user --no-block --unit=\\\"mlrpt_2019-09-23_20:13\\\" --on-calendar=\\\"2019-09-23 20:13\\\" /usr/local/bin/mlrpt \\\"18:14-18:29\\\" -t 18\"\n",
       "[21] \"systemd-run --user --no-block --unit=\\\"mlrpt_2019-09-24_07:30\\\" --on-calendar=\\\"2019-09-24 07:30\\\" /usr/local/bin/mlrpt \\\"05:31-05:46\\\" -t 18\"\n",
       "[22] \"systemd-run --user --no-block --unit=\\\"mlrpt_2019-09-24_19:54\\\" --on-calendar=\\\"2019-09-24 19:54\\\" /usr/local/bin/mlrpt \\\"17:55-18:09\\\" -t 17\"\n",
       "[23] \"systemd-run --user --no-block --unit=\\\"mlrpt_2019-09-24_21:34\\\" --on-calendar=\\\"2019-09-24 21:34\\\" /usr/local/bin/mlrpt \\\"19:35-19:49\\\" -t 17\"\n",
       "[24] \"systemd-run --user --no-block --unit=\\\"mlrpt_2019-09-25_07:10\\\" --on-calendar=\\\"2019-09-25 07:10\\\" /usr/local/bin/mlrpt \\\"05:11-05:26\\\" -t 18\"\n",
       "[25] \"systemd-run --user --no-block --unit=\\\"mlrpt_2019-09-25_08:50\\\" --on-calendar=\\\"2019-09-25 08:50\\\" /usr/local/bin/mlrpt \\\"06:51-07:05\\\" -t 17\""
      ]
     },
     "metadata": {},
     "output_type": "display_data"
    }
   ],
   "source": [
    "paste0('systemd-run --user --no-block --unit=\\\"mlrpt_', satellite_data_df$startDate, \"_\",\n",
    "       satellite_data_df$localStartTime,\n",
    "       '\\\" --on-calendar=\\\"', satellite_data_df$startDate,\" \", satellite_data_df$localStartTime,\n",
    "       '\\\" /usr/local/bin/mlrpt \\\"', satellite_data_df$startTime,\"-\", satellite_data_df$endTime,\n",
    "       '\\\" -t ', satellite_data_df$duration)"
   ]
  },
  {
   "cell_type": "code",
   "execution_count": null,
   "metadata": {},
   "outputs": [],
   "source": []
  }
 ],
 "metadata": {
  "kernelspec": {
   "display_name": "R",
   "language": "R",
   "name": "ir"
  },
  "language_info": {
   "codemirror_mode": "r",
   "file_extension": ".r",
   "mimetype": "text/x-r-source",
   "name": "R",
   "pygments_lexer": "r",
   "version": "3.6.0"
  }
 },
 "nbformat": 4,
 "nbformat_minor": 2
}
