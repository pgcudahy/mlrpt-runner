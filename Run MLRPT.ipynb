{
 "cells": [
  {
   "cell_type": "markdown",
   "metadata": {},
   "source": [
    "# Get mlrpt working with the saved data"
   ]
  },
  {
   "cell_type": "code",
   "execution_count": 1,
   "metadata": {},
   "outputs": [
    {
     "name": "stderr",
     "output_type": "stream",
     "text": [
      "Registered S3 methods overwritten by 'ggplot2':\n",
      "  method         from \n",
      "  [.quosures     rlang\n",
      "  c.quosures     rlang\n",
      "  print.quosures rlang\n",
      "── \u001b[1mAttaching packages\u001b[22m ─────────────────────────────────────── tidyverse 1.2.1 ──\n",
      "\u001b[32m✔\u001b[39m \u001b[34mggplot2\u001b[39m 3.1.1     \u001b[32m✔\u001b[39m \u001b[34mpurrr  \u001b[39m 0.3.2\n",
      "\u001b[32m✔\u001b[39m \u001b[34mtibble \u001b[39m 2.1.3     \u001b[32m✔\u001b[39m \u001b[34mdplyr  \u001b[39m 0.8.3\n",
      "\u001b[32m✔\u001b[39m \u001b[34mtidyr  \u001b[39m 0.8.3     \u001b[32m✔\u001b[39m \u001b[34mstringr\u001b[39m 1.4.0\n",
      "\u001b[32m✔\u001b[39m \u001b[34mreadr  \u001b[39m 1.3.1     \u001b[32m✔\u001b[39m \u001b[34mforcats\u001b[39m 0.4.0\n",
      "── \u001b[1mConflicts\u001b[22m ────────────────────────────────────────── tidyverse_conflicts() ──\n",
      "\u001b[31m✖\u001b[39m \u001b[34mdplyr\u001b[39m::\u001b[32mfilter()\u001b[39m masks \u001b[34mstats\u001b[39m::filter()\n",
      "\u001b[31m✖\u001b[39m \u001b[34mdplyr\u001b[39m::\u001b[32mlag()\u001b[39m    masks \u001b[34mstats\u001b[39m::lag()\n"
     ]
    }
   ],
   "source": [
    "library(tidyverse)"
   ]
  },
  {
   "cell_type": "code",
   "execution_count": 2,
   "metadata": {},
   "outputs": [
    {
     "name": "stderr",
     "output_type": "stream",
     "text": [
      "\n",
      "Attaching package: ‘lubridate’\n",
      "\n",
      "The following object is masked from ‘package:base’:\n",
      "\n",
      "    date\n",
      "\n"
     ]
    }
   ],
   "source": [
    "library(lubridate)"
   ]
  },
  {
   "cell_type": "markdown",
   "metadata": {},
   "source": [
    "Need a command string in the form of `mlrpt $startT-$stopT (time HHMM in UTC) -t $durationMin`"
   ]
  },
  {
   "cell_type": "code",
   "execution_count": 3,
   "metadata": {},
   "outputs": [],
   "source": [
    "latest_data <- list.files(pattern=\"satellite_data_*\") %>% sort(decreasing = TRUE) %>% pluck(1)"
   ]
  },
  {
   "cell_type": "code",
   "execution_count": 4,
   "metadata": {},
   "outputs": [],
   "source": [
    "satellite_data_df <- readRDS(latest_data)"
   ]
  },
  {
   "cell_type": "markdown",
   "metadata": {},
   "source": [
    "Convert to satellite passes each day"
   ]
  },
  {
   "cell_type": "code",
   "execution_count": null,
   "metadata": {},
   "outputs": [],
   "source": []
  },
  {
   "cell_type": "markdown",
   "metadata": {},
   "source": [
    "Get the current time in UTC"
   ]
  },
  {
   "cell_type": "code",
   "execution_count": 5,
   "metadata": {},
   "outputs": [
    {
     "data": {
      "text/plain": [
       "[1] \"2019-08-28 15:03:22 GMT\""
      ]
     },
     "metadata": {},
     "output_type": "display_data"
    }
   ],
   "source": [
    "(current_time_utc <- Sys.time() %>% .POSIXct(\"GMT\"))"
   ]
  },
  {
   "cell_type": "code",
   "execution_count": 6,
   "metadata": {},
   "outputs": [],
   "source": [
    "satellite_data_df <- satellite_data_df %>% filter(startUTC > current_time_utc)"
   ]
  },
  {
   "cell_type": "code",
   "execution_count": 7,
   "metadata": {},
   "outputs": [
    {
     "data": {
      "text/html": [
       "<table>\n",
       "<caption>A tibble: 24 × 16</caption>\n",
       "<thead>\n",
       "\t<tr><th scope=col>startAz</th><th scope=col>startAzCompass</th><th scope=col>startUTC</th><th scope=col>maxAz</th><th scope=col>maxAzCompass</th><th scope=col>maxEl</th><th scope=col>maxUTC</th><th scope=col>endAz</th><th scope=col>endAzCompass</th><th scope=col>endUTC</th><th scope=col>startDate</th><th scope=col>startTime</th><th scope=col>endDate</th><th scope=col>endTime</th><th scope=col>localStartTime</th><th scope=col>duration</th></tr>\n",
       "\t<tr><th scope=col>&lt;dbl&gt;</th><th scope=col>&lt;chr&gt;</th><th scope=col>&lt;dttm&gt;</th><th scope=col>&lt;dbl&gt;</th><th scope=col>&lt;chr&gt;</th><th scope=col>&lt;dbl&gt;</th><th scope=col>&lt;int&gt;</th><th scope=col>&lt;dbl&gt;</th><th scope=col>&lt;chr&gt;</th><th scope=col>&lt;dttm&gt;</th><th scope=col>&lt;chr&gt;</th><th scope=col>&lt;chr&gt;</th><th scope=col>&lt;chr&gt;</th><th scope=col>&lt;chr&gt;</th><th scope=col>&lt;chr&gt;</th><th scope=col>&lt;dbl&gt;</th></tr>\n",
       "</thead>\n",
       "<tbody>\n",
       "\t<tr><td>165.70</td><td>S  </td><td>2019-08-28 18:31:10</td><td> 77.09</td><td>E  </td><td>75.69</td><td>1567017535</td><td>350.30</td><td>N  </td><td>2019-08-28 18:46:30</td><td>2019-08-28</td><td>18:31</td><td>2019-08-28</td><td>18:46</td><td>20:30</td><td>15</td></tr>\n",
       "\t<tr><td> 20.87</td><td>NNE</td><td>2019-08-29 05:47:15</td><td>106.98</td><td>ESE</td><td>67.14</td><td>1567058095</td><td>188.32</td><td>S  </td><td>2019-08-29 06:02:35</td><td>2019-08-29</td><td>05:47</td><td>2019-08-29</td><td>06:02</td><td>07:46</td><td>15</td></tr>\n",
       "\t<tr><td>159.87</td><td>SSE</td><td>2019-08-29 18:11:20</td><td> 80.30</td><td>E  </td><td>46.64</td><td>1567102740</td><td>  1.17</td><td>N  </td><td>2019-08-29 18:26:25</td><td>2019-08-29</td><td>18:11</td><td>2019-08-29</td><td>18:26</td><td>20:10</td><td>15</td></tr>\n",
       "\t<tr><td> 31.63</td><td>NE </td><td>2019-08-30 05:27:40</td><td>107.29</td><td>ESE</td><td>41.89</td><td>1567143305</td><td>182.54</td><td>S  </td><td>2019-08-30 05:42:30</td><td>2019-08-30</td><td>05:27</td><td>2019-08-30</td><td>05:42</td><td>07:26</td><td>15</td></tr>\n",
       "\t<tr><td>153.36</td><td>SSE</td><td>2019-08-30 17:51:45</td><td> 83.50</td><td>E  </td><td>29.11</td><td>1567187940</td><td> 12.35</td><td>N  </td><td>2019-08-30 18:06:10</td><td>2019-08-30</td><td>17:51</td><td>2019-08-30</td><td>18:06</td><td>19:50</td><td>15</td></tr>\n",
       "\t<tr><td>183.14</td><td>S  </td><td>2019-08-30 19:31:55</td><td>249.68</td><td>WSW</td><td>26.68</td><td>1567193940</td><td>316.76</td><td>NW </td><td>2019-08-30 19:45:55</td><td>2019-08-30</td><td>19:31</td><td>2019-08-30</td><td>19:45</td><td>21:30</td><td>14</td></tr>\n",
       "\t<tr><td> 42.63</td><td>NE </td><td>2019-08-31 05:08:15</td><td>109.90</td><td>ESE</td><td>26.86</td><td>1567228520</td><td>176.79</td><td>S  </td><td>2019-08-31 05:22:25</td><td>2019-08-31</td><td>05:08</td><td>2019-08-31</td><td>05:22</td><td>07:07</td><td>14</td></tr>\n",
       "\t<tr><td>347.90</td><td>N  </td><td>2019-08-31 06:48:05</td><td>276.92</td><td>W  </td><td>29.21</td><td>1567234520</td><td>206.75</td><td>SSW</td><td>2019-08-31 07:02:35</td><td>2019-08-31</td><td>06:48</td><td>2019-08-31</td><td>07:02</td><td>08:47</td><td>14</td></tr>\n",
       "\t<tr><td>177.28</td><td>S  </td><td>2019-08-31 19:11:45</td><td>252.09</td><td>WSW</td><td>41.65</td><td>1567279155</td><td>328.15</td><td>NW </td><td>2019-08-31 19:26:35</td><td>2019-08-31</td><td>19:11</td><td>2019-08-31</td><td>19:26</td><td>21:10</td><td>15</td></tr>\n",
       "\t<tr><td>358.96</td><td>N  </td><td>2019-09-01 06:27:50</td><td>280.46</td><td>W  </td><td>46.70</td><td>1567319720</td><td>200.37</td><td>SSW</td><td>2019-09-01 06:42:55</td><td>2019-09-01</td><td>06:27</td><td>2019-09-01</td><td>06:42</td><td>08:26</td><td>15</td></tr>\n",
       "\t<tr><td>171.69</td><td>S  </td><td>2019-09-01 18:51:45</td><td>257.73</td><td>W  </td><td>66.90</td><td>1567364370</td><td>339.02</td><td>NNW</td><td>2019-09-01 19:07:00</td><td>2019-09-01</td><td>18:51</td><td>2019-09-01</td><td>19:07</td><td>20:50</td><td>16</td></tr>\n",
       "\t<tr><td>  9.72</td><td>N  </td><td>2019-09-02 06:07:45</td><td>285.71</td><td>WNW</td><td>75.59</td><td>1567404925</td><td>194.35</td><td>S  </td><td>2019-09-02 06:23:10</td><td>2019-09-02</td><td>06:07</td><td>2019-09-02</td><td>06:23</td><td>08:06</td><td>16</td></tr>\n",
       "\t<tr><td>166.03</td><td>S  </td><td>2019-09-02 18:31:50</td><td> 81.40</td><td>E  </td><td>77.57</td><td>1567449575</td><td>349.73</td><td>N  </td><td>2019-09-02 18:47:10</td><td>2019-09-02</td><td>18:31</td><td>2019-09-02</td><td>18:47</td><td>20:30</td><td>16</td></tr>\n",
       "\t<tr><td> 20.28</td><td>NNE</td><td>2019-09-03 05:47:55</td><td>104.22</td><td>E  </td><td>68.92</td><td>1567490135</td><td>188.61</td><td>S  </td><td>2019-09-03 06:03:15</td><td>2019-09-03</td><td>05:47</td><td>2019-09-03</td><td>06:03</td><td>07:46</td><td>16</td></tr>\n",
       "\t<tr><td>160.09</td><td>SSE</td><td>2019-09-03 18:12:05</td><td> 81.41</td><td>E  </td><td>47.85</td><td>1567534780</td><td>  0.65</td><td>N  </td><td>2019-09-03 18:27:05</td><td>2019-09-03</td><td>18:12</td><td>2019-09-03</td><td>18:27</td><td>20:11</td><td>15</td></tr>\n",
       "\t<tr><td> 31.01</td><td>NE </td><td>2019-09-04 05:28:20</td><td>106.17</td><td>ESE</td><td>42.96</td><td>1567575345</td><td>182.92</td><td>S  </td><td>2019-09-04 05:43:15</td><td>2019-09-04</td><td>05:28</td><td>2019-09-04</td><td>05:43</td><td>07:27</td><td>15</td></tr>\n",
       "\t<tr><td>153.78</td><td>SSE</td><td>2019-09-04 17:52:25</td><td> 82.44</td><td>E  </td><td>29.82</td><td>1567619985</td><td> 11.90</td><td>N  </td><td>2019-09-04 18:06:50</td><td>2019-09-04</td><td>17:52</td><td>2019-09-04</td><td>18:06</td><td>19:51</td><td>14</td></tr>\n",
       "\t<tr><td>183.57</td><td>S  </td><td>2019-09-04 19:32:40</td><td>249.12</td><td>WSW</td><td>26.02</td><td>1567625980</td><td>316.15</td><td>NW </td><td>2019-09-04 19:46:35</td><td>2019-09-04</td><td>19:32</td><td>2019-09-04</td><td>19:46</td><td>21:31</td><td>14</td></tr>\n",
       "\t<tr><td> 42.00</td><td>NE </td><td>2019-09-05 05:08:55</td><td>109.20</td><td>ESE</td><td>27.51</td><td>1567660560</td><td>176.95</td><td>S  </td><td>2019-09-05 05:23:05</td><td>2019-09-05</td><td>05:08</td><td>2019-09-05</td><td>05:23</td><td>07:07</td><td>15</td></tr>\n",
       "\t<tr><td>347.22</td><td>N  </td><td>2019-09-05 06:48:50</td><td>277.64</td><td>W  </td><td>28.49</td><td>1567666560</td><td>207.19</td><td>SSW</td><td>2019-09-05 07:03:15</td><td>2019-09-05</td><td>06:48</td><td>2019-09-05</td><td>07:03</td><td>08:47</td><td>15</td></tr>\n",
       "\t<tr><td>177.66</td><td>S  </td><td>2019-09-05 19:12:30</td><td>251.24</td><td>WSW</td><td>40.58</td><td>1567711195</td><td>327.53</td><td>NW </td><td>2019-09-05 19:27:15</td><td>2019-09-05</td><td>19:12</td><td>2019-09-05</td><td>19:27</td><td>21:11</td><td>15</td></tr>\n",
       "\t<tr><td>358.46</td><td>N  </td><td>2019-09-06 06:28:30</td><td>278.88</td><td>W  </td><td>45.50</td><td>1567751765</td><td>200.77</td><td>SSW</td><td>2019-09-06 06:43:35</td><td>2019-09-06</td><td>06:28</td><td>2019-09-06</td><td>06:43</td><td>08:27</td><td>15</td></tr>\n",
       "\t<tr><td>171.97</td><td>S  </td><td>2019-09-06 18:52:25</td><td>255.51</td><td>W  </td><td>65.18</td><td>1567796410</td><td>338.42</td><td>NNW</td><td>2019-09-06 19:07:40</td><td>2019-09-06</td><td>18:52</td><td>2019-09-06</td><td>19:07</td><td>20:51</td><td>15</td></tr>\n",
       "\t<tr><td>  9.11</td><td>N  </td><td>2019-09-07 06:08:30</td><td>280.32</td><td>W  </td><td>73.72</td><td>1567836970</td><td>194.69</td><td>S  </td><td>2019-09-07 06:23:50</td><td>2019-09-07</td><td>06:08</td><td>2019-09-07</td><td>06:23</td><td>08:07</td><td>15</td></tr>\n",
       "</tbody>\n",
       "</table>\n"
      ],
      "text/latex": [
       "A tibble: 24 × 16\n",
       "\\begin{tabular}{r|llllllllllllllll}\n",
       " startAz & startAzCompass & startUTC & maxAz & maxAzCompass & maxEl & maxUTC & endAz & endAzCompass & endUTC & startDate & startTime & endDate & endTime & localStartTime & duration\\\\\n",
       " <dbl> & <chr> & <dttm> & <dbl> & <chr> & <dbl> & <int> & <dbl> & <chr> & <dttm> & <chr> & <chr> & <chr> & <chr> & <chr> & <dbl>\\\\\n",
       "\\hline\n",
       "\t 165.70 & S   & 2019-08-28 18:31:10 &  77.09 & E   & 75.69 & 1567017535 & 350.30 & N   & 2019-08-28 18:46:30 & 2019-08-28 & 18:31 & 2019-08-28 & 18:46 & 20:30 & 15\\\\\n",
       "\t  20.87 & NNE & 2019-08-29 05:47:15 & 106.98 & ESE & 67.14 & 1567058095 & 188.32 & S   & 2019-08-29 06:02:35 & 2019-08-29 & 05:47 & 2019-08-29 & 06:02 & 07:46 & 15\\\\\n",
       "\t 159.87 & SSE & 2019-08-29 18:11:20 &  80.30 & E   & 46.64 & 1567102740 &   1.17 & N   & 2019-08-29 18:26:25 & 2019-08-29 & 18:11 & 2019-08-29 & 18:26 & 20:10 & 15\\\\\n",
       "\t  31.63 & NE  & 2019-08-30 05:27:40 & 107.29 & ESE & 41.89 & 1567143305 & 182.54 & S   & 2019-08-30 05:42:30 & 2019-08-30 & 05:27 & 2019-08-30 & 05:42 & 07:26 & 15\\\\\n",
       "\t 153.36 & SSE & 2019-08-30 17:51:45 &  83.50 & E   & 29.11 & 1567187940 &  12.35 & N   & 2019-08-30 18:06:10 & 2019-08-30 & 17:51 & 2019-08-30 & 18:06 & 19:50 & 15\\\\\n",
       "\t 183.14 & S   & 2019-08-30 19:31:55 & 249.68 & WSW & 26.68 & 1567193940 & 316.76 & NW  & 2019-08-30 19:45:55 & 2019-08-30 & 19:31 & 2019-08-30 & 19:45 & 21:30 & 14\\\\\n",
       "\t  42.63 & NE  & 2019-08-31 05:08:15 & 109.90 & ESE & 26.86 & 1567228520 & 176.79 & S   & 2019-08-31 05:22:25 & 2019-08-31 & 05:08 & 2019-08-31 & 05:22 & 07:07 & 14\\\\\n",
       "\t 347.90 & N   & 2019-08-31 06:48:05 & 276.92 & W   & 29.21 & 1567234520 & 206.75 & SSW & 2019-08-31 07:02:35 & 2019-08-31 & 06:48 & 2019-08-31 & 07:02 & 08:47 & 14\\\\\n",
       "\t 177.28 & S   & 2019-08-31 19:11:45 & 252.09 & WSW & 41.65 & 1567279155 & 328.15 & NW  & 2019-08-31 19:26:35 & 2019-08-31 & 19:11 & 2019-08-31 & 19:26 & 21:10 & 15\\\\\n",
       "\t 358.96 & N   & 2019-09-01 06:27:50 & 280.46 & W   & 46.70 & 1567319720 & 200.37 & SSW & 2019-09-01 06:42:55 & 2019-09-01 & 06:27 & 2019-09-01 & 06:42 & 08:26 & 15\\\\\n",
       "\t 171.69 & S   & 2019-09-01 18:51:45 & 257.73 & W   & 66.90 & 1567364370 & 339.02 & NNW & 2019-09-01 19:07:00 & 2019-09-01 & 18:51 & 2019-09-01 & 19:07 & 20:50 & 16\\\\\n",
       "\t   9.72 & N   & 2019-09-02 06:07:45 & 285.71 & WNW & 75.59 & 1567404925 & 194.35 & S   & 2019-09-02 06:23:10 & 2019-09-02 & 06:07 & 2019-09-02 & 06:23 & 08:06 & 16\\\\\n",
       "\t 166.03 & S   & 2019-09-02 18:31:50 &  81.40 & E   & 77.57 & 1567449575 & 349.73 & N   & 2019-09-02 18:47:10 & 2019-09-02 & 18:31 & 2019-09-02 & 18:47 & 20:30 & 16\\\\\n",
       "\t  20.28 & NNE & 2019-09-03 05:47:55 & 104.22 & E   & 68.92 & 1567490135 & 188.61 & S   & 2019-09-03 06:03:15 & 2019-09-03 & 05:47 & 2019-09-03 & 06:03 & 07:46 & 16\\\\\n",
       "\t 160.09 & SSE & 2019-09-03 18:12:05 &  81.41 & E   & 47.85 & 1567534780 &   0.65 & N   & 2019-09-03 18:27:05 & 2019-09-03 & 18:12 & 2019-09-03 & 18:27 & 20:11 & 15\\\\\n",
       "\t  31.01 & NE  & 2019-09-04 05:28:20 & 106.17 & ESE & 42.96 & 1567575345 & 182.92 & S   & 2019-09-04 05:43:15 & 2019-09-04 & 05:28 & 2019-09-04 & 05:43 & 07:27 & 15\\\\\n",
       "\t 153.78 & SSE & 2019-09-04 17:52:25 &  82.44 & E   & 29.82 & 1567619985 &  11.90 & N   & 2019-09-04 18:06:50 & 2019-09-04 & 17:52 & 2019-09-04 & 18:06 & 19:51 & 14\\\\\n",
       "\t 183.57 & S   & 2019-09-04 19:32:40 & 249.12 & WSW & 26.02 & 1567625980 & 316.15 & NW  & 2019-09-04 19:46:35 & 2019-09-04 & 19:32 & 2019-09-04 & 19:46 & 21:31 & 14\\\\\n",
       "\t  42.00 & NE  & 2019-09-05 05:08:55 & 109.20 & ESE & 27.51 & 1567660560 & 176.95 & S   & 2019-09-05 05:23:05 & 2019-09-05 & 05:08 & 2019-09-05 & 05:23 & 07:07 & 15\\\\\n",
       "\t 347.22 & N   & 2019-09-05 06:48:50 & 277.64 & W   & 28.49 & 1567666560 & 207.19 & SSW & 2019-09-05 07:03:15 & 2019-09-05 & 06:48 & 2019-09-05 & 07:03 & 08:47 & 15\\\\\n",
       "\t 177.66 & S   & 2019-09-05 19:12:30 & 251.24 & WSW & 40.58 & 1567711195 & 327.53 & NW  & 2019-09-05 19:27:15 & 2019-09-05 & 19:12 & 2019-09-05 & 19:27 & 21:11 & 15\\\\\n",
       "\t 358.46 & N   & 2019-09-06 06:28:30 & 278.88 & W   & 45.50 & 1567751765 & 200.77 & SSW & 2019-09-06 06:43:35 & 2019-09-06 & 06:28 & 2019-09-06 & 06:43 & 08:27 & 15\\\\\n",
       "\t 171.97 & S   & 2019-09-06 18:52:25 & 255.51 & W   & 65.18 & 1567796410 & 338.42 & NNW & 2019-09-06 19:07:40 & 2019-09-06 & 18:52 & 2019-09-06 & 19:07 & 20:51 & 15\\\\\n",
       "\t   9.11 & N   & 2019-09-07 06:08:30 & 280.32 & W   & 73.72 & 1567836970 & 194.69 & S   & 2019-09-07 06:23:50 & 2019-09-07 & 06:08 & 2019-09-07 & 06:23 & 08:07 & 15\\\\\n",
       "\\end{tabular}\n"
      ],
      "text/markdown": [
       "\n",
       "A tibble: 24 × 16\n",
       "\n",
       "| startAz &lt;dbl&gt; | startAzCompass &lt;chr&gt; | startUTC &lt;dttm&gt; | maxAz &lt;dbl&gt; | maxAzCompass &lt;chr&gt; | maxEl &lt;dbl&gt; | maxUTC &lt;int&gt; | endAz &lt;dbl&gt; | endAzCompass &lt;chr&gt; | endUTC &lt;dttm&gt; | startDate &lt;chr&gt; | startTime &lt;chr&gt; | endDate &lt;chr&gt; | endTime &lt;chr&gt; | localStartTime &lt;chr&gt; | duration &lt;dbl&gt; |\n",
       "|---|---|---|---|---|---|---|---|---|---|---|---|---|---|---|---|\n",
       "| 165.70 | S   | 2019-08-28 18:31:10 |  77.09 | E   | 75.69 | 1567017535 | 350.30 | N   | 2019-08-28 18:46:30 | 2019-08-28 | 18:31 | 2019-08-28 | 18:46 | 20:30 | 15 |\n",
       "|  20.87 | NNE | 2019-08-29 05:47:15 | 106.98 | ESE | 67.14 | 1567058095 | 188.32 | S   | 2019-08-29 06:02:35 | 2019-08-29 | 05:47 | 2019-08-29 | 06:02 | 07:46 | 15 |\n",
       "| 159.87 | SSE | 2019-08-29 18:11:20 |  80.30 | E   | 46.64 | 1567102740 |   1.17 | N   | 2019-08-29 18:26:25 | 2019-08-29 | 18:11 | 2019-08-29 | 18:26 | 20:10 | 15 |\n",
       "|  31.63 | NE  | 2019-08-30 05:27:40 | 107.29 | ESE | 41.89 | 1567143305 | 182.54 | S   | 2019-08-30 05:42:30 | 2019-08-30 | 05:27 | 2019-08-30 | 05:42 | 07:26 | 15 |\n",
       "| 153.36 | SSE | 2019-08-30 17:51:45 |  83.50 | E   | 29.11 | 1567187940 |  12.35 | N   | 2019-08-30 18:06:10 | 2019-08-30 | 17:51 | 2019-08-30 | 18:06 | 19:50 | 15 |\n",
       "| 183.14 | S   | 2019-08-30 19:31:55 | 249.68 | WSW | 26.68 | 1567193940 | 316.76 | NW  | 2019-08-30 19:45:55 | 2019-08-30 | 19:31 | 2019-08-30 | 19:45 | 21:30 | 14 |\n",
       "|  42.63 | NE  | 2019-08-31 05:08:15 | 109.90 | ESE | 26.86 | 1567228520 | 176.79 | S   | 2019-08-31 05:22:25 | 2019-08-31 | 05:08 | 2019-08-31 | 05:22 | 07:07 | 14 |\n",
       "| 347.90 | N   | 2019-08-31 06:48:05 | 276.92 | W   | 29.21 | 1567234520 | 206.75 | SSW | 2019-08-31 07:02:35 | 2019-08-31 | 06:48 | 2019-08-31 | 07:02 | 08:47 | 14 |\n",
       "| 177.28 | S   | 2019-08-31 19:11:45 | 252.09 | WSW | 41.65 | 1567279155 | 328.15 | NW  | 2019-08-31 19:26:35 | 2019-08-31 | 19:11 | 2019-08-31 | 19:26 | 21:10 | 15 |\n",
       "| 358.96 | N   | 2019-09-01 06:27:50 | 280.46 | W   | 46.70 | 1567319720 | 200.37 | SSW | 2019-09-01 06:42:55 | 2019-09-01 | 06:27 | 2019-09-01 | 06:42 | 08:26 | 15 |\n",
       "| 171.69 | S   | 2019-09-01 18:51:45 | 257.73 | W   | 66.90 | 1567364370 | 339.02 | NNW | 2019-09-01 19:07:00 | 2019-09-01 | 18:51 | 2019-09-01 | 19:07 | 20:50 | 16 |\n",
       "|   9.72 | N   | 2019-09-02 06:07:45 | 285.71 | WNW | 75.59 | 1567404925 | 194.35 | S   | 2019-09-02 06:23:10 | 2019-09-02 | 06:07 | 2019-09-02 | 06:23 | 08:06 | 16 |\n",
       "| 166.03 | S   | 2019-09-02 18:31:50 |  81.40 | E   | 77.57 | 1567449575 | 349.73 | N   | 2019-09-02 18:47:10 | 2019-09-02 | 18:31 | 2019-09-02 | 18:47 | 20:30 | 16 |\n",
       "|  20.28 | NNE | 2019-09-03 05:47:55 | 104.22 | E   | 68.92 | 1567490135 | 188.61 | S   | 2019-09-03 06:03:15 | 2019-09-03 | 05:47 | 2019-09-03 | 06:03 | 07:46 | 16 |\n",
       "| 160.09 | SSE | 2019-09-03 18:12:05 |  81.41 | E   | 47.85 | 1567534780 |   0.65 | N   | 2019-09-03 18:27:05 | 2019-09-03 | 18:12 | 2019-09-03 | 18:27 | 20:11 | 15 |\n",
       "|  31.01 | NE  | 2019-09-04 05:28:20 | 106.17 | ESE | 42.96 | 1567575345 | 182.92 | S   | 2019-09-04 05:43:15 | 2019-09-04 | 05:28 | 2019-09-04 | 05:43 | 07:27 | 15 |\n",
       "| 153.78 | SSE | 2019-09-04 17:52:25 |  82.44 | E   | 29.82 | 1567619985 |  11.90 | N   | 2019-09-04 18:06:50 | 2019-09-04 | 17:52 | 2019-09-04 | 18:06 | 19:51 | 14 |\n",
       "| 183.57 | S   | 2019-09-04 19:32:40 | 249.12 | WSW | 26.02 | 1567625980 | 316.15 | NW  | 2019-09-04 19:46:35 | 2019-09-04 | 19:32 | 2019-09-04 | 19:46 | 21:31 | 14 |\n",
       "|  42.00 | NE  | 2019-09-05 05:08:55 | 109.20 | ESE | 27.51 | 1567660560 | 176.95 | S   | 2019-09-05 05:23:05 | 2019-09-05 | 05:08 | 2019-09-05 | 05:23 | 07:07 | 15 |\n",
       "| 347.22 | N   | 2019-09-05 06:48:50 | 277.64 | W   | 28.49 | 1567666560 | 207.19 | SSW | 2019-09-05 07:03:15 | 2019-09-05 | 06:48 | 2019-09-05 | 07:03 | 08:47 | 15 |\n",
       "| 177.66 | S   | 2019-09-05 19:12:30 | 251.24 | WSW | 40.58 | 1567711195 | 327.53 | NW  | 2019-09-05 19:27:15 | 2019-09-05 | 19:12 | 2019-09-05 | 19:27 | 21:11 | 15 |\n",
       "| 358.46 | N   | 2019-09-06 06:28:30 | 278.88 | W   | 45.50 | 1567751765 | 200.77 | SSW | 2019-09-06 06:43:35 | 2019-09-06 | 06:28 | 2019-09-06 | 06:43 | 08:27 | 15 |\n",
       "| 171.97 | S   | 2019-09-06 18:52:25 | 255.51 | W   | 65.18 | 1567796410 | 338.42 | NNW | 2019-09-06 19:07:40 | 2019-09-06 | 18:52 | 2019-09-06 | 19:07 | 20:51 | 15 |\n",
       "|   9.11 | N   | 2019-09-07 06:08:30 | 280.32 | W   | 73.72 | 1567836970 | 194.69 | S   | 2019-09-07 06:23:50 | 2019-09-07 | 06:08 | 2019-09-07 | 06:23 | 08:07 | 15 |\n",
       "\n"
      ],
      "text/plain": [
       "   startAz startAzCompass startUTC            maxAz  maxAzCompass maxEl\n",
       "1  165.70  S              2019-08-28 18:31:10  77.09 E            75.69\n",
       "2   20.87  NNE            2019-08-29 05:47:15 106.98 ESE          67.14\n",
       "3  159.87  SSE            2019-08-29 18:11:20  80.30 E            46.64\n",
       "4   31.63  NE             2019-08-30 05:27:40 107.29 ESE          41.89\n",
       "5  153.36  SSE            2019-08-30 17:51:45  83.50 E            29.11\n",
       "6  183.14  S              2019-08-30 19:31:55 249.68 WSW          26.68\n",
       "7   42.63  NE             2019-08-31 05:08:15 109.90 ESE          26.86\n",
       "8  347.90  N              2019-08-31 06:48:05 276.92 W            29.21\n",
       "9  177.28  S              2019-08-31 19:11:45 252.09 WSW          41.65\n",
       "10 358.96  N              2019-09-01 06:27:50 280.46 W            46.70\n",
       "11 171.69  S              2019-09-01 18:51:45 257.73 W            66.90\n",
       "12   9.72  N              2019-09-02 06:07:45 285.71 WNW          75.59\n",
       "13 166.03  S              2019-09-02 18:31:50  81.40 E            77.57\n",
       "14  20.28  NNE            2019-09-03 05:47:55 104.22 E            68.92\n",
       "15 160.09  SSE            2019-09-03 18:12:05  81.41 E            47.85\n",
       "16  31.01  NE             2019-09-04 05:28:20 106.17 ESE          42.96\n",
       "17 153.78  SSE            2019-09-04 17:52:25  82.44 E            29.82\n",
       "18 183.57  S              2019-09-04 19:32:40 249.12 WSW          26.02\n",
       "19  42.00  NE             2019-09-05 05:08:55 109.20 ESE          27.51\n",
       "20 347.22  N              2019-09-05 06:48:50 277.64 W            28.49\n",
       "21 177.66  S              2019-09-05 19:12:30 251.24 WSW          40.58\n",
       "22 358.46  N              2019-09-06 06:28:30 278.88 W            45.50\n",
       "23 171.97  S              2019-09-06 18:52:25 255.51 W            65.18\n",
       "24   9.11  N              2019-09-07 06:08:30 280.32 W            73.72\n",
       "   maxUTC     endAz  endAzCompass endUTC              startDate  startTime\n",
       "1  1567017535 350.30 N            2019-08-28 18:46:30 2019-08-28 18:31    \n",
       "2  1567058095 188.32 S            2019-08-29 06:02:35 2019-08-29 05:47    \n",
       "3  1567102740   1.17 N            2019-08-29 18:26:25 2019-08-29 18:11    \n",
       "4  1567143305 182.54 S            2019-08-30 05:42:30 2019-08-30 05:27    \n",
       "5  1567187940  12.35 N            2019-08-30 18:06:10 2019-08-30 17:51    \n",
       "6  1567193940 316.76 NW           2019-08-30 19:45:55 2019-08-30 19:31    \n",
       "7  1567228520 176.79 S            2019-08-31 05:22:25 2019-08-31 05:08    \n",
       "8  1567234520 206.75 SSW          2019-08-31 07:02:35 2019-08-31 06:48    \n",
       "9  1567279155 328.15 NW           2019-08-31 19:26:35 2019-08-31 19:11    \n",
       "10 1567319720 200.37 SSW          2019-09-01 06:42:55 2019-09-01 06:27    \n",
       "11 1567364370 339.02 NNW          2019-09-01 19:07:00 2019-09-01 18:51    \n",
       "12 1567404925 194.35 S            2019-09-02 06:23:10 2019-09-02 06:07    \n",
       "13 1567449575 349.73 N            2019-09-02 18:47:10 2019-09-02 18:31    \n",
       "14 1567490135 188.61 S            2019-09-03 06:03:15 2019-09-03 05:47    \n",
       "15 1567534780   0.65 N            2019-09-03 18:27:05 2019-09-03 18:12    \n",
       "16 1567575345 182.92 S            2019-09-04 05:43:15 2019-09-04 05:28    \n",
       "17 1567619985  11.90 N            2019-09-04 18:06:50 2019-09-04 17:52    \n",
       "18 1567625980 316.15 NW           2019-09-04 19:46:35 2019-09-04 19:32    \n",
       "19 1567660560 176.95 S            2019-09-05 05:23:05 2019-09-05 05:08    \n",
       "20 1567666560 207.19 SSW          2019-09-05 07:03:15 2019-09-05 06:48    \n",
       "21 1567711195 327.53 NW           2019-09-05 19:27:15 2019-09-05 19:12    \n",
       "22 1567751765 200.77 SSW          2019-09-06 06:43:35 2019-09-06 06:28    \n",
       "23 1567796410 338.42 NNW          2019-09-06 19:07:40 2019-09-06 18:52    \n",
       "24 1567836970 194.69 S            2019-09-07 06:23:50 2019-09-07 06:08    \n",
       "   endDate    endTime localStartTime duration\n",
       "1  2019-08-28 18:46   20:30          15      \n",
       "2  2019-08-29 06:02   07:46          15      \n",
       "3  2019-08-29 18:26   20:10          15      \n",
       "4  2019-08-30 05:42   07:26          15      \n",
       "5  2019-08-30 18:06   19:50          15      \n",
       "6  2019-08-30 19:45   21:30          14      \n",
       "7  2019-08-31 05:22   07:07          14      \n",
       "8  2019-08-31 07:02   08:47          14      \n",
       "9  2019-08-31 19:26   21:10          15      \n",
       "10 2019-09-01 06:42   08:26          15      \n",
       "11 2019-09-01 19:07   20:50          16      \n",
       "12 2019-09-02 06:23   08:06          16      \n",
       "13 2019-09-02 18:47   20:30          16      \n",
       "14 2019-09-03 06:03   07:46          16      \n",
       "15 2019-09-03 18:27   20:11          15      \n",
       "16 2019-09-04 05:43   07:27          15      \n",
       "17 2019-09-04 18:06   19:51          14      \n",
       "18 2019-09-04 19:46   21:31          14      \n",
       "19 2019-09-05 05:23   07:07          15      \n",
       "20 2019-09-05 07:03   08:47          15      \n",
       "21 2019-09-05 19:27   21:11          15      \n",
       "22 2019-09-06 06:43   08:27          15      \n",
       "23 2019-09-06 19:07   20:51          15      \n",
       "24 2019-09-07 06:23   08:07          15      "
      ]
     },
     "metadata": {},
     "output_type": "display_data"
    }
   ],
   "source": [
    "satellite_data_df"
   ]
  },
  {
   "cell_type": "code",
   "execution_count": 12,
   "metadata": {
    "scrolled": true
   },
   "outputs": [
    {
     "data": {
      "text/html": [
       "<ol class=list-inline>\n",
       "\t<li>'systemd-run --user --no-block --unit=\"mlrpt_2019-08-28_20:30\" --on-calendar=\"2019-08-28 20:30\" /usr/local/bin/mlrpt \"18:31-18:46\" -t 15'</li>\n",
       "\t<li>'systemd-run --user --no-block --unit=\"mlrpt_2019-08-29_07:46\" --on-calendar=\"2019-08-29 07:46\" /usr/local/bin/mlrpt \"05:47-06:02\" -t 15'</li>\n",
       "\t<li>'systemd-run --user --no-block --unit=\"mlrpt_2019-08-29_20:10\" --on-calendar=\"2019-08-29 20:10\" /usr/local/bin/mlrpt \"18:11-18:26\" -t 15'</li>\n",
       "\t<li>'systemd-run --user --no-block --unit=\"mlrpt_2019-08-30_07:26\" --on-calendar=\"2019-08-30 07:26\" /usr/local/bin/mlrpt \"05:27-05:42\" -t 15'</li>\n",
       "\t<li>'systemd-run --user --no-block --unit=\"mlrpt_2019-08-30_19:50\" --on-calendar=\"2019-08-30 19:50\" /usr/local/bin/mlrpt \"17:51-18:06\" -t 15'</li>\n",
       "\t<li>'systemd-run --user --no-block --unit=\"mlrpt_2019-08-30_21:30\" --on-calendar=\"2019-08-30 21:30\" /usr/local/bin/mlrpt \"19:31-19:45\" -t 14'</li>\n",
       "\t<li>'systemd-run --user --no-block --unit=\"mlrpt_2019-08-31_07:07\" --on-calendar=\"2019-08-31 07:07\" /usr/local/bin/mlrpt \"05:08-05:22\" -t 14'</li>\n",
       "\t<li>'systemd-run --user --no-block --unit=\"mlrpt_2019-08-31_08:47\" --on-calendar=\"2019-08-31 08:47\" /usr/local/bin/mlrpt \"06:48-07:02\" -t 14'</li>\n",
       "\t<li>'systemd-run --user --no-block --unit=\"mlrpt_2019-08-31_21:10\" --on-calendar=\"2019-08-31 21:10\" /usr/local/bin/mlrpt \"19:11-19:26\" -t 15'</li>\n",
       "\t<li>'systemd-run --user --no-block --unit=\"mlrpt_2019-09-01_08:26\" --on-calendar=\"2019-09-01 08:26\" /usr/local/bin/mlrpt \"06:27-06:42\" -t 15'</li>\n",
       "\t<li>'systemd-run --user --no-block --unit=\"mlrpt_2019-09-01_20:50\" --on-calendar=\"2019-09-01 20:50\" /usr/local/bin/mlrpt \"18:51-19:07\" -t 16'</li>\n",
       "\t<li>'systemd-run --user --no-block --unit=\"mlrpt_2019-09-02_08:06\" --on-calendar=\"2019-09-02 08:06\" /usr/local/bin/mlrpt \"06:07-06:23\" -t 16'</li>\n",
       "\t<li>'systemd-run --user --no-block --unit=\"mlrpt_2019-09-02_20:30\" --on-calendar=\"2019-09-02 20:30\" /usr/local/bin/mlrpt \"18:31-18:47\" -t 16'</li>\n",
       "\t<li>'systemd-run --user --no-block --unit=\"mlrpt_2019-09-03_07:46\" --on-calendar=\"2019-09-03 07:46\" /usr/local/bin/mlrpt \"05:47-06:03\" -t 16'</li>\n",
       "\t<li>'systemd-run --user --no-block --unit=\"mlrpt_2019-09-03_20:11\" --on-calendar=\"2019-09-03 20:11\" /usr/local/bin/mlrpt \"18:12-18:27\" -t 15'</li>\n",
       "\t<li>'systemd-run --user --no-block --unit=\"mlrpt_2019-09-04_07:27\" --on-calendar=\"2019-09-04 07:27\" /usr/local/bin/mlrpt \"05:28-05:43\" -t 15'</li>\n",
       "\t<li>'systemd-run --user --no-block --unit=\"mlrpt_2019-09-04_19:51\" --on-calendar=\"2019-09-04 19:51\" /usr/local/bin/mlrpt \"17:52-18:06\" -t 14'</li>\n",
       "\t<li>'systemd-run --user --no-block --unit=\"mlrpt_2019-09-04_21:31\" --on-calendar=\"2019-09-04 21:31\" /usr/local/bin/mlrpt \"19:32-19:46\" -t 14'</li>\n",
       "\t<li>'systemd-run --user --no-block --unit=\"mlrpt_2019-09-05_07:07\" --on-calendar=\"2019-09-05 07:07\" /usr/local/bin/mlrpt \"05:08-05:23\" -t 15'</li>\n",
       "\t<li>'systemd-run --user --no-block --unit=\"mlrpt_2019-09-05_08:47\" --on-calendar=\"2019-09-05 08:47\" /usr/local/bin/mlrpt \"06:48-07:03\" -t 15'</li>\n",
       "\t<li>'systemd-run --user --no-block --unit=\"mlrpt_2019-09-05_21:11\" --on-calendar=\"2019-09-05 21:11\" /usr/local/bin/mlrpt \"19:12-19:27\" -t 15'</li>\n",
       "\t<li>'systemd-run --user --no-block --unit=\"mlrpt_2019-09-06_08:27\" --on-calendar=\"2019-09-06 08:27\" /usr/local/bin/mlrpt \"06:28-06:43\" -t 15'</li>\n",
       "\t<li>'systemd-run --user --no-block --unit=\"mlrpt_2019-09-06_20:51\" --on-calendar=\"2019-09-06 20:51\" /usr/local/bin/mlrpt \"18:52-19:07\" -t 15'</li>\n",
       "\t<li>'systemd-run --user --no-block --unit=\"mlrpt_2019-09-07_08:07\" --on-calendar=\"2019-09-07 08:07\" /usr/local/bin/mlrpt \"06:08-06:23\" -t 15'</li>\n",
       "</ol>\n"
      ],
      "text/latex": [
       "\\begin{enumerate*}\n",
       "\\item 'systemd-run --user --no-block --unit=\"mlrpt\\_2019-08-28\\_20:30\" --on-calendar=\"2019-08-28 20:30\" /usr/local/bin/mlrpt \"18:31-18:46\" -t 15'\n",
       "\\item 'systemd-run --user --no-block --unit=\"mlrpt\\_2019-08-29\\_07:46\" --on-calendar=\"2019-08-29 07:46\" /usr/local/bin/mlrpt \"05:47-06:02\" -t 15'\n",
       "\\item 'systemd-run --user --no-block --unit=\"mlrpt\\_2019-08-29\\_20:10\" --on-calendar=\"2019-08-29 20:10\" /usr/local/bin/mlrpt \"18:11-18:26\" -t 15'\n",
       "\\item 'systemd-run --user --no-block --unit=\"mlrpt\\_2019-08-30\\_07:26\" --on-calendar=\"2019-08-30 07:26\" /usr/local/bin/mlrpt \"05:27-05:42\" -t 15'\n",
       "\\item 'systemd-run --user --no-block --unit=\"mlrpt\\_2019-08-30\\_19:50\" --on-calendar=\"2019-08-30 19:50\" /usr/local/bin/mlrpt \"17:51-18:06\" -t 15'\n",
       "\\item 'systemd-run --user --no-block --unit=\"mlrpt\\_2019-08-30\\_21:30\" --on-calendar=\"2019-08-30 21:30\" /usr/local/bin/mlrpt \"19:31-19:45\" -t 14'\n",
       "\\item 'systemd-run --user --no-block --unit=\"mlrpt\\_2019-08-31\\_07:07\" --on-calendar=\"2019-08-31 07:07\" /usr/local/bin/mlrpt \"05:08-05:22\" -t 14'\n",
       "\\item 'systemd-run --user --no-block --unit=\"mlrpt\\_2019-08-31\\_08:47\" --on-calendar=\"2019-08-31 08:47\" /usr/local/bin/mlrpt \"06:48-07:02\" -t 14'\n",
       "\\item 'systemd-run --user --no-block --unit=\"mlrpt\\_2019-08-31\\_21:10\" --on-calendar=\"2019-08-31 21:10\" /usr/local/bin/mlrpt \"19:11-19:26\" -t 15'\n",
       "\\item 'systemd-run --user --no-block --unit=\"mlrpt\\_2019-09-01\\_08:26\" --on-calendar=\"2019-09-01 08:26\" /usr/local/bin/mlrpt \"06:27-06:42\" -t 15'\n",
       "\\item 'systemd-run --user --no-block --unit=\"mlrpt\\_2019-09-01\\_20:50\" --on-calendar=\"2019-09-01 20:50\" /usr/local/bin/mlrpt \"18:51-19:07\" -t 16'\n",
       "\\item 'systemd-run --user --no-block --unit=\"mlrpt\\_2019-09-02\\_08:06\" --on-calendar=\"2019-09-02 08:06\" /usr/local/bin/mlrpt \"06:07-06:23\" -t 16'\n",
       "\\item 'systemd-run --user --no-block --unit=\"mlrpt\\_2019-09-02\\_20:30\" --on-calendar=\"2019-09-02 20:30\" /usr/local/bin/mlrpt \"18:31-18:47\" -t 16'\n",
       "\\item 'systemd-run --user --no-block --unit=\"mlrpt\\_2019-09-03\\_07:46\" --on-calendar=\"2019-09-03 07:46\" /usr/local/bin/mlrpt \"05:47-06:03\" -t 16'\n",
       "\\item 'systemd-run --user --no-block --unit=\"mlrpt\\_2019-09-03\\_20:11\" --on-calendar=\"2019-09-03 20:11\" /usr/local/bin/mlrpt \"18:12-18:27\" -t 15'\n",
       "\\item 'systemd-run --user --no-block --unit=\"mlrpt\\_2019-09-04\\_07:27\" --on-calendar=\"2019-09-04 07:27\" /usr/local/bin/mlrpt \"05:28-05:43\" -t 15'\n",
       "\\item 'systemd-run --user --no-block --unit=\"mlrpt\\_2019-09-04\\_19:51\" --on-calendar=\"2019-09-04 19:51\" /usr/local/bin/mlrpt \"17:52-18:06\" -t 14'\n",
       "\\item 'systemd-run --user --no-block --unit=\"mlrpt\\_2019-09-04\\_21:31\" --on-calendar=\"2019-09-04 21:31\" /usr/local/bin/mlrpt \"19:32-19:46\" -t 14'\n",
       "\\item 'systemd-run --user --no-block --unit=\"mlrpt\\_2019-09-05\\_07:07\" --on-calendar=\"2019-09-05 07:07\" /usr/local/bin/mlrpt \"05:08-05:23\" -t 15'\n",
       "\\item 'systemd-run --user --no-block --unit=\"mlrpt\\_2019-09-05\\_08:47\" --on-calendar=\"2019-09-05 08:47\" /usr/local/bin/mlrpt \"06:48-07:03\" -t 15'\n",
       "\\item 'systemd-run --user --no-block --unit=\"mlrpt\\_2019-09-05\\_21:11\" --on-calendar=\"2019-09-05 21:11\" /usr/local/bin/mlrpt \"19:12-19:27\" -t 15'\n",
       "\\item 'systemd-run --user --no-block --unit=\"mlrpt\\_2019-09-06\\_08:27\" --on-calendar=\"2019-09-06 08:27\" /usr/local/bin/mlrpt \"06:28-06:43\" -t 15'\n",
       "\\item 'systemd-run --user --no-block --unit=\"mlrpt\\_2019-09-06\\_20:51\" --on-calendar=\"2019-09-06 20:51\" /usr/local/bin/mlrpt \"18:52-19:07\" -t 15'\n",
       "\\item 'systemd-run --user --no-block --unit=\"mlrpt\\_2019-09-07\\_08:07\" --on-calendar=\"2019-09-07 08:07\" /usr/local/bin/mlrpt \"06:08-06:23\" -t 15'\n",
       "\\end{enumerate*}\n"
      ],
      "text/markdown": [
       "1. 'systemd-run --user --no-block --unit=\"mlrpt_2019-08-28_20:30\" --on-calendar=\"2019-08-28 20:30\" /usr/local/bin/mlrpt \"18:31-18:46\" -t 15'\n",
       "2. 'systemd-run --user --no-block --unit=\"mlrpt_2019-08-29_07:46\" --on-calendar=\"2019-08-29 07:46\" /usr/local/bin/mlrpt \"05:47-06:02\" -t 15'\n",
       "3. 'systemd-run --user --no-block --unit=\"mlrpt_2019-08-29_20:10\" --on-calendar=\"2019-08-29 20:10\" /usr/local/bin/mlrpt \"18:11-18:26\" -t 15'\n",
       "4. 'systemd-run --user --no-block --unit=\"mlrpt_2019-08-30_07:26\" --on-calendar=\"2019-08-30 07:26\" /usr/local/bin/mlrpt \"05:27-05:42\" -t 15'\n",
       "5. 'systemd-run --user --no-block --unit=\"mlrpt_2019-08-30_19:50\" --on-calendar=\"2019-08-30 19:50\" /usr/local/bin/mlrpt \"17:51-18:06\" -t 15'\n",
       "6. 'systemd-run --user --no-block --unit=\"mlrpt_2019-08-30_21:30\" --on-calendar=\"2019-08-30 21:30\" /usr/local/bin/mlrpt \"19:31-19:45\" -t 14'\n",
       "7. 'systemd-run --user --no-block --unit=\"mlrpt_2019-08-31_07:07\" --on-calendar=\"2019-08-31 07:07\" /usr/local/bin/mlrpt \"05:08-05:22\" -t 14'\n",
       "8. 'systemd-run --user --no-block --unit=\"mlrpt_2019-08-31_08:47\" --on-calendar=\"2019-08-31 08:47\" /usr/local/bin/mlrpt \"06:48-07:02\" -t 14'\n",
       "9. 'systemd-run --user --no-block --unit=\"mlrpt_2019-08-31_21:10\" --on-calendar=\"2019-08-31 21:10\" /usr/local/bin/mlrpt \"19:11-19:26\" -t 15'\n",
       "10. 'systemd-run --user --no-block --unit=\"mlrpt_2019-09-01_08:26\" --on-calendar=\"2019-09-01 08:26\" /usr/local/bin/mlrpt \"06:27-06:42\" -t 15'\n",
       "11. 'systemd-run --user --no-block --unit=\"mlrpt_2019-09-01_20:50\" --on-calendar=\"2019-09-01 20:50\" /usr/local/bin/mlrpt \"18:51-19:07\" -t 16'\n",
       "12. 'systemd-run --user --no-block --unit=\"mlrpt_2019-09-02_08:06\" --on-calendar=\"2019-09-02 08:06\" /usr/local/bin/mlrpt \"06:07-06:23\" -t 16'\n",
       "13. 'systemd-run --user --no-block --unit=\"mlrpt_2019-09-02_20:30\" --on-calendar=\"2019-09-02 20:30\" /usr/local/bin/mlrpt \"18:31-18:47\" -t 16'\n",
       "14. 'systemd-run --user --no-block --unit=\"mlrpt_2019-09-03_07:46\" --on-calendar=\"2019-09-03 07:46\" /usr/local/bin/mlrpt \"05:47-06:03\" -t 16'\n",
       "15. 'systemd-run --user --no-block --unit=\"mlrpt_2019-09-03_20:11\" --on-calendar=\"2019-09-03 20:11\" /usr/local/bin/mlrpt \"18:12-18:27\" -t 15'\n",
       "16. 'systemd-run --user --no-block --unit=\"mlrpt_2019-09-04_07:27\" --on-calendar=\"2019-09-04 07:27\" /usr/local/bin/mlrpt \"05:28-05:43\" -t 15'\n",
       "17. 'systemd-run --user --no-block --unit=\"mlrpt_2019-09-04_19:51\" --on-calendar=\"2019-09-04 19:51\" /usr/local/bin/mlrpt \"17:52-18:06\" -t 14'\n",
       "18. 'systemd-run --user --no-block --unit=\"mlrpt_2019-09-04_21:31\" --on-calendar=\"2019-09-04 21:31\" /usr/local/bin/mlrpt \"19:32-19:46\" -t 14'\n",
       "19. 'systemd-run --user --no-block --unit=\"mlrpt_2019-09-05_07:07\" --on-calendar=\"2019-09-05 07:07\" /usr/local/bin/mlrpt \"05:08-05:23\" -t 15'\n",
       "20. 'systemd-run --user --no-block --unit=\"mlrpt_2019-09-05_08:47\" --on-calendar=\"2019-09-05 08:47\" /usr/local/bin/mlrpt \"06:48-07:03\" -t 15'\n",
       "21. 'systemd-run --user --no-block --unit=\"mlrpt_2019-09-05_21:11\" --on-calendar=\"2019-09-05 21:11\" /usr/local/bin/mlrpt \"19:12-19:27\" -t 15'\n",
       "22. 'systemd-run --user --no-block --unit=\"mlrpt_2019-09-06_08:27\" --on-calendar=\"2019-09-06 08:27\" /usr/local/bin/mlrpt \"06:28-06:43\" -t 15'\n",
       "23. 'systemd-run --user --no-block --unit=\"mlrpt_2019-09-06_20:51\" --on-calendar=\"2019-09-06 20:51\" /usr/local/bin/mlrpt \"18:52-19:07\" -t 15'\n",
       "24. 'systemd-run --user --no-block --unit=\"mlrpt_2019-09-07_08:07\" --on-calendar=\"2019-09-07 08:07\" /usr/local/bin/mlrpt \"06:08-06:23\" -t 15'\n",
       "\n",
       "\n"
      ],
      "text/plain": [
       " [1] \"systemd-run --user --no-block --unit=\\\"mlrpt_2019-08-28_20:30\\\" --on-calendar=\\\"2019-08-28 20:30\\\" /usr/local/bin/mlrpt \\\"18:31-18:46\\\" -t 15\"\n",
       " [2] \"systemd-run --user --no-block --unit=\\\"mlrpt_2019-08-29_07:46\\\" --on-calendar=\\\"2019-08-29 07:46\\\" /usr/local/bin/mlrpt \\\"05:47-06:02\\\" -t 15\"\n",
       " [3] \"systemd-run --user --no-block --unit=\\\"mlrpt_2019-08-29_20:10\\\" --on-calendar=\\\"2019-08-29 20:10\\\" /usr/local/bin/mlrpt \\\"18:11-18:26\\\" -t 15\"\n",
       " [4] \"systemd-run --user --no-block --unit=\\\"mlrpt_2019-08-30_07:26\\\" --on-calendar=\\\"2019-08-30 07:26\\\" /usr/local/bin/mlrpt \\\"05:27-05:42\\\" -t 15\"\n",
       " [5] \"systemd-run --user --no-block --unit=\\\"mlrpt_2019-08-30_19:50\\\" --on-calendar=\\\"2019-08-30 19:50\\\" /usr/local/bin/mlrpt \\\"17:51-18:06\\\" -t 15\"\n",
       " [6] \"systemd-run --user --no-block --unit=\\\"mlrpt_2019-08-30_21:30\\\" --on-calendar=\\\"2019-08-30 21:30\\\" /usr/local/bin/mlrpt \\\"19:31-19:45\\\" -t 14\"\n",
       " [7] \"systemd-run --user --no-block --unit=\\\"mlrpt_2019-08-31_07:07\\\" --on-calendar=\\\"2019-08-31 07:07\\\" /usr/local/bin/mlrpt \\\"05:08-05:22\\\" -t 14\"\n",
       " [8] \"systemd-run --user --no-block --unit=\\\"mlrpt_2019-08-31_08:47\\\" --on-calendar=\\\"2019-08-31 08:47\\\" /usr/local/bin/mlrpt \\\"06:48-07:02\\\" -t 14\"\n",
       " [9] \"systemd-run --user --no-block --unit=\\\"mlrpt_2019-08-31_21:10\\\" --on-calendar=\\\"2019-08-31 21:10\\\" /usr/local/bin/mlrpt \\\"19:11-19:26\\\" -t 15\"\n",
       "[10] \"systemd-run --user --no-block --unit=\\\"mlrpt_2019-09-01_08:26\\\" --on-calendar=\\\"2019-09-01 08:26\\\" /usr/local/bin/mlrpt \\\"06:27-06:42\\\" -t 15\"\n",
       "[11] \"systemd-run --user --no-block --unit=\\\"mlrpt_2019-09-01_20:50\\\" --on-calendar=\\\"2019-09-01 20:50\\\" /usr/local/bin/mlrpt \\\"18:51-19:07\\\" -t 16\"\n",
       "[12] \"systemd-run --user --no-block --unit=\\\"mlrpt_2019-09-02_08:06\\\" --on-calendar=\\\"2019-09-02 08:06\\\" /usr/local/bin/mlrpt \\\"06:07-06:23\\\" -t 16\"\n",
       "[13] \"systemd-run --user --no-block --unit=\\\"mlrpt_2019-09-02_20:30\\\" --on-calendar=\\\"2019-09-02 20:30\\\" /usr/local/bin/mlrpt \\\"18:31-18:47\\\" -t 16\"\n",
       "[14] \"systemd-run --user --no-block --unit=\\\"mlrpt_2019-09-03_07:46\\\" --on-calendar=\\\"2019-09-03 07:46\\\" /usr/local/bin/mlrpt \\\"05:47-06:03\\\" -t 16\"\n",
       "[15] \"systemd-run --user --no-block --unit=\\\"mlrpt_2019-09-03_20:11\\\" --on-calendar=\\\"2019-09-03 20:11\\\" /usr/local/bin/mlrpt \\\"18:12-18:27\\\" -t 15\"\n",
       "[16] \"systemd-run --user --no-block --unit=\\\"mlrpt_2019-09-04_07:27\\\" --on-calendar=\\\"2019-09-04 07:27\\\" /usr/local/bin/mlrpt \\\"05:28-05:43\\\" -t 15\"\n",
       "[17] \"systemd-run --user --no-block --unit=\\\"mlrpt_2019-09-04_19:51\\\" --on-calendar=\\\"2019-09-04 19:51\\\" /usr/local/bin/mlrpt \\\"17:52-18:06\\\" -t 14\"\n",
       "[18] \"systemd-run --user --no-block --unit=\\\"mlrpt_2019-09-04_21:31\\\" --on-calendar=\\\"2019-09-04 21:31\\\" /usr/local/bin/mlrpt \\\"19:32-19:46\\\" -t 14\"\n",
       "[19] \"systemd-run --user --no-block --unit=\\\"mlrpt_2019-09-05_07:07\\\" --on-calendar=\\\"2019-09-05 07:07\\\" /usr/local/bin/mlrpt \\\"05:08-05:23\\\" -t 15\"\n",
       "[20] \"systemd-run --user --no-block --unit=\\\"mlrpt_2019-09-05_08:47\\\" --on-calendar=\\\"2019-09-05 08:47\\\" /usr/local/bin/mlrpt \\\"06:48-07:03\\\" -t 15\"\n",
       "[21] \"systemd-run --user --no-block --unit=\\\"mlrpt_2019-09-05_21:11\\\" --on-calendar=\\\"2019-09-05 21:11\\\" /usr/local/bin/mlrpt \\\"19:12-19:27\\\" -t 15\"\n",
       "[22] \"systemd-run --user --no-block --unit=\\\"mlrpt_2019-09-06_08:27\\\" --on-calendar=\\\"2019-09-06 08:27\\\" /usr/local/bin/mlrpt \\\"06:28-06:43\\\" -t 15\"\n",
       "[23] \"systemd-run --user --no-block --unit=\\\"mlrpt_2019-09-06_20:51\\\" --on-calendar=\\\"2019-09-06 20:51\\\" /usr/local/bin/mlrpt \\\"18:52-19:07\\\" -t 15\"\n",
       "[24] \"systemd-run --user --no-block --unit=\\\"mlrpt_2019-09-07_08:07\\\" --on-calendar=\\\"2019-09-07 08:07\\\" /usr/local/bin/mlrpt \\\"06:08-06:23\\\" -t 15\""
      ]
     },
     "metadata": {},
     "output_type": "display_data"
    }
   ],
   "source": [
    "paste0('systemd-run --user --no-block --unit=\\\"mlrpt_', satellite_data_df$startDate, \"_\",\n",
    "       satellite_data_df$localStartTime,\n",
    "       '\\\" --on-calendar=\\\"', satellite_data_df$startDate,\" \", satellite_data_df$localStartTime,\n",
    "       '\\\" /usr/local/bin/mlrpt \\\"', satellite_data_df$startTime,\"-\", satellite_data_df$endTime,\n",
    "       '\\\" -t ', satellite_data_df$duration)"
   ]
  },
  {
   "cell_type": "code",
   "execution_count": 13,
   "metadata": {},
   "outputs": [
    {
     "ename": "ERROR",
     "evalue": "Error in read_delim(\"timers.txt\"): argument \"delim\" is missing, with no default\n",
     "output_type": "error",
     "traceback": [
      "Error in read_delim(\"timers.txt\"): argument \"delim\" is missing, with no default\nTraceback:\n",
      "1. read_delim(\"timers.txt\")"
     ]
    }
   ],
   "source": [
    "read_delim(\"timers.txt\")"
   ]
  },
  {
   "cell_type": "code",
   "execution_count": null,
   "metadata": {},
   "outputs": [],
   "source": []
  }
 ],
 "metadata": {
  "kernelspec": {
   "display_name": "R",
   "language": "R",
   "name": "ir"
  },
  "language_info": {
   "codemirror_mode": "r",
   "file_extension": ".r",
   "mimetype": "text/x-r-source",
   "name": "R",
   "pygments_lexer": "r",
   "version": "3.6.0"
  }
 },
 "nbformat": 4,
 "nbformat_minor": 2
}
